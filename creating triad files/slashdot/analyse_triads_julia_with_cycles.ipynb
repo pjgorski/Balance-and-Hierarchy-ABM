{
 "cells": [
  {
   "cell_type": "code",
   "execution_count": 1,
   "metadata": {},
   "outputs": [],
   "source": [
    "using CSV\n",
    "using DataFrames\n"
   ]
  },
  {
   "cell_type": "code",
   "execution_count": 2,
   "metadata": {},
   "outputs": [
    {
     "data": {
      "text/html": [
       "<div><div style = \"float: left;\"><span>DataFrameRow (3 columns)</span></div><div style = \"clear: both;\"></div></div><div class = \"data-frame\" style = \"overflow-x: scroll;\"><table class = \"data-frame\" style = \"margin-bottom: 6px;\"><thead><tr class = \"header\"><th class = \"rowLabel\" style = \"font-weight: bold; text-align: right;\">Row</th><th style = \"text-align: left;\">source</th><th style = \"text-align: left;\">target</th><th style = \"text-align: left;\">sign</th></tr><tr class = \"subheader headerLastRow\"><th class = \"rowLabel\" style = \"font-weight: bold; text-align: right;\"></th><th title = \"Int64\" style = \"text-align: left;\">Int64</th><th title = \"Int64\" style = \"text-align: left;\">Int64</th><th title = \"Int64\" style = \"text-align: left;\">Int64</th></tr></thead><tbody><tr><td class = \"rowLabel\" style = \"font-weight: bold; text-align: right;\">1</td><td style = \"text-align: right;\">0</td><td style = \"text-align: right;\">1</td><td style = \"text-align: right;\">1</td></tr></tbody></table></div>"
      ],
      "text/latex": [
       "\\begin{tabular}{r|ccc}\n",
       "\t& source & target & sign\\\\\n",
       "\t\\hline\n",
       "\t& Int64 & Int64 & Int64\\\\\n",
       "\t\\hline\n",
       "\t1 & 0 & 1 & 1 \\\\\n",
       "\\end{tabular}\n"
      ],
      "text/plain": [
       "\u001b[1mDataFrameRow\u001b[0m\n",
       "\u001b[1m Row \u001b[0m│\u001b[1m source \u001b[0m\u001b[1m target \u001b[0m\u001b[1m sign  \u001b[0m\n",
       "     │\u001b[90m Int64  \u001b[0m\u001b[90m Int64  \u001b[0m\u001b[90m Int64 \u001b[0m\n",
       "─────┼───────────────────────\n",
       "   1 │      0       1      1"
      ]
     },
     "metadata": {},
     "output_type": "display_data"
    }
   ],
   "source": [
    "path = \"../../../data/slashdot\"\n",
    "\n",
    "df = CSV.read(joinpath(path, \"soc-sign-Slashdot090221.txt\"), DataFrame, delim=\"\\t\", header=false, skipto = 5)\n",
    "\n",
    "rename!(df, [:source, :target, :sign])\n",
    "\n",
    "first(df)"
   ]
  },
  {
   "cell_type": "code",
   "execution_count": 3,
   "metadata": {},
   "outputs": [
    {
     "name": "stdout",
     "output_type": "stream",
     "text": [
      "[549202, 549202]"
     ]
    },
    {
     "data": {
      "text/plain": [
       "549202"
      ]
     },
     "metadata": {},
     "output_type": "display_data"
    }
   ],
   "source": [
    "# get all edges\n",
    "edges = [(df.source[i], df.target[i]) for i in 1:size(df, 1)]\n",
    "\n",
    "edges[1:5]\n",
    "print([length(unique(edges)), length(edges)])\n",
    "\n",
    "# remove self loops\n",
    "edges = [(u, v) for (u, v) in edges if u != v]\n",
    "length(edges)"
   ]
  },
  {
   "cell_type": "code",
   "execution_count": 4,
   "metadata": {},
   "outputs": [
    {
     "data": {
      "text/plain": [
       "549202"
      ]
     },
     "metadata": {},
     "output_type": "display_data"
    }
   ],
   "source": [
    "# check if for repeated edges the sign is the same\n",
    "\n",
    "# get all edges\n",
    "edges_sign = [(df.source[i], df.target[i], df.sign[i]) for i in 1:size(df, 1)]\n",
    "\n",
    "# edges_sign = unique(edges_sign)\n",
    "\n",
    "# remove self loops\n",
    "edges_sign = [(u, v, s) for (u, v, s) in edges_sign if u != v]\n",
    "\n",
    "# get the number of unique edges\n",
    "length(edges_sign)"
   ]
  },
  {
   "cell_type": "markdown",
   "metadata": {},
   "source": [
    "There are no repeated edges"
   ]
  },
  {
   "cell_type": "code",
   "execution_count": 5,
   "metadata": {},
   "outputs": [
    {
     "data": {
      "text/plain": [
       "(549202, 549202)"
      ]
     },
     "metadata": {},
     "output_type": "display_data"
    }
   ],
   "source": [
    "nrow(filter(x -> x.source != x.target, df)), nrow(df)"
   ]
  },
  {
   "cell_type": "code",
   "execution_count": 6,
   "metadata": {},
   "outputs": [
    {
     "name": "stdout",
     "output_type": "stream",
     "text": [
      "82140"
     ]
    },
    {
     "data": {
      "text/plain": [
       "Dict{Int64, Vector{Int64}} with 44044 entries:\n",
       "  29965 => [30474]\n",
       "  76914 => [7102, 44950]\n",
       "  1703  => [8, 62, 80, 176, 179, 313, 328, 437, 512, 558  …  38754, 38755, 3875…\n",
       "  37100 => [1268, 8439, 11833, 27261]\n",
       "  7685  => [6067, 9551, 53332, 53333]\n",
       "  60540 => [1173, 13885]\n",
       "  3406  => [6990, 17398]\n",
       "  71346 => [801, 2835, 16828]\n",
       "  28804 => [112, 264, 661, 909, 1635, 3982, 4643, 4945, 14627, 17299, 19142, 20…\n",
       "  2015  => [427, 703, 1323, 1514, 1653, 1701, 1952, 2049, 2104, 2378  …  6248, …\n",
       "  43631 => [760, 1293]\n",
       "  55445 => [33, 41]\n",
       "  81907 => [63857, 81908, 81909, 81910, 81911]\n",
       "  40789 => [1357]\n",
       "  31375 => [906, 2853, 4206, 10205, 31814, 61453]\n",
       "  40691 => [1651, 45309]\n",
       "  62889 => [5768, 32257, 62891]\n",
       "  37288 => [2811]\n",
       "  28165 => [2280, 2490, 2639, 2730, 3100, 4025, 4225, 5184, 5408, 15081, 16760]\n",
       "  ⋮     => ⋮"
      ]
     },
     "metadata": {},
     "output_type": "display_data"
    }
   ],
   "source": [
    "# get list of all nodes\n",
    "nodes = unique([[u for (u, v) in edges_sign]..., [v for (u, v) in edges_sign]...])\n",
    "\n",
    "print(length(nodes))\n",
    "\n",
    "# filter out self loops\n",
    "df_filtered = filter(x -> x.source != x.target, df)\n",
    "\n",
    "# get list of outgoing edges for each node by grouping by source\n",
    "node_outs_gbf = groupby(df_filtered, :source)\n",
    "\n",
    "# # filter out self loops\n",
    "# node_outs_gbf = filter(x -> x[1, :source] != x[1, :target], node_outs_gbf)\n",
    "\n",
    "# get list of outgoing edges for each node by collecting targets\n",
    "node_outs = combine(node_outs_gbf, x -> [x[!, :target]])\n",
    "rename!(node_outs, :x1 => :targets)\n",
    "\n",
    "# create a dictionary with the outgoing edges for each node\n",
    "node_outs_dict = Dict(zip(node_outs.source, unique.(node_outs.targets)))"
   ]
  },
  {
   "cell_type": "code",
   "execution_count": 7,
   "metadata": {},
   "outputs": [
    {
     "data": {
      "text/plain": [
       "(1251925, 1251925)"
      ]
     },
     "metadata": {},
     "output_type": "display_data"
    }
   ],
   "source": [
    "# get transitive triads\n",
    "\n",
    "triads = []\n",
    "for (source, targets) in node_outs_dict\n",
    "    for target in targets\n",
    "        if target in keys(node_outs_dict)\n",
    "            for target_target in node_outs_dict[target]\n",
    "                if target_target in targets\n",
    "                    append!(triads, [(source, target, target_target)])\n",
    "                end\n",
    "            end\n",
    "        end\n",
    "    end\n",
    "end\n",
    "length(triads), length(unique(triads))"
   ]
  },
  {
   "cell_type": "code",
   "execution_count": 8,
   "metadata": {},
   "outputs": [
    {
     "data": {
      "text/plain": [
       "(256180, 256180)"
      ]
     },
     "metadata": {},
     "output_type": "display_data"
    }
   ],
   "source": [
    "# get cyclic triads\n",
    "# thanks to sorting, each such triad will be counted only once\n",
    "\n",
    "source_nodes = sort(collect(keys(node_outs_dict)))\n",
    "\n",
    "cyclic_triads = []\n",
    "for source in source_nodes\n",
    "    targets = sort(node_outs_dict[source])\n",
    "    # filter out targets that have smaller id than source\n",
    "    targets = [target for target in targets if target > source]\n",
    "    for target in targets\n",
    "        if target in keys(node_outs_dict)\n",
    "            target_targets = sort(node_outs_dict[target])\n",
    "            # filter out target_targets that have smaller id than source\n",
    "            target_targets = [target_target for target_target in target_targets if target_target > source]\n",
    "            # I hope above is correct\n",
    "            # target_targets = node_outs_dict[target]\n",
    "            for target_target in target_targets\n",
    "                if target_target in keys(node_outs_dict)\n",
    "                    if source in node_outs_dict[target_target]\n",
    "                        append!(cyclic_triads, [(source, target, target_target)])\n",
    "                    end\n",
    "                end\n",
    "            end\n",
    "        end\n",
    "    end\n",
    "end\n",
    "length(cyclic_triads), length(unique(cyclic_triads))"
   ]
  },
  {
   "cell_type": "code",
   "execution_count": 20,
   "metadata": {},
   "outputs": [
    {
     "data": {
      "text/plain": [
       "(7666, 7691, 6946)"
      ]
     },
     "metadata": {},
     "output_type": "display_data"
    }
   ],
   "source": [
    "cyclic_triads[end]  "
   ]
  },
  {
   "cell_type": "code",
   "execution_count": 9,
   "metadata": {},
   "outputs": [
    {
     "data": {
      "text/plain": [
       "3106-element Vector{Tuple{Int64, Int64}}:\n",
       " (3293, 6665)\n",
       " (1823, 2565)\n",
       " (1823, 6979)\n",
       " (637, 4037)\n",
       " (730, 989)\n",
       " (1050, 8290)\n",
       " (1050, 2651)\n",
       " (103, 271)\n",
       " (844, 857)\n",
       " (844, 1717)\n",
       " ⋮\n",
       " (1869, 1717)\n",
       " (1368, 3755)\n",
       " (1368, 2654)\n",
       " (3028, 2653)\n",
       " (3028, 3352)\n",
       " (3028, 4385)\n",
       " (3028, 4875)\n",
       " (3028, 4964)\n",
       " (3028, 737)"
      ]
     },
     "metadata": {},
     "output_type": "display_data"
    }
   ],
   "source": [
    "node_outs_dict_repeated = Dict(zip(node_outs.source, node_outs.targets))\n",
    "\n",
    "# find edges that are repeated in node_outs_dict_repeated\n",
    "repeated_edges = unique([(source, target) for (source, targets) in node_outs_dict_repeated for target in targets if sum(target .== targets) > 1])"
   ]
  },
  {
   "cell_type": "code",
   "execution_count": 9,
   "metadata": {},
   "outputs": [],
   "source": [
    "df_triads = DataFrame(triads)\n",
    "rename!(df_triads, [:P, :O, :X]);\n",
    "\n",
    "po_edges = [(df_triads.P[i], df_triads.O[i]) for i in 1:size(df_triads, 1)]\n",
    "ox_edges = [(df_triads.O[i], df_triads.X[i]) for i in 1:size(df_triads, 1)]\n",
    "px_edges = [(df_triads.P[i], df_triads.X[i]) for i in 1:size(df_triads, 1)];"
   ]
  },
  {
   "cell_type": "code",
   "execution_count": 10,
   "metadata": {},
   "outputs": [],
   "source": [
    "df_cyclic_triads = DataFrame(cyclic_triads)\n",
    "rename!(df_cyclic_triads, [:P, :O, :X]);\n",
    "\n",
    "po_edges_cyclic = [(df_cyclic_triads.P[i], df_cyclic_triads.O[i]) for i in 1:size(df_cyclic_triads, 1)]\n",
    "ox_edges_cyclic = [(df_cyclic_triads.O[i], df_cyclic_triads.X[i]) for i in 1:size(df_cyclic_triads, 1)]\n",
    "xp_edges_cyclic = [(df_cyclic_triads.X[i], df_cyclic_triads.P[i]) for i in 1:size(df_cyclic_triads, 1)];\n"
   ]
  },
  {
   "cell_type": "code",
   "execution_count": 11,
   "metadata": {},
   "outputs": [
    {
     "data": {
      "text/plain": [
       "1508105"
      ]
     },
     "metadata": {},
     "output_type": "display_data"
    }
   ],
   "source": [
    "df_all_triads = DataFrame([triads..., cyclic_triads...])\n",
    "rename!(df_all_triads, [:P, :O, :X]);\n",
    "nrow(df_all_triads)\n",
    "# po_edges_all = [(df_all_triads.P[i], df_all_triads.O[i]) for i in 1:size(df_all_triads, 1)]"
   ]
  },
  {
   "cell_type": "code",
   "execution_count": 11,
   "metadata": {},
   "outputs": [
    {
     "data": {
      "text/plain": [
       "(55054, 55054)"
      ]
     },
     "metadata": {},
     "output_type": "display_data"
    }
   ],
   "source": [
    "# find number of triads containing repeated edges\n",
    "\n",
    "affected_triads = []\n",
    "for edge in repeated_edges\n",
    "    append!(affected_triads, findall([edge] .== po_edges))\n",
    "    # break\n",
    "end\n",
    "length(affected_triads), length(unique(affected_triads))"
   ]
  },
  {
   "cell_type": "code",
   "execution_count": 12,
   "metadata": {},
   "outputs": [
    {
     "data": {
      "text/html": [
       "<div><div style = \"float: left;\"><span>5×6 DataFrame</span></div><div style = \"clear: both;\"></div></div><div class = \"data-frame\" style = \"overflow-x: scroll;\"><table class = \"data-frame\" style = \"margin-bottom: 6px;\"><thead><tr class = \"header\"><th class = \"rowNumber\" style = \"font-weight: bold; text-align: right;\">Row</th><th style = \"text-align: left;\">P</th><th style = \"text-align: left;\">O</th><th style = \"text-align: left;\">X</th><th style = \"text-align: left;\">po_sign</th><th style = \"text-align: left;\">ox_sign</th><th style = \"text-align: left;\">px_sign</th></tr><tr class = \"subheader headerLastRow\"><th class = \"rowNumber\" style = \"font-weight: bold; text-align: right;\"></th><th title = \"Int64\" style = \"text-align: left;\">Int64</th><th title = \"Int64\" style = \"text-align: left;\">Int64</th><th title = \"Int64\" style = \"text-align: left;\">Int64</th><th title = \"Int64\" style = \"text-align: left;\">Int64</th><th title = \"Int64\" style = \"text-align: left;\">Int64</th><th title = \"Int64\" style = \"text-align: left;\">Int64</th></tr></thead><tbody><tr><td class = \"rowNumber\" style = \"font-weight: bold; text-align: right;\">1</td><td style = \"text-align: right;\">1703</td><td style = \"text-align: right;\">8</td><td style = \"text-align: right;\">824</td><td style = \"text-align: right;\">1</td><td style = \"text-align: right;\">1</td><td style = \"text-align: right;\">-1</td></tr><tr><td class = \"rowNumber\" style = \"font-weight: bold; text-align: right;\">2</td><td style = \"text-align: right;\">1703</td><td style = \"text-align: right;\">8</td><td style = \"text-align: right;\">850</td><td style = \"text-align: right;\">1</td><td style = \"text-align: right;\">1</td><td style = \"text-align: right;\">-1</td></tr><tr><td class = \"rowNumber\" style = \"font-weight: bold; text-align: right;\">3</td><td style = \"text-align: right;\">1703</td><td style = \"text-align: right;\">8</td><td style = \"text-align: right;\">885</td><td style = \"text-align: right;\">1</td><td style = \"text-align: right;\">-1</td><td style = \"text-align: right;\">-1</td></tr><tr><td class = \"rowNumber\" style = \"font-weight: bold; text-align: right;\">4</td><td style = \"text-align: right;\">1703</td><td style = \"text-align: right;\">62</td><td style = \"text-align: right;\">176</td><td style = \"text-align: right;\">1</td><td style = \"text-align: right;\">1</td><td style = \"text-align: right;\">-1</td></tr><tr><td class = \"rowNumber\" style = \"font-weight: bold; text-align: right;\">5</td><td style = \"text-align: right;\">1703</td><td style = \"text-align: right;\">62</td><td style = \"text-align: right;\">739</td><td style = \"text-align: right;\">1</td><td style = \"text-align: right;\">1</td><td style = \"text-align: right;\">1</td></tr></tbody></table></div>"
      ],
      "text/latex": [
       "\\begin{tabular}{r|cccccc}\n",
       "\t& P & O & X & po\\_sign & ox\\_sign & px\\_sign\\\\\n",
       "\t\\hline\n",
       "\t& Int64 & Int64 & Int64 & Int64 & Int64 & Int64\\\\\n",
       "\t\\hline\n",
       "\t1 & 1703 & 8 & 824 & 1 & 1 & -1 \\\\\n",
       "\t2 & 1703 & 8 & 850 & 1 & 1 & -1 \\\\\n",
       "\t3 & 1703 & 8 & 885 & 1 & -1 & -1 \\\\\n",
       "\t4 & 1703 & 62 & 176 & 1 & 1 & -1 \\\\\n",
       "\t5 & 1703 & 62 & 739 & 1 & 1 & 1 \\\\\n",
       "\\end{tabular}\n"
      ],
      "text/plain": [
       "\u001b[1m5×6 DataFrame\u001b[0m\n",
       "\u001b[1m Row \u001b[0m│\u001b[1m P     \u001b[0m\u001b[1m O     \u001b[0m\u001b[1m X     \u001b[0m\u001b[1m po_sign \u001b[0m\u001b[1m ox_sign \u001b[0m\u001b[1m px_sign \u001b[0m\n",
       "     │\u001b[90m Int64 \u001b[0m\u001b[90m Int64 \u001b[0m\u001b[90m Int64 \u001b[0m\u001b[90m Int64   \u001b[0m\u001b[90m Int64   \u001b[0m\u001b[90m Int64   \u001b[0m\n",
       "─────┼────────────────────────────────────────────────\n",
       "   1 │  1703      8    824        1        1       -1\n",
       "   2 │  1703      8    850        1        1       -1\n",
       "   3 │  1703      8    885        1       -1       -1\n",
       "   4 │  1703     62    176        1        1       -1\n",
       "   5 │  1703     62    739        1        1        1"
      ]
     },
     "metadata": {},
     "output_type": "display_data"
    }
   ],
   "source": [
    "# get sign of edges in triads. Take the last value of edge\n",
    "\n",
    "df_triads[!, \"po_sign\"] = [edges_sign[findall([edge] .== edges)][end][3] for edge in po_edges]\n",
    "df_triads[!, \"ox_sign\"] = [edges_sign[findall([edge] .== edges)][end][3] for edge in ox_edges]\n",
    "df_triads[!, \"px_sign\"] = [edges_sign[findall([edge] .== edges)][end][3] for edge in px_edges]\n",
    "first(df_triads, 5)"
   ]
  },
  {
   "cell_type": "code",
   "execution_count": 13,
   "metadata": {},
   "outputs": [
    {
     "data": {
      "text/html": [
       "<div><div style = \"float: left;\"><span>5×6 DataFrame</span></div><div style = \"clear: both;\"></div></div><div class = \"data-frame\" style = \"overflow-x: scroll;\"><table class = \"data-frame\" style = \"margin-bottom: 6px;\"><thead><tr class = \"header\"><th class = \"rowNumber\" style = \"font-weight: bold; text-align: right;\">Row</th><th style = \"text-align: left;\">P</th><th style = \"text-align: left;\">O</th><th style = \"text-align: left;\">X</th><th style = \"text-align: left;\">po_sign</th><th style = \"text-align: left;\">ox_sign</th><th style = \"text-align: left;\">xp_sign</th></tr><tr class = \"subheader headerLastRow\"><th class = \"rowNumber\" style = \"font-weight: bold; text-align: right;\"></th><th title = \"Int64\" style = \"text-align: left;\">Int64</th><th title = \"Int64\" style = \"text-align: left;\">Int64</th><th title = \"Int64\" style = \"text-align: left;\">Int64</th><th title = \"Int64\" style = \"text-align: left;\">Int64</th><th title = \"Int64\" style = \"text-align: left;\">Int64</th><th title = \"Int64\" style = \"text-align: left;\">Int64</th></tr></thead><tbody><tr><td class = \"rowNumber\" style = \"font-weight: bold; text-align: right;\">1</td><td style = \"text-align: right;\">0</td><td style = \"text-align: right;\">1</td><td style = \"text-align: right;\">52</td><td style = \"text-align: right;\">1</td><td style = \"text-align: right;\">1</td><td style = \"text-align: right;\">1</td></tr><tr><td class = \"rowNumber\" style = \"font-weight: bold; text-align: right;\">2</td><td style = \"text-align: right;\">0</td><td style = \"text-align: right;\">1</td><td style = \"text-align: right;\">118</td><td style = \"text-align: right;\">1</td><td style = \"text-align: right;\">1</td><td style = \"text-align: right;\">1</td></tr><tr><td class = \"rowNumber\" style = \"font-weight: bold; text-align: right;\">3</td><td style = \"text-align: right;\">0</td><td style = \"text-align: right;\">1</td><td style = \"text-align: right;\">614</td><td style = \"text-align: right;\">1</td><td style = \"text-align: right;\">1</td><td style = \"text-align: right;\">1</td></tr><tr><td class = \"rowNumber\" style = \"font-weight: bold; text-align: right;\">4</td><td style = \"text-align: right;\">0</td><td style = \"text-align: right;\">1</td><td style = \"text-align: right;\">640</td><td style = \"text-align: right;\">1</td><td style = \"text-align: right;\">1</td><td style = \"text-align: right;\">1</td></tr><tr><td class = \"rowNumber\" style = \"font-weight: bold; text-align: right;\">5</td><td style = \"text-align: right;\">0</td><td style = \"text-align: right;\">1</td><td style = \"text-align: right;\">664</td><td style = \"text-align: right;\">1</td><td style = \"text-align: right;\">1</td><td style = \"text-align: right;\">1</td></tr></tbody></table></div>"
      ],
      "text/latex": [
       "\\begin{tabular}{r|cccccc}\n",
       "\t& P & O & X & po\\_sign & ox\\_sign & xp\\_sign\\\\\n",
       "\t\\hline\n",
       "\t& Int64 & Int64 & Int64 & Int64 & Int64 & Int64\\\\\n",
       "\t\\hline\n",
       "\t1 & 0 & 1 & 52 & 1 & 1 & 1 \\\\\n",
       "\t2 & 0 & 1 & 118 & 1 & 1 & 1 \\\\\n",
       "\t3 & 0 & 1 & 614 & 1 & 1 & 1 \\\\\n",
       "\t4 & 0 & 1 & 640 & 1 & 1 & 1 \\\\\n",
       "\t5 & 0 & 1 & 664 & 1 & 1 & 1 \\\\\n",
       "\\end{tabular}\n"
      ],
      "text/plain": [
       "\u001b[1m5×6 DataFrame\u001b[0m\n",
       "\u001b[1m Row \u001b[0m│\u001b[1m P     \u001b[0m\u001b[1m O     \u001b[0m\u001b[1m X     \u001b[0m\u001b[1m po_sign \u001b[0m\u001b[1m ox_sign \u001b[0m\u001b[1m xp_sign \u001b[0m\n",
       "     │\u001b[90m Int64 \u001b[0m\u001b[90m Int64 \u001b[0m\u001b[90m Int64 \u001b[0m\u001b[90m Int64   \u001b[0m\u001b[90m Int64   \u001b[0m\u001b[90m Int64   \u001b[0m\n",
       "─────┼────────────────────────────────────────────────\n",
       "   1 │     0      1     52        1        1        1\n",
       "   2 │     0      1    118        1        1        1\n",
       "   3 │     0      1    614        1        1        1\n",
       "   4 │     0      1    640        1        1        1\n",
       "   5 │     0      1    664        1        1        1"
      ]
     },
     "metadata": {},
     "output_type": "display_data"
    }
   ],
   "source": [
    "# get sign of edges in cyclic triads. Take the last value of edge\n",
    "\n",
    "df_cyclic_triads[!, \"po_sign\"] = [edges_sign[findall([edge] .== edges)][end][3] for edge in po_edges_cyclic]\n",
    "df_cyclic_triads[!, \"ox_sign\"] = [edges_sign[findall([edge] .== edges)][end][3] for edge in ox_edges_cyclic]\n",
    "df_cyclic_triads[!, \"xp_sign\"] = [edges_sign[findall([edge] .== edges)][end][3] for edge in xp_edges_cyclic]\n",
    "first(df_cyclic_triads, 5)"
   ]
  },
  {
   "cell_type": "code",
   "execution_count": 14,
   "metadata": {},
   "outputs": [
    {
     "data": {
      "text/html": [
       "<div><div style = \"float: left;\"><span>5×6 DataFrame</span></div><div style = \"clear: both;\"></div></div><div class = \"data-frame\" style = \"overflow-x: scroll;\"><table class = \"data-frame\" style = \"margin-bottom: 6px;\"><thead><tr class = \"header\"><th class = \"rowNumber\" style = \"font-weight: bold; text-align: right;\">Row</th><th style = \"text-align: left;\">P</th><th style = \"text-align: left;\">O</th><th style = \"text-align: left;\">X</th><th style = \"text-align: left;\">po_sign</th><th style = \"text-align: left;\">ox_sign</th><th style = \"text-align: left;\">xpx_sign</th></tr><tr class = \"subheader headerLastRow\"><th class = \"rowNumber\" style = \"font-weight: bold; text-align: right;\"></th><th title = \"Int64\" style = \"text-align: left;\">Int64</th><th title = \"Int64\" style = \"text-align: left;\">Int64</th><th title = \"Int64\" style = \"text-align: left;\">Int64</th><th title = \"Int64\" style = \"text-align: left;\">Int64</th><th title = \"Int64\" style = \"text-align: left;\">Int64</th><th title = \"Int64\" style = \"text-align: left;\">Int64</th></tr></thead><tbody><tr><td class = \"rowNumber\" style = \"font-weight: bold; text-align: right;\">1</td><td style = \"text-align: right;\">1703</td><td style = \"text-align: right;\">8</td><td style = \"text-align: right;\">824</td><td style = \"text-align: right;\">1</td><td style = \"text-align: right;\">1</td><td style = \"text-align: right;\">-1</td></tr><tr><td class = \"rowNumber\" style = \"font-weight: bold; text-align: right;\">2</td><td style = \"text-align: right;\">1703</td><td style = \"text-align: right;\">8</td><td style = \"text-align: right;\">850</td><td style = \"text-align: right;\">1</td><td style = \"text-align: right;\">1</td><td style = \"text-align: right;\">-1</td></tr><tr><td class = \"rowNumber\" style = \"font-weight: bold; text-align: right;\">3</td><td style = \"text-align: right;\">1703</td><td style = \"text-align: right;\">8</td><td style = \"text-align: right;\">885</td><td style = \"text-align: right;\">1</td><td style = \"text-align: right;\">-1</td><td style = \"text-align: right;\">-1</td></tr><tr><td class = \"rowNumber\" style = \"font-weight: bold; text-align: right;\">4</td><td style = \"text-align: right;\">1703</td><td style = \"text-align: right;\">62</td><td style = \"text-align: right;\">176</td><td style = \"text-align: right;\">1</td><td style = \"text-align: right;\">1</td><td style = \"text-align: right;\">-1</td></tr><tr><td class = \"rowNumber\" style = \"font-weight: bold; text-align: right;\">5</td><td style = \"text-align: right;\">1703</td><td style = \"text-align: right;\">62</td><td style = \"text-align: right;\">739</td><td style = \"text-align: right;\">1</td><td style = \"text-align: right;\">1</td><td style = \"text-align: right;\">1</td></tr></tbody></table></div>"
      ],
      "text/latex": [
       "\\begin{tabular}{r|cccccc}\n",
       "\t& P & O & X & po\\_sign & ox\\_sign & xpx\\_sign\\\\\n",
       "\t\\hline\n",
       "\t& Int64 & Int64 & Int64 & Int64 & Int64 & Int64\\\\\n",
       "\t\\hline\n",
       "\t1 & 1703 & 8 & 824 & 1 & 1 & -1 \\\\\n",
       "\t2 & 1703 & 8 & 850 & 1 & 1 & -1 \\\\\n",
       "\t3 & 1703 & 8 & 885 & 1 & -1 & -1 \\\\\n",
       "\t4 & 1703 & 62 & 176 & 1 & 1 & -1 \\\\\n",
       "\t5 & 1703 & 62 & 739 & 1 & 1 & 1 \\\\\n",
       "\\end{tabular}\n"
      ],
      "text/plain": [
       "\u001b[1m5×6 DataFrame\u001b[0m\n",
       "\u001b[1m Row \u001b[0m│\u001b[1m P     \u001b[0m\u001b[1m O     \u001b[0m\u001b[1m X     \u001b[0m\u001b[1m po_sign \u001b[0m\u001b[1m ox_sign \u001b[0m\u001b[1m xpx_sign \u001b[0m\n",
       "     │\u001b[90m Int64 \u001b[0m\u001b[90m Int64 \u001b[0m\u001b[90m Int64 \u001b[0m\u001b[90m Int64   \u001b[0m\u001b[90m Int64   \u001b[0m\u001b[90m Int64    \u001b[0m\n",
       "─────┼─────────────────────────────────────────────────\n",
       "   1 │  1703      8    824        1        1        -1\n",
       "   2 │  1703      8    850        1        1        -1\n",
       "   3 │  1703      8    885        1       -1        -1\n",
       "   4 │  1703     62    176        1        1        -1\n",
       "   5 │  1703     62    739        1        1         1"
      ]
     },
     "metadata": {},
     "output_type": "display_data"
    }
   ],
   "source": [
    "# get sign of edges in all triads. Take the last value of edge\n",
    "\n",
    "df_all_triads[!, \"po_sign\"] = [df_triads[!, \"po_sign\"]..., df_cyclic_triads[!, \"po_sign\"]...]\n",
    "df_all_triads[!, \"ox_sign\"] = [df_triads[!, \"ox_sign\"]..., df_cyclic_triads[!, \"ox_sign\"]...]\n",
    "df_all_triads[!, \"xpx_sign\"] = [df_triads[!, \"px_sign\"]..., df_cyclic_triads[!, \"xp_sign\"]...]\n",
    "\n",
    "first(df_all_triads, 5)"
   ]
  },
  {
   "cell_type": "code",
   "execution_count": 15,
   "metadata": {},
   "outputs": [
    {
     "data": {
      "text/plain": [
       "\"../../../data/slashdot/slashdot-triads.csv\""
      ]
     },
     "metadata": {},
     "output_type": "display_data"
    }
   ],
   "source": [
    "# save df_triads\n",
    "CSV.write(joinpath(path, \"slashdot-triads.csv\"), df_triads)"
   ]
  },
  {
   "cell_type": "code",
   "execution_count": 16,
   "metadata": {},
   "outputs": [
    {
     "data": {
      "text/plain": [
       "\"../../../data/slashdot/slashdot-cyclic-triads.csv\""
      ]
     },
     "metadata": {},
     "output_type": "display_data"
    }
   ],
   "source": [
    "# save df_cyclic_triads\n",
    "CSV.write(joinpath(path, \"slashdot-cyclic-triads.csv\"), df_cyclic_triads)"
   ]
  },
  {
   "cell_type": "code",
   "execution_count": 17,
   "metadata": {},
   "outputs": [
    {
     "data": {
      "text/plain": [
       "\"../../../data/slashdot/slashdot-all-triads.csv\""
      ]
     },
     "metadata": {},
     "output_type": "display_data"
    }
   ],
   "source": [
    "# save df_all_triads\n",
    "CSV.write(joinpath(path, \"slashdot-all-triads.csv\"), df_all_triads)"
   ]
  },
  {
   "cell_type": "code",
   "execution_count": null,
   "metadata": {},
   "outputs": [
    {
     "data": {
      "text/plain": [
       "746515-element Vector{Tuple{Int64, Int64, Int64}}:\n",
       " (4576, 3447, 4448)\n",
       " (4576, 3447, 5463)\n",
       " (4576, 3447, 4977)\n",
       " (4576, 3447, 4530)\n",
       " (4576, 3447, 3897)\n",
       " (4576, 4448, 4578)\n",
       " (4576, 4448, 4536)\n",
       " (4576, 4530, 3897)\n",
       " (4576, 4530, 15)\n",
       " (4576, 4536, 4578)\n",
       " ⋮\n",
       " (1711, 1697, 1855)\n",
       " (1711, 1697, 3136)\n",
       " (1711, 1697, 2328)\n",
       " (1711, 1211, 1956)\n",
       " (1711, 1211, 1151)\n",
       " (1711, 1211, 2328)\n",
       " (1711, 2328, 1956)\n",
       " (1711, 2328, 1211)\n",
       " (1711, 2328, 2210)"
      ]
     },
     "metadata": {},
     "output_type": "display_data"
    }
   ],
   "source": [
    "df_triads = CSV.read(joinpath(path, \"slashdot-triads.csv\"), DataFrame)\n",
    "\n",
    "triads = [(df_triads.P[i], df_triads.O[i], df_triads.X[i]) for i in 1:size(df_triads, 1)]"
   ]
  },
  {
   "cell_type": "code",
   "execution_count": null,
   "metadata": {},
   "outputs": [
    {
     "data": {
      "text/plain": [
       "43975-element Vector{Tuple{Int64, Int64, Int64}}:\n",
       " (3, 28, 6)\n",
       " (3, 28, 19)\n",
       " (3, 28, 29)\n",
       " (3, 28, 34)\n",
       " (3, 28, 35)\n",
       " (3, 28, 54)\n",
       " (3, 28, 94)\n",
       " (3, 28, 127)\n",
       " (3, 28, 178)\n",
       " (3, 39, 6)\n",
       " ⋮\n",
       " (7092, 7378, 7225)\n",
       " (7092, 7400, 7225)\n",
       " (7092, 7443, 7280)\n",
       " (7092, 7649, 7443)\n",
       " (7225, 7386, 7280)\n",
       " (7225, 7449, 7279)\n",
       " (7225, 7449, 7393)\n",
       " (7233, 7386, 7280)\n",
       " (7280, 7649, 7443)"
      ]
     },
     "metadata": {},
     "output_type": "display_data"
    }
   ],
   "source": [
    "df_cyclic_triads = CSV.read(joinpath(path, \"slashdot-cyclic-triads.csv\"), DataFrame)\n",
    "\n",
    "cyclic_triads = [(df_cyclic_triads.P[i], df_cyclic_triads.O[i], df_cyclic_triads.X[i]) for i in 1:size(df_cyclic_triads, 1)]"
   ]
  },
  {
   "cell_type": "code",
   "execution_count": null,
   "metadata": {},
   "outputs": [],
   "source": [
    "df_all_triads = CSV.read(joinpath(path, \"slashdot-all-triads.csv\"), DataFrame)"
   ]
  },
  {
   "cell_type": "code",
   "execution_count": 18,
   "metadata": {},
   "outputs": [
    {
     "data": {
      "text/plain": [
       "Dict{Vector{Int64}, Vector{Int64}} with 579565 entries:\n",
       "  [660, 3076, 4300]    => [888124]\n",
       "  [9826, 20631, 26331] => [1505957]\n",
       "  [191, 452, 456]      => [304610, 988601]\n",
       "  [906, 4956, 15918]   => [406237, 1066885, 1071696, 1408558]\n",
       "  [636, 1566, 2714]    => [454490]\n",
       "  [2023, 9237, 28320]  => [803680]\n",
       "  [531, 1650, 1921]    => [287442]\n",
       "  [79, 811, 1574]      => [437361, 855973, 862096, 1304263]\n",
       "  [79, 1357, 4956]     => [184743, 1065391, 1068877, 1304100]\n",
       "  [76, 845, 3059]      => [872088, 1296664]\n",
       "  [2780, 3565, 9986]   => [210662]\n",
       "  [76, 1353, 12308]    => [883449]\n",
       "  [2400, 3531, 8954]   => [199849]\n",
       "  [2631, 3445, 15486]  => [642899]\n",
       "  [1105, 3642, 11469]  => [872697]\n",
       "  [3054, 12456, 21396] => [303339]\n",
       "  [997, 998, 4396]     => [621784, 621836]\n",
       "  [1070, 1161, 1353]   => [155668, 518816, 519259, 1452094]\n",
       "  [1052, 4919, 25998]  => [678642]\n",
       "  ⋮                    => ⋮"
      ]
     },
     "metadata": {},
     "output_type": "display_data"
    }
   ],
   "source": [
    "# identify triads that consist of the same edges\n",
    "\n",
    "all_triads = [triads..., cyclic_triads...]\n",
    "\n",
    "all_triads_ordered = sort.([[p, o, x] for (p, o, x) in all_triads])\n",
    "all_triads_unique = unique(all_triads_ordered)\n",
    "\n",
    "# create a dictionary with unique triads as keys and indices of their appearance as values\n",
    "all_triads_dict = Dict(all_triads_unique .=> [findall(all_triads_ordered .== [triad]) for triad in all_triads_unique])\n",
    "\n"
   ]
  },
  {
   "cell_type": "code",
   "execution_count": 19,
   "metadata": {},
   "outputs": [],
   "source": [
    "using JLD2, FileIO\n",
    "\n",
    "save(joinpath(path, \"slashdot-all-triads-dict.jld2\"), \"all_triads_dict\", all_triads_dict)"
   ]
  },
  {
   "cell_type": "code",
   "execution_count": 20,
   "metadata": {},
   "outputs": [
    {
     "data": {
      "text/html": [
       "<div><div style = \"float: left;\"><span>579565×3 DataFrame</span></div><div style = \"float: right;\"><span style = \"font-style: italic;\">579540 rows omitted</span></div><div style = \"clear: both;\"></div></div><div class = \"data-frame\" style = \"overflow-x: scroll;\"><table class = \"data-frame\" style = \"margin-bottom: 6px;\"><thead><tr class = \"header\"><th class = \"rowNumber\" style = \"font-weight: bold; text-align: right;\">Row</th><th style = \"text-align: left;\">triad</th><th style = \"text-align: left;\">inds</th><th style = \"text-align: left;\">count</th></tr><tr class = \"subheader headerLastRow\"><th class = \"rowNumber\" style = \"font-weight: bold; text-align: right;\"></th><th title = \"Vector{Int64}\" style = \"text-align: left;\">Array…</th><th title = \"Vector{Int64}\" style = \"text-align: left;\">Array…</th><th title = \"Int64\" style = \"text-align: left;\">Int64</th></tr></thead><tbody><tr><td class = \"rowNumber\" style = \"font-weight: bold; text-align: right;\">1</td><td style = \"text-align: left;\">[660, 3076, 4300]</td><td style = \"text-align: left;\">[888124]</td><td style = \"text-align: right;\">1</td></tr><tr><td class = \"rowNumber\" style = \"font-weight: bold; text-align: right;\">2</td><td style = \"text-align: left;\">[9826, 20631, 26331]</td><td style = \"text-align: left;\">[1505957]</td><td style = \"text-align: right;\">1</td></tr><tr><td class = \"rowNumber\" style = \"font-weight: bold; text-align: right;\">3</td><td style = \"text-align: left;\">[191, 452, 456]</td><td style = \"text-align: left;\">[304610, 988601]</td><td style = \"text-align: right;\">2</td></tr><tr><td class = \"rowNumber\" style = \"font-weight: bold; text-align: right;\">4</td><td style = \"text-align: left;\">[906, 4956, 15918]</td><td style = \"text-align: left;\">[406237, 1066885, 1071696, 1408558]</td><td style = \"text-align: right;\">4</td></tr><tr><td class = \"rowNumber\" style = \"font-weight: bold; text-align: right;\">5</td><td style = \"text-align: left;\">[636, 1566, 2714]</td><td style = \"text-align: left;\">[454490]</td><td style = \"text-align: right;\">1</td></tr><tr><td class = \"rowNumber\" style = \"font-weight: bold; text-align: right;\">6</td><td style = \"text-align: left;\">[2023, 9237, 28320]</td><td style = \"text-align: left;\">[803680]</td><td style = \"text-align: right;\">1</td></tr><tr><td class = \"rowNumber\" style = \"font-weight: bold; text-align: right;\">7</td><td style = \"text-align: left;\">[531, 1650, 1921]</td><td style = \"text-align: left;\">[287442]</td><td style = \"text-align: right;\">1</td></tr><tr><td class = \"rowNumber\" style = \"font-weight: bold; text-align: right;\">8</td><td style = \"text-align: left;\">[79, 811, 1574]</td><td style = \"text-align: left;\">[437361, 855973, 862096, 1304263]</td><td style = \"text-align: right;\">4</td></tr><tr><td class = \"rowNumber\" style = \"font-weight: bold; text-align: right;\">9</td><td style = \"text-align: left;\">[79, 1357, 4956]</td><td style = \"text-align: left;\">[184743, 1065391, 1068877, 1304100]</td><td style = \"text-align: right;\">4</td></tr><tr><td class = \"rowNumber\" style = \"font-weight: bold; text-align: right;\">10</td><td style = \"text-align: left;\">[76, 845, 3059]</td><td style = \"text-align: left;\">[872088, 1296664]</td><td style = \"text-align: right;\">2</td></tr><tr><td class = \"rowNumber\" style = \"font-weight: bold; text-align: right;\">11</td><td style = \"text-align: left;\">[2780, 3565, 9986]</td><td style = \"text-align: left;\">[210662]</td><td style = \"text-align: right;\">1</td></tr><tr><td class = \"rowNumber\" style = \"font-weight: bold; text-align: right;\">12</td><td style = \"text-align: left;\">[76, 1353, 12308]</td><td style = \"text-align: left;\">[883449]</td><td style = \"text-align: right;\">1</td></tr><tr><td class = \"rowNumber\" style = \"font-weight: bold; text-align: right;\">13</td><td style = \"text-align: left;\">[2400, 3531, 8954]</td><td style = \"text-align: left;\">[199849]</td><td style = \"text-align: right;\">1</td></tr><tr><td style = \"text-align: right;\">&vellip;</td><td style = \"text-align: right;\">&vellip;</td><td style = \"text-align: right;\">&vellip;</td><td style = \"text-align: right;\">&vellip;</td></tr><tr><td class = \"rowNumber\" style = \"font-weight: bold; text-align: right;\">579554</td><td style = \"text-align: left;\">[760, 819, 18493]</td><td style = \"text-align: left;\">[183345]</td><td style = \"text-align: right;\">1</td></tr><tr><td class = \"rowNumber\" style = \"font-weight: bold; text-align: right;\">579555</td><td style = \"text-align: left;\">[16, 1072, 1413]</td><td style = \"text-align: left;\">[704587, 1125316]</td><td style = \"text-align: right;\">2</td></tr><tr><td class = \"rowNumber\" style = \"font-weight: bold; text-align: right;\">579556</td><td style = \"text-align: left;\">[1146, 1412, 2573]</td><td style = \"text-align: left;\">[685486, 686203, 1081761, 1465914]</td><td style = \"text-align: right;\">4</td></tr><tr><td class = \"rowNumber\" style = \"font-weight: bold; text-align: right;\">579557</td><td style = \"text-align: left;\">[2927, 4471, 22351]</td><td style = \"text-align: left;\">[161797]</td><td style = \"text-align: right;\">1</td></tr><tr><td class = \"rowNumber\" style = \"font-weight: bold; text-align: right;\">579558</td><td style = \"text-align: left;\">[2524, 8051, 9354]</td><td style = \"text-align: left;\">[15608, 15652, 741330, 1497297]</td><td style = \"text-align: right;\">4</td></tr><tr><td class = \"rowNumber\" style = \"font-weight: bold; text-align: right;\">579559</td><td style = \"text-align: left;\">[539, 576, 2013]</td><td style = \"text-align: left;\">[1208489]</td><td style = \"text-align: right;\">1</td></tr><tr><td class = \"rowNumber\" style = \"font-weight: bold; text-align: right;\">579560</td><td style = \"text-align: left;\">[8, 841, 1093]</td><td style = \"text-align: left;\">[603940, 1253236]</td><td style = \"text-align: right;\">2</td></tr><tr><td class = \"rowNumber\" style = \"font-weight: bold; text-align: right;\">579561</td><td style = \"text-align: left;\">[636, 2173, 20354]</td><td style = \"text-align: left;\">[1247699]</td><td style = \"text-align: right;\">1</td></tr><tr><td class = \"rowNumber\" style = \"font-weight: bold; text-align: right;\">579562</td><td style = \"text-align: left;\">[76, 1695, 5400]</td><td style = \"text-align: left;\">[285054, 755362]</td><td style = \"text-align: right;\">2</td></tr><tr><td class = \"rowNumber\" style = \"font-weight: bold; text-align: right;\">579563</td><td style = \"text-align: left;\">[1083, 1120, 1150]</td><td style = \"text-align: left;\">[251640, 1454168]</td><td style = \"text-align: right;\">2</td></tr><tr><td class = \"rowNumber\" style = \"font-weight: bold; text-align: right;\">579564</td><td style = \"text-align: left;\">[69, 85, 874]</td><td style = \"text-align: left;\">[35819, 35848, 36966, 37504, 50031, 51133, 1269819, 1270710]</td><td style = \"text-align: right;\">8</td></tr><tr><td class = \"rowNumber\" style = \"font-weight: bold; text-align: right;\">579565</td><td style = \"text-align: left;\">[1729, 2415, 5363]</td><td style = \"text-align: left;\">[41420]</td><td style = \"text-align: right;\">1</td></tr></tbody></table></div>"
      ],
      "text/latex": [
       "\\begin{tabular}{r|ccc}\n",
       "\t& triad & inds & count\\\\\n",
       "\t\\hline\n",
       "\t& Array… & Array… & Int64\\\\\n",
       "\t\\hline\n",
       "\t1 & [660, 3076, 4300] & [888124] & 1 \\\\\n",
       "\t2 & [9826, 20631, 26331] & [1505957] & 1 \\\\\n",
       "\t3 & [191, 452, 456] & [304610, 988601] & 2 \\\\\n",
       "\t4 & [906, 4956, 15918] & [406237, 1066885, 1071696, 1408558] & 4 \\\\\n",
       "\t5 & [636, 1566, 2714] & [454490] & 1 \\\\\n",
       "\t6 & [2023, 9237, 28320] & [803680] & 1 \\\\\n",
       "\t7 & [531, 1650, 1921] & [287442] & 1 \\\\\n",
       "\t8 & [79, 811, 1574] & [437361, 855973, 862096, 1304263] & 4 \\\\\n",
       "\t9 & [79, 1357, 4956] & [184743, 1065391, 1068877, 1304100] & 4 \\\\\n",
       "\t10 & [76, 845, 3059] & [872088, 1296664] & 2 \\\\\n",
       "\t11 & [2780, 3565, 9986] & [210662] & 1 \\\\\n",
       "\t12 & [76, 1353, 12308] & [883449] & 1 \\\\\n",
       "\t13 & [2400, 3531, 8954] & [199849] & 1 \\\\\n",
       "\t14 & [2631, 3445, 15486] & [642899] & 1 \\\\\n",
       "\t15 & [1105, 3642, 11469] & [872697] & 1 \\\\\n",
       "\t16 & [3054, 12456, 21396] & [303339] & 1 \\\\\n",
       "\t17 & [997, 998, 4396] & [621784, 621836] & 2 \\\\\n",
       "\t18 & [1070, 1161, 1353] & [155668, 518816, 519259, 1452094] & 4 \\\\\n",
       "\t19 & [1052, 4919, 25998] & [678642] & 1 \\\\\n",
       "\t20 & [79, 2532, 14111] & [660653] & 1 \\\\\n",
       "\t21 & [197, 6389, 15891] & [873159, 873363] & 2 \\\\\n",
       "\t22 & [847, 1143, 1264] & [612013, 1397284] & 2 \\\\\n",
       "\t23 & [176, 989, 27499] & [1096053] & 1 \\\\\n",
       "\t24 & [3455, 3942, 10609] & [1064832] & 1 \\\\\n",
       "\t$\\dots$ & $\\dots$ & $\\dots$ & $\\dots$ \\\\\n",
       "\\end{tabular}\n"
      ],
      "text/plain": [
       "\u001b[1m579565×3 DataFrame\u001b[0m\n",
       "\u001b[1m    Row \u001b[0m│\u001b[1m triad                \u001b[0m\u001b[1m inds                              \u001b[0m\u001b[1m count \u001b[0m\n",
       "        │\u001b[90m Array…               \u001b[0m\u001b[90m Array…                            \u001b[0m\u001b[90m Int64 \u001b[0m\n",
       "────────┼────────────────────────────────────────────────────────────────\n",
       "      1 │ [660, 3076, 4300]     [888124]                               1\n",
       "      2 │ [9826, 20631, 26331]  [1505957]                              1\n",
       "      3 │ [191, 452, 456]       [304610, 988601]                       2\n",
       "      4 │ [906, 4956, 15918]    [406237, 1066885, 1071696, 14085…      4\n",
       "      5 │ [636, 1566, 2714]     [454490]                               1\n",
       "      6 │ [2023, 9237, 28320]   [803680]                               1\n",
       "      7 │ [531, 1650, 1921]     [287442]                               1\n",
       "      8 │ [79, 811, 1574]       [437361, 855973, 862096, 1304263]      4\n",
       "   ⋮    │          ⋮                            ⋮                    ⋮\n",
       " 579559 │ [539, 576, 2013]      [1208489]                              1\n",
       " 579560 │ [8, 841, 1093]        [603940, 1253236]                      2\n",
       " 579561 │ [636, 2173, 20354]    [1247699]                              1\n",
       " 579562 │ [76, 1695, 5400]      [285054, 755362]                       2\n",
       " 579563 │ [1083, 1120, 1150]    [251640, 1454168]                      2\n",
       " 579564 │ [69, 85, 874]         [35819, 35848, 36966, 37504, 500…      8\n",
       " 579565 │ [1729, 2415, 5363]    [41420]                                1\n",
       "\u001b[36m                                                      579550 rows omitted\u001b[0m"
      ]
     },
     "metadata": {},
     "output_type": "display_data"
    }
   ],
   "source": [
    "# create dataframe from dict\n",
    "df_all_triads_dict = DataFrame(triad = collect(keys(all_triads_dict)), inds = collect(values(all_triads_dict)),\n",
    "                           count = length.(collect(values(all_triads_dict))))\n",
    "\n",
    "# collect(keys(triads_dict))"
   ]
  },
  {
   "cell_type": "code",
   "execution_count": 21,
   "metadata": {},
   "outputs": [
    {
     "data": {
      "text/html": [
       "<div><div style = \"float: left;\"><span>5×5 DataFrame</span></div><div style = \"clear: both;\"></div></div><div class = \"data-frame\" style = \"overflow-x: scroll;\"><table class = \"data-frame\" style = \"margin-bottom: 6px;\"><thead><tr class = \"header\"><th class = \"rowNumber\" style = \"font-weight: bold; text-align: right;\">Row</th><th style = \"text-align: left;\">triad</th><th style = \"text-align: left;\">inds</th><th style = \"text-align: left;\">count</th><th style = \"text-align: left;\">triad_type</th><th style = \"text-align: left;\">exact_inds</th></tr><tr class = \"subheader headerLastRow\"><th class = \"rowNumber\" style = \"font-weight: bold; text-align: right;\"></th><th title = \"Vector{Int64}\" style = \"text-align: left;\">Array…</th><th title = \"Vector{Int64}\" style = \"text-align: left;\">Array…</th><th title = \"Int64\" style = \"text-align: left;\">Int64</th><th title = \"Vector{Int64}\" style = \"text-align: left;\">Array…</th><th title = \"Vector{Int64}\" style = \"text-align: left;\">Array…</th></tr></thead><tbody><tr><td class = \"rowNumber\" style = \"font-weight: bold; text-align: right;\">1</td><td style = \"text-align: left;\">[660, 3076, 4300]</td><td style = \"text-align: left;\">[888124]</td><td style = \"text-align: right;\">1</td><td style = \"text-align: left;\">[1]</td><td style = \"text-align: left;\">[888124]</td></tr><tr><td class = \"rowNumber\" style = \"font-weight: bold; text-align: right;\">2</td><td style = \"text-align: left;\">[9826, 20631, 26331]</td><td style = \"text-align: left;\">[1505957]</td><td style = \"text-align: right;\">1</td><td style = \"text-align: left;\">[2]</td><td style = \"text-align: left;\">[254032]</td></tr><tr><td class = \"rowNumber\" style = \"font-weight: bold; text-align: right;\">3</td><td style = \"text-align: left;\">[191, 452, 456]</td><td style = \"text-align: left;\">[304610, 988601]</td><td style = \"text-align: right;\">2</td><td style = \"text-align: left;\">[1, 1]</td><td style = \"text-align: left;\">[304610, 988601]</td></tr><tr><td class = \"rowNumber\" style = \"font-weight: bold; text-align: right;\">4</td><td style = \"text-align: left;\">[906, 4956, 15918]</td><td style = \"text-align: left;\">[406237, 1066885, 1071696, 1408558]</td><td style = \"text-align: right;\">4</td><td style = \"text-align: left;\">[1, 1, 1, 2]</td><td style = \"text-align: left;\">[406237, 1066885, 1071696, 156633]</td></tr><tr><td class = \"rowNumber\" style = \"font-weight: bold; text-align: right;\">5</td><td style = \"text-align: left;\">[636, 1566, 2714]</td><td style = \"text-align: left;\">[454490]</td><td style = \"text-align: right;\">1</td><td style = \"text-align: left;\">[1]</td><td style = \"text-align: left;\">[454490]</td></tr></tbody></table></div>"
      ],
      "text/latex": [
       "\\begin{tabular}{r|ccccc}\n",
       "\t& triad & inds & count & triad\\_type & \\\\\n",
       "\t\\hline\n",
       "\t& Array… & Array… & Int64 & Array… & \\\\\n",
       "\t\\hline\n",
       "\t1 & [660, 3076, 4300] & [888124] & 1 & [1] & $\\dots$ \\\\\n",
       "\t2 & [9826, 20631, 26331] & [1505957] & 1 & [2] & $\\dots$ \\\\\n",
       "\t3 & [191, 452, 456] & [304610, 988601] & 2 & [1, 1] & $\\dots$ \\\\\n",
       "\t4 & [906, 4956, 15918] & [406237, 1066885, 1071696, 1408558] & 4 & [1, 1, 1, 2] & $\\dots$ \\\\\n",
       "\t5 & [636, 1566, 2714] & [454490] & 1 & [1] & $\\dots$ \\\\\n",
       "\\end{tabular}\n"
      ],
      "text/plain": [
       "\u001b[1m5×5 DataFrame\u001b[0m\n",
       "\u001b[1m Row \u001b[0m│\u001b[1m triad                \u001b[0m\u001b[1m inds                              \u001b[0m\u001b[1m count \u001b[0m\u001b[1m triad_t\u001b[0m ⋯\n",
       "     │\u001b[90m Array…               \u001b[0m\u001b[90m Array…                            \u001b[0m\u001b[90m Int64 \u001b[0m\u001b[90m Array… \u001b[0m ⋯\n",
       "─────┼──────────────────────────────────────────────────────────────────────────\n",
       "   1 │ [660, 3076, 4300]     [888124]                               1  [1]     ⋯\n",
       "   2 │ [9826, 20631, 26331]  [1505957]                              1  [2]\n",
       "   3 │ [191, 452, 456]       [304610, 988601]                       2  [1, 1]\n",
       "   4 │ [906, 4956, 15918]    [406237, 1066885, 1071696, 14085…      4  [1, 1,\n",
       "   5 │ [636, 1566, 2714]     [454490]                               1  [1]     ⋯\n",
       "\u001b[36m                                                               2 columns omitted\u001b[0m"
      ]
     },
     "metadata": {},
     "output_type": "display_data"
    }
   ],
   "source": [
    "# add columns with the type of triad (transitive or cyclic) and inds in the source dataframe\n",
    "\n",
    "length(triads), length(cyclic_triads), length(all_triads)\n",
    "\n",
    "df_all_triads_dict[!, \"triad_type\"] = [(inds .> length(triads)) .+ 1 for inds in df_all_triads_dict.inds]\n",
    "\n",
    "df_all_triads_dict[!, \"exact_inds\"] = [inds .- length(triads) .* (type .- 1) for (inds, type) in zip(df_all_triads_dict.inds, df_all_triads_dict.triad_type)]\n",
    "\n",
    "first(df_all_triads_dict, 5)"
   ]
  },
  {
   "cell_type": "code",
   "execution_count": 51,
   "metadata": {},
   "outputs": [
    {
     "data": {
      "text/plain": [
       "(1769, 2504, 3456)"
      ]
     },
     "metadata": {},
     "output_type": "display_data"
    }
   ],
   "source": [
    "# test\n",
    "cyclic_triads[18406]"
   ]
  },
  {
   "cell_type": "code",
   "execution_count": 50,
   "metadata": {},
   "outputs": [
    {
     "name": "stdout",
     "output_type": "stream",
     "text": [
      "[1542, 1628, 2193]\n"
     ]
    },
    {
     "data": {
      "text/plain": [
       "2-element Vector{Tuple{Int64, Int64, Int64}}:\n",
       " (1628, 1542, 2193)\n",
       " (1542, 1628, 2193)"
      ]
     },
     "metadata": {},
     "output_type": "display_data"
    }
   ],
   "source": [
    "println(df_triads_dict.triad[2])\n",
    "\n",
    "triads[triads_dict[df_triads_dict.triad[2]]]"
   ]
  },
  {
   "cell_type": "code",
   "execution_count": 74,
   "metadata": {},
   "outputs": [
    {
     "data": {
      "text/plain": [
       "8-element Vector{Int64}:\n",
       " 0\n",
       " 0\n",
       " 0\n",
       " 0\n",
       " 0\n",
       " 0\n",
       " 0\n",
       " 2"
      ]
     },
     "metadata": {},
     "output_type": "display_data"
    }
   ],
   "source": [
    "using PyCall\n",
    "\n",
    "i = 1\n",
    "triad = df_all_triads_dict.triad[i]\n",
    "types = df_all_triads_dict.triad_type[i]\n",
    "inds = df_all_triads_dict.inds[i]\n",
    "exact_inds = df_all_triads_dict.exact_inds[i]\n",
    "\n",
    "# get triad list\n",
    "sources = [triads, cyclic_triads]\n",
    "type_sources = sources[types]\n",
    "# triad_list = sources[types][exact_inds]\n",
    "triad_list = [triad_source[exact_ind] for (triad_source, exact_ind) in zip(type_sources, exact_inds)]\n",
    "# triad_list = triads[inds]\n",
    "\n",
    "# get edges from triad list\n",
    "get_transitive_edges(triad) = [(triad[1], triad[2]), (triad[2], triad[3]), (triad[1], triad[3])]\n",
    "get_cyclic_edges(triad) = [(triad[1], triad[2]), (triad[2], triad[3]), (triad[3], triad[1])]\n",
    "function get_edges(triad, type)\n",
    "    if type == 1\n",
    "        return get_transitive_edges(triad)\n",
    "    elseif type == 2\n",
    "        return get_cyclic_edges(triad)\n",
    "    end\n",
    "end\n",
    "# function get_edges.(triad_list, types)\n",
    "#     return [get_edges(triad, type) for (triad, type) in zip(triad_list, types)]\n",
    "# end\n",
    "\n",
    "# type_funs = [get_transitive_edges, get_cyclic_edges]\n",
    "edges_list = get_edges.(triad_list, types)\n",
    "edges_list = reduce(vcat, edges_list)\n",
    "unique_edges = unique(edges_list)\n",
    "\n",
    "py\"\"\"\n",
    "import networkx as nx\n",
    "\"\"\"\n",
    "\n",
    "G = py\"nx.DiGraph\"([edges_list...])\n",
    "\n",
    "# print(G.edges)\n",
    "\n",
    "triad_census = py\"nx.triadic_census\"(G)\n",
    "\n",
    "triad_census_triads = collect(keys(triad_census))\n",
    "\n",
    "tc_ind = collect(values(triad_census)) .== 1\n",
    "\n",
    "triad_census_triads[tc_ind][1]\n",
    "\n",
    "# get signed triad type\n",
    "sign_vals_s = values(df_all_triads[inds, 4:6])\n",
    "sign_vals_s = Matrix(sign_vals_s)\n",
    "sign_vals_s = mapslices(x->[x], sign_vals_s, dims=2)[:]\n",
    "\n",
    "n_arr = zeros(Int, 8)\n",
    "\n",
    "for sign_vals in sign_vals_s\n",
    "    connections_values = sign_vals .== 1\n",
    "    n_arr[connections_values[1]*4 + connections_values[3]*2 + connections_values[2]+1] += 1\n",
    "end\n",
    "n_arr\n",
    "# n_arr"
   ]
  },
  {
   "cell_type": "code",
   "execution_count": 104,
   "metadata": {},
   "outputs": [
    {
     "data": {
      "text/plain": [
       "8-element Vector{Int64}:\n",
       " 0\n",
       " 0\n",
       " 0\n",
       " 0\n",
       " 0\n",
       " 0\n",
       " 0\n",
       " 2"
      ]
     },
     "metadata": {},
     "output_type": "display_data"
    }
   ],
   "source": [
    "using PyCall\n",
    "\n",
    "i = 2\n",
    "triad = df_triads_dict.triad[i]\n",
    "inds = df_triads_dict.inds[i]\n",
    "\n",
    "# get triad list\n",
    "triad_list = triads[inds]\n",
    "\n",
    "# get edges from triad list\n",
    "edges_list = [[(triad[1], triad[2]), (triad[2], triad[3]), (triad[1], triad[3])] for triad in triad_list]\n",
    "edges_list = reduce(vcat, edges_list)\n",
    "unique_edges = unique(edges_list)\n",
    "\n",
    "py\"\"\"\n",
    "import networkx as nx\n",
    "\"\"\"\n",
    "\n",
    "G = py\"nx.DiGraph\"([unique_edges...])\n",
    "\n",
    "# print(G.edges)\n",
    "\n",
    "triad_census = py\"nx.triadic_census\"(G)\n",
    "\n",
    "triad_census_triads = collect(keys(triad_census))\n",
    "\n",
    "tc_ind = collect(values(triad_census)) .== 1\n",
    "\n",
    "triad_census_triads[tc_ind]\n",
    "\n",
    "# get signed triad type\n",
    "sign_vals_s = values(df_triads[inds, 4:6])\n",
    "sign_vals_s = Matrix(sign_vals_s)\n",
    "sign_vals_s = mapslices(x->[x], sign_vals_s, dims=2)[:]\n",
    "\n",
    "n_arr = zeros(Int, 8)\n",
    "\n",
    "for sign_vals in sign_vals_s\n",
    "    connections_values = sign_vals .== 1\n",
    "    n_arr[connections_values[1]*4 + connections_values[3]*2 + connections_values[2]+1] += 1\n",
    "end\n",
    "n_arr"
   ]
  },
  {
   "cell_type": "code",
   "execution_count": 107,
   "metadata": {},
   "outputs": [
    {
     "data": {
      "text/plain": [
       "true"
      ]
     },
     "metadata": {},
     "output_type": "display_data"
    }
   ],
   "source": [
    "values(sign_vals)\n",
    "mm = Matrix(sign_vals)\n",
    "sign_vals_s = mapslices(x->[x], mm, dims=2)[:]\n",
    "\n",
    "all(prod.(sign_vals_s) .== 1)"
   ]
  },
  {
   "cell_type": "code",
   "execution_count": null,
   "metadata": {},
   "outputs": [
    {
     "name": "stdout",
     "output_type": "stream",
     "text": [
      "Processed 100000 triads\n",
      "Processed 200000 triads\n",
      "Processed 300000 triads\n",
      "Processed 400000 triads\n",
      "Processed 500000 triads\n",
      "Processed 600000 triads\n"
     ]
    }
   ],
   "source": [
    "using PyCall\n",
    "py\"\"\"\n",
    "import networkx as nx\n",
    "\"\"\"\n",
    "\n",
    "G = py\"nx.DiGraph\"()\n",
    "\n",
    "triad_census = py\"nx.triadic_census\"(G)\n",
    "triad_census_triads = collect(keys(triad_census))\n",
    "\n",
    "# signed triad types:\n",
    "n_arr_dict = Dict( triad_census_triads .=> [zeros(Int, 8) for _ in 1:length(triad_census_triads)])\n",
    "n_bal_dict = Dict( triad_census_triads .=> [0 for _ in 1:length(triad_census_triads)])\n",
    "n_hier_dict = Dict( triad_census_triads .=> [0 for _ in 1:length(triad_census_triads)])\n",
    "n_tot_dict = Dict( triad_census_triads .=> [0 for _ in 1:length(triad_census_triads)])\n",
    "\n",
    "counter = 0\n",
    "inform_after = 100000\n",
    "for (triad, inds, count) in eachrow(df_triads_dict)\n",
    "    triad_list = triads[inds]\n",
    "\n",
    "    # get edges list from triad list\n",
    "    edges_list = [[(triad[1], triad[2]), (triad[2], triad[3]), (triad[1], triad[3])] for triad in triad_list]\n",
    "    edges_list = reduce(vcat, edges_list)\n",
    "    unique_edges = unique(edges_list)\n",
    "\n",
    "    # call Python from julia, use networkx to get triad census on subgraphs\n",
    "    G = py\"nx.DiGraph\"([unique_edges...])\n",
    "    triad_census = py\"nx.triadic_census\"(G)\n",
    "    triad_census_triads = collect(keys(triad_census))\n",
    "    tc_ind = collect(values(triad_census)) .== 1\n",
    "    triad_type = triad_census_triads[tc_ind][1]\n",
    "\n",
    "    # get signed triad type\n",
    "    sign_vals_s = values(df_triads[inds, 4:6])\n",
    "    sign_vals_s = Matrix(sign_vals_s)\n",
    "    sign_vals_s = mapslices(x->[x], sign_vals_s, dims=2)[:]\n",
    "\n",
    "    # n_arr = zeros(Int, 8)\n",
    "\n",
    "    hier = true\n",
    "    for sign_vals in sign_vals_s\n",
    "        connections_values = sign_vals .== 1\n",
    "        signed_triad_type = connections_values[1]*4 + connections_values[3]*2 + connections_values[2]+1\n",
    "        n_arr_dict[triad_type][signed_triad_type] += 1\n",
    "\n",
    "        if signed_triad_type == 3 || signed_triad_type == 6\n",
    "            hier = false\n",
    "        end\n",
    "    end\n",
    "    n_tot_dict[triad_type] += 1\n",
    "    n_bal_dict[triad_type] += all(prod.(sign_vals_s) .== 1)\n",
    "    n_hier_dict[triad_type] += hier\n",
    "\n",
    "    # n_arr\n",
    "\n",
    "    # println(triad_list, inds)\n",
    "    counter += 1\n",
    "    # if counter > 5000\n",
    "    #     break\n",
    "    # end\n",
    "    if counter % inform_after == 0\n",
    "        # print time\n",
    "        # print()\n",
    "        println(\"Processed $counter triads\")\n",
    "    end\n",
    "end"
   ]
  },
  {
   "cell_type": "code",
   "execution_count": null,
   "metadata": {},
   "outputs": [
    {
     "data": {
      "text/html": [
       "<div><div style = \"float: left;\"><span>16×5 DataFrame</span></div><div style = \"clear: both;\"></div></div><div class = \"data-frame\" style = \"overflow-x: scroll;\"><table class = \"data-frame\" style = \"margin-bottom: 6px;\"><thead><tr class = \"header\"><th class = \"rowNumber\" style = \"font-weight: bold; text-align: right;\">Row</th><th style = \"text-align: left;\">triad</th><th style = \"text-align: left;\">n_arr</th><th style = \"text-align: left;\">n_bal</th><th style = \"text-align: left;\">n_hier</th><th style = \"text-align: left;\">n_tot</th></tr><tr class = \"subheader headerLastRow\"><th class = \"rowNumber\" style = \"font-weight: bold; text-align: right;\"></th><th title = \"String\" style = \"text-align: left;\">String</th><th title = \"Vector{Int64}\" style = \"text-align: left;\">Array…</th><th title = \"Int64\" style = \"text-align: left;\">Int64</th><th title = \"Int64\" style = \"text-align: left;\">Int64</th><th title = \"Int64\" style = \"text-align: left;\">Int64</th></tr></thead><tbody><tr><td class = \"rowNumber\" style = \"font-weight: bold; text-align: right;\">1</td><td style = \"text-align: left;\">030C</td><td style = \"text-align: left;\">[0, 0, 0, 0, 0, 0, 0, 0]</td><td style = \"text-align: right;\">0</td><td style = \"text-align: right;\">0</td><td style = \"text-align: right;\">0</td></tr><tr><td class = \"rowNumber\" style = \"font-weight: bold; text-align: right;\">2</td><td style = \"text-align: left;\">111U</td><td style = \"text-align: left;\">[0, 0, 0, 0, 0, 0, 0, 0]</td><td style = \"text-align: right;\">0</td><td style = \"text-align: right;\">0</td><td style = \"text-align: right;\">0</td></tr><tr><td class = \"rowNumber\" style = \"font-weight: bold; text-align: right;\">3</td><td style = \"text-align: left;\">120D</td><td style = \"text-align: left;\">[656, 2718, 804, 5957, 1529, 5232, 3536, 70680]</td><td style = \"text-align: right;\">35682</td><td style = \"text-align: right;\">39837</td><td style = \"text-align: right;\">45556</td></tr><tr><td class = \"rowNumber\" style = \"font-weight: bold; text-align: right;\">4</td><td style = \"text-align: left;\">120C</td><td style = \"text-align: left;\">[0, 0, 0, 0, 0, 0, 0, 0]</td><td style = \"text-align: right;\">0</td><td style = \"text-align: right;\">0</td><td style = \"text-align: right;\">0</td></tr><tr><td class = \"rowNumber\" style = \"font-weight: bold; text-align: right;\">5</td><td style = \"text-align: left;\">201</td><td style = \"text-align: left;\">[0, 0, 0, 0, 0, 0, 0, 0]</td><td style = \"text-align: right;\">0</td><td style = \"text-align: right;\">0</td><td style = \"text-align: right;\">0</td></tr><tr><td class = \"rowNumber\" style = \"font-weight: bold; text-align: right;\">6</td><td style = \"text-align: left;\">111D</td><td style = \"text-align: left;\">[0, 0, 0, 0, 0, 0, 0, 0]</td><td style = \"text-align: right;\">0</td><td style = \"text-align: right;\">0</td><td style = \"text-align: right;\">0</td></tr><tr><td class = \"rowNumber\" style = \"font-weight: bold; text-align: right;\">7</td><td style = \"text-align: left;\">210</td><td style = \"text-align: left;\">[148, 598, 344, 2666, 782, 2092, 2452, 36743]</td><td style = \"text-align: right;\">11150</td><td style = \"text-align: right;\">13025</td><td style = \"text-align: right;\">15275</td></tr><tr><td class = \"rowNumber\" style = \"font-weight: bold; text-align: right;\">8</td><td style = \"text-align: left;\">003</td><td style = \"text-align: left;\">[0, 0, 0, 0, 0, 0, 0, 0]</td><td style = \"text-align: right;\">0</td><td style = \"text-align: right;\">0</td><td style = \"text-align: right;\">0</td></tr><tr><td class = \"rowNumber\" style = \"font-weight: bold; text-align: right;\">9</td><td style = \"text-align: left;\">012</td><td style = \"text-align: left;\">[0, 0, 0, 0, 0, 0, 0, 0]</td><td style = \"text-align: right;\">0</td><td style = \"text-align: right;\">0</td><td style = \"text-align: right;\">0</td></tr><tr><td class = \"rowNumber\" style = \"font-weight: bold; text-align: right;\">10</td><td style = \"text-align: left;\">021D</td><td style = \"text-align: left;\">[0, 0, 0, 0, 0, 0, 0, 0]</td><td style = \"text-align: right;\">0</td><td style = \"text-align: right;\">0</td><td style = \"text-align: right;\">0</td></tr><tr><td class = \"rowNumber\" style = \"font-weight: bold; text-align: right;\">11</td><td style = \"text-align: left;\">030T</td><td style = \"text-align: left;\">[6514, 13263, 5504, 35228, 25815, 30559, 40075, 323388]</td><td style = \"text-align: right;\">367970</td><td style = \"text-align: right;\">444283</td><td style = \"text-align: right;\">480346</td></tr><tr><td class = \"rowNumber\" style = \"font-weight: bold; text-align: right;\">12</td><td style = \"text-align: left;\">021U</td><td style = \"text-align: left;\">[0, 0, 0, 0, 0, 0, 0, 0]</td><td style = \"text-align: right;\">0</td><td style = \"text-align: right;\">0</td><td style = \"text-align: right;\">0</td></tr><tr><td class = \"rowNumber\" style = \"font-weight: bold; text-align: right;\">13</td><td style = \"text-align: left;\">300</td><td style = \"text-align: left;\">[30, 106, 43, 514, 100, 457, 520, 10944]</td><td style = \"text-align: right;\">1626</td><td style = \"text-align: right;\">1688</td><td style = \"text-align: right;\">2119</td></tr><tr><td class = \"rowNumber\" style = \"font-weight: bold; text-align: right;\">14</td><td style = \"text-align: left;\">102</td><td style = \"text-align: left;\">[0, 0, 0, 0, 0, 0, 0, 0]</td><td style = \"text-align: right;\">0</td><td style = \"text-align: right;\">0</td><td style = \"text-align: right;\">0</td></tr><tr><td class = \"rowNumber\" style = \"font-weight: bold; text-align: right;\">15</td><td style = \"text-align: left;\">021C</td><td style = \"text-align: left;\">[0, 0, 0, 0, 0, 0, 0, 0]</td><td style = \"text-align: right;\">0</td><td style = \"text-align: right;\">0</td><td style = \"text-align: right;\">0</td></tr><tr><td class = \"rowNumber\" style = \"font-weight: bold; text-align: right;\">16</td><td style = \"text-align: left;\">120U</td><td style = \"text-align: left;\">[1009, 1951, 819, 5918, 7351, 8119, 9251, 82100]</td><td style = \"text-align: right;\">42431</td><td style = \"text-align: right;\">49706</td><td style = \"text-align: right;\">58259</td></tr></tbody></table></div>"
      ],
      "text/latex": [
       "\\begin{tabular}{r|ccccc}\n",
       "\t& triad & n\\_arr & n\\_bal & n\\_hier & \\\\\n",
       "\t\\hline\n",
       "\t& String & Array… & Int64 & Int64 & \\\\\n",
       "\t\\hline\n",
       "\t1 & 030C & [0, 0, 0, 0, 0, 0, 0, 0] & 0 & 0 & $\\dots$ \\\\\n",
       "\t2 & 111U & [0, 0, 0, 0, 0, 0, 0, 0] & 0 & 0 & $\\dots$ \\\\\n",
       "\t3 & 120D & [656, 2718, 804, 5957, 1529, 5232, 3536, 70680] & 35682 & 39837 & $\\dots$ \\\\\n",
       "\t4 & 120C & [0, 0, 0, 0, 0, 0, 0, 0] & 0 & 0 & $\\dots$ \\\\\n",
       "\t5 & 201 & [0, 0, 0, 0, 0, 0, 0, 0] & 0 & 0 & $\\dots$ \\\\\n",
       "\t6 & 111D & [0, 0, 0, 0, 0, 0, 0, 0] & 0 & 0 & $\\dots$ \\\\\n",
       "\t7 & 210 & [148, 598, 344, 2666, 782, 2092, 2452, 36743] & 11150 & 13025 & $\\dots$ \\\\\n",
       "\t8 & 003 & [0, 0, 0, 0, 0, 0, 0, 0] & 0 & 0 & $\\dots$ \\\\\n",
       "\t9 & 012 & [0, 0, 0, 0, 0, 0, 0, 0] & 0 & 0 & $\\dots$ \\\\\n",
       "\t10 & 021D & [0, 0, 0, 0, 0, 0, 0, 0] & 0 & 0 & $\\dots$ \\\\\n",
       "\t11 & 030T & [6514, 13263, 5504, 35228, 25815, 30559, 40075, 323388] & 367970 & 444283 & $\\dots$ \\\\\n",
       "\t12 & 021U & [0, 0, 0, 0, 0, 0, 0, 0] & 0 & 0 & $\\dots$ \\\\\n",
       "\t13 & 300 & [30, 106, 43, 514, 100, 457, 520, 10944] & 1626 & 1688 & $\\dots$ \\\\\n",
       "\t14 & 102 & [0, 0, 0, 0, 0, 0, 0, 0] & 0 & 0 & $\\dots$ \\\\\n",
       "\t15 & 021C & [0, 0, 0, 0, 0, 0, 0, 0] & 0 & 0 & $\\dots$ \\\\\n",
       "\t16 & 120U & [1009, 1951, 819, 5918, 7351, 8119, 9251, 82100] & 42431 & 49706 & $\\dots$ \\\\\n",
       "\\end{tabular}\n"
      ],
      "text/plain": [
       "\u001b[1m16×5 DataFrame\u001b[0m\n",
       "\u001b[1m Row \u001b[0m│\u001b[1m triad  \u001b[0m\u001b[1m n_arr                             \u001b[0m\u001b[1m n_bal  \u001b[0m\u001b[1m n_hier \u001b[0m\u001b[1m n_tot  \u001b[0m\n",
       "     │\u001b[90m String \u001b[0m\u001b[90m Array…                            \u001b[0m\u001b[90m Int64  \u001b[0m\u001b[90m Int64  \u001b[0m\u001b[90m Int64  \u001b[0m\n",
       "─────┼───────────────────────────────────────────────────────────────────\n",
       "   1 │ 030C    [0, 0, 0, 0, 0, 0, 0, 0]                0       0       0\n",
       "   2 │ 111U    [0, 0, 0, 0, 0, 0, 0, 0]                0       0       0\n",
       "   3 │ 120D    [656, 2718, 804, 5957, 1529, 523…   35682   39837   45556\n",
       "   4 │ 120C    [0, 0, 0, 0, 0, 0, 0, 0]                0       0       0\n",
       "   5 │ 201     [0, 0, 0, 0, 0, 0, 0, 0]                0       0       0\n",
       "   6 │ 111D    [0, 0, 0, 0, 0, 0, 0, 0]                0       0       0\n",
       "   7 │ 210     [148, 598, 344, 2666, 782, 2092,…   11150   13025   15275\n",
       "   8 │ 003     [0, 0, 0, 0, 0, 0, 0, 0]                0       0       0\n",
       "   9 │ 012     [0, 0, 0, 0, 0, 0, 0, 0]                0       0       0\n",
       "  10 │ 021D    [0, 0, 0, 0, 0, 0, 0, 0]                0       0       0\n",
       "  11 │ 030T    [6514, 13263, 5504, 35228, 25815…  367970  444283  480346\n",
       "  12 │ 021U    [0, 0, 0, 0, 0, 0, 0, 0]                0       0       0\n",
       "  13 │ 300     [30, 106, 43, 514, 100, 457, 520…    1626    1688    2119\n",
       "  14 │ 102     [0, 0, 0, 0, 0, 0, 0, 0]                0       0       0\n",
       "  15 │ 021C    [0, 0, 0, 0, 0, 0, 0, 0]                0       0       0\n",
       "  16 │ 120U    [1009, 1951, 819, 5918, 7351, 81…   42431   49706   58259"
      ]
     },
     "metadata": {},
     "output_type": "display_data"
    }
   ],
   "source": [
    "# create dataframe from dicts\n",
    "\n",
    "df_cyclic_n_arr = DataFrame(triad = collect(keys(n_arr_dict)), n_arr = collect(values(n_arr_dict)),\n",
    "                     n_bal = collect(values(n_bal_dict)), n_hier = collect(values(n_hier_dict)),\n",
    "                     n_tot = collect(values(n_tot_dict)))"
   ]
  },
  {
   "cell_type": "code",
   "execution_count": null,
   "metadata": {},
   "outputs": [
    {
     "data": {
      "text/html": [
       "<div><div style = \"float: left;\"><span>16×7 DataFrame</span></div><div style = \"clear: both;\"></div></div><div class = \"data-frame\" style = \"overflow-x: scroll;\"><table class = \"data-frame\" style = \"margin-bottom: 6px;\"><thead><tr class = \"header\"><th class = \"rowNumber\" style = \"font-weight: bold; text-align: right;\">Row</th><th style = \"text-align: left;\">triad</th><th style = \"text-align: left;\">n_arr</th><th style = \"text-align: left;\">n_bal</th><th style = \"text-align: left;\">n_hier</th><th style = \"text-align: left;\">n_tot</th><th style = \"text-align: left;\">per_bal</th><th style = \"text-align: left;\">per_hier</th></tr><tr class = \"subheader headerLastRow\"><th class = \"rowNumber\" style = \"font-weight: bold; text-align: right;\"></th><th title = \"String\" style = \"text-align: left;\">String</th><th title = \"Vector{Int64}\" style = \"text-align: left;\">Array…</th><th title = \"Int64\" style = \"text-align: left;\">Int64</th><th title = \"Int64\" style = \"text-align: left;\">Int64</th><th title = \"Int64\" style = \"text-align: left;\">Int64</th><th title = \"Float64\" style = \"text-align: left;\">Float64</th><th title = \"Float64\" style = \"text-align: left;\">Float64</th></tr></thead><tbody><tr><td class = \"rowNumber\" style = \"font-weight: bold; text-align: right;\">1</td><td style = \"text-align: left;\">030C</td><td style = \"text-align: left;\">[0, 0, 0, 0, 0, 0, 0, 0]</td><td style = \"text-align: right;\">0</td><td style = \"text-align: right;\">0</td><td style = \"text-align: right;\">0</td><td style = \"text-align: right;\">NaN</td><td style = \"text-align: right;\">NaN</td></tr><tr><td class = \"rowNumber\" style = \"font-weight: bold; text-align: right;\">2</td><td style = \"text-align: left;\">111U</td><td style = \"text-align: left;\">[0, 0, 0, 0, 0, 0, 0, 0]</td><td style = \"text-align: right;\">0</td><td style = \"text-align: right;\">0</td><td style = \"text-align: right;\">0</td><td style = \"text-align: right;\">NaN</td><td style = \"text-align: right;\">NaN</td></tr><tr><td class = \"rowNumber\" style = \"font-weight: bold; text-align: right;\">3</td><td style = \"text-align: left;\">120D</td><td style = \"text-align: left;\">[656, 2718, 804, 5957, 1529, 5232, 3536, 70680]</td><td style = \"text-align: right;\">35682</td><td style = \"text-align: right;\">39837</td><td style = \"text-align: right;\">45556</td><td style = \"text-align: right;\">0.783256</td><td style = \"text-align: right;\">0.874462</td></tr><tr><td class = \"rowNumber\" style = \"font-weight: bold; text-align: right;\">4</td><td style = \"text-align: left;\">120C</td><td style = \"text-align: left;\">[0, 0, 0, 0, 0, 0, 0, 0]</td><td style = \"text-align: right;\">0</td><td style = \"text-align: right;\">0</td><td style = \"text-align: right;\">0</td><td style = \"text-align: right;\">NaN</td><td style = \"text-align: right;\">NaN</td></tr><tr><td class = \"rowNumber\" style = \"font-weight: bold; text-align: right;\">5</td><td style = \"text-align: left;\">201</td><td style = \"text-align: left;\">[0, 0, 0, 0, 0, 0, 0, 0]</td><td style = \"text-align: right;\">0</td><td style = \"text-align: right;\">0</td><td style = \"text-align: right;\">0</td><td style = \"text-align: right;\">NaN</td><td style = \"text-align: right;\">NaN</td></tr><tr><td class = \"rowNumber\" style = \"font-weight: bold; text-align: right;\">6</td><td style = \"text-align: left;\">111D</td><td style = \"text-align: left;\">[0, 0, 0, 0, 0, 0, 0, 0]</td><td style = \"text-align: right;\">0</td><td style = \"text-align: right;\">0</td><td style = \"text-align: right;\">0</td><td style = \"text-align: right;\">NaN</td><td style = \"text-align: right;\">NaN</td></tr><tr><td class = \"rowNumber\" style = \"font-weight: bold; text-align: right;\">7</td><td style = \"text-align: left;\">210</td><td style = \"text-align: left;\">[148, 598, 344, 2666, 782, 2092, 2452, 36743]</td><td style = \"text-align: right;\">11150</td><td style = \"text-align: right;\">13025</td><td style = \"text-align: right;\">15275</td><td style = \"text-align: right;\">0.729951</td><td style = \"text-align: right;\">0.8527</td></tr><tr><td class = \"rowNumber\" style = \"font-weight: bold; text-align: right;\">8</td><td style = \"text-align: left;\">003</td><td style = \"text-align: left;\">[0, 0, 0, 0, 0, 0, 0, 0]</td><td style = \"text-align: right;\">0</td><td style = \"text-align: right;\">0</td><td style = \"text-align: right;\">0</td><td style = \"text-align: right;\">NaN</td><td style = \"text-align: right;\">NaN</td></tr><tr><td class = \"rowNumber\" style = \"font-weight: bold; text-align: right;\">9</td><td style = \"text-align: left;\">012</td><td style = \"text-align: left;\">[0, 0, 0, 0, 0, 0, 0, 0]</td><td style = \"text-align: right;\">0</td><td style = \"text-align: right;\">0</td><td style = \"text-align: right;\">0</td><td style = \"text-align: right;\">NaN</td><td style = \"text-align: right;\">NaN</td></tr><tr><td class = \"rowNumber\" style = \"font-weight: bold; text-align: right;\">10</td><td style = \"text-align: left;\">021D</td><td style = \"text-align: left;\">[0, 0, 0, 0, 0, 0, 0, 0]</td><td style = \"text-align: right;\">0</td><td style = \"text-align: right;\">0</td><td style = \"text-align: right;\">0</td><td style = \"text-align: right;\">NaN</td><td style = \"text-align: right;\">NaN</td></tr><tr><td class = \"rowNumber\" style = \"font-weight: bold; text-align: right;\">11</td><td style = \"text-align: left;\">030T</td><td style = \"text-align: left;\">[6514, 13263, 5504, 35228, 25815, 30559, 40075, 323388]</td><td style = \"text-align: right;\">367970</td><td style = \"text-align: right;\">444283</td><td style = \"text-align: right;\">480346</td><td style = \"text-align: right;\">0.766052</td><td style = \"text-align: right;\">0.924923</td></tr><tr><td class = \"rowNumber\" style = \"font-weight: bold; text-align: right;\">12</td><td style = \"text-align: left;\">021U</td><td style = \"text-align: left;\">[0, 0, 0, 0, 0, 0, 0, 0]</td><td style = \"text-align: right;\">0</td><td style = \"text-align: right;\">0</td><td style = \"text-align: right;\">0</td><td style = \"text-align: right;\">NaN</td><td style = \"text-align: right;\">NaN</td></tr><tr><td class = \"rowNumber\" style = \"font-weight: bold; text-align: right;\">13</td><td style = \"text-align: left;\">300</td><td style = \"text-align: left;\">[30, 106, 43, 514, 100, 457, 520, 10944]</td><td style = \"text-align: right;\">1626</td><td style = \"text-align: right;\">1688</td><td style = \"text-align: right;\">2119</td><td style = \"text-align: right;\">0.767343</td><td style = \"text-align: right;\">0.796602</td></tr><tr><td class = \"rowNumber\" style = \"font-weight: bold; text-align: right;\">14</td><td style = \"text-align: left;\">102</td><td style = \"text-align: left;\">[0, 0, 0, 0, 0, 0, 0, 0]</td><td style = \"text-align: right;\">0</td><td style = \"text-align: right;\">0</td><td style = \"text-align: right;\">0</td><td style = \"text-align: right;\">NaN</td><td style = \"text-align: right;\">NaN</td></tr><tr><td class = \"rowNumber\" style = \"font-weight: bold; text-align: right;\">15</td><td style = \"text-align: left;\">021C</td><td style = \"text-align: left;\">[0, 0, 0, 0, 0, 0, 0, 0]</td><td style = \"text-align: right;\">0</td><td style = \"text-align: right;\">0</td><td style = \"text-align: right;\">0</td><td style = \"text-align: right;\">NaN</td><td style = \"text-align: right;\">NaN</td></tr><tr><td class = \"rowNumber\" style = \"font-weight: bold; text-align: right;\">16</td><td style = \"text-align: left;\">120U</td><td style = \"text-align: left;\">[1009, 1951, 819, 5918, 7351, 8119, 9251, 82100]</td><td style = \"text-align: right;\">42431</td><td style = \"text-align: right;\">49706</td><td style = \"text-align: right;\">58259</td><td style = \"text-align: right;\">0.728317</td><td style = \"text-align: right;\">0.85319</td></tr></tbody></table></div>"
      ],
      "text/latex": [
       "\\begin{tabular}{r|ccccc}\n",
       "\t& triad & n\\_arr & n\\_bal & n\\_hier & \\\\\n",
       "\t\\hline\n",
       "\t& String & Array… & Int64 & Int64 & \\\\\n",
       "\t\\hline\n",
       "\t1 & 030C & [0, 0, 0, 0, 0, 0, 0, 0] & 0 & 0 & $\\dots$ \\\\\n",
       "\t2 & 111U & [0, 0, 0, 0, 0, 0, 0, 0] & 0 & 0 & $\\dots$ \\\\\n",
       "\t3 & 120D & [656, 2718, 804, 5957, 1529, 5232, 3536, 70680] & 35682 & 39837 & $\\dots$ \\\\\n",
       "\t4 & 120C & [0, 0, 0, 0, 0, 0, 0, 0] & 0 & 0 & $\\dots$ \\\\\n",
       "\t5 & 201 & [0, 0, 0, 0, 0, 0, 0, 0] & 0 & 0 & $\\dots$ \\\\\n",
       "\t6 & 111D & [0, 0, 0, 0, 0, 0, 0, 0] & 0 & 0 & $\\dots$ \\\\\n",
       "\t7 & 210 & [148, 598, 344, 2666, 782, 2092, 2452, 36743] & 11150 & 13025 & $\\dots$ \\\\\n",
       "\t8 & 003 & [0, 0, 0, 0, 0, 0, 0, 0] & 0 & 0 & $\\dots$ \\\\\n",
       "\t9 & 012 & [0, 0, 0, 0, 0, 0, 0, 0] & 0 & 0 & $\\dots$ \\\\\n",
       "\t10 & 021D & [0, 0, 0, 0, 0, 0, 0, 0] & 0 & 0 & $\\dots$ \\\\\n",
       "\t11 & 030T & [6514, 13263, 5504, 35228, 25815, 30559, 40075, 323388] & 367970 & 444283 & $\\dots$ \\\\\n",
       "\t12 & 021U & [0, 0, 0, 0, 0, 0, 0, 0] & 0 & 0 & $\\dots$ \\\\\n",
       "\t13 & 300 & [30, 106, 43, 514, 100, 457, 520, 10944] & 1626 & 1688 & $\\dots$ \\\\\n",
       "\t14 & 102 & [0, 0, 0, 0, 0, 0, 0, 0] & 0 & 0 & $\\dots$ \\\\\n",
       "\t15 & 021C & [0, 0, 0, 0, 0, 0, 0, 0] & 0 & 0 & $\\dots$ \\\\\n",
       "\t16 & 120U & [1009, 1951, 819, 5918, 7351, 8119, 9251, 82100] & 42431 & 49706 & $\\dots$ \\\\\n",
       "\\end{tabular}\n"
      ],
      "text/plain": [
       "\u001b[1m16×7 DataFrame\u001b[0m\n",
       "\u001b[1m Row \u001b[0m│\u001b[1m triad  \u001b[0m\u001b[1m n_arr                             \u001b[0m\u001b[1m n_bal  \u001b[0m\u001b[1m n_hier \u001b[0m\u001b[1m n_tot  \u001b[0m\u001b[1m per_\u001b[0m ⋯\n",
       "     │\u001b[90m String \u001b[0m\u001b[90m Array…                            \u001b[0m\u001b[90m Int64  \u001b[0m\u001b[90m Int64  \u001b[0m\u001b[90m Int64  \u001b[0m\u001b[90m Floa\u001b[0m ⋯\n",
       "─────┼──────────────────────────────────────────────────────────────────────────\n",
       "   1 │ 030C    [0, 0, 0, 0, 0, 0, 0, 0]                0       0       0  NaN  ⋯\n",
       "   2 │ 111U    [0, 0, 0, 0, 0, 0, 0, 0]                0       0       0  NaN\n",
       "   3 │ 120D    [656, 2718, 804, 5957, 1529, 523…   35682   39837   45556    0.\n",
       "   4 │ 120C    [0, 0, 0, 0, 0, 0, 0, 0]                0       0       0  NaN\n",
       "   5 │ 201     [0, 0, 0, 0, 0, 0, 0, 0]                0       0       0  NaN  ⋯\n",
       "   6 │ 111D    [0, 0, 0, 0, 0, 0, 0, 0]                0       0       0  NaN\n",
       "   7 │ 210     [148, 598, 344, 2666, 782, 2092,…   11150   13025   15275    0.\n",
       "   8 │ 003     [0, 0, 0, 0, 0, 0, 0, 0]                0       0       0  NaN\n",
       "   9 │ 012     [0, 0, 0, 0, 0, 0, 0, 0]                0       0       0  NaN  ⋯\n",
       "  10 │ 021D    [0, 0, 0, 0, 0, 0, 0, 0]                0       0       0  NaN\n",
       "  11 │ 030T    [6514, 13263, 5504, 35228, 25815…  367970  444283  480346    0.\n",
       "  12 │ 021U    [0, 0, 0, 0, 0, 0, 0, 0]                0       0       0  NaN\n",
       "  13 │ 300     [30, 106, 43, 514, 100, 457, 520…    1626    1688    2119    0. ⋯\n",
       "  14 │ 102     [0, 0, 0, 0, 0, 0, 0, 0]                0       0       0  NaN\n",
       "  15 │ 021C    [0, 0, 0, 0, 0, 0, 0, 0]                0       0       0  NaN\n",
       "  16 │ 120U    [1009, 1951, 819, 5918, 7351, 81…   42431   49706   58259    0.\n",
       "\u001b[36m                                                               2 columns omitted\u001b[0m"
      ]
     },
     "metadata": {},
     "output_type": "display_data"
    }
   ],
   "source": [
    "df_cyclic_n_arr.per_bal = df_cyclic_n_arr.n_bal ./ df_cyclic_n_arr.n_tot\n",
    "df_cyclic_n_arr.per_hier = df_n_arr.n_hier ./ df_n_arr.n_tot\n",
    "df_n_arr"
   ]
  },
  {
   "cell_type": "code",
   "execution_count": null,
   "metadata": {},
   "outputs": [],
   "source": [
    "# save above dataframe\n",
    "CSV.write(joinpath(path, \"soc-wiki-elec-bal_hier_triads-types.csv\"), df_n_arr)\n",
    "CSV.write(joinpath(\"soc-wiki-elec-bal_hier_triads-types.csv\"), df_n_arr)\n",
    "\n",
    "# save JLD2\n",
    "save(joinpath(path, \"soc-wiki-elec-bal_hier_triads-types.jld2\"), \"df_n_arr\", df_n_arr)\n",
    "save(\"soc-wiki-elec-bal_hier_triads-types.jld2\", \"df_n_arr\", df_n_arr)"
   ]
  },
  {
   "cell_type": "markdown",
   "metadata": {},
   "source": [
    "### Balance and hierarchy analysis including cyclic triads"
   ]
  },
  {
   "cell_type": "code",
   "execution_count": 22,
   "metadata": {},
   "outputs": [
    {
     "data": {
      "text/plain": [
       "get_edges (generic function with 1 method)"
      ]
     },
     "metadata": {},
     "output_type": "display_data"
    }
   ],
   "source": [
    "get_transitive_edges(triad) = [(triad[1], triad[2]), (triad[2], triad[3]), (triad[1], triad[3])]\n",
    "get_cyclic_edges(triad) = [(triad[1], triad[2]), (triad[2], triad[3]), (triad[3], triad[1])]\n",
    "function get_edges(triad, type)\n",
    "    if type == 1\n",
    "        return get_transitive_edges(triad)\n",
    "    elseif type == 2\n",
    "        return get_cyclic_edges(triad)\n",
    "    end\n",
    "end"
   ]
  },
  {
   "cell_type": "code",
   "execution_count": 86,
   "metadata": {},
   "outputs": [
    {
     "name": "stdout",
     "output_type": "stream",
     "text": [
      "030T\n"
     ]
    },
    {
     "data": {
      "text/plain": [
       "8-element Vector{Int64}:\n",
       " 0\n",
       " 0\n",
       " 0\n",
       " 0\n",
       " 0\n",
       " 0\n",
       " 1\n",
       " 0"
      ]
     },
     "metadata": {},
     "output_type": "display_data"
    }
   ],
   "source": [
    "using PyCall\n",
    "\n",
    "i = 3\n",
    "triad = df_all_triads_dict.triad[i]\n",
    "types = df_all_triads_dict.triad_type[i]\n",
    "inds = df_all_triads_dict.inds[i]\n",
    "exact_inds = df_all_triads_dict.exact_inds[i]\n",
    "\n",
    "# get triad list\n",
    "sources = [triads, cyclic_triads]\n",
    "type_sources = sources[types]\n",
    "# triad_list = sources[types][exact_inds]\n",
    "triad_list = [triad_source[exact_ind] for (triad_source, exact_ind) in zip(type_sources, exact_inds)]\n",
    "# triad_list = triads[inds]\n",
    "\n",
    "# get edges from triad list\n",
    "get_transitive_edges(triad) = [(triad[1], triad[2]), (triad[2], triad[3]), (triad[1], triad[3])]\n",
    "get_cyclic_edges(triad) = [(triad[1], triad[2]), (triad[2], triad[3]), (triad[3], triad[1])]\n",
    "function get_edges(triad, type)\n",
    "    if type == 1\n",
    "        return get_transitive_edges(triad)\n",
    "    elseif type == 2\n",
    "        return get_cyclic_edges(triad)\n",
    "    end\n",
    "end\n",
    "# function get_edges.(triad_list, types)\n",
    "#     return [get_edges(triad, type) for (triad, type) in zip(triad_list, types)]\n",
    "# end\n",
    "\n",
    "# type_funs = [get_transitive_edges, get_cyclic_edges]\n",
    "edges_list = get_edges.(triad_list, types)\n",
    "edges_list = reduce(vcat, edges_list)\n",
    "unique_edges = unique(edges_list)\n",
    "\n",
    "py\"\"\"\n",
    "import networkx as nx\n",
    "\"\"\"\n",
    "\n",
    "G = py\"nx.DiGraph\"([edges_list...])\n",
    "\n",
    "# print(G.edges)\n",
    "\n",
    "triad_census = py\"nx.triadic_census\"(G)\n",
    "\n",
    "triad_census_triads = collect(keys(triad_census))\n",
    "\n",
    "tc_ind = collect(values(triad_census)) .== 1\n",
    "\n",
    "println(triad_census_triads[tc_ind][1])\n",
    "\n",
    "# get signed triad type\n",
    "sign_vals_s = values(df_all_triads[inds, 4:6])\n",
    "sign_vals_s = Matrix(sign_vals_s)\n",
    "sign_vals_s = mapslices(x->[x], sign_vals_s, dims=2)[:]\n",
    "\n",
    "n_arr = zeros(Int, 8)\n",
    "\n",
    "for sign_vals in sign_vals_s\n",
    "    connections_values = sign_vals .== 1\n",
    "    n_arr[connections_values[1]*4 + connections_values[3]*2 + connections_values[2]+1] += 1\n",
    "end\n",
    "n_arr\n",
    "# n_arr"
   ]
  },
  {
   "cell_type": "code",
   "execution_count": 30,
   "metadata": {},
   "outputs": [
    {
     "name": "stdout",
     "output_type": "stream",
     "text": [
      "Processed 100000 triads\n",
      "Processed 200000 triads\n",
      "Processed 300000 triads\n",
      "Processed 400000 triads\n",
      "Processed 500000 triads\n"
     ]
    }
   ],
   "source": [
    "using PyCall\n",
    "py\"\"\"\n",
    "import networkx as nx\n",
    "\"\"\"\n",
    "\n",
    "G = py\"nx.DiGraph\"()\n",
    "\n",
    "triad_census = py\"nx.triadic_census\"(G)\n",
    "triad_census_triads = collect(keys(triad_census))\n",
    "\n",
    "# signed triad types:\n",
    "n_arr_dict = Dict( triad_census_triads .=> [zeros(Int, 12) for _ in 1:length(triad_census_triads)])\n",
    "# first 8 as standard n_arr_dict, the next 4 from cycles: 9 - 0 neg links, 10 - 1 neg link etc.\n",
    "n_bal_dict = Dict( triad_census_triads .=> [0 for _ in 1:length(triad_census_triads)])\n",
    "n_hier_dict = Dict( triad_census_triads .=> [0 for _ in 1:length(triad_census_triads)])\n",
    "n_tot_dict = Dict( triad_census_triads .=> [0 for _ in 1:length(triad_census_triads)])\n",
    "\n",
    "n_trans_bal_dict = Dict( triad_census_triads .=> [0 for _ in 1:length(triad_census_triads)])\n",
    "n_trans_hier_dict = Dict( triad_census_triads .=> [0 for _ in 1:length(triad_census_triads)])\n",
    "n_trans_tot_dict = Dict( triad_census_triads .=> [0 for _ in 1:length(triad_census_triads)])\n",
    "\n",
    "n_cyclic_bal_dict = Dict( triad_census_triads .=> [0 for _ in 1:length(triad_census_triads)])\n",
    "n_cyclic_hier_dict = Dict( triad_census_triads .=> [0 for _ in 1:length(triad_census_triads)])\n",
    "n_cyclic_tot_dict = Dict( triad_census_triads .=> [0 for _ in 1:length(triad_census_triads)])\n",
    "\n",
    "sources = [triads, cyclic_triads]\n",
    "\n",
    "counter = 0\n",
    "inform_after = 100000\n",
    "for (triad, inds, count, trans_or_cyclics, exact_inds) in eachrow(df_all_triads_dict)\n",
    "    type_sources = sources[trans_or_cyclics]\n",
    "    triad_list = [triad_source[exact_ind] for (triad_source, exact_ind) in zip(type_sources, exact_inds)]\n",
    "\n",
    "    # get edges list from triad list\n",
    "    edges_list = get_edges.(triad_list, trans_or_cyclics)\n",
    "    edges_list = reduce(vcat, edges_list)\n",
    "    unique_edges = unique(edges_list)\n",
    "\n",
    "    # call Python from julia, use networkx to get triad census on subgraphs\n",
    "    G = py\"nx.DiGraph\"([unique_edges...])\n",
    "    triad_census = py\"nx.triadic_census\"(G)\n",
    "    triad_census_triads = collect(keys(triad_census))\n",
    "    tc_ind = collect(values(triad_census)) .== 1\n",
    "    triad_type = triad_census_triads[tc_ind][1]\n",
    "\n",
    "    # get signed triad type\n",
    "    sign_vals_s = values(df_all_triads[inds, 4:6])\n",
    "    sign_vals_s = Matrix(sign_vals_s)\n",
    "    sign_vals_s = mapslices(x->[x], sign_vals_s, dims=2)[:]\n",
    "\n",
    "    hier = true\n",
    "    hier_trans = true\n",
    "    hier_cyclic = true\n",
    "    bal_trans = true\n",
    "    bal_cyclic = true\n",
    "    # indicators that trans/cyclic triads were considered at all\n",
    "    some_trans = false\n",
    "    some_cyclic = false\n",
    "    for (sign_vals, trans_or_cyclic) in zip(sign_vals_s, trans_or_cyclics)\n",
    "        if trans_or_cyclic == 1\n",
    "            some_trans = true\n",
    "            n_trans_tot_dict[triad_type] += 1\n",
    "            if prod(sign_vals) != 1\n",
    "                bal_trans = false\n",
    "            end\n",
    "\n",
    "            connections_values = sign_vals .== 1\n",
    "            signed_triad_type = connections_values[1]*4 + connections_values[3]*2 + connections_values[2]+1\n",
    "            \n",
    "        elseif trans_or_cyclic == 2\n",
    "            some_cyclic = true\n",
    "\n",
    "            n_cyclic_tot_dict[triad_type] += 1\n",
    "            if prod(sign_vals) != 1\n",
    "                bal_cyclic = false\n",
    "            end\n",
    "\n",
    "            num_pos_links = sum(sign_vals .== 1)\n",
    "            signed_triad_type = 9 + num_pos_links\n",
    "        else\n",
    "            println(trans_or_cyclics)\n",
    "            error(\"Wrong type\")\n",
    "        end\n",
    "        n_arr_dict[triad_type][signed_triad_type] += 1\n",
    "\n",
    "        if signed_triad_type in [3, 6, 9, 12]\n",
    "            hier = false\n",
    "\n",
    "            if signed_triad_type in [3, 6]\n",
    "                hier_trans = false\n",
    "            else\n",
    "                hier_cyclic = false\n",
    "            end\n",
    "        end\n",
    "    end\n",
    "    n_tot_dict[triad_type] += 1\n",
    "    n_bal_dict[triad_type] += all(prod.(sign_vals_s) .== 1)\n",
    "    n_hier_dict[triad_type] += hier\n",
    "\n",
    "    n_trans_bal_dict[triad_type] += bal_trans * some_trans\n",
    "    n_cyclic_bal_dict[triad_type] += bal_cyclic * some_cyclic\n",
    "\n",
    "    n_trans_hier_dict[triad_type] += hier_trans * some_trans\n",
    "    n_cyclic_hier_dict[triad_type] += hier_cyclic * some_cyclic\n",
    "    # n_arr\n",
    "\n",
    "    # println(triad_list, inds)\n",
    "    counter += 1\n",
    "    # if counter > 5000\n",
    "    #     break\n",
    "    # end\n",
    "    if counter % inform_after == 0\n",
    "        # print time\n",
    "        # print()\n",
    "        # break\n",
    "        println(\"Processed $counter triads\")\n",
    "        flush(stdout)\n",
    "    # elseif counter > 23000\n",
    "    #     println(\"Processed $counter triads\")\n",
    "    # else\n",
    "    #     break\n",
    "    end\n",
    "end"
   ]
  },
  {
   "cell_type": "code",
   "execution_count": 31,
   "metadata": {},
   "outputs": [
    {
     "data": {
      "text/html": [
       "<div><div style = \"float: left;\"><span>16×11 DataFrame</span></div><div style = \"clear: both;\"></div></div><div class = \"data-frame\" style = \"overflow-x: scroll;\"><table class = \"data-frame\" style = \"margin-bottom: 6px;\"><thead><tr class = \"header\"><th class = \"rowNumber\" style = \"font-weight: bold; text-align: right;\">Row</th><th style = \"text-align: left;\">triad</th><th style = \"text-align: left;\">n_arr</th><th style = \"text-align: left;\">n_bal</th><th style = \"text-align: left;\">n_hier</th><th style = \"text-align: left;\">n_tot</th><th style = \"text-align: left;\">n_trans_bal</th><th style = \"text-align: left;\">n_trans_hier</th><th style = \"text-align: left;\">n_trans_tot</th><th style = \"text-align: left;\">n_cyclic_bal</th><th style = \"text-align: left;\">n_cyclic_hier</th><th style = \"text-align: left;\">n_cyclic_tot</th></tr><tr class = \"subheader headerLastRow\"><th class = \"rowNumber\" style = \"font-weight: bold; text-align: right;\"></th><th title = \"String\" style = \"text-align: left;\">String</th><th title = \"Vector{Int64}\" style = \"text-align: left;\">Array…</th><th title = \"Int64\" style = \"text-align: left;\">Int64</th><th title = \"Int64\" style = \"text-align: left;\">Int64</th><th title = \"Int64\" style = \"text-align: left;\">Int64</th><th title = \"Int64\" style = \"text-align: left;\">Int64</th><th title = \"Int64\" style = \"text-align: left;\">Int64</th><th title = \"Int64\" style = \"text-align: left;\">Int64</th><th title = \"Int64\" style = \"text-align: left;\">Int64</th><th title = \"Int64\" style = \"text-align: left;\">Int64</th><th title = \"Int64\" style = \"text-align: left;\">Int64</th></tr></thead><tbody><tr><td class = \"rowNumber\" style = \"font-weight: bold; text-align: right;\">1</td><td style = \"text-align: left;\">030C</td><td style = \"text-align: left;\">[0, 0, 0, 0, 0, 0, 0, 0, 88, 735, 1384, 1176]</td><td style = \"text-align: right;\">1911</td><td style = \"text-align: right;\">2119</td><td style = \"text-align: right;\">3383</td><td style = \"text-align: right;\">0</td><td style = \"text-align: right;\">0</td><td style = \"text-align: right;\">0</td><td style = \"text-align: right;\">1911</td><td style = \"text-align: right;\">2119</td><td style = \"text-align: right;\">3383</td></tr><tr><td class = \"rowNumber\" style = \"font-weight: bold; text-align: right;\">2</td><td style = \"text-align: left;\">111U</td><td style = \"text-align: left;\">[0, 0, 0, 0, 0, 0, 0, 0, 0, 0, 0, 0]</td><td style = \"text-align: right;\">0</td><td style = \"text-align: right;\">0</td><td style = \"text-align: right;\">0</td><td style = \"text-align: right;\">0</td><td style = \"text-align: right;\">0</td><td style = \"text-align: right;\">0</td><td style = \"text-align: right;\">0</td><td style = \"text-align: right;\">0</td><td style = \"text-align: right;\">0</td></tr><tr><td class = \"rowNumber\" style = \"font-weight: bold; text-align: right;\">3</td><td style = \"text-align: left;\">120D</td><td style = \"text-align: left;\">[1186, 19320, 1399, 3783, 1633, 3549, 2051, 93693, 0, 0, 0, 0]</td><td style = \"text-align: right;\">57391</td><td style = \"text-align: right;\">58483</td><td style = \"text-align: right;\">63307</td><td style = \"text-align: right;\">57391</td><td style = \"text-align: right;\">58483</td><td style = \"text-align: right;\">126614</td><td style = \"text-align: right;\">0</td><td style = \"text-align: right;\">0</td><td style = \"text-align: right;\">0</td></tr><tr><td class = \"rowNumber\" style = \"font-weight: bold; text-align: right;\">4</td><td style = \"text-align: left;\">120C</td><td style = \"text-align: left;\">[310, 1344, 1156, 1561, 500, 413, 3381, 14313, 228, 2751, 5898, 14101]</td><td style = \"text-align: right;\">16548</td><td style = \"text-align: right;\">7198</td><td style = \"text-align: right;\">22978</td><td style = \"text-align: right;\">17313</td><td style = \"text-align: right;\">21409</td><td style = \"text-align: right;\">22978</td><td style = \"text-align: right;\">16852</td><td style = \"text-align: right;\">8649</td><td style = \"text-align: right;\">22978</td></tr><tr><td class = \"rowNumber\" style = \"font-weight: bold; text-align: right;\">5</td><td style = \"text-align: left;\">201</td><td style = \"text-align: left;\">[0, 0, 0, 0, 0, 0, 0, 0, 0, 0, 0, 0]</td><td style = \"text-align: right;\">0</td><td style = \"text-align: right;\">0</td><td style = \"text-align: right;\">0</td><td style = \"text-align: right;\">0</td><td style = \"text-align: right;\">0</td><td style = \"text-align: right;\">0</td><td style = \"text-align: right;\">0</td><td style = \"text-align: right;\">0</td><td style = \"text-align: right;\">0</td></tr><tr><td class = \"rowNumber\" style = \"font-weight: bold; text-align: right;\">6</td><td style = \"text-align: left;\">111D</td><td style = \"text-align: left;\">[0, 0, 0, 0, 0, 0, 0, 0, 0, 0, 0, 0]</td><td style = \"text-align: right;\">0</td><td style = \"text-align: right;\">0</td><td style = \"text-align: right;\">0</td><td style = \"text-align: right;\">0</td><td style = \"text-align: right;\">0</td><td style = \"text-align: right;\">0</td><td style = \"text-align: right;\">0</td><td style = \"text-align: right;\">0</td><td style = \"text-align: right;\">0</td></tr><tr><td class = \"rowNumber\" style = \"font-weight: bold; text-align: right;\">7</td><td style = \"text-align: left;\">210</td><td style = \"text-align: left;\">[1190, 5809, 2967, 4945, 2142, 4847, 6584, 259399, 352, 3083, 6584, 85942]</td><td style = \"text-align: right;\">88390</td><td style = \"text-align: right;\">2374</td><td style = \"text-align: right;\">95961</td><td style = \"text-align: right;\">88390</td><td style = \"text-align: right;\">88353</td><td style = \"text-align: right;\">287883</td><td style = \"text-align: right;\">89025</td><td style = \"text-align: right;\">9667</td><td style = \"text-align: right;\">95961</td></tr><tr><td class = \"rowNumber\" style = \"font-weight: bold; text-align: right;\">8</td><td style = \"text-align: left;\">003</td><td style = \"text-align: left;\">[0, 0, 0, 0, 0, 0, 0, 0, 0, 0, 0, 0]</td><td style = \"text-align: right;\">0</td><td style = \"text-align: right;\">0</td><td style = \"text-align: right;\">0</td><td style = \"text-align: right;\">0</td><td style = \"text-align: right;\">0</td><td style = \"text-align: right;\">0</td><td style = \"text-align: right;\">0</td><td style = \"text-align: right;\">0</td><td style = \"text-align: right;\">0</td></tr><tr><td class = \"rowNumber\" style = \"font-weight: bold; text-align: right;\">9</td><td style = \"text-align: left;\">012</td><td style = \"text-align: left;\">[0, 0, 0, 0, 0, 0, 0, 0, 0, 0, 0, 0]</td><td style = \"text-align: right;\">0</td><td style = \"text-align: right;\">0</td><td style = \"text-align: right;\">0</td><td style = \"text-align: right;\">0</td><td style = \"text-align: right;\">0</td><td style = \"text-align: right;\">0</td><td style = \"text-align: right;\">0</td><td style = \"text-align: right;\">0</td><td style = \"text-align: right;\">0</td></tr><tr><td class = \"rowNumber\" style = \"font-weight: bold; text-align: right;\">10</td><td style = \"text-align: left;\">021D</td><td style = \"text-align: left;\">[0, 0, 0, 0, 0, 0, 0, 0, 0, 0, 0, 0]</td><td style = \"text-align: right;\">0</td><td style = \"text-align: right;\">0</td><td style = \"text-align: right;\">0</td><td style = \"text-align: right;\">0</td><td style = \"text-align: right;\">0</td><td style = \"text-align: right;\">0</td><td style = \"text-align: right;\">0</td><td style = \"text-align: right;\">0</td><td style = \"text-align: right;\">0</td></tr><tr><td class = \"rowNumber\" style = \"font-weight: bold; text-align: right;\">11</td><td style = \"text-align: left;\">030T</td><td style = \"text-align: left;\">[9540, 32332, 8031, 16002, 13161, 9301, 16338, 136433, 0, 0, 0, 0]</td><td style = \"text-align: right;\">189957</td><td style = \"text-align: right;\">223806</td><td style = \"text-align: right;\">241138</td><td style = \"text-align: right;\">189957</td><td style = \"text-align: right;\">223806</td><td style = \"text-align: right;\">241138</td><td style = \"text-align: right;\">0</td><td style = \"text-align: right;\">0</td><td style = \"text-align: right;\">0</td></tr><tr><td class = \"rowNumber\" style = \"font-weight: bold; text-align: right;\">12</td><td style = \"text-align: left;\">021U</td><td style = \"text-align: left;\">[0, 0, 0, 0, 0, 0, 0, 0, 0, 0, 0, 0]</td><td style = \"text-align: right;\">0</td><td style = \"text-align: right;\">0</td><td style = \"text-align: right;\">0</td><td style = \"text-align: right;\">0</td><td style = \"text-align: right;\">0</td><td style = \"text-align: right;\">0</td><td style = \"text-align: right;\">0</td><td style = \"text-align: right;\">0</td><td style = \"text-align: right;\">0</td></tr><tr><td class = \"rowNumber\" style = \"font-weight: bold; text-align: right;\">13</td><td style = \"text-align: left;\">300</td><td style = \"text-align: left;\">[418, 1042, 789, 1410, 762, 1437, 1690, 394026, 129, 820, 1632, 131277]</td><td style = \"text-align: right;\">65763</td><td style = \"text-align: right;\">119</td><td style = \"text-align: right;\">66929</td><td style = \"text-align: right;\">65763</td><td style = \"text-align: right;\">65629</td><td style = \"text-align: right;\">401574</td><td style = \"text-align: right;\">65781</td><td style = \"text-align: right;\">1033</td><td style = \"text-align: right;\">133858</td></tr><tr><td class = \"rowNumber\" style = \"font-weight: bold; text-align: right;\">14</td><td style = \"text-align: left;\">102</td><td style = \"text-align: left;\">[0, 0, 0, 0, 0, 0, 0, 0, 0, 0, 0, 0]</td><td style = \"text-align: right;\">0</td><td style = \"text-align: right;\">0</td><td style = \"text-align: right;\">0</td><td style = \"text-align: right;\">0</td><td style = \"text-align: right;\">0</td><td style = \"text-align: right;\">0</td><td style = \"text-align: right;\">0</td><td style = \"text-align: right;\">0</td><td style = \"text-align: right;\">0</td></tr><tr><td class = \"rowNumber\" style = \"font-weight: bold; text-align: right;\">15</td><td style = \"text-align: left;\">021C</td><td style = \"text-align: left;\">[0, 0, 0, 0, 0, 0, 0, 0, 0, 0, 0, 0]</td><td style = \"text-align: right;\">0</td><td style = \"text-align: right;\">0</td><td style = \"text-align: right;\">0</td><td style = \"text-align: right;\">0</td><td style = \"text-align: right;\">0</td><td style = \"text-align: right;\">0</td><td style = \"text-align: right;\">0</td><td style = \"text-align: right;\">0</td><td style = \"text-align: right;\">0</td></tr><tr><td class = \"rowNumber\" style = \"font-weight: bold; text-align: right;\">16</td><td style = \"text-align: left;\">120U</td><td style = \"text-align: left;\">[2831, 5087, 3834, 3310, 7187, 5975, 7228, 136286, 0, 0, 0, 0]</td><td style = \"text-align: right;\">74916</td><td style = \"text-align: right;\">76197</td><td style = \"text-align: right;\">85869</td><td style = \"text-align: right;\">74916</td><td style = \"text-align: right;\">76197</td><td style = \"text-align: right;\">171738</td><td style = \"text-align: right;\">0</td><td style = \"text-align: right;\">0</td><td style = \"text-align: right;\">0</td></tr></tbody></table></div>"
      ],
      "text/latex": [
       "\\begin{tabular}{r|ccc}\n",
       "\t& triad & n\\_arr & \\\\\n",
       "\t\\hline\n",
       "\t& String & Array… & \\\\\n",
       "\t\\hline\n",
       "\t1 & 030C & [0, 0, 0, 0, 0, 0, 0, 0, 88, 735, 1384, 1176] & $\\dots$ \\\\\n",
       "\t2 & 111U & [0, 0, 0, 0, 0, 0, 0, 0, 0, 0, 0, 0] & $\\dots$ \\\\\n",
       "\t3 & 120D & [1186, 19320, 1399, 3783, 1633, 3549, 2051, 93693, 0, 0, 0, 0] & $\\dots$ \\\\\n",
       "\t4 & 120C & [310, 1344, 1156, 1561, 500, 413, 3381, 14313, 228, 2751, 5898, 14101] & $\\dots$ \\\\\n",
       "\t5 & 201 & [0, 0, 0, 0, 0, 0, 0, 0, 0, 0, 0, 0] & $\\dots$ \\\\\n",
       "\t6 & 111D & [0, 0, 0, 0, 0, 0, 0, 0, 0, 0, 0, 0] & $\\dots$ \\\\\n",
       "\t7 & 210 & [1190, 5809, 2967, 4945, 2142, 4847, 6584, 259399, 352, 3083, 6584, 85942] & $\\dots$ \\\\\n",
       "\t8 & 003 & [0, 0, 0, 0, 0, 0, 0, 0, 0, 0, 0, 0] & $\\dots$ \\\\\n",
       "\t9 & 012 & [0, 0, 0, 0, 0, 0, 0, 0, 0, 0, 0, 0] & $\\dots$ \\\\\n",
       "\t10 & 021D & [0, 0, 0, 0, 0, 0, 0, 0, 0, 0, 0, 0] & $\\dots$ \\\\\n",
       "\t11 & 030T & [9540, 32332, 8031, 16002, 13161, 9301, 16338, 136433, 0, 0, 0, 0] & $\\dots$ \\\\\n",
       "\t12 & 021U & [0, 0, 0, 0, 0, 0, 0, 0, 0, 0, 0, 0] & $\\dots$ \\\\\n",
       "\t13 & 300 & [418, 1042, 789, 1410, 762, 1437, 1690, 394026, 129, 820, 1632, 131277] & $\\dots$ \\\\\n",
       "\t14 & 102 & [0, 0, 0, 0, 0, 0, 0, 0, 0, 0, 0, 0] & $\\dots$ \\\\\n",
       "\t15 & 021C & [0, 0, 0, 0, 0, 0, 0, 0, 0, 0, 0, 0] & $\\dots$ \\\\\n",
       "\t16 & 120U & [2831, 5087, 3834, 3310, 7187, 5975, 7228, 136286, 0, 0, 0, 0] & $\\dots$ \\\\\n",
       "\\end{tabular}\n"
      ],
      "text/plain": [
       "\u001b[1m16×11 DataFrame\u001b[0m\n",
       "\u001b[1m Row \u001b[0m│\u001b[1m triad  \u001b[0m\u001b[1m n_arr                             \u001b[0m\u001b[1m n_bal  \u001b[0m\u001b[1m n_hier \u001b[0m\u001b[1m n_tot  \u001b[0m\u001b[1m n_tr\u001b[0m ⋯\n",
       "     │\u001b[90m String \u001b[0m\u001b[90m Array…                            \u001b[0m\u001b[90m Int64  \u001b[0m\u001b[90m Int64  \u001b[0m\u001b[90m Int64  \u001b[0m\u001b[90m Int6\u001b[0m ⋯\n",
       "─────┼──────────────────────────────────────────────────────────────────────────\n",
       "   1 │ 030C    [0, 0, 0, 0, 0, 0, 0, 0, 88, 735…    1911    2119    3383       ⋯\n",
       "   2 │ 111U    [0, 0, 0, 0, 0, 0, 0, 0, 0, 0, 0…       0       0       0\n",
       "   3 │ 120D    [1186, 19320, 1399, 3783, 1633, …   57391   58483   63307\n",
       "   4 │ 120C    [310, 1344, 1156, 1561, 500, 413…   16548    7198   22978\n",
       "   5 │ 201     [0, 0, 0, 0, 0, 0, 0, 0, 0, 0, 0…       0       0       0       ⋯\n",
       "   6 │ 111D    [0, 0, 0, 0, 0, 0, 0, 0, 0, 0, 0…       0       0       0\n",
       "   7 │ 210     [1190, 5809, 2967, 4945, 2142, 4…   88390    2374   95961\n",
       "   8 │ 003     [0, 0, 0, 0, 0, 0, 0, 0, 0, 0, 0…       0       0       0\n",
       "   9 │ 012     [0, 0, 0, 0, 0, 0, 0, 0, 0, 0, 0…       0       0       0       ⋯\n",
       "  10 │ 021D    [0, 0, 0, 0, 0, 0, 0, 0, 0, 0, 0…       0       0       0\n",
       "  11 │ 030T    [9540, 32332, 8031, 16002, 13161…  189957  223806  241138\n",
       "  12 │ 021U    [0, 0, 0, 0, 0, 0, 0, 0, 0, 0, 0…       0       0       0\n",
       "  13 │ 300     [418, 1042, 789, 1410, 762, 1437…   65763     119   66929       ⋯\n",
       "  14 │ 102     [0, 0, 0, 0, 0, 0, 0, 0, 0, 0, 0…       0       0       0\n",
       "  15 │ 021C    [0, 0, 0, 0, 0, 0, 0, 0, 0, 0, 0…       0       0       0\n",
       "  16 │ 120U    [2831, 5087, 3834, 3310, 7187, 5…   74916   76197   85869\n",
       "\u001b[36m                                                               6 columns omitted\u001b[0m"
      ]
     },
     "metadata": {},
     "output_type": "display_data"
    }
   ],
   "source": [
    "# create dataframe from dicts\n",
    "\n",
    "df_cyclic_n_arr = DataFrame(triad = collect(keys(n_arr_dict)), n_arr = collect(values(n_arr_dict)),\n",
    "                     n_bal = collect(values(n_bal_dict)), n_hier = collect(values(n_hier_dict)),\n",
    "                     n_tot = collect(values(n_tot_dict)), n_trans_bal = collect(values(n_trans_bal_dict)), \n",
    "                     n_trans_hier = collect(values(n_trans_hier_dict)), n_trans_tot = collect(values(n_trans_tot_dict)), \n",
    "                     n_cyclic_bal = collect(values(n_cyclic_bal_dict)), n_cyclic_hier = collect(values(n_cyclic_hier_dict)),\n",
    "                        n_cyclic_tot = collect(values(n_cyclic_tot_dict)))"
   ]
  },
  {
   "cell_type": "code",
   "execution_count": 41,
   "metadata": {},
   "outputs": [
    {
     "data": {
      "text/html": [
       "<div><div style = \"float: left;\"><span>16×23 DataFrame</span></div><div style = \"clear: both;\"></div></div><div class = \"data-frame\" style = \"overflow-x: scroll;\"><table class = \"data-frame\" style = \"margin-bottom: 6px;\"><thead><tr class = \"header\"><th class = \"rowNumber\" style = \"font-weight: bold; text-align: right;\">Row</th><th style = \"text-align: left;\">triad</th><th style = \"text-align: left;\">n_arr</th><th style = \"text-align: left;\">n_bal</th><th style = \"text-align: left;\">n_hier</th><th style = \"text-align: left;\">n_tot</th><th style = \"text-align: left;\">n_trans_bal</th><th style = \"text-align: left;\">n_trans_hier</th><th style = \"text-align: left;\">n_trans_tot</th><th style = \"text-align: left;\">n_cyclic_bal</th><th style = \"text-align: left;\">n_cyclic_hier</th><th style = \"text-align: left;\">n_cyclic_tot</th><th style = \"text-align: left;\">per_bal</th><th style = \"text-align: left;\">per_hier</th><th style = \"text-align: left;\">per_trans_bal</th><th style = \"text-align: left;\">per_trans_hier</th><th style = \"text-align: left;\">per_cyclic_bal</th><th style = \"text-align: left;\">per_cyclic_hier</th><th style = \"text-align: left;\">per_trans_bal_sep</th><th style = \"text-align: left;\">per_cyclic_bal_sep</th><th style = \"text-align: left;\">per_trans_hier_sep</th><th style = \"text-align: left;\">per_cyclic_hier_sep</th><th style = \"text-align: left;\">per_bal_sep</th><th style = \"text-align: left;\">per_hier_sep</th></tr><tr class = \"subheader headerLastRow\"><th class = \"rowNumber\" style = \"font-weight: bold; text-align: right;\"></th><th title = \"String\" style = \"text-align: left;\">String</th><th title = \"Vector{Int64}\" style = \"text-align: left;\">Array…</th><th title = \"Int64\" style = \"text-align: left;\">Int64</th><th title = \"Int64\" style = \"text-align: left;\">Int64</th><th title = \"Int64\" style = \"text-align: left;\">Int64</th><th title = \"Int64\" style = \"text-align: left;\">Int64</th><th title = \"Int64\" style = \"text-align: left;\">Int64</th><th title = \"Int64\" style = \"text-align: left;\">Int64</th><th title = \"Int64\" style = \"text-align: left;\">Int64</th><th title = \"Int64\" style = \"text-align: left;\">Int64</th><th title = \"Int64\" style = \"text-align: left;\">Int64</th><th title = \"Float64\" style = \"text-align: left;\">Float64</th><th title = \"Float64\" style = \"text-align: left;\">Float64</th><th title = \"Float64\" style = \"text-align: left;\">Float64</th><th title = \"Float64\" style = \"text-align: left;\">Float64</th><th title = \"Float64\" style = \"text-align: left;\">Float64</th><th title = \"Float64\" style = \"text-align: left;\">Float64</th><th title = \"Float64\" style = \"text-align: left;\">Float64</th><th title = \"Float64\" style = \"text-align: left;\">Float64</th><th title = \"Float64\" style = \"text-align: left;\">Float64</th><th title = \"Float64\" style = \"text-align: left;\">Float64</th><th title = \"Float64\" style = \"text-align: left;\">Float64</th><th title = \"Float64\" style = \"text-align: left;\">Float64</th></tr></thead><tbody><tr><td class = \"rowNumber\" style = \"font-weight: bold; text-align: right;\">1</td><td style = \"text-align: left;\">030C</td><td style = \"text-align: left;\">[0, 0, 0, 0, 0, 0, 0, 0, 88, 735, 1384, 1176]</td><td style = \"text-align: right;\">1911</td><td style = \"text-align: right;\">2119</td><td style = \"text-align: right;\">3383</td><td style = \"text-align: right;\">0</td><td style = \"text-align: right;\">0</td><td style = \"text-align: right;\">0</td><td style = \"text-align: right;\">1911</td><td style = \"text-align: right;\">2119</td><td style = \"text-align: right;\">3383</td><td style = \"text-align: right;\">0.564883</td><td style = \"text-align: right;\">0.626367</td><td style = \"text-align: right;\">0.0</td><td style = \"text-align: right;\">0.0</td><td style = \"text-align: right;\">0.564883</td><td style = \"text-align: right;\">0.626367</td><td style = \"text-align: right;\">NaN</td><td style = \"text-align: right;\">0.564883</td><td style = \"text-align: right;\">NaN</td><td style = \"text-align: right;\">0.626367</td><td style = \"text-align: right;\">0.564883</td><td style = \"text-align: right;\">0.626367</td></tr><tr><td class = \"rowNumber\" style = \"font-weight: bold; text-align: right;\">2</td><td style = \"text-align: left;\">111U</td><td style = \"text-align: left;\">[0, 0, 0, 0, 0, 0, 0, 0, 0, 0, 0, 0]</td><td style = \"text-align: right;\">0</td><td style = \"text-align: right;\">0</td><td style = \"text-align: right;\">0</td><td style = \"text-align: right;\">0</td><td style = \"text-align: right;\">0</td><td style = \"text-align: right;\">0</td><td style = \"text-align: right;\">0</td><td style = \"text-align: right;\">0</td><td style = \"text-align: right;\">0</td><td style = \"text-align: right;\">NaN</td><td style = \"text-align: right;\">NaN</td><td style = \"text-align: right;\">NaN</td><td style = \"text-align: right;\">NaN</td><td style = \"text-align: right;\">NaN</td><td style = \"text-align: right;\">NaN</td><td style = \"text-align: right;\">NaN</td><td style = \"text-align: right;\">NaN</td><td style = \"text-align: right;\">NaN</td><td style = \"text-align: right;\">NaN</td><td style = \"text-align: right;\">NaN</td><td style = \"text-align: right;\">NaN</td></tr><tr><td class = \"rowNumber\" style = \"font-weight: bold; text-align: right;\">3</td><td style = \"text-align: left;\">120D</td><td style = \"text-align: left;\">[1186, 19320, 1399, 3783, 1633, 3549, 2051, 93693, 0, 0, 0, 0]</td><td style = \"text-align: right;\">57391</td><td style = \"text-align: right;\">58483</td><td style = \"text-align: right;\">63307</td><td style = \"text-align: right;\">57391</td><td style = \"text-align: right;\">58483</td><td style = \"text-align: right;\">126614</td><td style = \"text-align: right;\">0</td><td style = \"text-align: right;\">0</td><td style = \"text-align: right;\">0</td><td style = \"text-align: right;\">0.906551</td><td style = \"text-align: right;\">0.9238</td><td style = \"text-align: right;\">0.906551</td><td style = \"text-align: right;\">0.9238</td><td style = \"text-align: right;\">0.0</td><td style = \"text-align: right;\">0.0</td><td style = \"text-align: right;\">0.916526</td><td style = \"text-align: right;\">NaN</td><td style = \"text-align: right;\">0.960921</td><td style = \"text-align: right;\">NaN</td><td style = \"text-align: right;\">0.916526</td><td style = \"text-align: right;\">0.960921</td></tr><tr><td class = \"rowNumber\" style = \"font-weight: bold; text-align: right;\">4</td><td style = \"text-align: left;\">120C</td><td style = \"text-align: left;\">[310, 1344, 1156, 1561, 500, 413, 3381, 14313, 228, 2751, 5898, 14101]</td><td style = \"text-align: right;\">16548</td><td style = \"text-align: right;\">7198</td><td style = \"text-align: right;\">22978</td><td style = \"text-align: right;\">17313</td><td style = \"text-align: right;\">21409</td><td style = \"text-align: right;\">22978</td><td style = \"text-align: right;\">16852</td><td style = \"text-align: right;\">8649</td><td style = \"text-align: right;\">22978</td><td style = \"text-align: right;\">0.720167</td><td style = \"text-align: right;\">0.313256</td><td style = \"text-align: right;\">0.75346</td><td style = \"text-align: right;\">0.931717</td><td style = \"text-align: right;\">0.733397</td><td style = \"text-align: right;\">0.376404</td><td style = \"text-align: right;\">0.75346</td><td style = \"text-align: right;\">0.733397</td><td style = \"text-align: right;\">0.931717</td><td style = \"text-align: right;\">0.376404</td><td style = \"text-align: right;\">0.743428</td><td style = \"text-align: right;\">0.65406</td></tr><tr><td class = \"rowNumber\" style = \"font-weight: bold; text-align: right;\">5</td><td style = \"text-align: left;\">201</td><td style = \"text-align: left;\">[0, 0, 0, 0, 0, 0, 0, 0, 0, 0, 0, 0]</td><td style = \"text-align: right;\">0</td><td style = \"text-align: right;\">0</td><td style = \"text-align: right;\">0</td><td style = \"text-align: right;\">0</td><td style = \"text-align: right;\">0</td><td style = \"text-align: right;\">0</td><td style = \"text-align: right;\">0</td><td style = \"text-align: right;\">0</td><td style = \"text-align: right;\">0</td><td style = \"text-align: right;\">NaN</td><td style = \"text-align: right;\">NaN</td><td style = \"text-align: right;\">NaN</td><td style = \"text-align: right;\">NaN</td><td style = \"text-align: right;\">NaN</td><td style = \"text-align: right;\">NaN</td><td style = \"text-align: right;\">NaN</td><td style = \"text-align: right;\">NaN</td><td style = \"text-align: right;\">NaN</td><td style = \"text-align: right;\">NaN</td><td style = \"text-align: right;\">NaN</td><td style = \"text-align: right;\">NaN</td></tr><tr><td class = \"rowNumber\" style = \"font-weight: bold; text-align: right;\">6</td><td style = \"text-align: left;\">111D</td><td style = \"text-align: left;\">[0, 0, 0, 0, 0, 0, 0, 0, 0, 0, 0, 0]</td><td style = \"text-align: right;\">0</td><td style = \"text-align: right;\">0</td><td style = \"text-align: right;\">0</td><td style = \"text-align: right;\">0</td><td style = \"text-align: right;\">0</td><td style = \"text-align: right;\">0</td><td style = \"text-align: right;\">0</td><td style = \"text-align: right;\">0</td><td style = \"text-align: right;\">0</td><td style = \"text-align: right;\">NaN</td><td style = \"text-align: right;\">NaN</td><td style = \"text-align: right;\">NaN</td><td style = \"text-align: right;\">NaN</td><td style = \"text-align: right;\">NaN</td><td style = \"text-align: right;\">NaN</td><td style = \"text-align: right;\">NaN</td><td style = \"text-align: right;\">NaN</td><td style = \"text-align: right;\">NaN</td><td style = \"text-align: right;\">NaN</td><td style = \"text-align: right;\">NaN</td><td style = \"text-align: right;\">NaN</td></tr><tr><td class = \"rowNumber\" style = \"font-weight: bold; text-align: right;\">7</td><td style = \"text-align: left;\">210</td><td style = \"text-align: left;\">[1190, 5809, 2967, 4945, 2142, 4847, 6584, 259399, 352, 3083, 6584, 85942]</td><td style = \"text-align: right;\">88390</td><td style = \"text-align: right;\">2374</td><td style = \"text-align: right;\">95961</td><td style = \"text-align: right;\">88390</td><td style = \"text-align: right;\">88353</td><td style = \"text-align: right;\">287883</td><td style = \"text-align: right;\">89025</td><td style = \"text-align: right;\">9667</td><td style = \"text-align: right;\">95961</td><td style = \"text-align: right;\">0.921103</td><td style = \"text-align: right;\">0.0247392</td><td style = \"text-align: right;\">0.921103</td><td style = \"text-align: right;\">0.920718</td><td style = \"text-align: right;\">0.927721</td><td style = \"text-align: right;\">0.100739</td><td style = \"text-align: right;\">0.938982</td><td style = \"text-align: right;\">0.927721</td><td style = \"text-align: right;\">0.972857</td><td style = \"text-align: right;\">0.100739</td><td style = \"text-align: right;\">0.936167</td><td style = \"text-align: right;\">0.754827</td></tr><tr><td class = \"rowNumber\" style = \"font-weight: bold; text-align: right;\">8</td><td style = \"text-align: left;\">003</td><td style = \"text-align: left;\">[0, 0, 0, 0, 0, 0, 0, 0, 0, 0, 0, 0]</td><td style = \"text-align: right;\">0</td><td style = \"text-align: right;\">0</td><td style = \"text-align: right;\">0</td><td style = \"text-align: right;\">0</td><td style = \"text-align: right;\">0</td><td style = \"text-align: right;\">0</td><td style = \"text-align: right;\">0</td><td style = \"text-align: right;\">0</td><td style = \"text-align: right;\">0</td><td style = \"text-align: right;\">NaN</td><td style = \"text-align: right;\">NaN</td><td style = \"text-align: right;\">NaN</td><td style = \"text-align: right;\">NaN</td><td style = \"text-align: right;\">NaN</td><td style = \"text-align: right;\">NaN</td><td style = \"text-align: right;\">NaN</td><td style = \"text-align: right;\">NaN</td><td style = \"text-align: right;\">NaN</td><td style = \"text-align: right;\">NaN</td><td style = \"text-align: right;\">NaN</td><td style = \"text-align: right;\">NaN</td></tr><tr><td class = \"rowNumber\" style = \"font-weight: bold; text-align: right;\">9</td><td style = \"text-align: left;\">012</td><td style = \"text-align: left;\">[0, 0, 0, 0, 0, 0, 0, 0, 0, 0, 0, 0]</td><td style = \"text-align: right;\">0</td><td style = \"text-align: right;\">0</td><td style = \"text-align: right;\">0</td><td style = \"text-align: right;\">0</td><td style = \"text-align: right;\">0</td><td style = \"text-align: right;\">0</td><td style = \"text-align: right;\">0</td><td style = \"text-align: right;\">0</td><td style = \"text-align: right;\">0</td><td style = \"text-align: right;\">NaN</td><td style = \"text-align: right;\">NaN</td><td style = \"text-align: right;\">NaN</td><td style = \"text-align: right;\">NaN</td><td style = \"text-align: right;\">NaN</td><td style = \"text-align: right;\">NaN</td><td style = \"text-align: right;\">NaN</td><td style = \"text-align: right;\">NaN</td><td style = \"text-align: right;\">NaN</td><td style = \"text-align: right;\">NaN</td><td style = \"text-align: right;\">NaN</td><td style = \"text-align: right;\">NaN</td></tr><tr><td class = \"rowNumber\" style = \"font-weight: bold; text-align: right;\">10</td><td style = \"text-align: left;\">021D</td><td style = \"text-align: left;\">[0, 0, 0, 0, 0, 0, 0, 0, 0, 0, 0, 0]</td><td style = \"text-align: right;\">0</td><td style = \"text-align: right;\">0</td><td style = \"text-align: right;\">0</td><td style = \"text-align: right;\">0</td><td style = \"text-align: right;\">0</td><td style = \"text-align: right;\">0</td><td style = \"text-align: right;\">0</td><td style = \"text-align: right;\">0</td><td style = \"text-align: right;\">0</td><td style = \"text-align: right;\">NaN</td><td style = \"text-align: right;\">NaN</td><td style = \"text-align: right;\">NaN</td><td style = \"text-align: right;\">NaN</td><td style = \"text-align: right;\">NaN</td><td style = \"text-align: right;\">NaN</td><td style = \"text-align: right;\">NaN</td><td style = \"text-align: right;\">NaN</td><td style = \"text-align: right;\">NaN</td><td style = \"text-align: right;\">NaN</td><td style = \"text-align: right;\">NaN</td><td style = \"text-align: right;\">NaN</td></tr><tr><td class = \"rowNumber\" style = \"font-weight: bold; text-align: right;\">11</td><td style = \"text-align: left;\">030T</td><td style = \"text-align: left;\">[9540, 32332, 8031, 16002, 13161, 9301, 16338, 136433, 0, 0, 0, 0]</td><td style = \"text-align: right;\">189957</td><td style = \"text-align: right;\">223806</td><td style = \"text-align: right;\">241138</td><td style = \"text-align: right;\">189957</td><td style = \"text-align: right;\">223806</td><td style = \"text-align: right;\">241138</td><td style = \"text-align: right;\">0</td><td style = \"text-align: right;\">0</td><td style = \"text-align: right;\">0</td><td style = \"text-align: right;\">0.787752</td><td style = \"text-align: right;\">0.928124</td><td style = \"text-align: right;\">0.787752</td><td style = \"text-align: right;\">0.928124</td><td style = \"text-align: right;\">0.0</td><td style = \"text-align: right;\">0.0</td><td style = \"text-align: right;\">0.787752</td><td style = \"text-align: right;\">NaN</td><td style = \"text-align: right;\">0.928124</td><td style = \"text-align: right;\">NaN</td><td style = \"text-align: right;\">0.787752</td><td style = \"text-align: right;\">0.928124</td></tr><tr><td class = \"rowNumber\" style = \"font-weight: bold; text-align: right;\">12</td><td style = \"text-align: left;\">021U</td><td style = \"text-align: left;\">[0, 0, 0, 0, 0, 0, 0, 0, 0, 0, 0, 0]</td><td style = \"text-align: right;\">0</td><td style = \"text-align: right;\">0</td><td style = \"text-align: right;\">0</td><td style = \"text-align: right;\">0</td><td style = \"text-align: right;\">0</td><td style = \"text-align: right;\">0</td><td style = \"text-align: right;\">0</td><td style = \"text-align: right;\">0</td><td style = \"text-align: right;\">0</td><td style = \"text-align: right;\">NaN</td><td style = \"text-align: right;\">NaN</td><td style = \"text-align: right;\">NaN</td><td style = \"text-align: right;\">NaN</td><td style = \"text-align: right;\">NaN</td><td style = \"text-align: right;\">NaN</td><td style = \"text-align: right;\">NaN</td><td style = \"text-align: right;\">NaN</td><td style = \"text-align: right;\">NaN</td><td style = \"text-align: right;\">NaN</td><td style = \"text-align: right;\">NaN</td><td style = \"text-align: right;\">NaN</td></tr><tr><td class = \"rowNumber\" style = \"font-weight: bold; text-align: right;\">13</td><td style = \"text-align: left;\">300</td><td style = \"text-align: left;\">[418, 1042, 789, 1410, 762, 1437, 1690, 394026, 129, 820, 1632, 131277]</td><td style = \"text-align: right;\">65763</td><td style = \"text-align: right;\">119</td><td style = \"text-align: right;\">66929</td><td style = \"text-align: right;\">65763</td><td style = \"text-align: right;\">65629</td><td style = \"text-align: right;\">401574</td><td style = \"text-align: right;\">65781</td><td style = \"text-align: right;\">1033</td><td style = \"text-align: right;\">133858</td><td style = \"text-align: right;\">0.982579</td><td style = \"text-align: right;\">0.001778</td><td style = \"text-align: right;\">0.982579</td><td style = \"text-align: right;\">0.980576</td><td style = \"text-align: right;\">0.982847</td><td style = \"text-align: right;\">0.0154343</td><td style = \"text-align: right;\">0.987661</td><td style = \"text-align: right;\">0.986844</td><td style = \"text-align: right;\">0.994457</td><td style = \"text-align: right;\">0.0183179</td><td style = \"text-align: right;\">0.987457</td><td style = \"text-align: right;\">0.750422</td></tr><tr><td class = \"rowNumber\" style = \"font-weight: bold; text-align: right;\">14</td><td style = \"text-align: left;\">102</td><td style = \"text-align: left;\">[0, 0, 0, 0, 0, 0, 0, 0, 0, 0, 0, 0]</td><td style = \"text-align: right;\">0</td><td style = \"text-align: right;\">0</td><td style = \"text-align: right;\">0</td><td style = \"text-align: right;\">0</td><td style = \"text-align: right;\">0</td><td style = \"text-align: right;\">0</td><td style = \"text-align: right;\">0</td><td style = \"text-align: right;\">0</td><td style = \"text-align: right;\">0</td><td style = \"text-align: right;\">NaN</td><td style = \"text-align: right;\">NaN</td><td style = \"text-align: right;\">NaN</td><td style = \"text-align: right;\">NaN</td><td style = \"text-align: right;\">NaN</td><td style = \"text-align: right;\">NaN</td><td style = \"text-align: right;\">NaN</td><td style = \"text-align: right;\">NaN</td><td style = \"text-align: right;\">NaN</td><td style = \"text-align: right;\">NaN</td><td style = \"text-align: right;\">NaN</td><td style = \"text-align: right;\">NaN</td></tr><tr><td class = \"rowNumber\" style = \"font-weight: bold; text-align: right;\">15</td><td style = \"text-align: left;\">021C</td><td style = \"text-align: left;\">[0, 0, 0, 0, 0, 0, 0, 0, 0, 0, 0, 0]</td><td style = \"text-align: right;\">0</td><td style = \"text-align: right;\">0</td><td style = \"text-align: right;\">0</td><td style = \"text-align: right;\">0</td><td style = \"text-align: right;\">0</td><td style = \"text-align: right;\">0</td><td style = \"text-align: right;\">0</td><td style = \"text-align: right;\">0</td><td style = \"text-align: right;\">0</td><td style = \"text-align: right;\">NaN</td><td style = \"text-align: right;\">NaN</td><td style = \"text-align: right;\">NaN</td><td style = \"text-align: right;\">NaN</td><td style = \"text-align: right;\">NaN</td><td style = \"text-align: right;\">NaN</td><td style = \"text-align: right;\">NaN</td><td style = \"text-align: right;\">NaN</td><td style = \"text-align: right;\">NaN</td><td style = \"text-align: right;\">NaN</td><td style = \"text-align: right;\">NaN</td><td style = \"text-align: right;\">NaN</td></tr><tr><td class = \"rowNumber\" style = \"font-weight: bold; text-align: right;\">16</td><td style = \"text-align: left;\">120U</td><td style = \"text-align: left;\">[2831, 5087, 3834, 3310, 7187, 5975, 7228, 136286, 0, 0, 0, 0]</td><td style = \"text-align: right;\">74916</td><td style = \"text-align: right;\">76197</td><td style = \"text-align: right;\">85869</td><td style = \"text-align: right;\">74916</td><td style = \"text-align: right;\">76197</td><td style = \"text-align: right;\">171738</td><td style = \"text-align: right;\">0</td><td style = \"text-align: right;\">0</td><td style = \"text-align: right;\">0</td><td style = \"text-align: right;\">0.872445</td><td style = \"text-align: right;\">0.887363</td><td style = \"text-align: right;\">0.872445</td><td style = \"text-align: right;\">0.887363</td><td style = \"text-align: right;\">0.0</td><td style = \"text-align: right;\">0.0</td><td style = \"text-align: right;\">0.887363</td><td style = \"text-align: right;\">NaN</td><td style = \"text-align: right;\">0.942884</td><td style = \"text-align: right;\">NaN</td><td style = \"text-align: right;\">0.887363</td><td style = \"text-align: right;\">0.942884</td></tr></tbody></table></div>"
      ],
      "text/latex": [
       "\\begin{tabular}{r|ccc}\n",
       "\t& triad & n\\_arr & \\\\\n",
       "\t\\hline\n",
       "\t& String & Array… & \\\\\n",
       "\t\\hline\n",
       "\t1 & 030C & [0, 0, 0, 0, 0, 0, 0, 0, 88, 735, 1384, 1176] & $\\dots$ \\\\\n",
       "\t2 & 111U & [0, 0, 0, 0, 0, 0, 0, 0, 0, 0, 0, 0] & $\\dots$ \\\\\n",
       "\t3 & 120D & [1186, 19320, 1399, 3783, 1633, 3549, 2051, 93693, 0, 0, 0, 0] & $\\dots$ \\\\\n",
       "\t4 & 120C & [310, 1344, 1156, 1561, 500, 413, 3381, 14313, 228, 2751, 5898, 14101] & $\\dots$ \\\\\n",
       "\t5 & 201 & [0, 0, 0, 0, 0, 0, 0, 0, 0, 0, 0, 0] & $\\dots$ \\\\\n",
       "\t6 & 111D & [0, 0, 0, 0, 0, 0, 0, 0, 0, 0, 0, 0] & $\\dots$ \\\\\n",
       "\t7 & 210 & [1190, 5809, 2967, 4945, 2142, 4847, 6584, 259399, 352, 3083, 6584, 85942] & $\\dots$ \\\\\n",
       "\t8 & 003 & [0, 0, 0, 0, 0, 0, 0, 0, 0, 0, 0, 0] & $\\dots$ \\\\\n",
       "\t9 & 012 & [0, 0, 0, 0, 0, 0, 0, 0, 0, 0, 0, 0] & $\\dots$ \\\\\n",
       "\t10 & 021D & [0, 0, 0, 0, 0, 0, 0, 0, 0, 0, 0, 0] & $\\dots$ \\\\\n",
       "\t11 & 030T & [9540, 32332, 8031, 16002, 13161, 9301, 16338, 136433, 0, 0, 0, 0] & $\\dots$ \\\\\n",
       "\t12 & 021U & [0, 0, 0, 0, 0, 0, 0, 0, 0, 0, 0, 0] & $\\dots$ \\\\\n",
       "\t13 & 300 & [418, 1042, 789, 1410, 762, 1437, 1690, 394026, 129, 820, 1632, 131277] & $\\dots$ \\\\\n",
       "\t14 & 102 & [0, 0, 0, 0, 0, 0, 0, 0, 0, 0, 0, 0] & $\\dots$ \\\\\n",
       "\t15 & 021C & [0, 0, 0, 0, 0, 0, 0, 0, 0, 0, 0, 0] & $\\dots$ \\\\\n",
       "\t16 & 120U & [2831, 5087, 3834, 3310, 7187, 5975, 7228, 136286, 0, 0, 0, 0] & $\\dots$ \\\\\n",
       "\\end{tabular}\n"
      ],
      "text/plain": [
       "\u001b[1m16×23 DataFrame\u001b[0m\n",
       "\u001b[1m Row \u001b[0m│\u001b[1m triad  \u001b[0m\u001b[1m n_arr                             \u001b[0m\u001b[1m n_bal  \u001b[0m\u001b[1m n_hier \u001b[0m\u001b[1m n_tot  \u001b[0m\u001b[1m n_tr\u001b[0m ⋯\n",
       "     │\u001b[90m String \u001b[0m\u001b[90m Array…                            \u001b[0m\u001b[90m Int64  \u001b[0m\u001b[90m Int64  \u001b[0m\u001b[90m Int64  \u001b[0m\u001b[90m Int6\u001b[0m ⋯\n",
       "─────┼──────────────────────────────────────────────────────────────────────────\n",
       "   1 │ 030C    [0, 0, 0, 0, 0, 0, 0, 0, 88, 735…    1911    2119    3383       ⋯\n",
       "   2 │ 111U    [0, 0, 0, 0, 0, 0, 0, 0, 0, 0, 0…       0       0       0\n",
       "   3 │ 120D    [1186, 19320, 1399, 3783, 1633, …   57391   58483   63307\n",
       "   4 │ 120C    [310, 1344, 1156, 1561, 500, 413…   16548    7198   22978\n",
       "   5 │ 201     [0, 0, 0, 0, 0, 0, 0, 0, 0, 0, 0…       0       0       0       ⋯\n",
       "   6 │ 111D    [0, 0, 0, 0, 0, 0, 0, 0, 0, 0, 0…       0       0       0\n",
       "   7 │ 210     [1190, 5809, 2967, 4945, 2142, 4…   88390    2374   95961\n",
       "   8 │ 003     [0, 0, 0, 0, 0, 0, 0, 0, 0, 0, 0…       0       0       0\n",
       "   9 │ 012     [0, 0, 0, 0, 0, 0, 0, 0, 0, 0, 0…       0       0       0       ⋯\n",
       "  10 │ 021D    [0, 0, 0, 0, 0, 0, 0, 0, 0, 0, 0…       0       0       0\n",
       "  11 │ 030T    [9540, 32332, 8031, 16002, 13161…  189957  223806  241138\n",
       "  12 │ 021U    [0, 0, 0, 0, 0, 0, 0, 0, 0, 0, 0…       0       0       0\n",
       "  13 │ 300     [418, 1042, 789, 1410, 762, 1437…   65763     119   66929       ⋯\n",
       "  14 │ 102     [0, 0, 0, 0, 0, 0, 0, 0, 0, 0, 0…       0       0       0\n",
       "  15 │ 021C    [0, 0, 0, 0, 0, 0, 0, 0, 0, 0, 0…       0       0       0\n",
       "  16 │ 120U    [2831, 5087, 3834, 3310, 7187, 5…   74916   76197   85869\n",
       "\u001b[36m                                                              18 columns omitted\u001b[0m"
      ]
     },
     "metadata": {},
     "output_type": "display_data"
    }
   ],
   "source": [
    "df_cyclic_n_arr.per_bal = df_cyclic_n_arr.n_bal ./ df_cyclic_n_arr.n_tot\n",
    "df_cyclic_n_arr.per_hier = df_cyclic_n_arr.n_hier ./ df_cyclic_n_arr.n_tot\n",
    "df_cyclic_n_arr.per_trans_bal = df_cyclic_n_arr.n_trans_bal ./ df_cyclic_n_arr.n_tot\n",
    "df_cyclic_n_arr.per_trans_hier = df_cyclic_n_arr.n_trans_hier ./ df_cyclic_n_arr.n_tot\n",
    "df_cyclic_n_arr.per_cyclic_bal = df_cyclic_n_arr.n_cyclic_bal ./ df_cyclic_n_arr.n_tot\n",
    "df_cyclic_n_arr.per_cyclic_hier = df_cyclic_n_arr.n_cyclic_hier ./ df_cyclic_n_arr.n_tot\n",
    "df_cyclic_n_arr.per_trans_bal_sep = [sum(n_arr[[2, 3, 5, 8]]) / n_tot for (n_arr, n_tot) in zip(df_cyclic_n_arr.n_arr, df_cyclic_n_arr.n_trans_tot)]\n",
    "df_cyclic_n_arr.per_cyclic_bal_sep = [sum(n_arr[[10, 12]]) / n_tot for (n_arr, n_tot) in zip(df_cyclic_n_arr.n_arr, df_cyclic_n_arr.n_cyclic_tot)]\n",
    "df_cyclic_n_arr.per_trans_hier_sep = [1 - sum(n_arr[[3,6]]) / n_tot for (n_arr, n_tot) in zip(df_cyclic_n_arr.n_arr, df_cyclic_n_arr.n_trans_tot)]\n",
    "df_cyclic_n_arr.per_cyclic_hier_sep = [sum(n_arr[[10, 11]]) / n_tot for (n_arr, n_tot) in zip(df_cyclic_n_arr.n_arr, df_cyclic_n_arr.n_cyclic_tot)]\n",
    "df_cyclic_n_arr.per_bal_sep = [sum(n_arr[[2, 3, 5, 8, 10, 12]]) / n_tot for (n_arr, n_tot) in zip(df_cyclic_n_arr.n_arr, df_cyclic_n_arr.n_trans_tot .+ df_cyclic_n_arr.n_cyclic_tot)]\n",
    "df_cyclic_n_arr.per_hier_sep = [1 - sum(n_arr[[3, 6, 9, 12]]) / n_tot for (n_arr, n_tot) in zip(df_cyclic_n_arr.n_arr, df_cyclic_n_arr.n_trans_tot .+ df_cyclic_n_arr.n_cyclic_tot)]\n",
    "df_cyclic_n_arr"
   ]
  },
  {
   "cell_type": "code",
   "execution_count": 50,
   "metadata": {},
   "outputs": [
    {
     "data": {
      "text/html": [
       "<div><div style = \"float: left;\"><span>16×13 DataFrame</span></div><div style = \"clear: both;\"></div></div><div class = \"data-frame\" style = \"overflow-x: scroll;\"><table class = \"data-frame\" style = \"margin-bottom: 6px;\"><thead><tr class = \"header\"><th class = \"rowNumber\" style = \"font-weight: bold; text-align: right;\">Row</th><th style = \"text-align: left;\">triad</th><th style = \"text-align: left;\">per_bal</th><th style = \"text-align: left;\">per_hier</th><th style = \"text-align: left;\">per_trans_bal</th><th style = \"text-align: left;\">per_trans_hier</th><th style = \"text-align: left;\">per_cyclic_bal</th><th style = \"text-align: left;\">per_cyclic_hier</th><th style = \"text-align: left;\">per_trans_bal_sep</th><th style = \"text-align: left;\">per_cyclic_bal_sep</th><th style = \"text-align: left;\">per_trans_hier_sep</th><th style = \"text-align: left;\">per_cyclic_hier_sep</th><th style = \"text-align: left;\">per_bal_sep</th><th style = \"text-align: left;\">per_hier_sep</th></tr><tr class = \"subheader headerLastRow\"><th class = \"rowNumber\" style = \"font-weight: bold; text-align: right;\"></th><th title = \"String\" style = \"text-align: left;\">String</th><th title = \"Float64\" style = \"text-align: left;\">Float64</th><th title = \"Float64\" style = \"text-align: left;\">Float64</th><th title = \"Float64\" style = \"text-align: left;\">Float64</th><th title = \"Float64\" style = \"text-align: left;\">Float64</th><th title = \"Float64\" style = \"text-align: left;\">Float64</th><th title = \"Float64\" style = \"text-align: left;\">Float64</th><th title = \"Float64\" style = \"text-align: left;\">Float64</th><th title = \"Float64\" style = \"text-align: left;\">Float64</th><th title = \"Float64\" style = \"text-align: left;\">Float64</th><th title = \"Float64\" style = \"text-align: left;\">Float64</th><th title = \"Float64\" style = \"text-align: left;\">Float64</th><th title = \"Float64\" style = \"text-align: left;\">Float64</th></tr></thead><tbody><tr><td class = \"rowNumber\" style = \"font-weight: bold; text-align: right;\">1</td><td style = \"text-align: left;\">030C</td><td style = \"text-align: right;\">0.564883</td><td style = \"text-align: right;\">0.626367</td><td style = \"text-align: right;\">0.0</td><td style = \"text-align: right;\">0.0</td><td style = \"text-align: right;\">0.564883</td><td style = \"text-align: right;\">0.626367</td><td style = \"text-align: right;\">NaN</td><td style = \"text-align: right;\">0.564883</td><td style = \"text-align: right;\">NaN</td><td style = \"text-align: right;\">0.626367</td><td style = \"text-align: right;\">0.564883</td><td style = \"text-align: right;\">0.626367</td></tr><tr><td class = \"rowNumber\" style = \"font-weight: bold; text-align: right;\">2</td><td style = \"text-align: left;\">111U</td><td style = \"text-align: right;\">NaN</td><td style = \"text-align: right;\">NaN</td><td style = \"text-align: right;\">NaN</td><td style = \"text-align: right;\">NaN</td><td style = \"text-align: right;\">NaN</td><td style = \"text-align: right;\">NaN</td><td style = \"text-align: right;\">NaN</td><td style = \"text-align: right;\">NaN</td><td style = \"text-align: right;\">NaN</td><td style = \"text-align: right;\">NaN</td><td style = \"text-align: right;\">NaN</td><td style = \"text-align: right;\">NaN</td></tr><tr><td class = \"rowNumber\" style = \"font-weight: bold; text-align: right;\">3</td><td style = \"text-align: left;\">120D</td><td style = \"text-align: right;\">0.906551</td><td style = \"text-align: right;\">0.9238</td><td style = \"text-align: right;\">0.906551</td><td style = \"text-align: right;\">0.9238</td><td style = \"text-align: right;\">0.0</td><td style = \"text-align: right;\">0.0</td><td style = \"text-align: right;\">0.916526</td><td style = \"text-align: right;\">NaN</td><td style = \"text-align: right;\">0.960921</td><td style = \"text-align: right;\">NaN</td><td style = \"text-align: right;\">0.916526</td><td style = \"text-align: right;\">0.960921</td></tr><tr><td class = \"rowNumber\" style = \"font-weight: bold; text-align: right;\">4</td><td style = \"text-align: left;\">120C</td><td style = \"text-align: right;\">0.720167</td><td style = \"text-align: right;\">0.313256</td><td style = \"text-align: right;\">0.75346</td><td style = \"text-align: right;\">0.931717</td><td style = \"text-align: right;\">0.733397</td><td style = \"text-align: right;\">0.376404</td><td style = \"text-align: right;\">0.75346</td><td style = \"text-align: right;\">0.733397</td><td style = \"text-align: right;\">0.931717</td><td style = \"text-align: right;\">0.376404</td><td style = \"text-align: right;\">0.743428</td><td style = \"text-align: right;\">0.65406</td></tr><tr><td class = \"rowNumber\" style = \"font-weight: bold; text-align: right;\">5</td><td style = \"text-align: left;\">201</td><td style = \"text-align: right;\">NaN</td><td style = \"text-align: right;\">NaN</td><td style = \"text-align: right;\">NaN</td><td style = \"text-align: right;\">NaN</td><td style = \"text-align: right;\">NaN</td><td style = \"text-align: right;\">NaN</td><td style = \"text-align: right;\">NaN</td><td style = \"text-align: right;\">NaN</td><td style = \"text-align: right;\">NaN</td><td style = \"text-align: right;\">NaN</td><td style = \"text-align: right;\">NaN</td><td style = \"text-align: right;\">NaN</td></tr><tr><td class = \"rowNumber\" style = \"font-weight: bold; text-align: right;\">6</td><td style = \"text-align: left;\">111D</td><td style = \"text-align: right;\">NaN</td><td style = \"text-align: right;\">NaN</td><td style = \"text-align: right;\">NaN</td><td style = \"text-align: right;\">NaN</td><td style = \"text-align: right;\">NaN</td><td style = \"text-align: right;\">NaN</td><td style = \"text-align: right;\">NaN</td><td style = \"text-align: right;\">NaN</td><td style = \"text-align: right;\">NaN</td><td style = \"text-align: right;\">NaN</td><td style = \"text-align: right;\">NaN</td><td style = \"text-align: right;\">NaN</td></tr><tr><td class = \"rowNumber\" style = \"font-weight: bold; text-align: right;\">7</td><td style = \"text-align: left;\">210</td><td style = \"text-align: right;\">0.921103</td><td style = \"text-align: right;\">0.0247392</td><td style = \"text-align: right;\">0.921103</td><td style = \"text-align: right;\">0.920718</td><td style = \"text-align: right;\">0.927721</td><td style = \"text-align: right;\">0.100739</td><td style = \"text-align: right;\">0.938982</td><td style = \"text-align: right;\">0.927721</td><td style = \"text-align: right;\">0.972857</td><td style = \"text-align: right;\">0.100739</td><td style = \"text-align: right;\">0.936167</td><td style = \"text-align: right;\">0.754827</td></tr><tr><td class = \"rowNumber\" style = \"font-weight: bold; text-align: right;\">8</td><td style = \"text-align: left;\">003</td><td style = \"text-align: right;\">NaN</td><td style = \"text-align: right;\">NaN</td><td style = \"text-align: right;\">NaN</td><td style = \"text-align: right;\">NaN</td><td style = \"text-align: right;\">NaN</td><td style = \"text-align: right;\">NaN</td><td style = \"text-align: right;\">NaN</td><td style = \"text-align: right;\">NaN</td><td style = \"text-align: right;\">NaN</td><td style = \"text-align: right;\">NaN</td><td style = \"text-align: right;\">NaN</td><td style = \"text-align: right;\">NaN</td></tr><tr><td class = \"rowNumber\" style = \"font-weight: bold; text-align: right;\">9</td><td style = \"text-align: left;\">012</td><td style = \"text-align: right;\">NaN</td><td style = \"text-align: right;\">NaN</td><td style = \"text-align: right;\">NaN</td><td style = \"text-align: right;\">NaN</td><td style = \"text-align: right;\">NaN</td><td style = \"text-align: right;\">NaN</td><td style = \"text-align: right;\">NaN</td><td style = \"text-align: right;\">NaN</td><td style = \"text-align: right;\">NaN</td><td style = \"text-align: right;\">NaN</td><td style = \"text-align: right;\">NaN</td><td style = \"text-align: right;\">NaN</td></tr><tr><td class = \"rowNumber\" style = \"font-weight: bold; text-align: right;\">10</td><td style = \"text-align: left;\">021D</td><td style = \"text-align: right;\">NaN</td><td style = \"text-align: right;\">NaN</td><td style = \"text-align: right;\">NaN</td><td style = \"text-align: right;\">NaN</td><td style = \"text-align: right;\">NaN</td><td style = \"text-align: right;\">NaN</td><td style = \"text-align: right;\">NaN</td><td style = \"text-align: right;\">NaN</td><td style = \"text-align: right;\">NaN</td><td style = \"text-align: right;\">NaN</td><td style = \"text-align: right;\">NaN</td><td style = \"text-align: right;\">NaN</td></tr><tr><td class = \"rowNumber\" style = \"font-weight: bold; text-align: right;\">11</td><td style = \"text-align: left;\">030T</td><td style = \"text-align: right;\">0.787752</td><td style = \"text-align: right;\">0.928124</td><td style = \"text-align: right;\">0.787752</td><td style = \"text-align: right;\">0.928124</td><td style = \"text-align: right;\">0.0</td><td style = \"text-align: right;\">0.0</td><td style = \"text-align: right;\">0.787752</td><td style = \"text-align: right;\">NaN</td><td style = \"text-align: right;\">0.928124</td><td style = \"text-align: right;\">NaN</td><td style = \"text-align: right;\">0.787752</td><td style = \"text-align: right;\">0.928124</td></tr><tr><td class = \"rowNumber\" style = \"font-weight: bold; text-align: right;\">12</td><td style = \"text-align: left;\">021U</td><td style = \"text-align: right;\">NaN</td><td style = \"text-align: right;\">NaN</td><td style = \"text-align: right;\">NaN</td><td style = \"text-align: right;\">NaN</td><td style = \"text-align: right;\">NaN</td><td style = \"text-align: right;\">NaN</td><td style = \"text-align: right;\">NaN</td><td style = \"text-align: right;\">NaN</td><td style = \"text-align: right;\">NaN</td><td style = \"text-align: right;\">NaN</td><td style = \"text-align: right;\">NaN</td><td style = \"text-align: right;\">NaN</td></tr><tr><td class = \"rowNumber\" style = \"font-weight: bold; text-align: right;\">13</td><td style = \"text-align: left;\">300</td><td style = \"text-align: right;\">0.982579</td><td style = \"text-align: right;\">0.001778</td><td style = \"text-align: right;\">0.982579</td><td style = \"text-align: right;\">0.980576</td><td style = \"text-align: right;\">0.982847</td><td style = \"text-align: right;\">0.0154343</td><td style = \"text-align: right;\">0.987661</td><td style = \"text-align: right;\">0.986844</td><td style = \"text-align: right;\">0.994457</td><td style = \"text-align: right;\">0.0183179</td><td style = \"text-align: right;\">0.987457</td><td style = \"text-align: right;\">0.750422</td></tr><tr><td class = \"rowNumber\" style = \"font-weight: bold; text-align: right;\">14</td><td style = \"text-align: left;\">102</td><td style = \"text-align: right;\">NaN</td><td style = \"text-align: right;\">NaN</td><td style = \"text-align: right;\">NaN</td><td style = \"text-align: right;\">NaN</td><td style = \"text-align: right;\">NaN</td><td style = \"text-align: right;\">NaN</td><td style = \"text-align: right;\">NaN</td><td style = \"text-align: right;\">NaN</td><td style = \"text-align: right;\">NaN</td><td style = \"text-align: right;\">NaN</td><td style = \"text-align: right;\">NaN</td><td style = \"text-align: right;\">NaN</td></tr><tr><td class = \"rowNumber\" style = \"font-weight: bold; text-align: right;\">15</td><td style = \"text-align: left;\">021C</td><td style = \"text-align: right;\">NaN</td><td style = \"text-align: right;\">NaN</td><td style = \"text-align: right;\">NaN</td><td style = \"text-align: right;\">NaN</td><td style = \"text-align: right;\">NaN</td><td style = \"text-align: right;\">NaN</td><td style = \"text-align: right;\">NaN</td><td style = \"text-align: right;\">NaN</td><td style = \"text-align: right;\">NaN</td><td style = \"text-align: right;\">NaN</td><td style = \"text-align: right;\">NaN</td><td style = \"text-align: right;\">NaN</td></tr><tr><td class = \"rowNumber\" style = \"font-weight: bold; text-align: right;\">16</td><td style = \"text-align: left;\">120U</td><td style = \"text-align: right;\">0.872445</td><td style = \"text-align: right;\">0.887363</td><td style = \"text-align: right;\">0.872445</td><td style = \"text-align: right;\">0.887363</td><td style = \"text-align: right;\">0.0</td><td style = \"text-align: right;\">0.0</td><td style = \"text-align: right;\">0.887363</td><td style = \"text-align: right;\">NaN</td><td style = \"text-align: right;\">0.942884</td><td style = \"text-align: right;\">NaN</td><td style = \"text-align: right;\">0.887363</td><td style = \"text-align: right;\">0.942884</td></tr></tbody></table></div>"
      ],
      "text/latex": [
       "\\begin{tabular}{r|cccccccc}\n",
       "\t& triad & per\\_bal & per\\_hier & per\\_trans\\_bal & per\\_trans\\_hier & per\\_cyclic\\_bal & per\\_cyclic\\_hier & \\\\\n",
       "\t\\hline\n",
       "\t& String & Float64 & Float64 & Float64 & Float64 & Float64 & Float64 & \\\\\n",
       "\t\\hline\n",
       "\t1 & 030C & 0.564883 & 0.626367 & 0.0 & 0.0 & 0.564883 & 0.626367 & $\\dots$ \\\\\n",
       "\t2 & 111U & NaN & NaN & NaN & NaN & NaN & NaN & $\\dots$ \\\\\n",
       "\t3 & 120D & 0.906551 & 0.9238 & 0.906551 & 0.9238 & 0.0 & 0.0 & $\\dots$ \\\\\n",
       "\t4 & 120C & 0.720167 & 0.313256 & 0.75346 & 0.931717 & 0.733397 & 0.376404 & $\\dots$ \\\\\n",
       "\t5 & 201 & NaN & NaN & NaN & NaN & NaN & NaN & $\\dots$ \\\\\n",
       "\t6 & 111D & NaN & NaN & NaN & NaN & NaN & NaN & $\\dots$ \\\\\n",
       "\t7 & 210 & 0.921103 & 0.0247392 & 0.921103 & 0.920718 & 0.927721 & 0.100739 & $\\dots$ \\\\\n",
       "\t8 & 003 & NaN & NaN & NaN & NaN & NaN & NaN & $\\dots$ \\\\\n",
       "\t9 & 012 & NaN & NaN & NaN & NaN & NaN & NaN & $\\dots$ \\\\\n",
       "\t10 & 021D & NaN & NaN & NaN & NaN & NaN & NaN & $\\dots$ \\\\\n",
       "\t11 & 030T & 0.787752 & 0.928124 & 0.787752 & 0.928124 & 0.0 & 0.0 & $\\dots$ \\\\\n",
       "\t12 & 021U & NaN & NaN & NaN & NaN & NaN & NaN & $\\dots$ \\\\\n",
       "\t13 & 300 & 0.982579 & 0.001778 & 0.982579 & 0.980576 & 0.982847 & 0.0154343 & $\\dots$ \\\\\n",
       "\t14 & 102 & NaN & NaN & NaN & NaN & NaN & NaN & $\\dots$ \\\\\n",
       "\t15 & 021C & NaN & NaN & NaN & NaN & NaN & NaN & $\\dots$ \\\\\n",
       "\t16 & 120U & 0.872445 & 0.887363 & 0.872445 & 0.887363 & 0.0 & 0.0 & $\\dots$ \\\\\n",
       "\\end{tabular}\n"
      ],
      "text/plain": [
       "\u001b[1m16×13 DataFrame\u001b[0m\n",
       "\u001b[1m Row \u001b[0m│\u001b[1m triad  \u001b[0m\u001b[1m per_bal    \u001b[0m\u001b[1m per_hier    \u001b[0m\u001b[1m per_trans_bal \u001b[0m\u001b[1m per_trans_hier \u001b[0m\u001b[1m per_cyc\u001b[0m ⋯\n",
       "     │\u001b[90m String \u001b[0m\u001b[90m Float64    \u001b[0m\u001b[90m Float64     \u001b[0m\u001b[90m Float64       \u001b[0m\u001b[90m Float64        \u001b[0m\u001b[90m Float64\u001b[0m ⋯\n",
       "─────┼──────────────────────────────────────────────────────────────────────────\n",
       "   1 │ 030C      0.564883    0.626367        0.0             0.0             0 ⋯\n",
       "   2 │ 111U    NaN         NaN             NaN             NaN             NaN\n",
       "   3 │ 120D      0.906551    0.9238          0.906551        0.9238          0\n",
       "   4 │ 120C      0.720167    0.313256        0.75346         0.931717        0\n",
       "   5 │ 201     NaN         NaN             NaN             NaN             NaN ⋯\n",
       "   6 │ 111D    NaN         NaN             NaN             NaN             NaN\n",
       "   7 │ 210       0.921103    0.0247392       0.921103        0.920718        0\n",
       "   8 │ 003     NaN         NaN             NaN             NaN             NaN\n",
       "   9 │ 012     NaN         NaN             NaN             NaN             NaN ⋯\n",
       "  10 │ 021D    NaN         NaN             NaN             NaN             NaN\n",
       "  11 │ 030T      0.787752    0.928124        0.787752        0.928124        0\n",
       "  12 │ 021U    NaN         NaN             NaN             NaN             NaN\n",
       "  13 │ 300       0.982579    0.001778        0.982579        0.980576        0 ⋯\n",
       "  14 │ 102     NaN         NaN             NaN             NaN             NaN\n",
       "  15 │ 021C    NaN         NaN             NaN             NaN             NaN\n",
       "  16 │ 120U      0.872445    0.887363        0.872445        0.887363        0\n",
       "\u001b[36m                                                               8 columns omitted\u001b[0m"
      ]
     },
     "metadata": {},
     "output_type": "display_data"
    }
   ],
   "source": [
    "# access dataframe columns\n",
    "\n",
    "cols = names(df_cyclic_n_arr)[startswith.(names(df_cyclic_n_arr), \"per\")]\n",
    "\n",
    "df_cyclic_n_arr[!, [\"triad\", cols...]]"
   ]
  },
  {
   "cell_type": "code",
   "execution_count": 51,
   "metadata": {},
   "outputs": [],
   "source": [
    "# save above dataframe\n",
    "CSV.write(joinpath(path, \"slashdot-bal_hier_all-triads-types.csv\"), df_cyclic_n_arr)\n",
    "CSV.write(joinpath(\"slashdot-bal_hier_all-triads-types.csv\"), df_cyclic_n_arr)\n",
    "\n",
    "# save JLD2\n",
    "save(joinpath(path, \"slashdot-bal_hier_all-triads-types.jld2\"), \"df_cyclic_n_arr\", df_cyclic_n_arr)\n",
    "save(\"slashdot-bal_hier_all-triads-types.jld2\", \"df_cyclic_n_arr\", df_cyclic_n_arr)"
   ]
  },
  {
   "cell_type": "code",
   "execution_count": null,
   "metadata": {},
   "outputs": [],
   "source": []
  }
 ],
 "metadata": {
  "kernelspec": {
   "display_name": "Julia 1.10.4",
   "language": "julia",
   "name": "julia-1.10"
  },
  "language_info": {
   "file_extension": ".jl",
   "mimetype": "application/julia",
   "name": "julia",
   "version": "1.10.4"
  }
 },
 "nbformat": 4,
 "nbformat_minor": 2
}
