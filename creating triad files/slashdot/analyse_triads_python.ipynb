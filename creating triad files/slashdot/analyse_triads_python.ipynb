{
 "cells": [
  {
   "cell_type": "code",
   "execution_count": 1,
   "metadata": {},
   "outputs": [],
   "source": [
    "import numpy as np\n",
    "import matplotlib.pyplot as plt\n",
    "import pandas as pd\n",
    "import networkx as nx\n",
    "\n",
    "from pathlib import Path"
   ]
  },
  {
   "cell_type": "code",
   "execution_count": 6,
   "metadata": {},
   "outputs": [
    {
     "data": {
      "text/html": [
       "<div>\n",
       "<style scoped>\n",
       "    .dataframe tbody tr th:only-of-type {\n",
       "        vertical-align: middle;\n",
       "    }\n",
       "\n",
       "    .dataframe tbody tr th {\n",
       "        vertical-align: top;\n",
       "    }\n",
       "\n",
       "    .dataframe thead th {\n",
       "        text-align: right;\n",
       "    }\n",
       "</style>\n",
       "<table border=\"1\" class=\"dataframe\">\n",
       "  <thead>\n",
       "    <tr style=\"text-align: right;\">\n",
       "      <th></th>\n",
       "      <th>source</th>\n",
       "      <th>target</th>\n",
       "      <th>sign</th>\n",
       "    </tr>\n",
       "  </thead>\n",
       "  <tbody>\n",
       "    <tr>\n",
       "      <th>0</th>\n",
       "      <td>0</td>\n",
       "      <td>1</td>\n",
       "      <td>1</td>\n",
       "    </tr>\n",
       "    <tr>\n",
       "      <th>1</th>\n",
       "      <td>0</td>\n",
       "      <td>2</td>\n",
       "      <td>1</td>\n",
       "    </tr>\n",
       "    <tr>\n",
       "      <th>2</th>\n",
       "      <td>0</td>\n",
       "      <td>3</td>\n",
       "      <td>1</td>\n",
       "    </tr>\n",
       "    <tr>\n",
       "      <th>3</th>\n",
       "      <td>0</td>\n",
       "      <td>4</td>\n",
       "      <td>1</td>\n",
       "    </tr>\n",
       "    <tr>\n",
       "      <th>4</th>\n",
       "      <td>0</td>\n",
       "      <td>5</td>\n",
       "      <td>1</td>\n",
       "    </tr>\n",
       "  </tbody>\n",
       "</table>\n",
       "</div>"
      ],
      "text/plain": [
       "   source  target  sign\n",
       "0       0       1     1\n",
       "1       0       2     1\n",
       "2       0       3     1\n",
       "3       0       4     1\n",
       "4       0       5     1"
      ]
     },
     "execution_count": 6,
     "metadata": {},
     "output_type": "execute_result"
    }
   ],
   "source": [
    "path = Path('../../../data/slashdot')\n",
    "\n",
    "df = pd.read_csv(path.joinpath('soc-sign-Slashdot090221.txt'), sep='\\t', header= 0, skiprows=3)\n",
    "\n",
    "# name columns\n",
    "df.columns = ['source', 'target', 'sign']\n",
    "\n",
    "df.head()"
   ]
  },
  {
   "cell_type": "code",
   "execution_count": 8,
   "metadata": {},
   "outputs": [
    {
     "data": {
      "text/plain": [
       "0.7739811581166857"
      ]
     },
     "execution_count": 8,
     "metadata": {},
     "output_type": "execute_result"
    }
   ],
   "source": [
    "sum(df.sign == 1) / len(df)"
   ]
  },
  {
   "cell_type": "code",
   "execution_count": 9,
   "metadata": {},
   "outputs": [],
   "source": [
    "# create network and calculate triadic census\n",
    "G = nx.from_pandas_edgelist(df, 'source', 'target', 'sign', create_using=nx.DiGraph())"
   ]
  },
  {
   "cell_type": "code",
   "execution_count": 10,
   "metadata": {},
   "outputs": [
    {
     "data": {
      "text/plain": [
       "True"
      ]
     },
     "execution_count": 10,
     "metadata": {},
     "output_type": "execute_result"
    }
   ],
   "source": [
    "G.is_directed()"
   ]
  },
  {
   "cell_type": "code",
   "execution_count": 11,
   "metadata": {},
   "outputs": [
    {
     "data": {
      "text/plain": [
       "{'003': 92321741792416,\n",
       " '012': 36974092431,\n",
       " '102': 3988917084,\n",
       " '021D': 16840174,\n",
       " '021U': 35458001,\n",
       " '021C': 8774062,\n",
       " '111D': 4157858,\n",
       " '111U': 5094285,\n",
       " '030T': 241138,\n",
       " '030C': 3383,\n",
       " '201': 1555704,\n",
       " '120D': 63307,\n",
       " '120U': 85869,\n",
       " '120C': 22978,\n",
       " '210': 95961,\n",
       " '300': 66929}"
      ]
     },
     "execution_count": 11,
     "metadata": {},
     "output_type": "execute_result"
    }
   ],
   "source": [
    "tcen = nx.triadic_census(G)\n",
    "tcen"
   ]
  },
  {
   "cell_type": "code",
   "execution_count": 12,
   "metadata": {},
   "outputs": [
    {
     "data": {
      "text/html": [
       "<div>\n",
       "<style scoped>\n",
       "    .dataframe tbody tr th:only-of-type {\n",
       "        vertical-align: middle;\n",
       "    }\n",
       "\n",
       "    .dataframe tbody tr th {\n",
       "        vertical-align: top;\n",
       "    }\n",
       "\n",
       "    .dataframe thead th {\n",
       "        text-align: right;\n",
       "    }\n",
       "</style>\n",
       "<table border=\"1\" class=\"dataframe\">\n",
       "  <thead>\n",
       "    <tr style=\"text-align: right;\">\n",
       "      <th></th>\n",
       "      <th>003</th>\n",
       "      <th>012</th>\n",
       "      <th>102</th>\n",
       "      <th>021D</th>\n",
       "      <th>021U</th>\n",
       "      <th>021C</th>\n",
       "      <th>111D</th>\n",
       "      <th>111U</th>\n",
       "      <th>030T</th>\n",
       "      <th>030C</th>\n",
       "      <th>201</th>\n",
       "      <th>120D</th>\n",
       "      <th>120U</th>\n",
       "      <th>120C</th>\n",
       "      <th>210</th>\n",
       "      <th>300</th>\n",
       "    </tr>\n",
       "  </thead>\n",
       "  <tbody>\n",
       "    <tr>\n",
       "      <th>slashdot</th>\n",
       "      <td>92321741792416</td>\n",
       "      <td>36974092431</td>\n",
       "      <td>3988917084</td>\n",
       "      <td>16840174</td>\n",
       "      <td>35458001</td>\n",
       "      <td>8774062</td>\n",
       "      <td>4157858</td>\n",
       "      <td>5094285</td>\n",
       "      <td>241138</td>\n",
       "      <td>3383</td>\n",
       "      <td>1555704</td>\n",
       "      <td>63307</td>\n",
       "      <td>85869</td>\n",
       "      <td>22978</td>\n",
       "      <td>95961</td>\n",
       "      <td>66929</td>\n",
       "    </tr>\n",
       "  </tbody>\n",
       "</table>\n",
       "</div>"
      ],
      "text/plain": [
       "                     003          012         102      021D      021U  \\\n",
       "slashdot  92321741792416  36974092431  3988917084  16840174  35458001   \n",
       "\n",
       "             021C     111D     111U    030T  030C      201   120D   120U  \\\n",
       "slashdot  8774062  4157858  5094285  241138  3383  1555704  63307  85869   \n",
       "\n",
       "           120C    210    300  \n",
       "slashdot  22978  95961  66929  "
      ]
     },
     "execution_count": 12,
     "metadata": {},
     "output_type": "execute_result"
    }
   ],
   "source": [
    "df_tcen_path = Path(path.joinpath('triad_census.h5'))\n",
    "\n",
    "try:\n",
    "    df_tcen = pd.DataFrame.from_dict(tcen, orient='index',\n",
    "                        columns=['slashdot']).transpose()\n",
    "except:\n",
    "    df_tcen_path = Path(path.joinpath('triad_census.h5'))\n",
    "\n",
    "    df_tcen = pd.read_hdf(df_tcen_path)\n",
    "\n",
    "df_tcen"
   ]
  },
  {
   "cell_type": "code",
   "execution_count": 13,
   "metadata": {},
   "outputs": [],
   "source": [
    "# save to hdf\n",
    "df_tcen.to_hdf(df_tcen_path, key='slashdot')\n",
    "\n",
    "df_tcen.to_hdf(df_tcen_path.name, key='slashdot')"
   ]
  },
  {
   "cell_type": "code",
   "execution_count": 14,
   "metadata": {},
   "outputs": [
    {
     "data": {
      "text/html": [
       "<div>\n",
       "<style scoped>\n",
       "    .dataframe tbody tr th:only-of-type {\n",
       "        vertical-align: middle;\n",
       "    }\n",
       "\n",
       "    .dataframe tbody tr th {\n",
       "        vertical-align: top;\n",
       "    }\n",
       "\n",
       "    .dataframe thead th {\n",
       "        text-align: right;\n",
       "    }\n",
       "</style>\n",
       "<table border=\"1\" class=\"dataframe\">\n",
       "  <thead>\n",
       "    <tr style=\"text-align: right;\">\n",
       "      <th></th>\n",
       "      <th>003</th>\n",
       "      <th>012</th>\n",
       "      <th>102</th>\n",
       "      <th>021D</th>\n",
       "      <th>021U</th>\n",
       "      <th>021C</th>\n",
       "      <th>111D</th>\n",
       "      <th>111U</th>\n",
       "      <th>030T</th>\n",
       "      <th>030C</th>\n",
       "      <th>201</th>\n",
       "      <th>120D</th>\n",
       "      <th>120U</th>\n",
       "      <th>120C</th>\n",
       "      <th>210</th>\n",
       "      <th>300</th>\n",
       "    </tr>\n",
       "  </thead>\n",
       "  <tbody>\n",
       "    <tr>\n",
       "      <th>slashdot</th>\n",
       "      <td>92321741792416</td>\n",
       "      <td>36974092431</td>\n",
       "      <td>3988917084</td>\n",
       "      <td>16840174</td>\n",
       "      <td>35458001</td>\n",
       "      <td>8774062</td>\n",
       "      <td>4157858</td>\n",
       "      <td>5094285</td>\n",
       "      <td>241138</td>\n",
       "      <td>3383</td>\n",
       "      <td>1555704</td>\n",
       "      <td>63307</td>\n",
       "      <td>85869</td>\n",
       "      <td>22978</td>\n",
       "      <td>95961</td>\n",
       "      <td>66929</td>\n",
       "    </tr>\n",
       "  </tbody>\n",
       "</table>\n",
       "</div>"
      ],
      "text/plain": [
       "                     003          012         102      021D      021U  \\\n",
       "slashdot  92321741792416  36974092431  3988917084  16840174  35458001   \n",
       "\n",
       "             021C     111D     111U    030T  030C      201   120D   120U  \\\n",
       "slashdot  8774062  4157858  5094285  241138  3383  1555704  63307  85869   \n",
       "\n",
       "           120C    210    300  \n",
       "slashdot  22978  95961  66929  "
      ]
     },
     "execution_count": 14,
     "metadata": {},
     "output_type": "execute_result"
    }
   ],
   "source": [
    "df_tcen2 = pd.read_hdf(df_tcen_path)\n",
    "df_tcen2"
   ]
  }
 ],
 "metadata": {
  "kernelspec": {
   "display_name": ".datavenv",
   "language": "python",
   "name": "python3"
  },
  "language_info": {
   "codemirror_mode": {
    "name": "ipython",
    "version": 3
   },
   "file_extension": ".py",
   "mimetype": "text/x-python",
   "name": "python",
   "nbconvert_exporter": "python",
   "pygments_lexer": "ipython3",
   "version": "3.12.3"
  }
 },
 "nbformat": 4,
 "nbformat_minor": 2
}
