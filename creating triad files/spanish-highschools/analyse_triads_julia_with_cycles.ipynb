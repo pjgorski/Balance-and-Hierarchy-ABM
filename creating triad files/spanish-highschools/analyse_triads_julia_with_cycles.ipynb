{
 "cells": [
  {
   "cell_type": "code",
   "execution_count": 4,
   "metadata": {},
   "outputs": [],
   "source": [
    "using CSV\n",
    "using DataFrames\n"
   ]
  },
  {
   "cell_type": "code",
   "execution_count": 5,
   "metadata": {},
   "outputs": [
    {
     "name": "stdout",
     "output_type": "stream",
     "text": [
      "4\n",
      "4\n",
      "4\n",
      "1\n",
      "1\n",
      "4\n",
      "4\n",
      "2\n",
      "4\n",
      "2\n",
      "0\n",
      "0\n",
      "0\n"
     ]
    }
   ],
   "source": [
    "path = \"../../../data/spanish-highschool\"\n",
    "specific_schools = [\"t11_10\", \"t11_9\", \"t11_8\", \"t11_7\", \"t11_6\", \"t11_5\", \"t11_4\", \"t11_3\", \"t11_2\", \"t11_1\", \"t1\", \"t2\", \"t6\"]\n",
    "\n",
    "dfs_all2 = []\n",
    "dfs_all = []\n",
    "# create empty dataframe with two columns names school and class\n",
    "df_index = DataFrame(school = String[], class = Int[])\n",
    "for school in specific_schools\n",
    "    dfs = []\n",
    "    class = 0\n",
    "    while true\n",
    "        class += 1\n",
    "        try\n",
    "            fname = \"Edges2_\" * school * \"_class_\" * string(class) * \".csv\"\n",
    "            df = CSV.read(joinpath(path, fname), DataFrame, delim=\",\", header=true)\n",
    "            # remove the first column\n",
    "            df = select(df, names(df)[2:end])\n",
    "            push!(dfs, df)\n",
    "            push!(df_index, [school, class])\n",
    "            # println(first(df))\n",
    "        catch e\n",
    "            # print(e)\n",
    "            println(length(dfs))\n",
    "            if length(dfs) == 0\n",
    "                fname = \"Edges2_\" * school * \"_multiple.csv\"\n",
    "                df = CSV.read(joinpath(path, fname), DataFrame, delim=\",\", header=true)\n",
    "                df = select(df, names(df)[2:end])\n",
    "                push!(dfs, df)\n",
    "\n",
    "                push!(df_index, [school, class])\n",
    "            end\n",
    "            break\n",
    "        end\n",
    "    end\n",
    "    push!(dfs_all, dfs)\n",
    "    append!(dfs_all2, dfs)\n",
    "end\n",
    "\n",
    "# first(df)"
   ]
  },
  {
   "cell_type": "code",
   "execution_count": 6,
   "metadata": {},
   "outputs": [
    {
     "data": {
      "text/plain": [
       "33"
      ]
     },
     "metadata": {},
     "output_type": "display_data"
    }
   ],
   "source": [
    "length(dfs_all2)"
   ]
  },
  {
   "cell_type": "code",
   "execution_count": 7,
   "metadata": {},
   "outputs": [
    {
     "data": {
      "text/html": [
       "<div><div style = \"float: left;\"><span>33×4 DataFrame</span></div><div style = \"float: right;\"><span style = \"font-style: italic;\">8 rows omitted</span></div><div style = \"clear: both;\"></div></div><div class = \"data-frame\" style = \"overflow-x: scroll;\"><table class = \"data-frame\" style = \"margin-bottom: 6px;\"><thead><tr class = \"header\"><th class = \"rowNumber\" style = \"font-weight: bold; text-align: right;\">Row</th><th style = \"text-align: left;\">school</th><th style = \"text-align: left;\">class</th><th style = \"text-align: left;\">edge_count</th><th style = \"text-align: left;\">unique_edge_count</th></tr><tr class = \"subheader headerLastRow\"><th class = \"rowNumber\" style = \"font-weight: bold; text-align: right;\"></th><th title = \"String\" style = \"text-align: left;\">String</th><th title = \"Int64\" style = \"text-align: left;\">Int64</th><th title = \"Int64\" style = \"text-align: left;\">Int64</th><th title = \"Int64\" style = \"text-align: left;\">Int64</th></tr></thead><tbody><tr><td class = \"rowNumber\" style = \"font-weight: bold; text-align: right;\">1</td><td style = \"text-align: left;\">t11_10</td><td style = \"text-align: right;\">1</td><td style = \"text-align: right;\">1605</td><td style = \"text-align: right;\">1487</td></tr><tr><td class = \"rowNumber\" style = \"font-weight: bold; text-align: right;\">2</td><td style = \"text-align: left;\">t11_10</td><td style = \"text-align: right;\">2</td><td style = \"text-align: right;\">1919</td><td style = \"text-align: right;\">1760</td></tr><tr><td class = \"rowNumber\" style = \"font-weight: bold; text-align: right;\">3</td><td style = \"text-align: left;\">t11_10</td><td style = \"text-align: right;\">3</td><td style = \"text-align: right;\">1670</td><td style = \"text-align: right;\">1545</td></tr><tr><td class = \"rowNumber\" style = \"font-weight: bold; text-align: right;\">4</td><td style = \"text-align: left;\">t11_10</td><td style = \"text-align: right;\">4</td><td style = \"text-align: right;\">1435</td><td style = \"text-align: right;\">1325</td></tr><tr><td class = \"rowNumber\" style = \"font-weight: bold; text-align: right;\">5</td><td style = \"text-align: left;\">t11_9</td><td style = \"text-align: right;\">1</td><td style = \"text-align: right;\">915</td><td style = \"text-align: right;\">838</td></tr><tr><td class = \"rowNumber\" style = \"font-weight: bold; text-align: right;\">6</td><td style = \"text-align: left;\">t11_9</td><td style = \"text-align: right;\">2</td><td style = \"text-align: right;\">1403</td><td style = \"text-align: right;\">1312</td></tr><tr><td class = \"rowNumber\" style = \"font-weight: bold; text-align: right;\">7</td><td style = \"text-align: left;\">t11_9</td><td style = \"text-align: right;\">3</td><td style = \"text-align: right;\">864</td><td style = \"text-align: right;\">783</td></tr><tr><td class = \"rowNumber\" style = \"font-weight: bold; text-align: right;\">8</td><td style = \"text-align: left;\">t11_9</td><td style = \"text-align: right;\">4</td><td style = \"text-align: right;\">1013</td><td style = \"text-align: right;\">943</td></tr><tr><td class = \"rowNumber\" style = \"font-weight: bold; text-align: right;\">9</td><td style = \"text-align: left;\">t11_8</td><td style = \"text-align: right;\">1</td><td style = \"text-align: right;\">616</td><td style = \"text-align: right;\">568</td></tr><tr><td class = \"rowNumber\" style = \"font-weight: bold; text-align: right;\">10</td><td style = \"text-align: left;\">t11_8</td><td style = \"text-align: right;\">2</td><td style = \"text-align: right;\">660</td><td style = \"text-align: right;\">606</td></tr><tr><td class = \"rowNumber\" style = \"font-weight: bold; text-align: right;\">11</td><td style = \"text-align: left;\">t11_8</td><td style = \"text-align: right;\">3</td><td style = \"text-align: right;\">398</td><td style = \"text-align: right;\">357</td></tr><tr><td class = \"rowNumber\" style = \"font-weight: bold; text-align: right;\">12</td><td style = \"text-align: left;\">t11_8</td><td style = \"text-align: right;\">4</td><td style = \"text-align: right;\">340</td><td style = \"text-align: right;\">312</td></tr><tr><td class = \"rowNumber\" style = \"font-weight: bold; text-align: right;\">13</td><td style = \"text-align: left;\">t11_7</td><td style = \"text-align: right;\">1</td><td style = \"text-align: right;\">1128</td><td style = \"text-align: right;\">1043</td></tr><tr><td style = \"text-align: right;\">&vellip;</td><td style = \"text-align: right;\">&vellip;</td><td style = \"text-align: right;\">&vellip;</td><td style = \"text-align: right;\">&vellip;</td><td style = \"text-align: right;\">&vellip;</td></tr><tr><td class = \"rowNumber\" style = \"font-weight: bold; text-align: right;\">22</td><td style = \"text-align: left;\">t11_4</td><td style = \"text-align: right;\">4</td><td style = \"text-align: right;\">303</td><td style = \"text-align: right;\">269</td></tr><tr><td class = \"rowNumber\" style = \"font-weight: bold; text-align: right;\">23</td><td style = \"text-align: left;\">t11_3</td><td style = \"text-align: right;\">1</td><td style = \"text-align: right;\">1384</td><td style = \"text-align: right;\">1304</td></tr><tr><td class = \"rowNumber\" style = \"font-weight: bold; text-align: right;\">24</td><td style = \"text-align: left;\">t11_3</td><td style = \"text-align: right;\">2</td><td style = \"text-align: right;\">1936</td><td style = \"text-align: right;\">1797</td></tr><tr><td class = \"rowNumber\" style = \"font-weight: bold; text-align: right;\">25</td><td style = \"text-align: left;\">t11_2</td><td style = \"text-align: right;\">1</td><td style = \"text-align: right;\">1682</td><td style = \"text-align: right;\">1561</td></tr><tr><td class = \"rowNumber\" style = \"font-weight: bold; text-align: right;\">26</td><td style = \"text-align: left;\">t11_2</td><td style = \"text-align: right;\">2</td><td style = \"text-align: right;\">3930</td><td style = \"text-align: right;\">3696</td></tr><tr><td class = \"rowNumber\" style = \"font-weight: bold; text-align: right;\">27</td><td style = \"text-align: left;\">t11_2</td><td style = \"text-align: right;\">3</td><td style = \"text-align: right;\">2073</td><td style = \"text-align: right;\">1925</td></tr><tr><td class = \"rowNumber\" style = \"font-weight: bold; text-align: right;\">28</td><td style = \"text-align: left;\">t11_2</td><td style = \"text-align: right;\">4</td><td style = \"text-align: right;\">1859</td><td style = \"text-align: right;\">1738</td></tr><tr><td class = \"rowNumber\" style = \"font-weight: bold; text-align: right;\">29</td><td style = \"text-align: left;\">t11_1</td><td style = \"text-align: right;\">1</td><td style = \"text-align: right;\">1541</td><td style = \"text-align: right;\">1417</td></tr><tr><td class = \"rowNumber\" style = \"font-weight: bold; text-align: right;\">30</td><td style = \"text-align: left;\">t11_1</td><td style = \"text-align: right;\">2</td><td style = \"text-align: right;\">2955</td><td style = \"text-align: right;\">2773</td></tr><tr><td class = \"rowNumber\" style = \"font-weight: bold; text-align: right;\">31</td><td style = \"text-align: left;\">t1</td><td style = \"text-align: right;\">1</td><td style = \"text-align: right;\">5921</td><td style = \"text-align: right;\">5921</td></tr><tr><td class = \"rowNumber\" style = \"font-weight: bold; text-align: right;\">32</td><td style = \"text-align: left;\">t2</td><td style = \"text-align: right;\">1</td><td style = \"text-align: right;\">3032</td><td style = \"text-align: right;\">3032</td></tr><tr><td class = \"rowNumber\" style = \"font-weight: bold; text-align: right;\">33</td><td style = \"text-align: left;\">t6</td><td style = \"text-align: right;\">1</td><td style = \"text-align: right;\">12812</td><td style = \"text-align: right;\">12812</td></tr></tbody></table></div>"
      ],
      "text/latex": [
       "\\begin{tabular}{r|cccc}\n",
       "\t& school & class & edge\\_count & unique\\_edge\\_count\\\\\n",
       "\t\\hline\n",
       "\t& String & Int64 & Int64 & Int64\\\\\n",
       "\t\\hline\n",
       "\t1 & t11\\_10 & 1 & 1605 & 1487 \\\\\n",
       "\t2 & t11\\_10 & 2 & 1919 & 1760 \\\\\n",
       "\t3 & t11\\_10 & 3 & 1670 & 1545 \\\\\n",
       "\t4 & t11\\_10 & 4 & 1435 & 1325 \\\\\n",
       "\t5 & t11\\_9 & 1 & 915 & 838 \\\\\n",
       "\t6 & t11\\_9 & 2 & 1403 & 1312 \\\\\n",
       "\t7 & t11\\_9 & 3 & 864 & 783 \\\\\n",
       "\t8 & t11\\_9 & 4 & 1013 & 943 \\\\\n",
       "\t9 & t11\\_8 & 1 & 616 & 568 \\\\\n",
       "\t10 & t11\\_8 & 2 & 660 & 606 \\\\\n",
       "\t11 & t11\\_8 & 3 & 398 & 357 \\\\\n",
       "\t12 & t11\\_8 & 4 & 340 & 312 \\\\\n",
       "\t13 & t11\\_7 & 1 & 1128 & 1043 \\\\\n",
       "\t14 & t11\\_6 & 1 & 1770 & 1641 \\\\\n",
       "\t15 & t11\\_5 & 1 & 897 & 799 \\\\\n",
       "\t16 & t11\\_5 & 2 & 1185 & 1093 \\\\\n",
       "\t17 & t11\\_5 & 3 & 1035 & 957 \\\\\n",
       "\t18 & t11\\_5 & 4 & 1001 & 918 \\\\\n",
       "\t19 & t11\\_4 & 1 & 442 & 394 \\\\\n",
       "\t20 & t11\\_4 & 2 & 435 & 396 \\\\\n",
       "\t21 & t11\\_4 & 3 & 407 & 377 \\\\\n",
       "\t22 & t11\\_4 & 4 & 303 & 269 \\\\\n",
       "\t23 & t11\\_3 & 1 & 1384 & 1304 \\\\\n",
       "\t24 & t11\\_3 & 2 & 1936 & 1797 \\\\\n",
       "\t$\\dots$ & $\\dots$ & $\\dots$ & $\\dots$ & $\\dots$ \\\\\n",
       "\\end{tabular}\n"
      ],
      "text/plain": [
       "\u001b[1m33×4 DataFrame\u001b[0m\n",
       "\u001b[1m Row \u001b[0m│\u001b[1m school \u001b[0m\u001b[1m class \u001b[0m\u001b[1m edge_count \u001b[0m\u001b[1m unique_edge_count \u001b[0m\n",
       "     │\u001b[90m String \u001b[0m\u001b[90m Int64 \u001b[0m\u001b[90m Int64      \u001b[0m\u001b[90m Int64             \u001b[0m\n",
       "─────┼──────────────────────────────────────────────\n",
       "   1 │ t11_10      1        1605               1487\n",
       "   2 │ t11_10      2        1919               1760\n",
       "   3 │ t11_10      3        1670               1545\n",
       "   4 │ t11_10      4        1435               1325\n",
       "   5 │ t11_9       1         915                838\n",
       "   6 │ t11_9       2        1403               1312\n",
       "   7 │ t11_9       3         864                783\n",
       "   8 │ t11_9       4        1013                943\n",
       "  ⋮  │   ⋮       ⋮        ⋮               ⋮\n",
       "  27 │ t11_2       3        2073               1925\n",
       "  28 │ t11_2       4        1859               1738\n",
       "  29 │ t11_1       1        1541               1417\n",
       "  30 │ t11_1       2        2955               2773\n",
       "  31 │ t1          1        5921               5921\n",
       "  32 │ t2          1        3032               3032\n",
       "  33 │ t6          1       12812              12812\n",
       "\u001b[36m                                     18 rows omitted\u001b[0m"
      ]
     },
     "metadata": {},
     "output_type": "display_data"
    }
   ],
   "source": [
    "# get all edges\n",
    "edges_all = [[(df.source[i], df.target[i]) for i in 1:size(df, 1)] for df in dfs_all2]\n",
    "\n",
    "# edges[1:5]\n",
    "\n",
    "# print([length.(unique.(edges_all)), length.(edges_all)])\n",
    "\n",
    "\n",
    "# remove self loops\n",
    "edges_all = [[(u, v) for (u, v) in edges if u != v] for edges in edges_all]\n",
    "\n",
    "df_index.edge_count = length.(edges_all)\n",
    "df_index.unique_edge_count = length.(unique.(edges_all))\n",
    "\n",
    "df_index"
   ]
  },
  {
   "cell_type": "code",
   "execution_count": 8,
   "metadata": {},
   "outputs": [
    {
     "data": {
      "text/plain": [
       "33-element Vector{Vector{Tuple{Int64, Int64, Int64}}}:\n",
       " [(5143, 5232, 1), (5143, 5242, 1), (5143, 5248, 1), (5143, 5257, 1), (5143, 5234, 1), (5143, 5241, 1), (5143, 5237, 1), (5143, 5234, 1), (5143, 5235, 1), (5143, 5241, 1)  …  (5258, 5229, 1), (5258, 5234, 1), (5258, 5236, 1), (5258, 5242, 1), (5258, 5243, 1), (5258, 5231, -1), (5258, 5233, -1), (5258, 5249, -1), (5258, 5241, -1), (5258, 5231, -1)]\n",
       " [(5259, 5355, 1), (5259, 5349, 1), (5259, 5346, 1), (5259, 5349, 1), (5259, 5347, -1), (5259, 5353, -1), (5259, 5347, -1), (5260, 5266, 1), (5260, 5274, 1), (5260, 5284, 1)  …  (5370, 5348, 1), (5370, 5348, 1), (5370, 5354, 1), (5370, 5357, 1), (5370, 5363, 1), (5370, 5367, 1), (5370, 5347, -1), (5370, 5364, -1), (5370, 5356, -1), (5370, 5360, -1)]\n",
       " [(5372, 5440, 1), (5372, 5469, 1), (5372, 5450, 1), (5372, 5468, 1), (5372, 5438, 1), (5372, 5409, 1), (5372, 5399, 1), (5372, 5414, 1), (5372, 5428, 1), (5372, 5451, 1)  …  (5487, 5407, 1), (5487, 5386, 1), (5487, 5399, 1), (5487, 5443, -1), (5487, 5431, -1), (5487, 5464, -1), (5487, 5469, -1), (5487, 5430, -1), (5487, 5460, -1), (5487, 5467, -1)]\n",
       " [(5488, 5533, 1), (5488, 5535, 1), (5488, 5505, 1), (5488, 5530, 1), (5488, 5514, 1), (5488, 5502, 1), (5488, 5533, 1), (5489, 5592, 1), (5489, 5496, 1), (5489, 5501, 1)  …  (5599, 5583, -1), (5599, 5559, -1), (5599, 5591, -1), (5599, 5556, -1), (5599, 5492, -1), (5599, 5557, -1), (5599, 5512, -1), (5599, 5544, -1), (5599, 5589, -1), (5599, 5560, -1)]\n",
       " [(3177, 3191, 1), (3177, 3289, 1), (3177, 3188, 1), (3177, 3280, 1), (3177, 3216, 1), (3177, 3274, 1), (3177, 3217, 1), (3177, 3274, 1), (3177, 3273, -1), (3177, 3287, -1)  …  (3297, 3223, 1), (3297, 3230, 1), (3297, 3234, 1), (3297, 3255, 1), (3297, 3276, 1), (3297, 3278, -1), (3297, 3285, -1), (3297, 3286, -1), (3297, 3226, -1), (3297, 3226, -1)]\n",
       " [(5601, 5631, 1), (5601, 5668, 1), (5601, 5689, 1), (5601, 5611, 1), (5601, 5627, 1), (5601, 5652, 1), (5601, 5640, 1), (5601, 5733, 1), (5601, 5642, 1), (5601, 5616, 1)  …  (5754, 5746, -1), (5754, 5733, -1), (5754, 5741, -1), (5757, 5726, 1), (5757, 5616, 1), (5757, 5601, 1), (5757, 5743, 1), (5757, 5683, -1), (5757, 5727, -1), (5757, 5653, -1)]\n",
       " [(5763, 5807, 1), (5763, 5813, 1), (5763, 5813, 1), (5763, 5816, 1), (5764, 5769, 1), (5764, 5770, 1), (5764, 5763, 1), (5764, 5771, 1), (5764, 5765, 1), (5764, 5773, 1)  …  (5875, 5872, -1), (5875, 5865, -1), (5875, 5873, -1), (5875, 5864, -1), (5875, 5872, -1), (5876, 5857, 1), (5876, 5872, 1), (5876, 5863, 1), (5876, 5854, 1), (5876, 5874, 1)]\n",
       " [(5877, 5917, 1), (5877, 5960, 1), (5877, 5913, 1), (5877, 5921, 1), (5877, 5916, 1), (5877, 5922, 1), (5877, 5925, 1), (5877, 5985, 1), (5877, 5934, 1), (5877, 5976, 1)  …  (5990, 5916, 1), (5990, 5915, 1), (5990, 5902, 1), (5990, 5899, 1), (5990, 5967, 1), (5990, 5986, 1), (5991, 5976, 1), (5991, 5986, 1), (5991, 5985, -1), (5991, 5971, -1)]\n",
       " [(2112, 2159, 1), (2112, 2145, 1), (2112, 2148, 1), (2112, 2143, 1), (2112, 2153, 1), (2112, 2163, 1), (2112, 2141, 1), (2112, 2138, 1), (2112, 2162, 1), (2112, 2146, 1)  …  (2200, 2158, 1), (2200, 2172, 1), (2200, 2172, 1), (2200, 2165, -1), (2202, 2145, 1), (2202, 2146, 1), (2202, 2153, 1), (2202, 2160, 1), (2202, 2163, 1), (2202, 2161, -1)]\n",
       " [(2204, 2217, 1), (2204, 2288, 1), (2204, 2287, 1), (2204, 2229, 1), (2204, 2211, 1), (2204, 2227, 1), (2204, 2219, 1), (2204, 2225, 1), (2204, 2321, 1), (2204, 2206, 1)  …  (2338, 2293, -1), (2338, 2331, -1), (2338, 2293, -1), (2339, 2338, 1), (2339, 2208, 1), (2339, 2211, -1), (2339, 2293, -1), (2339, 2293, -1), (2339, 2297, -1), (2339, 2331, -1)]\n",
       " ⋮\n",
       " [(4119, 4204, 1), (4119, 4131, 1), (4119, 4159, 1), (4119, 4129, 1), (4119, 4125, 1), (4119, 4122, -1), (4119, 4134, -1), (4119, 4124, -1), (4121, 4146, 1), (4121, 4243, 1)  …  (4294, 4267, 1), (4294, 4279, 1), (4294, 4262, -1), (4294, 4131, -1), (4294, 4227, -1), (4294, 4277, -1), (4294, 4250, -1), (4294, 4257, -1), (4294, 4128, -1), (4294, 4257, -1)]\n",
       " [(4298, 4397, 1), (4298, 4428, 1), (4298, 4460, 1), (4298, 4311, 1), (4298, 4310, 1), (4298, 4459, 1), (4298, 4474, 1), (4298, 4473, 1), (4298, 4303, 1), (4298, 4465, 1)  …  (4477, 4442, 1), (4477, 4411, 1), (4477, 4325, 1), (4477, 4354, 1), (4477, 4382, 1), (4477, 4451, 1), (4477, 4454, 1), (4477, 4457, 1), (4477, 4467, 1), (4477, 4468, 1)]\n",
       " [(4478, 4484, 1), (4478, 4498, 1), (4478, 4557, 1), (4478, 4605, 1), (4478, 4566, 1), (4478, 4490, 1), (4478, 4499, 1), (4478, 4489, 1), (4478, 4621, 1), (4478, 4649, 1)  …  (4649, 4503, 1), (4649, 4597, 1), (4649, 4609, 1), (4649, 4621, 1), (4649, 4627, 1), (4649, 4630, 1), (4649, 4637, 1), (4649, 4645, 1), (4649, 4647, 1), (4649, 4623, -1)]\n",
       " [(4650, 4654, 1), (4650, 4656, 1), (4650, 4659, 1), (4650, 4661, 1), (4650, 4663, 1), (4650, 4664, 1), (4650, 4665, 1), (4650, 4666, 1), (4650, 4668, 1), (4650, 4669, 1)  …  (4821, 4808, 1), (4821, 4811, 1), (4821, 4816, 1), (4821, 4794, -1), (4821, 4797, -1), (4821, 4796, -1), (4821, 4803, -1), (4821, 4804, -1), (4821, 4805, -1), (4821, 4803, -1)]\n",
       " [(3501, 3505, 1), (3501, 3527, 1), (3501, 3520, 1), (3501, 3505, 1), (3501, 3518, -1), (3501, 3516, -1), (3501, 3518, -1), (3502, 3625, 1), (3503, 3526, 1), (3503, 3624, 1)  …  (3640, 3637, 1), (3640, 3626, 1), (3640, 3624, 1), (3640, 3632, 1), (3641, 3636, 1), (3641, 3637, 1), (3641, 3635, 1), (3641, 3617, 1), (3641, 3636, 1), (3641, 3625, -1)]\n",
       " [(3643, 3751, 1), (3643, 3669, 1), (3643, 3764, 1), (3643, 3679, 1), (3643, 3790, 1), (3643, 3731, 1), (3643, 3687, 1), (3643, 3664, 1), (3643, 3644, 1), (3643, 3714, 1)  …  (3789, 3728, 1), (3789, 3763, 1), (3789, 3672, 1), (3789, 3752, 1), (3789, 3664, 1), (3789, 3660, 1), (3789, 3664, 1), (3789, 3769, 1), (3789, 3776, 1), (3789, 3790, 1)]\n",
       " [(191, 198, -1), (191, 211, -1), (191, 212, 1), (191, 223, 1), (191, 285, 1), (192, 193, 1), (192, 194, 1), (192, 195, 1), (192, 196, 1), (192, 197, 1)  …  (599, 584, 1), (599, 585, 1), (599, 588, 1), (599, 589, -1), (599, 591, 1), (599, 592, 1), (599, 593, 1), (599, 596, 1), (599, 597, 1), (599, 598, 1)]\n",
       " [(703, 692, 1), (703, 696, 1), (703, 698, 1), (703, 712, 1), (703, 723, 1), (703, 722, 1), (703, 737, 1), (703, 741, 1), (703, 749, 1), (703, 755, 1)  …  (928, 787, 1), (928, 851, 1), (928, 880, 1), (928, 884, 1), (928, 895, 1), (928, 888, 1), (928, 909, 1), (928, 922, 1), (928, 925, 1), (928, 926, 1)]\n",
       " [(1091, 1090, 1), (1091, 1093, 1), (1091, 1095, -1), (1091, 1096, 1), (1091, 1097, -1), (1091, 1098, 1), (1091, 1099, -1), (1091, 1101, 1), (1091, 1102, 1), (1091, 1104, 1)  …  (1496, 1484, 1), (1496, 1486, 1), (1496, 1487, 1), (1496, 1490, 1), (1496, 1493, 1), (1497, 1480, 1), (1497, 1491, 1), (1497, 1492, 1), (1497, 1494, 1), (1497, 1495, 1)]"
      ]
     },
     "metadata": {},
     "output_type": "display_data"
    }
   ],
   "source": [
    "# check if for repeated edges the sign is the same\n",
    "\n",
    "# get all edges\n",
    "edges_sign_all = [[(df.source[i], df.target[i], df.sign[i]) for i in 1:size(df, 1)] for df in dfs_all2]\n",
    "\n",
    "# edges_sign = unique(edges_sign)\n",
    "\n",
    "# remove self loops\n",
    "edges_sign_all = [[(u, v, s) for (u, v, s) in edges_sign if u != v] for edges_sign in edges_sign_all]\n"
   ]
  },
  {
   "cell_type": "code",
   "execution_count": 9,
   "metadata": {},
   "outputs": [
    {
     "data": {
      "text/plain": [
       "Dict{Int64, Vector{Int64}} with 94 entries:\n",
       "  5239 => [5258, 5238, 5246, 5235, 5234, 5245, 5231, 5253, 5243, 5232, 5257, 52…\n",
       "  5195 => [5249, 5217, 5179, 5235, 5248, 5159, 5257, 5187, 5146, 5162  …  5236,…\n",
       "  5235 => [5152, 5175, 5246, 5213, 5170, 5154, 5149, 5240, 5222, 5189  …  5184,…\n",
       "  5152 => [5231, 5232, 5229, 5235, 5257, 5234, 5243, 5258]\n",
       "  5161 => [5154, 5198, 5155, 5158, 5189, 5177, 5235, 5185, 5190, 5151, 5150, 51…\n",
       "  5233 => [5231, 5232, 5237, 5240, 5249, 5243, 5217, 5242, 5246, 5225, 5245]\n",
       "  5175 => [5241, 5246, 5235, 5248, 5257, 5234, 5245, 5143, 5210, 5194  …  5229,…\n",
       "  5158 => [5246]\n",
       "  5232 => [5258, 5233, 5238, 5246, 5235, 5229, 5254, 5234, 5245, 5241, 5231, 52…\n",
       "  5143 => [5232, 5242, 5248, 5257, 5234, 5241, 5237, 5235, 5243, 5236, 5238, 52…\n",
       "  5184 => [5193, 5152, 5188, 5148, 5191, 5204, 5165, 5169, 5170, 5171, 5175, 51…\n",
       "  5243 => [5238, 5246, 5235, 5213, 5170, 5245, 5241, 5257, 5176, 5242  …  5206,…\n",
       "  5223 => [5217, 5222, 5224, 5202, 5221, 5249, 5213, 5150, 5149, 5151, 5164, 51…\n",
       "  5240 => [5216, 5215, 5232, 5180, 5221, 5239, 5214, 5237, 5173, 5181, 5191, 52…\n",
       "  5193 => [5195, 5188, 5179, 5175, 5177, 5196, 5191, 5184, 5199, 5176]\n",
       "  5237 => [5236, 5240, 5253, 5238, 5229, 5239]\n",
       "  5169 => [5234, 5235]\n",
       "  5245 => [5236, 5240, 5249, 5232, 5235, 5254, 5237, 5246, 5248, 5257, 5145]\n",
       "  5155 => [5154, 5198, 5158, 5169, 5189, 5177, 5235, 5185, 5190, 5151, 5150, 51…\n",
       "  ⋮    => ⋮"
      ]
     },
     "metadata": {},
     "output_type": "display_data"
    }
   ],
   "source": [
    "# get list of all nodes\n",
    "nodes_all = [unique([[u for (u, v) in edges_sign]..., [v for (u, v) in edges_sign]...]) for edges_sign in edges_sign_all]\n",
    "\n",
    "df_index.node_count = length.(nodes_all)\n",
    "# print(length(nodes))\n",
    "\n",
    "# filter out self loops\n",
    "dfs_all2_filtered = [filter(x -> x.source != x.target, df) for df in dfs_all2]\n",
    "\n",
    "# get list of outgoing edges for each node by grouping by source\n",
    "node_outs_gbf_all = [groupby(df_filtered, :source) for df_filtered in dfs_all2_filtered]\n",
    "\n",
    "# get list of outgoing edges for each node by collecting targets\n",
    "node_outs_all = [combine(node_outs_gbf, x -> [x[!, :target]]) for node_outs_gbf in node_outs_gbf_all]\n",
    "# rename!(node_outs, :x1 => :targets)\n",
    "for node_outs in node_outs_all\n",
    "    rename!(node_outs, :x1 => :targets)\n",
    "end\n",
    "# map!((x) -> rename!(x, :x1 => :targets), node_outs_all)\n",
    "\n",
    "# create a dictionary with the outgoing edges for each node\n",
    "node_outs_dict_all = [Dict(zip(node_outs.source, unique.(node_outs.targets))) for node_outs in node_outs_all]\n",
    "\n",
    "node_outs_dict_all[1]"
   ]
  },
  {
   "cell_type": "code",
   "execution_count": 10,
   "metadata": {},
   "outputs": [
    {
     "data": {
      "text/html": [
       "<div><div style = \"float: left;\"><span>33×5 DataFrame</span></div><div style = \"float: right;\"><span style = \"font-style: italic;\">8 rows omitted</span></div><div style = \"clear: both;\"></div></div><div class = \"data-frame\" style = \"overflow-x: scroll;\"><table class = \"data-frame\" style = \"margin-bottom: 6px;\"><thead><tr class = \"header\"><th class = \"rowNumber\" style = \"font-weight: bold; text-align: right;\">Row</th><th style = \"text-align: left;\">school</th><th style = \"text-align: left;\">class</th><th style = \"text-align: left;\">edge_count</th><th style = \"text-align: left;\">unique_edge_count</th><th style = \"text-align: left;\">node_count</th></tr><tr class = \"subheader headerLastRow\"><th class = \"rowNumber\" style = \"font-weight: bold; text-align: right;\"></th><th title = \"String\" style = \"text-align: left;\">String</th><th title = \"Int64\" style = \"text-align: left;\">Int64</th><th title = \"Int64\" style = \"text-align: left;\">Int64</th><th title = \"Int64\" style = \"text-align: left;\">Int64</th><th title = \"Int64\" style = \"text-align: left;\">Int64</th></tr></thead><tbody><tr><td class = \"rowNumber\" style = \"font-weight: bold; text-align: right;\">1</td><td style = \"text-align: left;\">t11_10</td><td style = \"text-align: right;\">1</td><td style = \"text-align: right;\">1605</td><td style = \"text-align: right;\">1487</td><td style = \"text-align: right;\">94</td></tr><tr><td class = \"rowNumber\" style = \"font-weight: bold; text-align: right;\">2</td><td style = \"text-align: left;\">t11_10</td><td style = \"text-align: right;\">2</td><td style = \"text-align: right;\">1919</td><td style = \"text-align: right;\">1760</td><td style = \"text-align: right;\">98</td></tr><tr><td class = \"rowNumber\" style = \"font-weight: bold; text-align: right;\">3</td><td style = \"text-align: left;\">t11_10</td><td style = \"text-align: right;\">3</td><td style = \"text-align: right;\">1670</td><td style = \"text-align: right;\">1545</td><td style = \"text-align: right;\">99</td></tr><tr><td class = \"rowNumber\" style = \"font-weight: bold; text-align: right;\">4</td><td style = \"text-align: left;\">t11_10</td><td style = \"text-align: right;\">4</td><td style = \"text-align: right;\">1435</td><td style = \"text-align: right;\">1325</td><td style = \"text-align: right;\">95</td></tr><tr><td class = \"rowNumber\" style = \"font-weight: bold; text-align: right;\">5</td><td style = \"text-align: left;\">t11_9</td><td style = \"text-align: right;\">1</td><td style = \"text-align: right;\">915</td><td style = \"text-align: right;\">838</td><td style = \"text-align: right;\">67</td></tr><tr><td class = \"rowNumber\" style = \"font-weight: bold; text-align: right;\">6</td><td style = \"text-align: left;\">t11_9</td><td style = \"text-align: right;\">2</td><td style = \"text-align: right;\">1403</td><td style = \"text-align: right;\">1312</td><td style = \"text-align: right;\">94</td></tr><tr><td class = \"rowNumber\" style = \"font-weight: bold; text-align: right;\">7</td><td style = \"text-align: left;\">t11_9</td><td style = \"text-align: right;\">3</td><td style = \"text-align: right;\">864</td><td style = \"text-align: right;\">783</td><td style = \"text-align: right;\">75</td></tr><tr><td class = \"rowNumber\" style = \"font-weight: bold; text-align: right;\">8</td><td style = \"text-align: left;\">t11_9</td><td style = \"text-align: right;\">4</td><td style = \"text-align: right;\">1013</td><td style = \"text-align: right;\">943</td><td style = \"text-align: right;\">83</td></tr><tr><td class = \"rowNumber\" style = \"font-weight: bold; text-align: right;\">9</td><td style = \"text-align: left;\">t11_8</td><td style = \"text-align: right;\">1</td><td style = \"text-align: right;\">616</td><td style = \"text-align: right;\">568</td><td style = \"text-align: right;\">52</td></tr><tr><td class = \"rowNumber\" style = \"font-weight: bold; text-align: right;\">10</td><td style = \"text-align: left;\">t11_8</td><td style = \"text-align: right;\">2</td><td style = \"text-align: right;\">660</td><td style = \"text-align: right;\">606</td><td style = \"text-align: right;\">67</td></tr><tr><td class = \"rowNumber\" style = \"font-weight: bold; text-align: right;\">11</td><td style = \"text-align: left;\">t11_8</td><td style = \"text-align: right;\">3</td><td style = \"text-align: right;\">398</td><td style = \"text-align: right;\">357</td><td style = \"text-align: right;\">47</td></tr><tr><td class = \"rowNumber\" style = \"font-weight: bold; text-align: right;\">12</td><td style = \"text-align: left;\">t11_8</td><td style = \"text-align: right;\">4</td><td style = \"text-align: right;\">340</td><td style = \"text-align: right;\">312</td><td style = \"text-align: right;\">42</td></tr><tr><td class = \"rowNumber\" style = \"font-weight: bold; text-align: right;\">13</td><td style = \"text-align: left;\">t11_7</td><td style = \"text-align: right;\">1</td><td style = \"text-align: right;\">1128</td><td style = \"text-align: right;\">1043</td><td style = \"text-align: right;\">80</td></tr><tr><td style = \"text-align: right;\">&vellip;</td><td style = \"text-align: right;\">&vellip;</td><td style = \"text-align: right;\">&vellip;</td><td style = \"text-align: right;\">&vellip;</td><td style = \"text-align: right;\">&vellip;</td><td style = \"text-align: right;\">&vellip;</td></tr><tr><td class = \"rowNumber\" style = \"font-weight: bold; text-align: right;\">22</td><td style = \"text-align: left;\">t11_4</td><td style = \"text-align: right;\">4</td><td style = \"text-align: right;\">303</td><td style = \"text-align: right;\">269</td><td style = \"text-align: right;\">26</td></tr><tr><td class = \"rowNumber\" style = \"font-weight: bold; text-align: right;\">23</td><td style = \"text-align: left;\">t11_3</td><td style = \"text-align: right;\">1</td><td style = \"text-align: right;\">1384</td><td style = \"text-align: right;\">1304</td><td style = \"text-align: right;\">73</td></tr><tr><td class = \"rowNumber\" style = \"font-weight: bold; text-align: right;\">24</td><td style = \"text-align: left;\">t11_3</td><td style = \"text-align: right;\">2</td><td style = \"text-align: right;\">1936</td><td style = \"text-align: right;\">1797</td><td style = \"text-align: right;\">83</td></tr><tr><td class = \"rowNumber\" style = \"font-weight: bold; text-align: right;\">25</td><td style = \"text-align: left;\">t11_2</td><td style = \"text-align: right;\">1</td><td style = \"text-align: right;\">1682</td><td style = \"text-align: right;\">1561</td><td style = \"text-align: right;\">114</td></tr><tr><td class = \"rowNumber\" style = \"font-weight: bold; text-align: right;\">26</td><td style = \"text-align: left;\">t11_2</td><td style = \"text-align: right;\">2</td><td style = \"text-align: right;\">3930</td><td style = \"text-align: right;\">3696</td><td style = \"text-align: right;\">155</td></tr><tr><td class = \"rowNumber\" style = \"font-weight: bold; text-align: right;\">27</td><td style = \"text-align: left;\">t11_2</td><td style = \"text-align: right;\">3</td><td style = \"text-align: right;\">2073</td><td style = \"text-align: right;\">1925</td><td style = \"text-align: right;\">118</td></tr><tr><td class = \"rowNumber\" style = \"font-weight: bold; text-align: right;\">28</td><td style = \"text-align: left;\">t11_2</td><td style = \"text-align: right;\">4</td><td style = \"text-align: right;\">1859</td><td style = \"text-align: right;\">1738</td><td style = \"text-align: right;\">125</td></tr><tr><td class = \"rowNumber\" style = \"font-weight: bold; text-align: right;\">29</td><td style = \"text-align: left;\">t11_1</td><td style = \"text-align: right;\">1</td><td style = \"text-align: right;\">1541</td><td style = \"text-align: right;\">1417</td><td style = \"text-align: right;\">107</td></tr><tr><td class = \"rowNumber\" style = \"font-weight: bold; text-align: right;\">30</td><td style = \"text-align: left;\">t11_1</td><td style = \"text-align: right;\">2</td><td style = \"text-align: right;\">2955</td><td style = \"text-align: right;\">2773</td><td style = \"text-align: right;\">125</td></tr><tr><td class = \"rowNumber\" style = \"font-weight: bold; text-align: right;\">31</td><td style = \"text-align: left;\">t1</td><td style = \"text-align: right;\">1</td><td style = \"text-align: right;\">5921</td><td style = \"text-align: right;\">5921</td><td style = \"text-align: right;\">326</td></tr><tr><td class = \"rowNumber\" style = \"font-weight: bold; text-align: right;\">32</td><td style = \"text-align: left;\">t2</td><td style = \"text-align: right;\">1</td><td style = \"text-align: right;\">3032</td><td style = \"text-align: right;\">3032</td><td style = \"text-align: right;\">202</td></tr><tr><td class = \"rowNumber\" style = \"font-weight: bold; text-align: right;\">33</td><td style = \"text-align: left;\">t6</td><td style = \"text-align: right;\">1</td><td style = \"text-align: right;\">12812</td><td style = \"text-align: right;\">12812</td><td style = \"text-align: right;\">534</td></tr></tbody></table></div>"
      ],
      "text/latex": [
       "\\begin{tabular}{r|ccccc}\n",
       "\t& school & class & edge\\_count & unique\\_edge\\_count & node\\_count\\\\\n",
       "\t\\hline\n",
       "\t& String & Int64 & Int64 & Int64 & Int64\\\\\n",
       "\t\\hline\n",
       "\t1 & t11\\_10 & 1 & 1605 & 1487 & 94 \\\\\n",
       "\t2 & t11\\_10 & 2 & 1919 & 1760 & 98 \\\\\n",
       "\t3 & t11\\_10 & 3 & 1670 & 1545 & 99 \\\\\n",
       "\t4 & t11\\_10 & 4 & 1435 & 1325 & 95 \\\\\n",
       "\t5 & t11\\_9 & 1 & 915 & 838 & 67 \\\\\n",
       "\t6 & t11\\_9 & 2 & 1403 & 1312 & 94 \\\\\n",
       "\t7 & t11\\_9 & 3 & 864 & 783 & 75 \\\\\n",
       "\t8 & t11\\_9 & 4 & 1013 & 943 & 83 \\\\\n",
       "\t9 & t11\\_8 & 1 & 616 & 568 & 52 \\\\\n",
       "\t10 & t11\\_8 & 2 & 660 & 606 & 67 \\\\\n",
       "\t11 & t11\\_8 & 3 & 398 & 357 & 47 \\\\\n",
       "\t12 & t11\\_8 & 4 & 340 & 312 & 42 \\\\\n",
       "\t13 & t11\\_7 & 1 & 1128 & 1043 & 80 \\\\\n",
       "\t14 & t11\\_6 & 1 & 1770 & 1641 & 106 \\\\\n",
       "\t15 & t11\\_5 & 1 & 897 & 799 & 52 \\\\\n",
       "\t16 & t11\\_5 & 2 & 1185 & 1093 & 59 \\\\\n",
       "\t17 & t11\\_5 & 3 & 1035 & 957 & 56 \\\\\n",
       "\t18 & t11\\_5 & 4 & 1001 & 918 & 56 \\\\\n",
       "\t19 & t11\\_4 & 1 & 442 & 394 & 29 \\\\\n",
       "\t20 & t11\\_4 & 2 & 435 & 396 & 27 \\\\\n",
       "\t21 & t11\\_4 & 3 & 407 & 377 & 28 \\\\\n",
       "\t22 & t11\\_4 & 4 & 303 & 269 & 26 \\\\\n",
       "\t23 & t11\\_3 & 1 & 1384 & 1304 & 73 \\\\\n",
       "\t24 & t11\\_3 & 2 & 1936 & 1797 & 83 \\\\\n",
       "\t$\\dots$ & $\\dots$ & $\\dots$ & $\\dots$ & $\\dots$ & $\\dots$ \\\\\n",
       "\\end{tabular}\n"
      ],
      "text/plain": [
       "\u001b[1m33×5 DataFrame\u001b[0m\n",
       "\u001b[1m Row \u001b[0m│\u001b[1m school \u001b[0m\u001b[1m class \u001b[0m\u001b[1m edge_count \u001b[0m\u001b[1m unique_edge_count \u001b[0m\u001b[1m node_count \u001b[0m\n",
       "     │\u001b[90m String \u001b[0m\u001b[90m Int64 \u001b[0m\u001b[90m Int64      \u001b[0m\u001b[90m Int64             \u001b[0m\u001b[90m Int64      \u001b[0m\n",
       "─────┼──────────────────────────────────────────────────────────\n",
       "   1 │ t11_10      1        1605               1487          94\n",
       "   2 │ t11_10      2        1919               1760          98\n",
       "   3 │ t11_10      3        1670               1545          99\n",
       "   4 │ t11_10      4        1435               1325          95\n",
       "   5 │ t11_9       1         915                838          67\n",
       "   6 │ t11_9       2        1403               1312          94\n",
       "   7 │ t11_9       3         864                783          75\n",
       "   8 │ t11_9       4        1013                943          83\n",
       "  ⋮  │   ⋮       ⋮        ⋮               ⋮              ⋮\n",
       "  27 │ t11_2       3        2073               1925         118\n",
       "  28 │ t11_2       4        1859               1738         125\n",
       "  29 │ t11_1       1        1541               1417         107\n",
       "  30 │ t11_1       2        2955               2773         125\n",
       "  31 │ t1          1        5921               5921         326\n",
       "  32 │ t2          1        3032               3032         202\n",
       "  33 │ t6          1       12812              12812         534\n",
       "\u001b[36m                                                 18 rows omitted\u001b[0m"
      ]
     },
     "metadata": {},
     "output_type": "display_data"
    }
   ],
   "source": [
    "df_index"
   ]
  },
  {
   "cell_type": "code",
   "execution_count": null,
   "metadata": {},
   "outputs": [
    {
     "data": {
      "text/plain": [
       "(5239, 5258, 5253)"
      ]
     },
     "metadata": {},
     "output_type": "display_data"
    }
   ],
   "source": []
  },
  {
   "cell_type": "code",
   "execution_count": 14,
   "metadata": {},
   "outputs": [
    {
     "data": {
      "text/plain": [
       "([9598, 14186, 9564, 7494, 5246, 7569, 3175, 4240, 3084, 2213  …  19904, 7735, 34789, 12537, 10103, 7551, 26585, 45760, 24365, 143112], [9598, 14186, 9564, 7494, 5246, 7569, 3175, 4240, 3084, 2213  …  19904, 7735, 34789, 12537, 10103, 7551, 26585, 45760, 24365, 143112])"
      ]
     },
     "metadata": {},
     "output_type": "display_data"
    }
   ],
   "source": [
    "# get transitive triads\n",
    "\n",
    "triads_s = []\n",
    "for node_outs_dict in node_outs_dict_all\n",
    "    triads = []\n",
    "    for (source, targets) in node_outs_dict\n",
    "        for target in targets\n",
    "            if target in keys(node_outs_dict)\n",
    "                for target_target in node_outs_dict[target]\n",
    "                    if target_target in targets\n",
    "                        append!(triads, [(source, target, target_target)])\n",
    "                    end\n",
    "                end\n",
    "            end\n",
    "        end\n",
    "    end\n",
    "    push!(triads_s, triads)\n",
    "end\n",
    "# for (source, targets) in node_outs_dict\n",
    "#     for target in targets\n",
    "#         if target in keys(node_outs_dict)\n",
    "#             for target_target in node_outs_dict[target]\n",
    "#                 if target_target in targets\n",
    "#                     append!(triads, [(source, target, target_target)])\n",
    "#                 end\n",
    "#             end\n",
    "#         end\n",
    "#     end\n",
    "# end\n",
    "length.(triads_s), length.(unique.(triads_s))"
   ]
  },
  {
   "cell_type": "code",
   "execution_count": 18,
   "metadata": {},
   "outputs": [
    {
     "data": {
      "text/plain": [
       "19-element Vector{Int64}:\n",
       "   7527\n",
       "  11108\n",
       "   9451\n",
       "   8737\n",
       "   3212\n",
       "   3798\n",
       "   3172\n",
       "   1376\n",
       "  12077\n",
       "  19904\n",
       "   7735\n",
       "  34789\n",
       "  12537\n",
       "  10103\n",
       "   7551\n",
       "  26585\n",
       "  45760\n",
       "  24365\n",
       " 143112"
      ]
     },
     "metadata": {},
     "output_type": "display_data"
    }
   ],
   "source": [
    "length.(unique.(triads_s))[15:end]"
   ]
  },
  {
   "cell_type": "code",
   "execution_count": 20,
   "metadata": {},
   "outputs": [
    {
     "data": {
      "text/plain": [
       "33-element Vector{Int64}:\n",
       "  2069\n",
       "  2524\n",
       "  1577\n",
       "  1550\n",
       "  1216\n",
       "  1639\n",
       "   610\n",
       "   756\n",
       "   625\n",
       "   527\n",
       "     ⋮\n",
       "  1663\n",
       "  6933\n",
       "  2720\n",
       "  2132\n",
       "  1771\n",
       "  5690\n",
       " 10398\n",
       "  5569\n",
       " 32411"
      ]
     },
     "metadata": {},
     "output_type": "display_data"
    }
   ],
   "source": [
    "# get cyclic triads\n",
    "# thanks to sorting, each such triad will be counted only once\n",
    "\n",
    "source_nodes_s = [sort(collect(keys(node_outs_dict))) for node_outs_dict in node_outs_dict_all]\n",
    "\n",
    "cyclic_triads_s = []\n",
    "for (source_nodes, node_outs_dict) in zip(source_nodes_s, node_outs_dict_all)\n",
    "    cyclic_triads = []\n",
    "    for source in source_nodes\n",
    "        targets = sort(node_outs_dict[source])\n",
    "        # filter out targets that have smaller id than source\n",
    "        targets = [target for target in targets if target > source]\n",
    "        for target in targets\n",
    "            if target in keys(node_outs_dict)\n",
    "                target_targets = sort(node_outs_dict[target])\n",
    "                # filter out target_targets that have smaller id than source\n",
    "                target_targets = [target_target for target_target in target_targets if target_target > source]\n",
    "                # I hope above is correct\n",
    "                # target_targets = node_outs_dict[target]\n",
    "                for target_target in target_targets\n",
    "                    if target_target in keys(node_outs_dict)\n",
    "                        if source in node_outs_dict[target_target]\n",
    "                            append!(cyclic_triads, [(source, target, target_target)])\n",
    "                        end\n",
    "                    end\n",
    "                end\n",
    "            end\n",
    "        end\n",
    "    end\n",
    "    push!(cyclic_triads_s, cyclic_triads)\n",
    "end\n",
    "# for source in source_nodes\n",
    "#     targets = sort(node_outs_dict[source])\n",
    "#     # filter out targets that have smaller id than source\n",
    "#     targets = [target for target in targets if target > source]\n",
    "#     for target in targets\n",
    "#         if target in keys(node_outs_dict)\n",
    "#             target_targets = sort(node_outs_dict[target])\n",
    "#             # filter out target_targets that have smaller id than source\n",
    "#             target_targets = [target_target for target_target in target_targets if target_target > source]\n",
    "#             # I hope above is correct\n",
    "#             # target_targets = node_outs_dict[target]\n",
    "#             for target_target in target_targets\n",
    "#                 if target_target in keys(node_outs_dict)\n",
    "#                     if source in node_outs_dict[target_target]\n",
    "#                         append!(cyclic_triads, [(source, target, target_target)])\n",
    "#                     end\n",
    "#                 end\n",
    "#             end\n",
    "#         end\n",
    "#     end\n",
    "# end\n",
    "length.(cyclic_triads_s)"
   ]
  },
  {
   "cell_type": "code",
   "execution_count": 20,
   "metadata": {},
   "outputs": [
    {
     "data": {
      "text/plain": [
       "(7666, 7691, 6946)"
      ]
     },
     "metadata": {},
     "output_type": "display_data"
    }
   ],
   "source": [
    "cyclic_triads[end]  "
   ]
  },
  {
   "cell_type": "code",
   "execution_count": 23,
   "metadata": {},
   "outputs": [],
   "source": [
    "df_triads_s = [DataFrame(triads) for triads in triads_s]\n",
    "for df_triads in df_triads_s\n",
    "    rename!(df_triads, [:P, :O, :X]);\n",
    "end\n",
    "# rename!(df_triads, [:P, :O, :X]);\n",
    "\n",
    "po_edges_s = [[(df_triads.P[i], df_triads.O[i]) for i in 1:size(df_triads, 1)] for df_triads in df_triads_s]\n",
    "ox_edges_s = [[(df_triads.O[i], df_triads.X[i]) for i in 1:size(df_triads, 1)] for df_triads in df_triads_s]\n",
    "px_edges_s = [[(df_triads.P[i], df_triads.X[i]) for i in 1:size(df_triads, 1)] for df_triads in df_triads_s];"
   ]
  },
  {
   "cell_type": "code",
   "execution_count": 24,
   "metadata": {},
   "outputs": [],
   "source": [
    "df_cyclic_triads_s = [DataFrame(cyclic_triads) for cyclic_triads in cyclic_triads_s]\n",
    "for df_cyclic_triads in df_cyclic_triads_s\n",
    "    rename!(df_cyclic_triads, [:P, :O, :X]);\n",
    "end\n",
    "# rename!(df_cyclic_triads, [:P, :O, :X]);\n",
    "\n",
    "po_edges_cyclic_s = [[(df_cyclic_triads.P[i], df_cyclic_triads.O[i]) for i in 1:size(df_cyclic_triads, 1)] for df_cyclic_triads in df_cyclic_triads_s]\n",
    "ox_edges_cyclic_s = [[(df_cyclic_triads.O[i], df_cyclic_triads.X[i]) for i in 1:size(df_cyclic_triads, 1)] for df_cyclic_triads in df_cyclic_triads_s]\n",
    "xp_edges_cyclic_s = [[(df_cyclic_triads.X[i], df_cyclic_triads.P[i]) for i in 1:size(df_cyclic_triads, 1)] for df_cyclic_triads in df_cyclic_triads_s];\n"
   ]
  },
  {
   "cell_type": "code",
   "execution_count": 25,
   "metadata": {},
   "outputs": [
    {
     "data": {
      "text/plain": [
       "33-element Vector{Int64}:\n",
       "  11667\n",
       "  16710\n",
       "  11141\n",
       "   9044\n",
       "   6462\n",
       "   9208\n",
       "   3785\n",
       "   4996\n",
       "   3709\n",
       "   2740\n",
       "      ⋮\n",
       "   9398\n",
       "  41722\n",
       "  15257\n",
       "  12235\n",
       "   9322\n",
       "  32275\n",
       "  56158\n",
       "  29934\n",
       " 175523"
      ]
     },
     "metadata": {},
     "output_type": "display_data"
    }
   ],
   "source": [
    "df_all_triads_s = [DataFrame([triads..., cyclic_triads...]) for (triads, cyclic_triads) in zip(triads_s, cyclic_triads_s)]\n",
    "for df_all_triads in df_all_triads_s\n",
    "    rename!(df_all_triads, [:P, :O, :X]);\n",
    "end\n",
    "# rename!(df_all_triads, [:P, :O, :X]);\n",
    "nrow.(df_all_triads_s)\n",
    "# po_edges_all = [(df_all_triads.P[i], df_all_triads.O[i]) for i in 1:size(df_all_triads, 1)]"
   ]
  },
  {
   "cell_type": "code",
   "execution_count": 28,
   "metadata": {},
   "outputs": [
    {
     "data": {
      "text/html": [
       "<div><div style = \"float: left;\"><span>5×6 DataFrame</span></div><div style = \"clear: both;\"></div></div><div class = \"data-frame\" style = \"overflow-x: scroll;\"><table class = \"data-frame\" style = \"margin-bottom: 6px;\"><thead><tr class = \"header\"><th class = \"rowNumber\" style = \"font-weight: bold; text-align: right;\">Row</th><th style = \"text-align: left;\">P</th><th style = \"text-align: left;\">O</th><th style = \"text-align: left;\">X</th><th style = \"text-align: left;\">po_sign</th><th style = \"text-align: left;\">ox_sign</th><th style = \"text-align: left;\">px_sign</th></tr><tr class = \"subheader headerLastRow\"><th class = \"rowNumber\" style = \"font-weight: bold; text-align: right;\"></th><th title = \"Int64\" style = \"text-align: left;\">Int64</th><th title = \"Int64\" style = \"text-align: left;\">Int64</th><th title = \"Int64\" style = \"text-align: left;\">Int64</th><th title = \"Int64\" style = \"text-align: left;\">Int64</th><th title = \"Int64\" style = \"text-align: left;\">Int64</th><th title = \"Int64\" style = \"text-align: left;\">Int64</th></tr></thead><tbody><tr><td class = \"rowNumber\" style = \"font-weight: bold; text-align: right;\">1</td><td style = \"text-align: right;\">5239</td><td style = \"text-align: right;\">5258</td><td style = \"text-align: right;\">5253</td><td style = \"text-align: right;\">1</td><td style = \"text-align: right;\">1</td><td style = \"text-align: right;\">1</td></tr><tr><td class = \"rowNumber\" style = \"font-weight: bold; text-align: right;\">2</td><td style = \"text-align: right;\">5239</td><td style = \"text-align: right;\">5258</td><td style = \"text-align: right;\">5229</td><td style = \"text-align: right;\">1</td><td style = \"text-align: right;\">1</td><td style = \"text-align: right;\">1</td></tr><tr><td class = \"rowNumber\" style = \"font-weight: bold; text-align: right;\">3</td><td style = \"text-align: right;\">5239</td><td style = \"text-align: right;\">5258</td><td style = \"text-align: right;\">5234</td><td style = \"text-align: right;\">1</td><td style = \"text-align: right;\">1</td><td style = \"text-align: right;\">1</td></tr><tr><td class = \"rowNumber\" style = \"font-weight: bold; text-align: right;\">4</td><td style = \"text-align: right;\">5239</td><td style = \"text-align: right;\">5258</td><td style = \"text-align: right;\">5236</td><td style = \"text-align: right;\">1</td><td style = \"text-align: right;\">1</td><td style = \"text-align: right;\">1</td></tr><tr><td class = \"rowNumber\" style = \"font-weight: bold; text-align: right;\">5</td><td style = \"text-align: right;\">5239</td><td style = \"text-align: right;\">5258</td><td style = \"text-align: right;\">5242</td><td style = \"text-align: right;\">1</td><td style = \"text-align: right;\">1</td><td style = \"text-align: right;\">1</td></tr></tbody></table></div>"
      ],
      "text/latex": [
       "\\begin{tabular}{r|cccccc}\n",
       "\t& P & O & X & po\\_sign & ox\\_sign & px\\_sign\\\\\n",
       "\t\\hline\n",
       "\t& Int64 & Int64 & Int64 & Int64 & Int64 & Int64\\\\\n",
       "\t\\hline\n",
       "\t1 & 5239 & 5258 & 5253 & 1 & 1 & 1 \\\\\n",
       "\t2 & 5239 & 5258 & 5229 & 1 & 1 & 1 \\\\\n",
       "\t3 & 5239 & 5258 & 5234 & 1 & 1 & 1 \\\\\n",
       "\t4 & 5239 & 5258 & 5236 & 1 & 1 & 1 \\\\\n",
       "\t5 & 5239 & 5258 & 5242 & 1 & 1 & 1 \\\\\n",
       "\\end{tabular}\n"
      ],
      "text/plain": [
       "\u001b[1m5×6 DataFrame\u001b[0m\n",
       "\u001b[1m Row \u001b[0m│\u001b[1m P     \u001b[0m\u001b[1m O     \u001b[0m\u001b[1m X     \u001b[0m\u001b[1m po_sign \u001b[0m\u001b[1m ox_sign \u001b[0m\u001b[1m px_sign \u001b[0m\n",
       "     │\u001b[90m Int64 \u001b[0m\u001b[90m Int64 \u001b[0m\u001b[90m Int64 \u001b[0m\u001b[90m Int64   \u001b[0m\u001b[90m Int64   \u001b[0m\u001b[90m Int64   \u001b[0m\n",
       "─────┼────────────────────────────────────────────────\n",
       "   1 │  5239   5258   5253        1        1        1\n",
       "   2 │  5239   5258   5229        1        1        1\n",
       "   3 │  5239   5258   5234        1        1        1\n",
       "   4 │  5239   5258   5236        1        1        1\n",
       "   5 │  5239   5258   5242        1        1        1"
      ]
     },
     "metadata": {},
     "output_type": "display_data"
    }
   ],
   "source": [
    "# get sign of edges in triads. Take the last value of edge\n",
    "\n",
    "for (i, (edges_sign, df_triads)) in enumerate(zip(edges_sign_all, df_triads_s))\n",
    "    df_triads[!, \"po_sign\"] = [edges_sign[findall([edge] .== edges_all[i])][end][3] for edge in po_edges_s[i]]\n",
    "    df_triads[!, \"ox_sign\"] = [edges_sign[findall([edge] .== edges_all[i])][end][3] for edge in ox_edges_s[i]]\n",
    "    df_triads[!, \"px_sign\"] = [edges_sign[findall([edge] .== edges_all[i])][end][3] for edge in px_edges_s[i]]\n",
    "end\n",
    "\n",
    "# df_triads[!, \"po_sign\"] = [edges_sign[findall([edge] .== edges)][end][3] for edge in po_edges]\n",
    "# df_triads[!, \"ox_sign\"] = [edges_sign[findall([edge] .== edges)][end][3] for edge in ox_edges]\n",
    "# df_triads[!, \"px_sign\"] = [edges_sign[findall([edge] .== edges)][end][3] for edge in px_edges]\n",
    "first(df_triads_s[1], 5)"
   ]
  },
  {
   "cell_type": "code",
   "execution_count": 30,
   "metadata": {},
   "outputs": [
    {
     "data": {
      "text/html": [
       "<div><div style = \"float: left;\"><span>5×6 DataFrame</span></div><div style = \"clear: both;\"></div></div><div class = \"data-frame\" style = \"overflow-x: scroll;\"><table class = \"data-frame\" style = \"margin-bottom: 6px;\"><thead><tr class = \"header\"><th class = \"rowNumber\" style = \"font-weight: bold; text-align: right;\">Row</th><th style = \"text-align: left;\">P</th><th style = \"text-align: left;\">O</th><th style = \"text-align: left;\">X</th><th style = \"text-align: left;\">po_sign</th><th style = \"text-align: left;\">ox_sign</th><th style = \"text-align: left;\">xp_sign</th></tr><tr class = \"subheader headerLastRow\"><th class = \"rowNumber\" style = \"font-weight: bold; text-align: right;\"></th><th title = \"Int64\" style = \"text-align: left;\">Int64</th><th title = \"Int64\" style = \"text-align: left;\">Int64</th><th title = \"Int64\" style = \"text-align: left;\">Int64</th><th title = \"Int64\" style = \"text-align: left;\">Int64</th><th title = \"Int64\" style = \"text-align: left;\">Int64</th><th title = \"Int64\" style = \"text-align: left;\">Int64</th></tr></thead><tbody><tr><td class = \"rowNumber\" style = \"font-weight: bold; text-align: right;\">1</td><td style = \"text-align: right;\">5143</td><td style = \"text-align: right;\">5232</td><td style = \"text-align: right;\">5234</td><td style = \"text-align: right;\">-1</td><td style = \"text-align: right;\">1</td><td style = \"text-align: right;\">1</td></tr><tr><td class = \"rowNumber\" style = \"font-weight: bold; text-align: right;\">2</td><td style = \"text-align: right;\">5143</td><td style = \"text-align: right;\">5232</td><td style = \"text-align: right;\">5235</td><td style = \"text-align: right;\">-1</td><td style = \"text-align: right;\">1</td><td style = \"text-align: right;\">1</td></tr><tr><td class = \"rowNumber\" style = \"font-weight: bold; text-align: right;\">3</td><td style = \"text-align: right;\">5143</td><td style = \"text-align: right;\">5234</td><td style = \"text-align: right;\">5165</td><td style = \"text-align: right;\">1</td><td style = \"text-align: right;\">1</td><td style = \"text-align: right;\">1</td></tr><tr><td class = \"rowNumber\" style = \"font-weight: bold; text-align: right;\">4</td><td style = \"text-align: right;\">5143</td><td style = \"text-align: right;\">5234</td><td style = \"text-align: right;\">5170</td><td style = \"text-align: right;\">1</td><td style = \"text-align: right;\">1</td><td style = \"text-align: right;\">1</td></tr><tr><td class = \"rowNumber\" style = \"font-weight: bold; text-align: right;\">5</td><td style = \"text-align: right;\">5143</td><td style = \"text-align: right;\">5234</td><td style = \"text-align: right;\">5171</td><td style = \"text-align: right;\">1</td><td style = \"text-align: right;\">1</td><td style = \"text-align: right;\">1</td></tr></tbody></table></div>"
      ],
      "text/latex": [
       "\\begin{tabular}{r|cccccc}\n",
       "\t& P & O & X & po\\_sign & ox\\_sign & xp\\_sign\\\\\n",
       "\t\\hline\n",
       "\t& Int64 & Int64 & Int64 & Int64 & Int64 & Int64\\\\\n",
       "\t\\hline\n",
       "\t1 & 5143 & 5232 & 5234 & -1 & 1 & 1 \\\\\n",
       "\t2 & 5143 & 5232 & 5235 & -1 & 1 & 1 \\\\\n",
       "\t3 & 5143 & 5234 & 5165 & 1 & 1 & 1 \\\\\n",
       "\t4 & 5143 & 5234 & 5170 & 1 & 1 & 1 \\\\\n",
       "\t5 & 5143 & 5234 & 5171 & 1 & 1 & 1 \\\\\n",
       "\\end{tabular}\n"
      ],
      "text/plain": [
       "\u001b[1m5×6 DataFrame\u001b[0m\n",
       "\u001b[1m Row \u001b[0m│\u001b[1m P     \u001b[0m\u001b[1m O     \u001b[0m\u001b[1m X     \u001b[0m\u001b[1m po_sign \u001b[0m\u001b[1m ox_sign \u001b[0m\u001b[1m xp_sign \u001b[0m\n",
       "     │\u001b[90m Int64 \u001b[0m\u001b[90m Int64 \u001b[0m\u001b[90m Int64 \u001b[0m\u001b[90m Int64   \u001b[0m\u001b[90m Int64   \u001b[0m\u001b[90m Int64   \u001b[0m\n",
       "─────┼────────────────────────────────────────────────\n",
       "   1 │  5143   5232   5234       -1        1        1\n",
       "   2 │  5143   5232   5235       -1        1        1\n",
       "   3 │  5143   5234   5165        1        1        1\n",
       "   4 │  5143   5234   5170        1        1        1\n",
       "   5 │  5143   5234   5171        1        1        1"
      ]
     },
     "metadata": {},
     "output_type": "display_data"
    }
   ],
   "source": [
    "# get sign of edges in cyclic triads. Take the last value of edge\n",
    "\n",
    "for (i, (edges_sign, df_cyclic_triads)) in enumerate(zip(edges_sign_all, df_cyclic_triads_s))\n",
    "    df_cyclic_triads[!, \"po_sign\"] = [edges_sign[findall([edge] .== edges_all[i])][end][3] for edge in po_edges_cyclic_s[i]]\n",
    "    df_cyclic_triads[!, \"ox_sign\"] = [edges_sign[findall([edge] .== edges_all[i])][end][3] for edge in ox_edges_cyclic_s[i]]\n",
    "    df_cyclic_triads[!, \"xp_sign\"] = [edges_sign[findall([edge] .== edges_all[i])][end][3] for edge in xp_edges_cyclic_s[i]]\n",
    "end\n",
    "\n",
    "first(df_cyclic_triads_s[1], 5)"
   ]
  },
  {
   "cell_type": "code",
   "execution_count": 31,
   "metadata": {},
   "outputs": [
    {
     "data": {
      "text/html": [
       "<div><div style = \"float: left;\"><span>5×6 DataFrame</span></div><div style = \"clear: both;\"></div></div><div class = \"data-frame\" style = \"overflow-x: scroll;\"><table class = \"data-frame\" style = \"margin-bottom: 6px;\"><thead><tr class = \"header\"><th class = \"rowNumber\" style = \"font-weight: bold; text-align: right;\">Row</th><th style = \"text-align: left;\">P</th><th style = \"text-align: left;\">O</th><th style = \"text-align: left;\">X</th><th style = \"text-align: left;\">po_sign</th><th style = \"text-align: left;\">ox_sign</th><th style = \"text-align: left;\">xpx_sign</th></tr><tr class = \"subheader headerLastRow\"><th class = \"rowNumber\" style = \"font-weight: bold; text-align: right;\"></th><th title = \"Int64\" style = \"text-align: left;\">Int64</th><th title = \"Int64\" style = \"text-align: left;\">Int64</th><th title = \"Int64\" style = \"text-align: left;\">Int64</th><th title = \"Int64\" style = \"text-align: left;\">Int64</th><th title = \"Int64\" style = \"text-align: left;\">Int64</th><th title = \"Int64\" style = \"text-align: left;\">Int64</th></tr></thead><tbody><tr><td class = \"rowNumber\" style = \"font-weight: bold; text-align: right;\">1</td><td style = \"text-align: right;\">5239</td><td style = \"text-align: right;\">5258</td><td style = \"text-align: right;\">5253</td><td style = \"text-align: right;\">1</td><td style = \"text-align: right;\">1</td><td style = \"text-align: right;\">1</td></tr><tr><td class = \"rowNumber\" style = \"font-weight: bold; text-align: right;\">2</td><td style = \"text-align: right;\">5239</td><td style = \"text-align: right;\">5258</td><td style = \"text-align: right;\">5229</td><td style = \"text-align: right;\">1</td><td style = \"text-align: right;\">1</td><td style = \"text-align: right;\">1</td></tr><tr><td class = \"rowNumber\" style = \"font-weight: bold; text-align: right;\">3</td><td style = \"text-align: right;\">5239</td><td style = \"text-align: right;\">5258</td><td style = \"text-align: right;\">5234</td><td style = \"text-align: right;\">1</td><td style = \"text-align: right;\">1</td><td style = \"text-align: right;\">1</td></tr><tr><td class = \"rowNumber\" style = \"font-weight: bold; text-align: right;\">4</td><td style = \"text-align: right;\">5239</td><td style = \"text-align: right;\">5258</td><td style = \"text-align: right;\">5236</td><td style = \"text-align: right;\">1</td><td style = \"text-align: right;\">1</td><td style = \"text-align: right;\">1</td></tr><tr><td class = \"rowNumber\" style = \"font-weight: bold; text-align: right;\">5</td><td style = \"text-align: right;\">5239</td><td style = \"text-align: right;\">5258</td><td style = \"text-align: right;\">5242</td><td style = \"text-align: right;\">1</td><td style = \"text-align: right;\">1</td><td style = \"text-align: right;\">1</td></tr></tbody></table></div>"
      ],
      "text/latex": [
       "\\begin{tabular}{r|cccccc}\n",
       "\t& P & O & X & po\\_sign & ox\\_sign & xpx\\_sign\\\\\n",
       "\t\\hline\n",
       "\t& Int64 & Int64 & Int64 & Int64 & Int64 & Int64\\\\\n",
       "\t\\hline\n",
       "\t1 & 5239 & 5258 & 5253 & 1 & 1 & 1 \\\\\n",
       "\t2 & 5239 & 5258 & 5229 & 1 & 1 & 1 \\\\\n",
       "\t3 & 5239 & 5258 & 5234 & 1 & 1 & 1 \\\\\n",
       "\t4 & 5239 & 5258 & 5236 & 1 & 1 & 1 \\\\\n",
       "\t5 & 5239 & 5258 & 5242 & 1 & 1 & 1 \\\\\n",
       "\\end{tabular}\n"
      ],
      "text/plain": [
       "\u001b[1m5×6 DataFrame\u001b[0m\n",
       "\u001b[1m Row \u001b[0m│\u001b[1m P     \u001b[0m\u001b[1m O     \u001b[0m\u001b[1m X     \u001b[0m\u001b[1m po_sign \u001b[0m\u001b[1m ox_sign \u001b[0m\u001b[1m xpx_sign \u001b[0m\n",
       "     │\u001b[90m Int64 \u001b[0m\u001b[90m Int64 \u001b[0m\u001b[90m Int64 \u001b[0m\u001b[90m Int64   \u001b[0m\u001b[90m Int64   \u001b[0m\u001b[90m Int64    \u001b[0m\n",
       "─────┼─────────────────────────────────────────────────\n",
       "   1 │  5239   5258   5253        1        1         1\n",
       "   2 │  5239   5258   5229        1        1         1\n",
       "   3 │  5239   5258   5234        1        1         1\n",
       "   4 │  5239   5258   5236        1        1         1\n",
       "   5 │  5239   5258   5242        1        1         1"
      ]
     },
     "metadata": {},
     "output_type": "display_data"
    }
   ],
   "source": [
    "# get sign of edges in all triads. Take the last value of edge\n",
    "\n",
    "for (df_all_triads, df_triads, df_cyclic_triads) in zip(df_all_triads_s, df_triads_s, df_cyclic_triads_s)\n",
    "    df_all_triads[!, \"po_sign\"] = [df_triads[!, \"po_sign\"]..., df_cyclic_triads[!, \"po_sign\"]...]\n",
    "    df_all_triads[!, \"ox_sign\"] = [df_triads[!, \"ox_sign\"]..., df_cyclic_triads[!, \"ox_sign\"]...]\n",
    "    df_all_triads[!, \"xpx_sign\"] = [df_triads[!, \"px_sign\"]..., df_cyclic_triads[!, \"xp_sign\"]...]\n",
    "end\n",
    "\n",
    "# df_all_triads[!, \"po_sign\"] = [df_triads[!, \"po_sign\"]..., df_cyclic_triads[!, \"po_sign\"]...]\n",
    "# df_all_triads[!, \"ox_sign\"] = [df_triads[!, \"ox_sign\"]..., df_cyclic_triads[!, \"ox_sign\"]...]\n",
    "# df_all_triads[!, \"xpx_sign\"] = [df_triads[!, \"px_sign\"]..., df_cyclic_triads[!, \"xp_sign\"]...]\n",
    "\n",
    "first(df_all_triads_s[1], 5)"
   ]
  },
  {
   "cell_type": "code",
   "execution_count": 32,
   "metadata": {},
   "outputs": [],
   "source": [
    "# save df_triads\n",
    "# CSV.write(joinpath(path, \"soc-wiki-elec-triads.csv\"), df_triads)"
   ]
  },
  {
   "cell_type": "code",
   "execution_count": 33,
   "metadata": {},
   "outputs": [],
   "source": [
    "# save df_cyclic_triads\n",
    "# CSV.write(joinpath(path, \"soc-wiki-elec-cyclic-triads.csv\"), df_cyclic_triads)"
   ]
  },
  {
   "cell_type": "code",
   "execution_count": 34,
   "metadata": {},
   "outputs": [],
   "source": [
    "# save df_all_triads\n",
    "# CSV.write(joinpath(path, \"soc-wiki-elec-all-triads.csv\"), df_all_triads)"
   ]
  },
  {
   "cell_type": "code",
   "execution_count": 35,
   "metadata": {},
   "outputs": [],
   "source": [
    "# df_triads = CSV.read(joinpath(path, \"soc-wiki-elec-triads.csv\"), DataFrame)\n",
    "\n",
    "# triads = [(df_triads.P[i], df_triads.O[i], df_triads.X[i]) for i in 1:size(df_triads, 1)]"
   ]
  },
  {
   "cell_type": "code",
   "execution_count": 36,
   "metadata": {},
   "outputs": [],
   "source": [
    "# df_cyclic_triads = CSV.read(joinpath(path, \"soc-wiki-elec-cyclic-triads.csv\"), DataFrame)\n",
    "\n",
    "# cyclic_triads = [(df_cyclic_triads.P[i], df_cyclic_triads.O[i], df_cyclic_triads.X[i]) for i in 1:size(df_cyclic_triads, 1)]"
   ]
  },
  {
   "cell_type": "code",
   "execution_count": 37,
   "metadata": {},
   "outputs": [],
   "source": [
    "# df_all_triads = CSV.read(joinpath(path, \"soc-wiki-elec-all-triads.csv\"), DataFrame)"
   ]
  },
  {
   "cell_type": "code",
   "execution_count": 38,
   "metadata": {},
   "outputs": [],
   "source": [
    "# identify triads that consist of the same edges\n",
    "\n",
    "all_triads_s = []\n",
    "all_triads_ordered_s = []\n",
    "all_triads_unique_s = []\n",
    "all_triads_dict_s = []\n",
    "for (triads, cyclic_triads) in zip(triads_s, cyclic_triads_s)\n",
    "    all_triads = [triads..., cyclic_triads...]\n",
    "    push!(all_triads_s, all_triads)\n",
    "\n",
    "    all_triads_ordered = sort.([[p, o, x] for (p, o, x) in all_triads])\n",
    "    push!(all_triads_ordered_s, all_triads_ordered)\n",
    "\n",
    "    all_triads_unique = unique(all_triads_ordered)\n",
    "    push!(all_triads_unique_s, all_triads_unique)\n",
    "\n",
    "    # create a dictionary with unique triads as keys and indices of their appearance as values\n",
    "    all_triads_dict = Dict(all_triads_unique .=> [findall(all_triads_ordered .== [triad]) for triad in all_triads_unique])\n",
    "    push!(all_triads_dict_s, all_triads_dict)\n",
    "end\n",
    "\n",
    "# all_triads = [triads..., cyclic_triads...]\n",
    "\n",
    "# all_triads_ordered = sort.([[p, o, x] for (p, o, x) in all_triads])\n",
    "# all_triads_unique = unique(all_triads_ordered)\n",
    "\n",
    "# # create a dictionary with unique triads as keys and indices of their appearance as values\n",
    "# all_triads_dict = Dict(all_triads_unique .=> [findall(all_triads_ordered .== [triad]) for triad in all_triads_unique])\n",
    "\n"
   ]
  },
  {
   "cell_type": "code",
   "execution_count": 39,
   "metadata": {},
   "outputs": [],
   "source": [
    "using JLD2, FileIO\n",
    "\n",
    "save(joinpath(path, \"spanish-all-triads-dict.jld2\"), \"all_triads_dict_s\", all_triads_dict_s)"
   ]
  },
  {
   "cell_type": "code",
   "execution_count": 40,
   "metadata": {},
   "outputs": [
    {
     "data": {
      "text/html": [
       "<div><div style = \"float: left;\"><span>4805×3 DataFrame</span></div><div style = \"float: right;\"><span style = \"font-style: italic;\">4780 rows omitted</span></div><div style = \"clear: both;\"></div></div><div class = \"data-frame\" style = \"overflow-x: scroll;\"><table class = \"data-frame\" style = \"margin-bottom: 6px;\"><thead><tr class = \"header\"><th class = \"rowNumber\" style = \"font-weight: bold; text-align: right;\">Row</th><th style = \"text-align: left;\">triad</th><th style = \"text-align: left;\">inds</th><th style = \"text-align: left;\">count</th></tr><tr class = \"subheader headerLastRow\"><th class = \"rowNumber\" style = \"font-weight: bold; text-align: right;\"></th><th title = \"Vector{Int64}\" style = \"text-align: left;\">Array…</th><th title = \"Vector{Int64}\" style = \"text-align: left;\">Array…</th><th title = \"Int64\" style = \"text-align: left;\">Int64</th></tr></thead><tbody><tr><td class = \"rowNumber\" style = \"font-weight: bold; text-align: right;\">1</td><td style = \"text-align: left;\">[5143, 5236, 5238]</td><td style = \"text-align: left;\">[2185, 2186]</td><td style = \"text-align: right;\">2</td></tr><tr><td class = \"rowNumber\" style = \"font-weight: bold; text-align: right;\">2</td><td style = \"text-align: left;\">[5175, 5200, 5217]</td><td style = \"text-align: left;\">[1607, 1780, 2801, 10235]</td><td style = \"text-align: right;\">4</td></tr><tr><td class = \"rowNumber\" style = \"font-weight: bold; text-align: right;\">3</td><td style = \"text-align: left;\">[5154, 5192, 5198]</td><td style = \"text-align: left;\">[9899]</td><td style = \"text-align: right;\">1</td></tr><tr><td class = \"rowNumber\" style = \"font-weight: bold; text-align: right;\">4</td><td style = \"text-align: left;\">[5206, 5209, 5222]</td><td style = \"text-align: left;\">[7007]</td><td style = \"text-align: right;\">1</td></tr><tr><td class = \"rowNumber\" style = \"font-weight: bold; text-align: right;\">5</td><td style = \"text-align: left;\">[5177, 5243, 5249]</td><td style = \"text-align: left;\">[2408]</td><td style = \"text-align: right;\">1</td></tr><tr><td class = \"rowNumber\" style = \"font-weight: bold; text-align: right;\">6</td><td style = \"text-align: left;\">[5168, 5190, 5257]</td><td style = \"text-align: left;\">[4400]</td><td style = \"text-align: right;\">1</td></tr><tr><td class = \"rowNumber\" style = \"font-weight: bold; text-align: right;\">7</td><td style = \"text-align: left;\">[5149, 5163, 5170]</td><td style = \"text-align: left;\">[4565]</td><td style = \"text-align: right;\">1</td></tr><tr><td class = \"rowNumber\" style = \"font-weight: bold; text-align: right;\">8</td><td style = \"text-align: left;\">[5175, 5194, 5223]</td><td style = \"text-align: left;\">[1558, 1575]</td><td style = \"text-align: right;\">2</td></tr><tr><td class = \"rowNumber\" style = \"font-weight: bold; text-align: right;\">9</td><td style = \"text-align: left;\">[5195, 5229, 5258]</td><td style = \"text-align: left;\">[332, 445]</td><td style = \"text-align: right;\">2</td></tr><tr><td class = \"rowNumber\" style = \"font-weight: bold; text-align: right;\">10</td><td style = \"text-align: left;\">[5195, 5196, 5214]</td><td style = \"text-align: left;\">[4705]</td><td style = \"text-align: right;\">1</td></tr><tr><td class = \"rowNumber\" style = \"font-weight: bold; text-align: right;\">11</td><td style = \"text-align: left;\">[5229, 5236, 5238]</td><td style = \"text-align: left;\">[6069, 6118, 6125, 6152, 8215, 8246, 11203, 11218]</td><td style = \"text-align: right;\">8</td></tr><tr><td class = \"rowNumber\" style = \"font-weight: bold; text-align: right;\">12</td><td style = \"text-align: left;\">[5206, 5211, 5217]</td><td style = \"text-align: left;\">[2865, 9388]</td><td style = \"text-align: right;\">2</td></tr><tr><td class = \"rowNumber\" style = \"font-weight: bold; text-align: right;\">13</td><td style = \"text-align: left;\">[5147, 5150, 5168]</td><td style = \"text-align: left;\">[4407]</td><td style = \"text-align: right;\">1</td></tr><tr><td style = \"text-align: right;\">&vellip;</td><td style = \"text-align: right;\">&vellip;</td><td style = \"text-align: right;\">&vellip;</td><td style = \"text-align: right;\">&vellip;</td></tr><tr><td class = \"rowNumber\" style = \"font-weight: bold; text-align: right;\">4794</td><td style = \"text-align: left;\">[5150, 5215, 5235]</td><td style = \"text-align: left;\">[820, 8567]</td><td style = \"text-align: right;\">2</td></tr><tr><td class = \"rowNumber\" style = \"font-weight: bold; text-align: right;\">4795</td><td style = \"text-align: left;\">[5146, 5163, 5168]</td><td style = \"text-align: left;\">[4272, 4594, 4612, 9670]</td><td style = \"text-align: right;\">4</td></tr><tr><td class = \"rowNumber\" style = \"font-weight: bold; text-align: right;\">4796</td><td style = \"text-align: left;\">[5217, 5235, 5258]</td><td style = \"text-align: left;\">[752]</td><td style = \"text-align: right;\">1</td></tr><tr><td class = \"rowNumber\" style = \"font-weight: bold; text-align: right;\">4797</td><td style = \"text-align: left;\">[5209, 5211, 5213]</td><td style = \"text-align: left;\">[8975, 9012, 9403, 10872]</td><td style = \"text-align: right;\">4</td></tr><tr><td class = \"rowNumber\" style = \"font-weight: bold; text-align: right;\">4798</td><td style = \"text-align: left;\">[5217, 5233, 5258]</td><td style = \"text-align: left;\">[11132]</td><td style = \"text-align: right;\">1</td></tr><tr><td class = \"rowNumber\" style = \"font-weight: bold; text-align: right;\">4799</td><td style = \"text-align: left;\">[5158, 5216, 5222]</td><td style = \"text-align: left;\">[5296, 6948]</td><td style = \"text-align: right;\">2</td></tr><tr><td class = \"rowNumber\" style = \"font-weight: bold; text-align: right;\">4800</td><td style = \"text-align: left;\">[5207, 5215, 5223]</td><td style = \"text-align: left;\">[8948]</td><td style = \"text-align: right;\">1</td></tr><tr><td class = \"rowNumber\" style = \"font-weight: bold; text-align: right;\">4801</td><td style = \"text-align: left;\">[5175, 5200, 5245]</td><td style = \"text-align: left;\">[1784]</td><td style = \"text-align: right;\">1</td></tr><tr><td class = \"rowNumber\" style = \"font-weight: bold; text-align: right;\">4802</td><td style = \"text-align: left;\">[5151, 5175, 5210]</td><td style = \"text-align: left;\">[1553, 1827]</td><td style = \"text-align: right;\">2</td></tr><tr><td class = \"rowNumber\" style = \"font-weight: bold; text-align: right;\">4803</td><td style = \"text-align: left;\">[5164, 5168, 5223]</td><td style = \"text-align: left;\">[4267, 4330]</td><td style = \"text-align: right;\">2</td></tr><tr><td class = \"rowNumber\" style = \"font-weight: bold; text-align: right;\">4804</td><td style = \"text-align: left;\">[5168, 5196, 5215]</td><td style = \"text-align: left;\">[4687, 8618]</td><td style = \"text-align: right;\">2</td></tr><tr><td class = \"rowNumber\" style = \"font-weight: bold; text-align: right;\">4805</td><td style = \"text-align: left;\">[5191, 5195, 5196]</td><td style = \"text-align: left;\">[4749]</td><td style = \"text-align: right;\">1</td></tr></tbody></table></div>"
      ],
      "text/latex": [
       "\\begin{tabular}{r|ccc}\n",
       "\t& triad & inds & count\\\\\n",
       "\t\\hline\n",
       "\t& Array… & Array… & Int64\\\\\n",
       "\t\\hline\n",
       "\t1 & [5143, 5236, 5238] & [2185, 2186] & 2 \\\\\n",
       "\t2 & [5175, 5200, 5217] & [1607, 1780, 2801, 10235] & 4 \\\\\n",
       "\t3 & [5154, 5192, 5198] & [9899] & 1 \\\\\n",
       "\t4 & [5206, 5209, 5222] & [7007] & 1 \\\\\n",
       "\t5 & [5177, 5243, 5249] & [2408] & 1 \\\\\n",
       "\t6 & [5168, 5190, 5257] & [4400] & 1 \\\\\n",
       "\t7 & [5149, 5163, 5170] & [4565] & 1 \\\\\n",
       "\t8 & [5175, 5194, 5223] & [1558, 1575] & 2 \\\\\n",
       "\t9 & [5195, 5229, 5258] & [332, 445] & 2 \\\\\n",
       "\t10 & [5195, 5196, 5214] & [4705] & 1 \\\\\n",
       "\t11 & [5229, 5236, 5238] & [6069, 6118, 6125, 6152, 8215, 8246, 11203, 11218] & 8 \\\\\n",
       "\t12 & [5206, 5211, 5217] & [2865, 9388] & 2 \\\\\n",
       "\t13 & [5147, 5150, 5168] & [4407] & 1 \\\\\n",
       "\t14 & [5143, 5168, 5171] & [4379] & 1 \\\\\n",
       "\t15 & [5154, 5155, 5173] & [9289, 9897] & 2 \\\\\n",
       "\t16 & [5152, 5235, 5243] & [457, 1284, 1295, 9866] & 4 \\\\\n",
       "\t17 & [5179, 5188, 5193] & [2590, 2596, 7520, 10405] & 4 \\\\\n",
       "\t18 & [5173, 5181, 5198] & [5641, 5687] & 2 \\\\\n",
       "\t19 & [5175, 5200, 5254] & [1782] & 1 \\\\\n",
       "\t20 & [5231, 5239, 5248] & [158] & 1 \\\\\n",
       "\t21 & [5195, 5239, 5240] & [325, 385] & 2 \\\\\n",
       "\t22 & [5196, 5202, 5217] & [3052] & 1 \\\\\n",
       "\t23 & [5215, 5232, 5240] & [2527, 8714, 8901, 11059] & 4 \\\\\n",
       "\t24 & [5151, 5174, 5214] & [5500] & 1 \\\\\n",
       "\t$\\dots$ & $\\dots$ & $\\dots$ & $\\dots$ \\\\\n",
       "\\end{tabular}\n"
      ],
      "text/plain": [
       "\u001b[1m4805×3 DataFrame\u001b[0m\n",
       "\u001b[1m  Row \u001b[0m│\u001b[1m triad              \u001b[0m\u001b[1m inds                              \u001b[0m\u001b[1m count \u001b[0m\n",
       "      │\u001b[90m Array…             \u001b[0m\u001b[90m Array…                            \u001b[0m\u001b[90m Int64 \u001b[0m\n",
       "──────┼──────────────────────────────────────────────────────────────\n",
       "    1 │ [5143, 5236, 5238]  [2185, 2186]                           2\n",
       "    2 │ [5175, 5200, 5217]  [1607, 1780, 2801, 10235]              4\n",
       "    3 │ [5154, 5192, 5198]  [9899]                                 1\n",
       "    4 │ [5206, 5209, 5222]  [7007]                                 1\n",
       "    5 │ [5177, 5243, 5249]  [2408]                                 1\n",
       "    6 │ [5168, 5190, 5257]  [4400]                                 1\n",
       "    7 │ [5149, 5163, 5170]  [4565]                                 1\n",
       "    8 │ [5175, 5194, 5223]  [1558, 1575]                           2\n",
       "  ⋮   │         ⋮                           ⋮                    ⋮\n",
       " 4799 │ [5158, 5216, 5222]  [5296, 6948]                           2\n",
       " 4800 │ [5207, 5215, 5223]  [8948]                                 1\n",
       " 4801 │ [5175, 5200, 5245]  [1784]                                 1\n",
       " 4802 │ [5151, 5175, 5210]  [1553, 1827]                           2\n",
       " 4803 │ [5164, 5168, 5223]  [4267, 4330]                           2\n",
       " 4804 │ [5168, 5196, 5215]  [4687, 8618]                           2\n",
       " 4805 │ [5191, 5195, 5196]  [4749]                                 1\n",
       "\u001b[36m                                                    4790 rows omitted\u001b[0m"
      ]
     },
     "metadata": {},
     "output_type": "display_data"
    }
   ],
   "source": [
    "# create dataframe from dict\n",
    "\n",
    "\n",
    "\n",
    "df_all_triads_dict_s = [DataFrame(triad = collect(keys(all_triads_dict)), inds = collect(values(all_triads_dict)),\n",
    "                           count = length.(collect(values(all_triads_dict)))) for all_triads_dict in all_triads_dict_s]\n",
    "\n",
    "# collect(keys(triads_dict))\n",
    "df_all_triads_dict_s[1]"
   ]
  },
  {
   "cell_type": "code",
   "execution_count": 42,
   "metadata": {},
   "outputs": [
    {
     "data": {
      "text/html": [
       "<div><div style = \"float: left;\"><span>5×5 DataFrame</span></div><div style = \"clear: both;\"></div></div><div class = \"data-frame\" style = \"overflow-x: scroll;\"><table class = \"data-frame\" style = \"margin-bottom: 6px;\"><thead><tr class = \"header\"><th class = \"rowNumber\" style = \"font-weight: bold; text-align: right;\">Row</th><th style = \"text-align: left;\">triad</th><th style = \"text-align: left;\">inds</th><th style = \"text-align: left;\">count</th><th style = \"text-align: left;\">triad_type</th><th style = \"text-align: left;\">exact_inds</th></tr><tr class = \"subheader headerLastRow\"><th class = \"rowNumber\" style = \"font-weight: bold; text-align: right;\"></th><th title = \"Vector{Int64}\" style = \"text-align: left;\">Array…</th><th title = \"Vector{Int64}\" style = \"text-align: left;\">Array…</th><th title = \"Int64\" style = \"text-align: left;\">Int64</th><th title = \"Vector{Int64}\" style = \"text-align: left;\">Array…</th><th title = \"Vector{Int64}\" style = \"text-align: left;\">Array…</th></tr></thead><tbody><tr><td class = \"rowNumber\" style = \"font-weight: bold; text-align: right;\">1</td><td style = \"text-align: left;\">[5143, 5236, 5238]</td><td style = \"text-align: left;\">[2185, 2186]</td><td style = \"text-align: right;\">2</td><td style = \"text-align: left;\">[1, 1]</td><td style = \"text-align: left;\">[2185, 2186]</td></tr><tr><td class = \"rowNumber\" style = \"font-weight: bold; text-align: right;\">2</td><td style = \"text-align: left;\">[5175, 5200, 5217]</td><td style = \"text-align: left;\">[1607, 1780, 2801, 10235]</td><td style = \"text-align: right;\">4</td><td style = \"text-align: left;\">[1, 1, 1, 2]</td><td style = \"text-align: left;\">[1607, 1780, 2801, 637]</td></tr><tr><td class = \"rowNumber\" style = \"font-weight: bold; text-align: right;\">3</td><td style = \"text-align: left;\">[5154, 5192, 5198]</td><td style = \"text-align: left;\">[9899]</td><td style = \"text-align: right;\">1</td><td style = \"text-align: left;\">[2]</td><td style = \"text-align: left;\">[301]</td></tr><tr><td class = \"rowNumber\" style = \"font-weight: bold; text-align: right;\">4</td><td style = \"text-align: left;\">[5206, 5209, 5222]</td><td style = \"text-align: left;\">[7007]</td><td style = \"text-align: right;\">1</td><td style = \"text-align: left;\">[1]</td><td style = \"text-align: left;\">[7007]</td></tr><tr><td class = \"rowNumber\" style = \"font-weight: bold; text-align: right;\">5</td><td style = \"text-align: left;\">[5177, 5243, 5249]</td><td style = \"text-align: left;\">[2408]</td><td style = \"text-align: right;\">1</td><td style = \"text-align: left;\">[1]</td><td style = \"text-align: left;\">[2408]</td></tr></tbody></table></div>"
      ],
      "text/latex": [
       "\\begin{tabular}{r|ccccc}\n",
       "\t& triad & inds & count & triad\\_type & exact\\_inds\\\\\n",
       "\t\\hline\n",
       "\t& Array… & Array… & Int64 & Array… & Array…\\\\\n",
       "\t\\hline\n",
       "\t1 & [5143, 5236, 5238] & [2185, 2186] & 2 & [1, 1] & [2185, 2186] \\\\\n",
       "\t2 & [5175, 5200, 5217] & [1607, 1780, 2801, 10235] & 4 & [1, 1, 1, 2] & [1607, 1780, 2801, 637] \\\\\n",
       "\t3 & [5154, 5192, 5198] & [9899] & 1 & [2] & [301] \\\\\n",
       "\t4 & [5206, 5209, 5222] & [7007] & 1 & [1] & [7007] \\\\\n",
       "\t5 & [5177, 5243, 5249] & [2408] & 1 & [1] & [2408] \\\\\n",
       "\\end{tabular}\n"
      ],
      "text/plain": [
       "\u001b[1m5×5 DataFrame\u001b[0m\n",
       "\u001b[1m Row \u001b[0m│\u001b[1m triad              \u001b[0m\u001b[1m inds                      \u001b[0m\u001b[1m count \u001b[0m\u001b[1m triad_type   \u001b[0m\u001b[1m exa\u001b[0m ⋯\n",
       "     │\u001b[90m Array…             \u001b[0m\u001b[90m Array…                    \u001b[0m\u001b[90m Int64 \u001b[0m\u001b[90m Array…       \u001b[0m\u001b[90m Arr\u001b[0m ⋯\n",
       "─────┼──────────────────────────────────────────────────────────────────────────\n",
       "   1 │ [5143, 5236, 5238]  [2185, 2186]                   2  [1, 1]        [21 ⋯\n",
       "   2 │ [5175, 5200, 5217]  [1607, 1780, 2801, 10235]      4  [1, 1, 1, 2]  [16\n",
       "   3 │ [5154, 5192, 5198]  [9899]                         1  [2]           [30\n",
       "   4 │ [5206, 5209, 5222]  [7007]                         1  [1]           [70\n",
       "   5 │ [5177, 5243, 5249]  [2408]                         1  [1]           [24 ⋯\n",
       "\u001b[36m                                                                1 column omitted\u001b[0m"
      ]
     },
     "metadata": {},
     "output_type": "display_data"
    }
   ],
   "source": [
    "# add columns with the type of triad (transitive or cyclic) and inds in the source dataframe\n",
    "\n",
    "# length(triads), length(cyclic_triads), length(all_triads)\n",
    "\n",
    "for (i, df_all_triads_dict) in enumerate(df_all_triads_dict_s)\n",
    "    df_all_triads_dict[!, \"triad_type\"] = [(inds .> length(triads_s[i])) .+ 1 for inds in df_all_triads_dict.inds]\n",
    "\n",
    "    df_all_triads_dict[!, \"exact_inds\"] = [inds .- length(triads_s[i]) .* (type .- 1) for (inds, type) in zip(df_all_triads_dict.inds, df_all_triads_dict.triad_type)]\n",
    "end\n",
    "\n",
    "# df_all_triads_dict[!, \"triad_type\"] = [(inds .> length(triads)) .+ 1 for inds in df_all_triads_dict.inds]\n",
    "\n",
    "# df_all_triads_dict[!, \"exact_inds\"] = [inds .- length(triads) .* (type .- 1) for (inds, type) in zip(df_all_triads_dict.inds, df_all_triads_dict.triad_type)]\n",
    "\n",
    "first(df_all_triads_dict_s[1], 5)"
   ]
  },
  {
   "cell_type": "markdown",
   "metadata": {},
   "source": [
    "### Balance and hierarchy analysis including cyclic triads"
   ]
  },
  {
   "cell_type": "code",
   "execution_count": 43,
   "metadata": {},
   "outputs": [
    {
     "data": {
      "text/plain": [
       "get_edges (generic function with 1 method)"
      ]
     },
     "metadata": {},
     "output_type": "display_data"
    }
   ],
   "source": [
    "get_transitive_edges(triad) = [(triad[1], triad[2]), (triad[2], triad[3]), (triad[1], triad[3])]\n",
    "get_cyclic_edges(triad) = [(triad[1], triad[2]), (triad[2], triad[3]), (triad[3], triad[1])]\n",
    "function get_edges(triad, type)\n",
    "    if type == 1\n",
    "        return get_transitive_edges(triad)\n",
    "    elseif type == 2\n",
    "        return get_cyclic_edges(triad)\n",
    "    end\n",
    "end"
   ]
  },
  {
   "cell_type": "code",
   "execution_count": 46,
   "metadata": {},
   "outputs": [
    {
     "name": "stdout",
     "output_type": "stream",
     "text": [
      "210\n"
     ]
    },
    {
     "data": {
      "text/plain": [
       "8-element Vector{Int64}:\n",
       " 1\n",
       " 1\n",
       " 1\n",
       " 0\n",
       " 0\n",
       " 0\n",
       " 1\n",
       " 0"
      ]
     },
     "metadata": {},
     "output_type": "display_data"
    }
   ],
   "source": [
    "using PyCall\n",
    "\n",
    "net = 1\n",
    "df_all_triads_dicti = df_all_triads_dict_s[net]\n",
    "triadsi = triads_s[net]\n",
    "cyclic_triadsi = cyclic_triads_s[net]\n",
    "df_all_triadsi = df_all_triads_s[net]\n",
    "\n",
    "i = 2\n",
    "triad = df_all_triads_dicti.triad[i]\n",
    "types = df_all_triads_dicti.triad_type[i]\n",
    "inds = df_all_triads_dicti.inds[i]\n",
    "exact_inds = df_all_triads_dicti.exact_inds[i]\n",
    "\n",
    "# get triad list\n",
    "sources = [triadsi, cyclic_triadsi]\n",
    "type_sources = sources[types]\n",
    "# triad_list = sources[types][exact_inds]\n",
    "triad_list = [triad_source[exact_ind] for (triad_source, exact_ind) in zip(type_sources, exact_inds)]\n",
    "# triad_list = triads[inds]\n",
    "\n",
    "edges_list = get_edges.(triad_list, types)\n",
    "edges_list = reduce(vcat, edges_list)\n",
    "unique_edges = unique(edges_list)\n",
    "\n",
    "py\"\"\"\n",
    "import networkx as nx\n",
    "\"\"\"\n",
    "\n",
    "G = py\"nx.DiGraph\"([edges_list...])\n",
    "\n",
    "# print(G.edges)\n",
    "\n",
    "triad_census = py\"nx.triadic_census\"(G)\n",
    "\n",
    "triad_census_triads = collect(keys(triad_census))\n",
    "\n",
    "tc_ind = collect(values(triad_census)) .== 1\n",
    "\n",
    "println(triad_census_triads[tc_ind][1])\n",
    "\n",
    "# get signed triad type\n",
    "sign_vals_s = values(df_all_triadsi[inds, 4:6])\n",
    "sign_vals_s = Matrix(sign_vals_s)\n",
    "sign_vals_s = mapslices(x->[x], sign_vals_s, dims=2)[:]\n",
    "\n",
    "n_arr = zeros(Int, 8)\n",
    "\n",
    "for sign_vals in sign_vals_s\n",
    "    connections_values = sign_vals .== 1\n",
    "    n_arr[connections_values[1]*4 + connections_values[3]*2 + connections_values[2]+1] += 1\n",
    "end\n",
    "n_arr\n",
    "# n_arr"
   ]
  },
  {
   "cell_type": "code",
   "execution_count": 97,
   "metadata": {},
   "outputs": [
    {
     "data": {
      "text/plain": [
       "\"120C\""
      ]
     },
     "metadata": {},
     "output_type": "display_data"
    }
   ],
   "source": [
    "triad_census_triads[tc_ind][1]"
   ]
  },
  {
   "cell_type": "code",
   "execution_count": 48,
   "metadata": {},
   "outputs": [
    {
     "name": "stdout",
     "output_type": "stream",
     "text": [
      "Processed 10000 triads. Currently in 2-th network\n",
      "Processed 20000 triads. Currently in 4-th network\n",
      "Processed 30000 triads. Currently in 8-th network\n",
      "Processed 40000 triads. Currently in 14-th network\n",
      "Processed 50000 triads. Currently in 17-th network\n",
      "Processed 60000 triads. Currently in 20-th network\n",
      "Processed 70000 triads. Currently in 24-th network\n",
      "Processed 80000 triads. Currently in 25-th network\n",
      "Processed 90000 triads. Currently in 26-th network\n",
      "Processed 100000 triads. Currently in 26-th network\n",
      "Processed 110000 triads. Currently in 28-th network\n",
      "Processed 120000 triads. Currently in 30-th network\n",
      "Processed 130000 triads. Currently in 31-th network\n",
      "Processed 140000 triads. Currently in 31-th network\n",
      "Processed 150000 triads. Currently in 32-th network\n",
      "Processed 160000 triads. Currently in 33-th network\n",
      "Processed 170000 triads. Currently in 33-th network\n",
      "Processed 180000 triads. Currently in 33-th network\n",
      "Processed 190000 triads. Currently in 33-th network\n",
      "Processed 200000 triads. Currently in 33-th network\n",
      "Processed 210000 triads. Currently in 33-th network\n"
     ]
    }
   ],
   "source": [
    "using PyCall\n",
    "py\"\"\"\n",
    "import networkx as nx\n",
    "\"\"\"\n",
    "\n",
    "G = py\"nx.DiGraph\"()\n",
    "\n",
    "triad_census = py\"nx.triadic_census\"(G)\n",
    "triad_census_triads = collect(keys(triad_census))\n",
    "\n",
    "# signed triad types:\n",
    "n_arr_dict_s = [Dict( triad_census_triads .=> [zeros(Int, 12) for _ in 1:length(triad_census_triads)]) for _ in 1:length(triads_s)]\n",
    "# first 8 as standard n_arr_dict, the next 4 from cycles: 9 - 0 neg links, 10 - 1 neg link etc.\n",
    "n_bal_dict_s = [Dict( triad_census_triads .=> [0 for _ in 1:length(triad_census_triads)]) for _ in 1:length(triads_s)]\n",
    "n_hier_dict_s = [Dict( triad_census_triads .=> [0 for _ in 1:length(triad_census_triads)]) for _ in 1:length(triads_s)]\n",
    "n_tot_dict_s = [Dict( triad_census_triads .=> [0 for _ in 1:length(triad_census_triads)]) for _ in 1:length(triads_s)]\n",
    "\n",
    "n_trans_bal_dict_s = [Dict( triad_census_triads .=> [0 for _ in 1:length(triad_census_triads)]) for _ in 1:length(triads_s)]\n",
    "n_trans_hier_dict_s = [Dict( triad_census_triads .=> [0 for _ in 1:length(triad_census_triads)]) for _ in 1:length(triads_s)]\n",
    "n_trans_tot_dict_s = [Dict( triad_census_triads .=> [0 for _ in 1:length(triad_census_triads)]) for _ in 1:length(triads_s)]\n",
    "\n",
    "n_cyclic_bal_dict_s = [Dict( triad_census_triads .=> [0 for _ in 1:length(triad_census_triads)]) for _ in 1:length(triads_s)]\n",
    "n_cyclic_hier_dict_s = [Dict( triad_census_triads .=> [0 for _ in 1:length(triad_census_triads)]) for _ in 1:length(triads_s)]\n",
    "n_cyclic_tot_dict_s = [Dict( triad_census_triads .=> [0 for _ in 1:length(triad_census_triads)]) for _ in 1:length(triads_s)]\n",
    "\n",
    "inform_after = 10000\n",
    "counter = 0\n",
    "for (i, df_all_triads_dict) in enumerate(df_all_triads_dict_s)\n",
    "    sources = [triads_s[i], cyclic_triads_s[i]]\n",
    "    \n",
    "    for (triad, inds, count, trans_or_cyclics, exact_inds) in eachrow(df_all_triads_dict)\n",
    "        type_sources = sources[trans_or_cyclics]\n",
    "        triad_list = [triad_source[exact_ind] for (triad_source, exact_ind) in zip(type_sources, exact_inds)]\n",
    "\n",
    "        # get edges list from triad list\n",
    "        edges_list = get_edges.(triad_list, trans_or_cyclics)\n",
    "        edges_list = reduce(vcat, edges_list)\n",
    "        unique_edges = unique(edges_list)\n",
    "\n",
    "        # call Python from julia, use networkx to get triad census on subgraphs\n",
    "        G = py\"nx.DiGraph\"([unique_edges...])\n",
    "        triad_census = py\"nx.triadic_census\"(G)\n",
    "        triad_census_triads = collect(keys(triad_census))\n",
    "        tc_ind = collect(values(triad_census)) .== 1\n",
    "        triad_type = triad_census_triads[tc_ind][1]\n",
    "\n",
    "        # get signed triad type\n",
    "        sign_vals_s = values(df_all_triads_s[i][inds, 4:6])\n",
    "        sign_vals_s = Matrix(sign_vals_s)\n",
    "        sign_vals_s = mapslices(x->[x], sign_vals_s, dims=2)[:]\n",
    "\n",
    "        hier = true\n",
    "        hier_trans = true\n",
    "        hier_cyclic = true\n",
    "        bal_trans = true\n",
    "        bal_cyclic = true\n",
    "        # indicators that trans/cyclic triads were considered at all\n",
    "        some_trans = false\n",
    "        some_cyclic = false\n",
    "        for (sign_vals, trans_or_cyclic) in zip(sign_vals_s, trans_or_cyclics)\n",
    "            if trans_or_cyclic == 1\n",
    "                some_trans = true\n",
    "                n_trans_tot_dict_s[i][triad_type] += 1\n",
    "                if prod(sign_vals) != 1\n",
    "                    bal_trans = false\n",
    "                end\n",
    "\n",
    "                connections_values = sign_vals .== 1\n",
    "                signed_triad_type = connections_values[1]*4 + connections_values[3]*2 + connections_values[2]+1\n",
    "                \n",
    "            elseif trans_or_cyclic == 2\n",
    "                some_cyclic = true\n",
    "\n",
    "                n_cyclic_tot_dict_s[i][triad_type] += 1\n",
    "                if prod(sign_vals) != 1\n",
    "                    bal_cyclic = false\n",
    "                end\n",
    "\n",
    "                num_pos_links = sum(sign_vals .== 1)\n",
    "                signed_triad_type = 9 + num_pos_links\n",
    "            else\n",
    "                println(trans_or_cyclics)\n",
    "                error(\"Wrong type\")\n",
    "            end\n",
    "            n_arr_dict_s[i][triad_type][signed_triad_type] += 1\n",
    "\n",
    "            if signed_triad_type in [3, 6, 9, 12]\n",
    "                hier = false\n",
    "                if signed_triad_type in [3, 6]\n",
    "                    hier_trans = false\n",
    "                else\n",
    "                    hier_cyclic = false\n",
    "                end\n",
    "            end\n",
    "        end\n",
    "        n_tot_dict_s[i][triad_type] += 1\n",
    "        n_bal_dict_s[i][triad_type] += all(prod.(sign_vals_s) .== 1)\n",
    "        n_hier_dict_s[i][triad_type] += hier\n",
    "\n",
    "        n_trans_bal_dict_s[i][triad_type] += bal_trans * some_trans\n",
    "        n_cyclic_bal_dict_s[i][triad_type] += bal_cyclic * some_cyclic\n",
    "\n",
    "        n_trans_hier_dict_s[i][triad_type] += hier_trans * some_trans\n",
    "        n_cyclic_hier_dict_s[i][triad_type] += hier_cyclic * some_cyclic\n",
    "\n",
    "        # println(triad_list, inds)\n",
    "        counter += 1\n",
    "        # if counter > 5000\n",
    "        #     break\n",
    "        # end\n",
    "        if counter % inform_after == 0\n",
    "            # print time\n",
    "            # print()\n",
    "            # break\n",
    "            println(\"Processed $counter triads. Currently in $i-th network\")\n",
    "            flush(stdout)\n",
    "        # elseif counter > 23000\n",
    "        #     println(\"Processed $counter triads\")\n",
    "        # else\n",
    "            # break\n",
    "        end\n",
    "    end\n",
    "end"
   ]
  },
  {
   "cell_type": "code",
   "execution_count": 51,
   "metadata": {},
   "outputs": [
    {
     "data": {
      "text/html": [
       "<div><div style = \"float: left;\"><span>16×11 DataFrame</span></div><div style = \"clear: both;\"></div></div><div class = \"data-frame\" style = \"overflow-x: scroll;\"><table class = \"data-frame\" style = \"margin-bottom: 6px;\"><thead><tr class = \"header\"><th class = \"rowNumber\" style = \"font-weight: bold; text-align: right;\">Row</th><th style = \"text-align: left;\">triad</th><th style = \"text-align: left;\">n_arr</th><th style = \"text-align: left;\">n_bal</th><th style = \"text-align: left;\">n_hier</th><th style = \"text-align: left;\">n_tot</th><th style = \"text-align: left;\">n_trans_bal</th><th style = \"text-align: left;\">n_trans_hier</th><th style = \"text-align: left;\">n_trans_tot</th><th style = \"text-align: left;\">n_cyclic_bal</th><th style = \"text-align: left;\">n_cyclic_hier</th><th style = \"text-align: left;\">n_cyclic_tot</th></tr><tr class = \"subheader headerLastRow\"><th class = \"rowNumber\" style = \"font-weight: bold; text-align: right;\"></th><th title = \"String\" style = \"text-align: left;\">String</th><th title = \"Vector{Int64}\" style = \"text-align: left;\">Array…</th><th title = \"Int64\" style = \"text-align: left;\">Int64</th><th title = \"Int64\" style = \"text-align: left;\">Int64</th><th title = \"Int64\" style = \"text-align: left;\">Int64</th><th title = \"Int64\" style = \"text-align: left;\">Int64</th><th title = \"Int64\" style = \"text-align: left;\">Int64</th><th title = \"Int64\" style = \"text-align: left;\">Int64</th><th title = \"Int64\" style = \"text-align: left;\">Int64</th><th title = \"Int64\" style = \"text-align: left;\">Int64</th><th title = \"Int64\" style = \"text-align: left;\">Int64</th></tr></thead><tbody><tr><td class = \"rowNumber\" style = \"font-weight: bold; text-align: right;\">1</td><td style = \"text-align: left;\">030C</td><td style = \"text-align: left;\">[0, 0, 0, 0, 0, 0, 0, 0, 4, 21, 31, 13]</td><td style = \"text-align: right;\">34</td><td style = \"text-align: right;\">52</td><td style = \"text-align: right;\">69</td><td style = \"text-align: right;\">0</td><td style = \"text-align: right;\">0</td><td style = \"text-align: right;\">0</td><td style = \"text-align: right;\">34</td><td style = \"text-align: right;\">52</td><td style = \"text-align: right;\">69</td></tr><tr><td class = \"rowNumber\" style = \"font-weight: bold; text-align: right;\">2</td><td style = \"text-align: left;\">111U</td><td style = \"text-align: left;\">[0, 0, 0, 0, 0, 0, 0, 0, 0, 0, 0, 0]</td><td style = \"text-align: right;\">0</td><td style = \"text-align: right;\">0</td><td style = \"text-align: right;\">0</td><td style = \"text-align: right;\">0</td><td style = \"text-align: right;\">0</td><td style = \"text-align: right;\">0</td><td style = \"text-align: right;\">0</td><td style = \"text-align: right;\">0</td><td style = \"text-align: right;\">0</td></tr><tr><td class = \"rowNumber\" style = \"font-weight: bold; text-align: right;\">3</td><td style = \"text-align: left;\">120D</td><td style = \"text-align: left;\">[37, 307, 15, 91, 23, 83, 71, 503, 0, 0, 0, 0]</td><td style = \"text-align: right;\">394</td><td style = \"text-align: right;\">470</td><td style = \"text-align: right;\">565</td><td style = \"text-align: right;\">394</td><td style = \"text-align: right;\">470</td><td style = \"text-align: right;\">1130</td><td style = \"text-align: right;\">0</td><td style = \"text-align: right;\">0</td><td style = \"text-align: right;\">0</td></tr><tr><td class = \"rowNumber\" style = \"font-weight: bold; text-align: right;\">4</td><td style = \"text-align: left;\">120C</td><td style = \"text-align: left;\">[7, 29, 22, 48, 21, 11, 128, 192, 2, 69, 216, 171]</td><td style = \"text-align: right;\">217</td><td style = \"text-align: right;\">256</td><td style = \"text-align: right;\">458</td><td style = \"text-align: right;\">264</td><td style = \"text-align: right;\">425</td><td style = \"text-align: right;\">458</td><td style = \"text-align: right;\">240</td><td style = \"text-align: right;\">285</td><td style = \"text-align: right;\">458</td></tr><tr><td class = \"rowNumber\" style = \"font-weight: bold; text-align: right;\">5</td><td style = \"text-align: left;\">201</td><td style = \"text-align: left;\">[0, 0, 0, 0, 0, 0, 0, 0, 0, 0, 0, 0]</td><td style = \"text-align: right;\">0</td><td style = \"text-align: right;\">0</td><td style = \"text-align: right;\">0</td><td style = \"text-align: right;\">0</td><td style = \"text-align: right;\">0</td><td style = \"text-align: right;\">0</td><td style = \"text-align: right;\">0</td><td style = \"text-align: right;\">0</td><td style = \"text-align: right;\">0</td></tr><tr><td class = \"rowNumber\" style = \"font-weight: bold; text-align: right;\">6</td><td style = \"text-align: left;\">111D</td><td style = \"text-align: left;\">[0, 0, 0, 0, 0, 0, 0, 0, 0, 0, 0, 0]</td><td style = \"text-align: right;\">0</td><td style = \"text-align: right;\">0</td><td style = \"text-align: right;\">0</td><td style = \"text-align: right;\">0</td><td style = \"text-align: right;\">0</td><td style = \"text-align: right;\">0</td><td style = \"text-align: right;\">0</td><td style = \"text-align: right;\">0</td><td style = \"text-align: right;\">0</td></tr><tr><td class = \"rowNumber\" style = \"font-weight: bold; text-align: right;\">7</td><td style = \"text-align: left;\">210</td><td style = \"text-align: left;\">[28, 111, 52, 193, 69, 193, 302, 1932, 4, 72, 278, 606]</td><td style = \"text-align: right;\">598</td><td style = \"text-align: right;\">165</td><td style = \"text-align: right;\">960</td><td style = \"text-align: right;\">598</td><td style = \"text-align: right;\">732</td><td style = \"text-align: right;\">2880</td><td style = \"text-align: right;\">678</td><td style = \"text-align: right;\">350</td><td style = \"text-align: right;\">960</td></tr><tr><td class = \"rowNumber\" style = \"font-weight: bold; text-align: right;\">8</td><td style = \"text-align: left;\">003</td><td style = \"text-align: left;\">[0, 0, 0, 0, 0, 0, 0, 0, 0, 0, 0, 0]</td><td style = \"text-align: right;\">0</td><td style = \"text-align: right;\">0</td><td style = \"text-align: right;\">0</td><td style = \"text-align: right;\">0</td><td style = \"text-align: right;\">0</td><td style = \"text-align: right;\">0</td><td style = \"text-align: right;\">0</td><td style = \"text-align: right;\">0</td><td style = \"text-align: right;\">0</td></tr><tr><td class = \"rowNumber\" style = \"font-weight: bold; text-align: right;\">9</td><td style = \"text-align: left;\">012</td><td style = \"text-align: left;\">[0, 0, 0, 0, 0, 0, 0, 0, 0, 0, 0, 0]</td><td style = \"text-align: right;\">0</td><td style = \"text-align: right;\">0</td><td style = \"text-align: right;\">0</td><td style = \"text-align: right;\">0</td><td style = \"text-align: right;\">0</td><td style = \"text-align: right;\">0</td><td style = \"text-align: right;\">0</td><td style = \"text-align: right;\">0</td><td style = \"text-align: right;\">0</td></tr><tr><td class = \"rowNumber\" style = \"font-weight: bold; text-align: right;\">10</td><td style = \"text-align: left;\">021D</td><td style = \"text-align: left;\">[0, 0, 0, 0, 0, 0, 0, 0, 0, 0, 0, 0]</td><td style = \"text-align: right;\">0</td><td style = \"text-align: right;\">0</td><td style = \"text-align: right;\">0</td><td style = \"text-align: right;\">0</td><td style = \"text-align: right;\">0</td><td style = \"text-align: right;\">0</td><td style = \"text-align: right;\">0</td><td style = \"text-align: right;\">0</td><td style = \"text-align: right;\">0</td></tr><tr><td class = \"rowNumber\" style = \"font-weight: bold; text-align: right;\">11</td><td style = \"text-align: left;\">030T</td><td style = \"text-align: left;\">[70, 181, 43, 160, 112, 71, 234, 669, 0, 0, 0, 0]</td><td style = \"text-align: right;\">1005</td><td style = \"text-align: right;\">1426</td><td style = \"text-align: right;\">1540</td><td style = \"text-align: right;\">1005</td><td style = \"text-align: right;\">1426</td><td style = \"text-align: right;\">1540</td><td style = \"text-align: right;\">0</td><td style = \"text-align: right;\">0</td><td style = \"text-align: right;\">0</td></tr><tr><td class = \"rowNumber\" style = \"font-weight: bold; text-align: right;\">12</td><td style = \"text-align: left;\">021U</td><td style = \"text-align: left;\">[0, 0, 0, 0, 0, 0, 0, 0, 0, 0, 0, 0]</td><td style = \"text-align: right;\">0</td><td style = \"text-align: right;\">0</td><td style = \"text-align: right;\">0</td><td style = \"text-align: right;\">0</td><td style = \"text-align: right;\">0</td><td style = \"text-align: right;\">0</td><td style = \"text-align: right;\">0</td><td style = \"text-align: right;\">0</td><td style = \"text-align: right;\">0</td></tr><tr><td class = \"rowNumber\" style = \"font-weight: bold; text-align: right;\">13</td><td style = \"text-align: left;\">300</td><td style = \"text-align: left;\">[19, 27, 17, 71, 23, 65, 75, 1449, 5, 21, 77, 479]</td><td style = \"text-align: right;\">227</td><td style = \"text-align: right;\">9</td><td style = \"text-align: right;\">291</td><td style = \"text-align: right;\">227</td><td style = \"text-align: right;\">234</td><td style = \"text-align: right;\">1746</td><td style = \"text-align: right;\">230</td><td style = \"text-align: right;\">32</td><td style = \"text-align: right;\">582</td></tr><tr><td class = \"rowNumber\" style = \"font-weight: bold; text-align: right;\">14</td><td style = \"text-align: left;\">102</td><td style = \"text-align: left;\">[0, 0, 0, 0, 0, 0, 0, 0, 0, 0, 0, 0]</td><td style = \"text-align: right;\">0</td><td style = \"text-align: right;\">0</td><td style = \"text-align: right;\">0</td><td style = \"text-align: right;\">0</td><td style = \"text-align: right;\">0</td><td style = \"text-align: right;\">0</td><td style = \"text-align: right;\">0</td><td style = \"text-align: right;\">0</td><td style = \"text-align: right;\">0</td></tr><tr><td class = \"rowNumber\" style = \"font-weight: bold; text-align: right;\">15</td><td style = \"text-align: left;\">021C</td><td style = \"text-align: left;\">[0, 0, 0, 0, 0, 0, 0, 0, 0, 0, 0, 0]</td><td style = \"text-align: right;\">0</td><td style = \"text-align: right;\">0</td><td style = \"text-align: right;\">0</td><td style = \"text-align: right;\">0</td><td style = \"text-align: right;\">0</td><td style = \"text-align: right;\">0</td><td style = \"text-align: right;\">0</td><td style = \"text-align: right;\">0</td><td style = \"text-align: right;\">0</td></tr><tr><td class = \"rowNumber\" style = \"font-weight: bold; text-align: right;\">16</td><td style = \"text-align: left;\">120U</td><td style = \"text-align: left;\">[9, 48, 14, 63, 127, 120, 154, 1309, 0, 0, 0, 0]</td><td style = \"text-align: right;\">701</td><td style = \"text-align: right;\">790</td><td style = \"text-align: right;\">922</td><td style = \"text-align: right;\">701</td><td style = \"text-align: right;\">790</td><td style = \"text-align: right;\">1844</td><td style = \"text-align: right;\">0</td><td style = \"text-align: right;\">0</td><td style = \"text-align: right;\">0</td></tr></tbody></table></div>"
      ],
      "text/latex": [
       "\\begin{tabular}{r|ccccc}\n",
       "\t& triad & n\\_arr & n\\_bal & n\\_hier & \\\\\n",
       "\t\\hline\n",
       "\t& String & Array… & Int64 & Int64 & \\\\\n",
       "\t\\hline\n",
       "\t1 & 030C & [0, 0, 0, 0, 0, 0, 0, 0, 4, 21, 31, 13] & 34 & 52 & $\\dots$ \\\\\n",
       "\t2 & 111U & [0, 0, 0, 0, 0, 0, 0, 0, 0, 0, 0, 0] & 0 & 0 & $\\dots$ \\\\\n",
       "\t3 & 120D & [37, 307, 15, 91, 23, 83, 71, 503, 0, 0, 0, 0] & 394 & 470 & $\\dots$ \\\\\n",
       "\t4 & 120C & [7, 29, 22, 48, 21, 11, 128, 192, 2, 69, 216, 171] & 217 & 256 & $\\dots$ \\\\\n",
       "\t5 & 201 & [0, 0, 0, 0, 0, 0, 0, 0, 0, 0, 0, 0] & 0 & 0 & $\\dots$ \\\\\n",
       "\t6 & 111D & [0, 0, 0, 0, 0, 0, 0, 0, 0, 0, 0, 0] & 0 & 0 & $\\dots$ \\\\\n",
       "\t7 & 210 & [28, 111, 52, 193, 69, 193, 302, 1932, 4, 72, 278, 606] & 598 & 165 & $\\dots$ \\\\\n",
       "\t8 & 003 & [0, 0, 0, 0, 0, 0, 0, 0, 0, 0, 0, 0] & 0 & 0 & $\\dots$ \\\\\n",
       "\t9 & 012 & [0, 0, 0, 0, 0, 0, 0, 0, 0, 0, 0, 0] & 0 & 0 & $\\dots$ \\\\\n",
       "\t10 & 021D & [0, 0, 0, 0, 0, 0, 0, 0, 0, 0, 0, 0] & 0 & 0 & $\\dots$ \\\\\n",
       "\t11 & 030T & [70, 181, 43, 160, 112, 71, 234, 669, 0, 0, 0, 0] & 1005 & 1426 & $\\dots$ \\\\\n",
       "\t12 & 021U & [0, 0, 0, 0, 0, 0, 0, 0, 0, 0, 0, 0] & 0 & 0 & $\\dots$ \\\\\n",
       "\t13 & 300 & [19, 27, 17, 71, 23, 65, 75, 1449, 5, 21, 77, 479] & 227 & 9 & $\\dots$ \\\\\n",
       "\t14 & 102 & [0, 0, 0, 0, 0, 0, 0, 0, 0, 0, 0, 0] & 0 & 0 & $\\dots$ \\\\\n",
       "\t15 & 021C & [0, 0, 0, 0, 0, 0, 0, 0, 0, 0, 0, 0] & 0 & 0 & $\\dots$ \\\\\n",
       "\t16 & 120U & [9, 48, 14, 63, 127, 120, 154, 1309, 0, 0, 0, 0] & 701 & 790 & $\\dots$ \\\\\n",
       "\\end{tabular}\n"
      ],
      "text/plain": [
       "\u001b[1m16×11 DataFrame\u001b[0m\n",
       "\u001b[1m Row \u001b[0m│\u001b[1m triad  \u001b[0m\u001b[1m n_arr                             \u001b[0m\u001b[1m n_bal \u001b[0m\u001b[1m n_hier \u001b[0m\u001b[1m n_tot \u001b[0m\u001b[1m n_tran\u001b[0m ⋯\n",
       "     │\u001b[90m String \u001b[0m\u001b[90m Array…                            \u001b[0m\u001b[90m Int64 \u001b[0m\u001b[90m Int64  \u001b[0m\u001b[90m Int64 \u001b[0m\u001b[90m Int64 \u001b[0m ⋯\n",
       "─────┼──────────────────────────────────────────────────────────────────────────\n",
       "   1 │ 030C    [0, 0, 0, 0, 0, 0, 0, 0, 4, 21, …     34      52     69         ⋯\n",
       "   2 │ 111U    [0, 0, 0, 0, 0, 0, 0, 0, 0, 0, 0…      0       0      0\n",
       "   3 │ 120D    [37, 307, 15, 91, 23, 83, 71, 50…    394     470    565\n",
       "   4 │ 120C    [7, 29, 22, 48, 21, 11, 128, 192…    217     256    458\n",
       "   5 │ 201     [0, 0, 0, 0, 0, 0, 0, 0, 0, 0, 0…      0       0      0         ⋯\n",
       "   6 │ 111D    [0, 0, 0, 0, 0, 0, 0, 0, 0, 0, 0…      0       0      0\n",
       "   7 │ 210     [28, 111, 52, 193, 69, 193, 302,…    598     165    960\n",
       "   8 │ 003     [0, 0, 0, 0, 0, 0, 0, 0, 0, 0, 0…      0       0      0\n",
       "   9 │ 012     [0, 0, 0, 0, 0, 0, 0, 0, 0, 0, 0…      0       0      0         ⋯\n",
       "  10 │ 021D    [0, 0, 0, 0, 0, 0, 0, 0, 0, 0, 0…      0       0      0\n",
       "  11 │ 030T    [70, 181, 43, 160, 112, 71, 234,…   1005    1426   1540\n",
       "  12 │ 021U    [0, 0, 0, 0, 0, 0, 0, 0, 0, 0, 0…      0       0      0\n",
       "  13 │ 300     [19, 27, 17, 71, 23, 65, 75, 144…    227       9    291         ⋯\n",
       "  14 │ 102     [0, 0, 0, 0, 0, 0, 0, 0, 0, 0, 0…      0       0      0\n",
       "  15 │ 021C    [0, 0, 0, 0, 0, 0, 0, 0, 0, 0, 0…      0       0      0\n",
       "  16 │ 120U    [9, 48, 14, 63, 127, 120, 154, 1…    701     790    922\n",
       "\u001b[36m                                                               6 columns omitted\u001b[0m"
      ]
     },
     "metadata": {},
     "output_type": "display_data"
    }
   ],
   "source": [
    "# create dataframe from dicts\n",
    "\n",
    "df_cyclic_n_arr_s = [DataFrame(triad = collect(keys(n_arr_dict)), n_arr = collect(values(n_arr_dict)),\n",
    "                     n_bal = collect(values(n_bal_dict)), n_hier = collect(values(n_hier_dict)),\n",
    "                     n_tot = collect(values(n_tot_dict)), n_trans_bal = collect(values(n_trans_bal_dict)), \n",
    "                     n_trans_hier = collect(values(n_trans_hier_dict)), n_trans_tot = collect(values(n_trans_tot_dict)), \n",
    "                     n_cyclic_bal = collect(values(n_cyclic_bal_dict)), n_cyclic_hier = collect(values(n_cyclic_hier_dict)),\n",
    "                        n_cyclic_tot = collect(values(n_cyclic_tot_dict))) for (n_arr_dict, n_bal_dict, n_hier_dict, n_tot_dict, \n",
    "                        n_trans_bal_dict, n_trans_hier_dict, n_trans_tot_dict, n_cyclic_bal_dict, n_cyclic_hier_dict, n_cyclic_tot_dict) in\n",
    "                        zip(n_arr_dict_s, n_bal_dict_s, n_hier_dict_s, n_tot_dict_s, n_trans_bal_dict_s, n_trans_hier_dict_s, \n",
    "                        n_trans_tot_dict_s, n_cyclic_bal_dict_s, n_cyclic_hier_dict_s, n_cyclic_tot_dict_s)]\n",
    "\n",
    "df_cyclic_n_arr_s[1]"
   ]
  },
  {
   "cell_type": "code",
   "execution_count": 52,
   "metadata": {},
   "outputs": [
    {
     "data": {
      "text/html": [
       "<div><div style = \"float: left;\"><span>16×23 DataFrame</span></div><div style = \"clear: both;\"></div></div><div class = \"data-frame\" style = \"overflow-x: scroll;\"><table class = \"data-frame\" style = \"margin-bottom: 6px;\"><thead><tr class = \"header\"><th class = \"rowNumber\" style = \"font-weight: bold; text-align: right;\">Row</th><th style = \"text-align: left;\">triad</th><th style = \"text-align: left;\">n_arr</th><th style = \"text-align: left;\">n_bal</th><th style = \"text-align: left;\">n_hier</th><th style = \"text-align: left;\">n_tot</th><th style = \"text-align: left;\">n_trans_bal</th><th style = \"text-align: left;\">n_trans_hier</th><th style = \"text-align: left;\">n_trans_tot</th><th style = \"text-align: left;\">n_cyclic_bal</th><th style = \"text-align: left;\">n_cyclic_hier</th><th style = \"text-align: left;\">n_cyclic_tot</th><th style = \"text-align: left;\">per_bal</th><th style = \"text-align: left;\">per_hier</th><th style = \"text-align: left;\">per_trans_bal</th><th style = \"text-align: left;\">per_trans_hier</th><th style = \"text-align: left;\">per_cyclic_bal</th><th style = \"text-align: left;\">per_cyclic_hier</th><th style = \"text-align: left;\">per_trans_bal_sep</th><th style = \"text-align: left;\">per_cyclic_bal_sep</th><th style = \"text-align: left;\">per_trans_hier_sep</th><th style = \"text-align: left;\">per_cyclic_hier_sep</th><th style = \"text-align: left;\">per_bal_sep</th><th style = \"text-align: left;\">per_hier_sep</th></tr><tr class = \"subheader headerLastRow\"><th class = \"rowNumber\" style = \"font-weight: bold; text-align: right;\"></th><th title = \"String\" style = \"text-align: left;\">String</th><th title = \"Vector{Int64}\" style = \"text-align: left;\">Array…</th><th title = \"Int64\" style = \"text-align: left;\">Int64</th><th title = \"Int64\" style = \"text-align: left;\">Int64</th><th title = \"Int64\" style = \"text-align: left;\">Int64</th><th title = \"Int64\" style = \"text-align: left;\">Int64</th><th title = \"Int64\" style = \"text-align: left;\">Int64</th><th title = \"Int64\" style = \"text-align: left;\">Int64</th><th title = \"Int64\" style = \"text-align: left;\">Int64</th><th title = \"Int64\" style = \"text-align: left;\">Int64</th><th title = \"Int64\" style = \"text-align: left;\">Int64</th><th title = \"Float64\" style = \"text-align: left;\">Float64</th><th title = \"Float64\" style = \"text-align: left;\">Float64</th><th title = \"Float64\" style = \"text-align: left;\">Float64</th><th title = \"Float64\" style = \"text-align: left;\">Float64</th><th title = \"Float64\" style = \"text-align: left;\">Float64</th><th title = \"Float64\" style = \"text-align: left;\">Float64</th><th title = \"Float64\" style = \"text-align: left;\">Float64</th><th title = \"Float64\" style = \"text-align: left;\">Float64</th><th title = \"Float64\" style = \"text-align: left;\">Float64</th><th title = \"Float64\" style = \"text-align: left;\">Float64</th><th title = \"Float64\" style = \"text-align: left;\">Float64</th><th title = \"Float64\" style = \"text-align: left;\">Float64</th></tr></thead><tbody><tr><td class = \"rowNumber\" style = \"font-weight: bold; text-align: right;\">1</td><td style = \"text-align: left;\">030C</td><td style = \"text-align: left;\">[0, 0, 0, 0, 0, 0, 0, 0, 4, 21, 31, 13]</td><td style = \"text-align: right;\">34</td><td style = \"text-align: right;\">52</td><td style = \"text-align: right;\">69</td><td style = \"text-align: right;\">0</td><td style = \"text-align: right;\">0</td><td style = \"text-align: right;\">0</td><td style = \"text-align: right;\">34</td><td style = \"text-align: right;\">52</td><td style = \"text-align: right;\">69</td><td style = \"text-align: right;\">0.492754</td><td style = \"text-align: right;\">0.753623</td><td style = \"text-align: right;\">0.0</td><td style = \"text-align: right;\">0.0</td><td style = \"text-align: right;\">0.492754</td><td style = \"text-align: right;\">0.753623</td><td style = \"text-align: right;\">NaN</td><td style = \"text-align: right;\">0.492754</td><td style = \"text-align: right;\">NaN</td><td style = \"text-align: right;\">0.753623</td><td style = \"text-align: right;\">0.492754</td><td style = \"text-align: right;\">0.753623</td></tr><tr><td class = \"rowNumber\" style = \"font-weight: bold; text-align: right;\">2</td><td style = \"text-align: left;\">111U</td><td style = \"text-align: left;\">[0, 0, 0, 0, 0, 0, 0, 0, 0, 0, 0, 0]</td><td style = \"text-align: right;\">0</td><td style = \"text-align: right;\">0</td><td style = \"text-align: right;\">0</td><td style = \"text-align: right;\">0</td><td style = \"text-align: right;\">0</td><td style = \"text-align: right;\">0</td><td style = \"text-align: right;\">0</td><td style = \"text-align: right;\">0</td><td style = \"text-align: right;\">0</td><td style = \"text-align: right;\">NaN</td><td style = \"text-align: right;\">NaN</td><td style = \"text-align: right;\">NaN</td><td style = \"text-align: right;\">NaN</td><td style = \"text-align: right;\">NaN</td><td style = \"text-align: right;\">NaN</td><td style = \"text-align: right;\">NaN</td><td style = \"text-align: right;\">NaN</td><td style = \"text-align: right;\">NaN</td><td style = \"text-align: right;\">NaN</td><td style = \"text-align: right;\">NaN</td><td style = \"text-align: right;\">NaN</td></tr><tr><td class = \"rowNumber\" style = \"font-weight: bold; text-align: right;\">3</td><td style = \"text-align: left;\">120D</td><td style = \"text-align: left;\">[37, 307, 15, 91, 23, 83, 71, 503, 0, 0, 0, 0]</td><td style = \"text-align: right;\">394</td><td style = \"text-align: right;\">470</td><td style = \"text-align: right;\">565</td><td style = \"text-align: right;\">394</td><td style = \"text-align: right;\">470</td><td style = \"text-align: right;\">1130</td><td style = \"text-align: right;\">0</td><td style = \"text-align: right;\">0</td><td style = \"text-align: right;\">0</td><td style = \"text-align: right;\">0.697345</td><td style = \"text-align: right;\">0.831858</td><td style = \"text-align: right;\">0.697345</td><td style = \"text-align: right;\">0.831858</td><td style = \"text-align: right;\">0.0</td><td style = \"text-align: right;\">0.0</td><td style = \"text-align: right;\">0.750442</td><td style = \"text-align: right;\">NaN</td><td style = \"text-align: right;\">0.913274</td><td style = \"text-align: right;\">NaN</td><td style = \"text-align: right;\">0.750442</td><td style = \"text-align: right;\">0.913274</td></tr><tr><td class = \"rowNumber\" style = \"font-weight: bold; text-align: right;\">4</td><td style = \"text-align: left;\">120C</td><td style = \"text-align: left;\">[7, 29, 22, 48, 21, 11, 128, 192, 2, 69, 216, 171]</td><td style = \"text-align: right;\">217</td><td style = \"text-align: right;\">256</td><td style = \"text-align: right;\">458</td><td style = \"text-align: right;\">264</td><td style = \"text-align: right;\">425</td><td style = \"text-align: right;\">458</td><td style = \"text-align: right;\">240</td><td style = \"text-align: right;\">285</td><td style = \"text-align: right;\">458</td><td style = \"text-align: right;\">0.473799</td><td style = \"text-align: right;\">0.558952</td><td style = \"text-align: right;\">0.576419</td><td style = \"text-align: right;\">0.927948</td><td style = \"text-align: right;\">0.524017</td><td style = \"text-align: right;\">0.622271</td><td style = \"text-align: right;\">0.576419</td><td style = \"text-align: right;\">0.524017</td><td style = \"text-align: right;\">0.927948</td><td style = \"text-align: right;\">0.622271</td><td style = \"text-align: right;\">0.550218</td><td style = \"text-align: right;\">0.775109</td></tr><tr><td class = \"rowNumber\" style = \"font-weight: bold; text-align: right;\">5</td><td style = \"text-align: left;\">201</td><td style = \"text-align: left;\">[0, 0, 0, 0, 0, 0, 0, 0, 0, 0, 0, 0]</td><td style = \"text-align: right;\">0</td><td style = \"text-align: right;\">0</td><td style = \"text-align: right;\">0</td><td style = \"text-align: right;\">0</td><td style = \"text-align: right;\">0</td><td style = \"text-align: right;\">0</td><td style = \"text-align: right;\">0</td><td style = \"text-align: right;\">0</td><td style = \"text-align: right;\">0</td><td style = \"text-align: right;\">NaN</td><td style = \"text-align: right;\">NaN</td><td style = \"text-align: right;\">NaN</td><td style = \"text-align: right;\">NaN</td><td style = \"text-align: right;\">NaN</td><td style = \"text-align: right;\">NaN</td><td style = \"text-align: right;\">NaN</td><td style = \"text-align: right;\">NaN</td><td style = \"text-align: right;\">NaN</td><td style = \"text-align: right;\">NaN</td><td style = \"text-align: right;\">NaN</td><td style = \"text-align: right;\">NaN</td></tr><tr><td class = \"rowNumber\" style = \"font-weight: bold; text-align: right;\">6</td><td style = \"text-align: left;\">111D</td><td style = \"text-align: left;\">[0, 0, 0, 0, 0, 0, 0, 0, 0, 0, 0, 0]</td><td style = \"text-align: right;\">0</td><td style = \"text-align: right;\">0</td><td style = \"text-align: right;\">0</td><td style = \"text-align: right;\">0</td><td style = \"text-align: right;\">0</td><td style = \"text-align: right;\">0</td><td style = \"text-align: right;\">0</td><td style = \"text-align: right;\">0</td><td style = \"text-align: right;\">0</td><td style = \"text-align: right;\">NaN</td><td style = \"text-align: right;\">NaN</td><td style = \"text-align: right;\">NaN</td><td style = \"text-align: right;\">NaN</td><td style = \"text-align: right;\">NaN</td><td style = \"text-align: right;\">NaN</td><td style = \"text-align: right;\">NaN</td><td style = \"text-align: right;\">NaN</td><td style = \"text-align: right;\">NaN</td><td style = \"text-align: right;\">NaN</td><td style = \"text-align: right;\">NaN</td><td style = \"text-align: right;\">NaN</td></tr><tr><td class = \"rowNumber\" style = \"font-weight: bold; text-align: right;\">7</td><td style = \"text-align: left;\">210</td><td style = \"text-align: left;\">[28, 111, 52, 193, 69, 193, 302, 1932, 4, 72, 278, 606]</td><td style = \"text-align: right;\">598</td><td style = \"text-align: right;\">165</td><td style = \"text-align: right;\">960</td><td style = \"text-align: right;\">598</td><td style = \"text-align: right;\">732</td><td style = \"text-align: right;\">2880</td><td style = \"text-align: right;\">678</td><td style = \"text-align: right;\">350</td><td style = \"text-align: right;\">960</td><td style = \"text-align: right;\">0.622917</td><td style = \"text-align: right;\">0.171875</td><td style = \"text-align: right;\">0.622917</td><td style = \"text-align: right;\">0.7625</td><td style = \"text-align: right;\">0.70625</td><td style = \"text-align: right;\">0.364583</td><td style = \"text-align: right;\">0.751389</td><td style = \"text-align: right;\">0.70625</td><td style = \"text-align: right;\">0.914931</td><td style = \"text-align: right;\">0.364583</td><td style = \"text-align: right;\">0.740104</td><td style = \"text-align: right;\">0.777344</td></tr><tr><td class = \"rowNumber\" style = \"font-weight: bold; text-align: right;\">8</td><td style = \"text-align: left;\">003</td><td style = \"text-align: left;\">[0, 0, 0, 0, 0, 0, 0, 0, 0, 0, 0, 0]</td><td style = \"text-align: right;\">0</td><td style = \"text-align: right;\">0</td><td style = \"text-align: right;\">0</td><td style = \"text-align: right;\">0</td><td style = \"text-align: right;\">0</td><td style = \"text-align: right;\">0</td><td style = \"text-align: right;\">0</td><td style = \"text-align: right;\">0</td><td style = \"text-align: right;\">0</td><td style = \"text-align: right;\">NaN</td><td style = \"text-align: right;\">NaN</td><td style = \"text-align: right;\">NaN</td><td style = \"text-align: right;\">NaN</td><td style = \"text-align: right;\">NaN</td><td style = \"text-align: right;\">NaN</td><td style = \"text-align: right;\">NaN</td><td style = \"text-align: right;\">NaN</td><td style = \"text-align: right;\">NaN</td><td style = \"text-align: right;\">NaN</td><td style = \"text-align: right;\">NaN</td><td style = \"text-align: right;\">NaN</td></tr><tr><td class = \"rowNumber\" style = \"font-weight: bold; text-align: right;\">9</td><td style = \"text-align: left;\">012</td><td style = \"text-align: left;\">[0, 0, 0, 0, 0, 0, 0, 0, 0, 0, 0, 0]</td><td style = \"text-align: right;\">0</td><td style = \"text-align: right;\">0</td><td style = \"text-align: right;\">0</td><td style = \"text-align: right;\">0</td><td style = \"text-align: right;\">0</td><td style = \"text-align: right;\">0</td><td style = \"text-align: right;\">0</td><td style = \"text-align: right;\">0</td><td style = \"text-align: right;\">0</td><td style = \"text-align: right;\">NaN</td><td style = \"text-align: right;\">NaN</td><td style = \"text-align: right;\">NaN</td><td style = \"text-align: right;\">NaN</td><td style = \"text-align: right;\">NaN</td><td style = \"text-align: right;\">NaN</td><td style = \"text-align: right;\">NaN</td><td style = \"text-align: right;\">NaN</td><td style = \"text-align: right;\">NaN</td><td style = \"text-align: right;\">NaN</td><td style = \"text-align: right;\">NaN</td><td style = \"text-align: right;\">NaN</td></tr><tr><td class = \"rowNumber\" style = \"font-weight: bold; text-align: right;\">10</td><td style = \"text-align: left;\">021D</td><td style = \"text-align: left;\">[0, 0, 0, 0, 0, 0, 0, 0, 0, 0, 0, 0]</td><td style = \"text-align: right;\">0</td><td style = \"text-align: right;\">0</td><td style = \"text-align: right;\">0</td><td style = \"text-align: right;\">0</td><td style = \"text-align: right;\">0</td><td style = \"text-align: right;\">0</td><td style = \"text-align: right;\">0</td><td style = \"text-align: right;\">0</td><td style = \"text-align: right;\">0</td><td style = \"text-align: right;\">NaN</td><td style = \"text-align: right;\">NaN</td><td style = \"text-align: right;\">NaN</td><td style = \"text-align: right;\">NaN</td><td style = \"text-align: right;\">NaN</td><td style = \"text-align: right;\">NaN</td><td style = \"text-align: right;\">NaN</td><td style = \"text-align: right;\">NaN</td><td style = \"text-align: right;\">NaN</td><td style = \"text-align: right;\">NaN</td><td style = \"text-align: right;\">NaN</td><td style = \"text-align: right;\">NaN</td></tr><tr><td class = \"rowNumber\" style = \"font-weight: bold; text-align: right;\">11</td><td style = \"text-align: left;\">030T</td><td style = \"text-align: left;\">[70, 181, 43, 160, 112, 71, 234, 669, 0, 0, 0, 0]</td><td style = \"text-align: right;\">1005</td><td style = \"text-align: right;\">1426</td><td style = \"text-align: right;\">1540</td><td style = \"text-align: right;\">1005</td><td style = \"text-align: right;\">1426</td><td style = \"text-align: right;\">1540</td><td style = \"text-align: right;\">0</td><td style = \"text-align: right;\">0</td><td style = \"text-align: right;\">0</td><td style = \"text-align: right;\">0.652597</td><td style = \"text-align: right;\">0.925974</td><td style = \"text-align: right;\">0.652597</td><td style = \"text-align: right;\">0.925974</td><td style = \"text-align: right;\">0.0</td><td style = \"text-align: right;\">0.0</td><td style = \"text-align: right;\">0.652597</td><td style = \"text-align: right;\">NaN</td><td style = \"text-align: right;\">0.925974</td><td style = \"text-align: right;\">NaN</td><td style = \"text-align: right;\">0.652597</td><td style = \"text-align: right;\">0.925974</td></tr><tr><td class = \"rowNumber\" style = \"font-weight: bold; text-align: right;\">12</td><td style = \"text-align: left;\">021U</td><td style = \"text-align: left;\">[0, 0, 0, 0, 0, 0, 0, 0, 0, 0, 0, 0]</td><td style = \"text-align: right;\">0</td><td style = \"text-align: right;\">0</td><td style = \"text-align: right;\">0</td><td style = \"text-align: right;\">0</td><td style = \"text-align: right;\">0</td><td style = \"text-align: right;\">0</td><td style = \"text-align: right;\">0</td><td style = \"text-align: right;\">0</td><td style = \"text-align: right;\">0</td><td style = \"text-align: right;\">NaN</td><td style = \"text-align: right;\">NaN</td><td style = \"text-align: right;\">NaN</td><td style = \"text-align: right;\">NaN</td><td style = \"text-align: right;\">NaN</td><td style = \"text-align: right;\">NaN</td><td style = \"text-align: right;\">NaN</td><td style = \"text-align: right;\">NaN</td><td style = \"text-align: right;\">NaN</td><td style = \"text-align: right;\">NaN</td><td style = \"text-align: right;\">NaN</td><td style = \"text-align: right;\">NaN</td></tr><tr><td class = \"rowNumber\" style = \"font-weight: bold; text-align: right;\">13</td><td style = \"text-align: left;\">300</td><td style = \"text-align: left;\">[19, 27, 17, 71, 23, 65, 75, 1449, 5, 21, 77, 479]</td><td style = \"text-align: right;\">227</td><td style = \"text-align: right;\">9</td><td style = \"text-align: right;\">291</td><td style = \"text-align: right;\">227</td><td style = \"text-align: right;\">234</td><td style = \"text-align: right;\">1746</td><td style = \"text-align: right;\">230</td><td style = \"text-align: right;\">32</td><td style = \"text-align: right;\">582</td><td style = \"text-align: right;\">0.780069</td><td style = \"text-align: right;\">0.0309278</td><td style = \"text-align: right;\">0.780069</td><td style = \"text-align: right;\">0.804124</td><td style = \"text-align: right;\">0.790378</td><td style = \"text-align: right;\">0.109966</td><td style = \"text-align: right;\">0.86827</td><td style = \"text-align: right;\">0.859107</td><td style = \"text-align: right;\">0.953036</td><td style = \"text-align: right;\">0.168385</td><td style = \"text-align: right;\">0.865979</td><td style = \"text-align: right;\">0.756873</td></tr><tr><td class = \"rowNumber\" style = \"font-weight: bold; text-align: right;\">14</td><td style = \"text-align: left;\">102</td><td style = \"text-align: left;\">[0, 0, 0, 0, 0, 0, 0, 0, 0, 0, 0, 0]</td><td style = \"text-align: right;\">0</td><td style = \"text-align: right;\">0</td><td style = \"text-align: right;\">0</td><td style = \"text-align: right;\">0</td><td style = \"text-align: right;\">0</td><td style = \"text-align: right;\">0</td><td style = \"text-align: right;\">0</td><td style = \"text-align: right;\">0</td><td style = \"text-align: right;\">0</td><td style = \"text-align: right;\">NaN</td><td style = \"text-align: right;\">NaN</td><td style = \"text-align: right;\">NaN</td><td style = \"text-align: right;\">NaN</td><td style = \"text-align: right;\">NaN</td><td style = \"text-align: right;\">NaN</td><td style = \"text-align: right;\">NaN</td><td style = \"text-align: right;\">NaN</td><td style = \"text-align: right;\">NaN</td><td style = \"text-align: right;\">NaN</td><td style = \"text-align: right;\">NaN</td><td style = \"text-align: right;\">NaN</td></tr><tr><td class = \"rowNumber\" style = \"font-weight: bold; text-align: right;\">15</td><td style = \"text-align: left;\">021C</td><td style = \"text-align: left;\">[0, 0, 0, 0, 0, 0, 0, 0, 0, 0, 0, 0]</td><td style = \"text-align: right;\">0</td><td style = \"text-align: right;\">0</td><td style = \"text-align: right;\">0</td><td style = \"text-align: right;\">0</td><td style = \"text-align: right;\">0</td><td style = \"text-align: right;\">0</td><td style = \"text-align: right;\">0</td><td style = \"text-align: right;\">0</td><td style = \"text-align: right;\">0</td><td style = \"text-align: right;\">NaN</td><td style = \"text-align: right;\">NaN</td><td style = \"text-align: right;\">NaN</td><td style = \"text-align: right;\">NaN</td><td style = \"text-align: right;\">NaN</td><td style = \"text-align: right;\">NaN</td><td style = \"text-align: right;\">NaN</td><td style = \"text-align: right;\">NaN</td><td style = \"text-align: right;\">NaN</td><td style = \"text-align: right;\">NaN</td><td style = \"text-align: right;\">NaN</td><td style = \"text-align: right;\">NaN</td></tr><tr><td class = \"rowNumber\" style = \"font-weight: bold; text-align: right;\">16</td><td style = \"text-align: left;\">120U</td><td style = \"text-align: left;\">[9, 48, 14, 63, 127, 120, 154, 1309, 0, 0, 0, 0]</td><td style = \"text-align: right;\">701</td><td style = \"text-align: right;\">790</td><td style = \"text-align: right;\">922</td><td style = \"text-align: right;\">701</td><td style = \"text-align: right;\">790</td><td style = \"text-align: right;\">1844</td><td style = \"text-align: right;\">0</td><td style = \"text-align: right;\">0</td><td style = \"text-align: right;\">0</td><td style = \"text-align: right;\">0.760304</td><td style = \"text-align: right;\">0.856833</td><td style = \"text-align: right;\">0.760304</td><td style = \"text-align: right;\">0.856833</td><td style = \"text-align: right;\">0.0</td><td style = \"text-align: right;\">0.0</td><td style = \"text-align: right;\">0.812364</td><td style = \"text-align: right;\">NaN</td><td style = \"text-align: right;\">0.927332</td><td style = \"text-align: right;\">NaN</td><td style = \"text-align: right;\">0.812364</td><td style = \"text-align: right;\">0.927332</td></tr></tbody></table></div>"
      ],
      "text/latex": [
       "\\begin{tabular}{r|ccccc}\n",
       "\t& triad & n\\_arr & n\\_bal & n\\_hier & \\\\\n",
       "\t\\hline\n",
       "\t& String & Array… & Int64 & Int64 & \\\\\n",
       "\t\\hline\n",
       "\t1 & 030C & [0, 0, 0, 0, 0, 0, 0, 0, 4, 21, 31, 13] & 34 & 52 & $\\dots$ \\\\\n",
       "\t2 & 111U & [0, 0, 0, 0, 0, 0, 0, 0, 0, 0, 0, 0] & 0 & 0 & $\\dots$ \\\\\n",
       "\t3 & 120D & [37, 307, 15, 91, 23, 83, 71, 503, 0, 0, 0, 0] & 394 & 470 & $\\dots$ \\\\\n",
       "\t4 & 120C & [7, 29, 22, 48, 21, 11, 128, 192, 2, 69, 216, 171] & 217 & 256 & $\\dots$ \\\\\n",
       "\t5 & 201 & [0, 0, 0, 0, 0, 0, 0, 0, 0, 0, 0, 0] & 0 & 0 & $\\dots$ \\\\\n",
       "\t6 & 111D & [0, 0, 0, 0, 0, 0, 0, 0, 0, 0, 0, 0] & 0 & 0 & $\\dots$ \\\\\n",
       "\t7 & 210 & [28, 111, 52, 193, 69, 193, 302, 1932, 4, 72, 278, 606] & 598 & 165 & $\\dots$ \\\\\n",
       "\t8 & 003 & [0, 0, 0, 0, 0, 0, 0, 0, 0, 0, 0, 0] & 0 & 0 & $\\dots$ \\\\\n",
       "\t9 & 012 & [0, 0, 0, 0, 0, 0, 0, 0, 0, 0, 0, 0] & 0 & 0 & $\\dots$ \\\\\n",
       "\t10 & 021D & [0, 0, 0, 0, 0, 0, 0, 0, 0, 0, 0, 0] & 0 & 0 & $\\dots$ \\\\\n",
       "\t11 & 030T & [70, 181, 43, 160, 112, 71, 234, 669, 0, 0, 0, 0] & 1005 & 1426 & $\\dots$ \\\\\n",
       "\t12 & 021U & [0, 0, 0, 0, 0, 0, 0, 0, 0, 0, 0, 0] & 0 & 0 & $\\dots$ \\\\\n",
       "\t13 & 300 & [19, 27, 17, 71, 23, 65, 75, 1449, 5, 21, 77, 479] & 227 & 9 & $\\dots$ \\\\\n",
       "\t14 & 102 & [0, 0, 0, 0, 0, 0, 0, 0, 0, 0, 0, 0] & 0 & 0 & $\\dots$ \\\\\n",
       "\t15 & 021C & [0, 0, 0, 0, 0, 0, 0, 0, 0, 0, 0, 0] & 0 & 0 & $\\dots$ \\\\\n",
       "\t16 & 120U & [9, 48, 14, 63, 127, 120, 154, 1309, 0, 0, 0, 0] & 701 & 790 & $\\dots$ \\\\\n",
       "\\end{tabular}\n"
      ],
      "text/plain": [
       "\u001b[1m16×23 DataFrame\u001b[0m\n",
       "\u001b[1m Row \u001b[0m│\u001b[1m triad  \u001b[0m\u001b[1m n_arr                             \u001b[0m\u001b[1m n_bal \u001b[0m\u001b[1m n_hier \u001b[0m\u001b[1m n_tot \u001b[0m\u001b[1m n_tran\u001b[0m ⋯\n",
       "     │\u001b[90m String \u001b[0m\u001b[90m Array…                            \u001b[0m\u001b[90m Int64 \u001b[0m\u001b[90m Int64  \u001b[0m\u001b[90m Int64 \u001b[0m\u001b[90m Int64 \u001b[0m ⋯\n",
       "─────┼──────────────────────────────────────────────────────────────────────────\n",
       "   1 │ 030C    [0, 0, 0, 0, 0, 0, 0, 0, 4, 21, …     34      52     69         ⋯\n",
       "   2 │ 111U    [0, 0, 0, 0, 0, 0, 0, 0, 0, 0, 0…      0       0      0\n",
       "   3 │ 120D    [37, 307, 15, 91, 23, 83, 71, 50…    394     470    565\n",
       "   4 │ 120C    [7, 29, 22, 48, 21, 11, 128, 192…    217     256    458\n",
       "   5 │ 201     [0, 0, 0, 0, 0, 0, 0, 0, 0, 0, 0…      0       0      0         ⋯\n",
       "   6 │ 111D    [0, 0, 0, 0, 0, 0, 0, 0, 0, 0, 0…      0       0      0\n",
       "   7 │ 210     [28, 111, 52, 193, 69, 193, 302,…    598     165    960\n",
       "   8 │ 003     [0, 0, 0, 0, 0, 0, 0, 0, 0, 0, 0…      0       0      0\n",
       "   9 │ 012     [0, 0, 0, 0, 0, 0, 0, 0, 0, 0, 0…      0       0      0         ⋯\n",
       "  10 │ 021D    [0, 0, 0, 0, 0, 0, 0, 0, 0, 0, 0…      0       0      0\n",
       "  11 │ 030T    [70, 181, 43, 160, 112, 71, 234,…   1005    1426   1540\n",
       "  12 │ 021U    [0, 0, 0, 0, 0, 0, 0, 0, 0, 0, 0…      0       0      0\n",
       "  13 │ 300     [19, 27, 17, 71, 23, 65, 75, 144…    227       9    291         ⋯\n",
       "  14 │ 102     [0, 0, 0, 0, 0, 0, 0, 0, 0, 0, 0…      0       0      0\n",
       "  15 │ 021C    [0, 0, 0, 0, 0, 0, 0, 0, 0, 0, 0…      0       0      0\n",
       "  16 │ 120U    [9, 48, 14, 63, 127, 120, 154, 1…    701     790    922\n",
       "\u001b[36m                                                              18 columns omitted\u001b[0m"
      ]
     },
     "metadata": {},
     "output_type": "display_data"
    }
   ],
   "source": [
    "for df_cyclic_n_arr in df_cyclic_n_arr_s\n",
    "        \n",
    "    df_cyclic_n_arr.per_bal = df_cyclic_n_arr.n_bal ./ df_cyclic_n_arr.n_tot\n",
    "    df_cyclic_n_arr.per_hier = df_cyclic_n_arr.n_hier ./ df_cyclic_n_arr.n_tot\n",
    "    df_cyclic_n_arr.per_trans_bal = df_cyclic_n_arr.n_trans_bal ./ df_cyclic_n_arr.n_tot\n",
    "    df_cyclic_n_arr.per_trans_hier = df_cyclic_n_arr.n_trans_hier ./ df_cyclic_n_arr.n_tot\n",
    "    df_cyclic_n_arr.per_cyclic_bal = df_cyclic_n_arr.n_cyclic_bal ./ df_cyclic_n_arr.n_tot\n",
    "    df_cyclic_n_arr.per_cyclic_hier = df_cyclic_n_arr.n_cyclic_hier ./ df_cyclic_n_arr.n_tot\n",
    "    df_cyclic_n_arr.per_trans_bal_sep = [sum(n_arr[[2, 3, 5, 8]]) / n_tot for (n_arr, n_tot) in zip(df_cyclic_n_arr.n_arr, df_cyclic_n_arr.n_trans_tot)]\n",
    "    df_cyclic_n_arr.per_cyclic_bal_sep = [sum(n_arr[[10, 12]]) / n_tot for (n_arr, n_tot) in zip(df_cyclic_n_arr.n_arr, df_cyclic_n_arr.n_cyclic_tot)]\n",
    "    df_cyclic_n_arr.per_trans_hier_sep = [1 - sum(n_arr[[3,6]]) / n_tot for (n_arr, n_tot) in zip(df_cyclic_n_arr.n_arr, df_cyclic_n_arr.n_trans_tot)]\n",
    "    df_cyclic_n_arr.per_cyclic_hier_sep = [sum(n_arr[[10, 11]]) / n_tot for (n_arr, n_tot) in zip(df_cyclic_n_arr.n_arr, df_cyclic_n_arr.n_cyclic_tot)]\n",
    "    df_cyclic_n_arr.per_bal_sep = [sum(n_arr[[2, 3, 5, 8, 10, 12]]) / n_tot for (n_arr, n_tot) in zip(df_cyclic_n_arr.n_arr, df_cyclic_n_arr.n_trans_tot .+ df_cyclic_n_arr.n_cyclic_tot)]\n",
    "    df_cyclic_n_arr.per_hier_sep = [1 - sum(n_arr[[3, 6, 9, 12]]) / n_tot for (n_arr, n_tot) in zip(df_cyclic_n_arr.n_arr, df_cyclic_n_arr.n_trans_tot .+ df_cyclic_n_arr.n_cyclic_tot)]\n",
    "end\n",
    "df_cyclic_n_arr_s[1]"
   ]
  },
  {
   "cell_type": "code",
   "execution_count": 53,
   "metadata": {},
   "outputs": [
    {
     "data": {
      "text/html": [
       "<div><div style = \"float: left;\"><span>16×13 DataFrame</span></div><div style = \"clear: both;\"></div></div><div class = \"data-frame\" style = \"overflow-x: scroll;\"><table class = \"data-frame\" style = \"margin-bottom: 6px;\"><thead><tr class = \"header\"><th class = \"rowNumber\" style = \"font-weight: bold; text-align: right;\">Row</th><th style = \"text-align: left;\">triad</th><th style = \"text-align: left;\">per_bal</th><th style = \"text-align: left;\">per_hier</th><th style = \"text-align: left;\">per_trans_bal</th><th style = \"text-align: left;\">per_trans_hier</th><th style = \"text-align: left;\">per_cyclic_bal</th><th style = \"text-align: left;\">per_cyclic_hier</th><th style = \"text-align: left;\">per_trans_bal_sep</th><th style = \"text-align: left;\">per_cyclic_bal_sep</th><th style = \"text-align: left;\">per_trans_hier_sep</th><th style = \"text-align: left;\">per_cyclic_hier_sep</th><th style = \"text-align: left;\">per_bal_sep</th><th style = \"text-align: left;\">per_hier_sep</th></tr><tr class = \"subheader headerLastRow\"><th class = \"rowNumber\" style = \"font-weight: bold; text-align: right;\"></th><th title = \"String\" style = \"text-align: left;\">String</th><th title = \"Float64\" style = \"text-align: left;\">Float64</th><th title = \"Float64\" style = \"text-align: left;\">Float64</th><th title = \"Float64\" style = \"text-align: left;\">Float64</th><th title = \"Float64\" style = \"text-align: left;\">Float64</th><th title = \"Float64\" style = \"text-align: left;\">Float64</th><th title = \"Float64\" style = \"text-align: left;\">Float64</th><th title = \"Float64\" style = \"text-align: left;\">Float64</th><th title = \"Float64\" style = \"text-align: left;\">Float64</th><th title = \"Float64\" style = \"text-align: left;\">Float64</th><th title = \"Float64\" style = \"text-align: left;\">Float64</th><th title = \"Float64\" style = \"text-align: left;\">Float64</th><th title = \"Float64\" style = \"text-align: left;\">Float64</th></tr></thead><tbody><tr><td class = \"rowNumber\" style = \"font-weight: bold; text-align: right;\">1</td><td style = \"text-align: left;\">030C</td><td style = \"text-align: right;\">0.492754</td><td style = \"text-align: right;\">0.753623</td><td style = \"text-align: right;\">0.0</td><td style = \"text-align: right;\">0.0</td><td style = \"text-align: right;\">0.492754</td><td style = \"text-align: right;\">0.753623</td><td style = \"text-align: right;\">NaN</td><td style = \"text-align: right;\">0.492754</td><td style = \"text-align: right;\">NaN</td><td style = \"text-align: right;\">0.753623</td><td style = \"text-align: right;\">0.492754</td><td style = \"text-align: right;\">0.753623</td></tr><tr><td class = \"rowNumber\" style = \"font-weight: bold; text-align: right;\">2</td><td style = \"text-align: left;\">111U</td><td style = \"text-align: right;\">NaN</td><td style = \"text-align: right;\">NaN</td><td style = \"text-align: right;\">NaN</td><td style = \"text-align: right;\">NaN</td><td style = \"text-align: right;\">NaN</td><td style = \"text-align: right;\">NaN</td><td style = \"text-align: right;\">NaN</td><td style = \"text-align: right;\">NaN</td><td style = \"text-align: right;\">NaN</td><td style = \"text-align: right;\">NaN</td><td style = \"text-align: right;\">NaN</td><td style = \"text-align: right;\">NaN</td></tr><tr><td class = \"rowNumber\" style = \"font-weight: bold; text-align: right;\">3</td><td style = \"text-align: left;\">120D</td><td style = \"text-align: right;\">0.697345</td><td style = \"text-align: right;\">0.831858</td><td style = \"text-align: right;\">0.697345</td><td style = \"text-align: right;\">0.831858</td><td style = \"text-align: right;\">0.0</td><td style = \"text-align: right;\">0.0</td><td style = \"text-align: right;\">0.750442</td><td style = \"text-align: right;\">NaN</td><td style = \"text-align: right;\">0.913274</td><td style = \"text-align: right;\">NaN</td><td style = \"text-align: right;\">0.750442</td><td style = \"text-align: right;\">0.913274</td></tr><tr><td class = \"rowNumber\" style = \"font-weight: bold; text-align: right;\">4</td><td style = \"text-align: left;\">120C</td><td style = \"text-align: right;\">0.473799</td><td style = \"text-align: right;\">0.558952</td><td style = \"text-align: right;\">0.576419</td><td style = \"text-align: right;\">0.927948</td><td style = \"text-align: right;\">0.524017</td><td style = \"text-align: right;\">0.622271</td><td style = \"text-align: right;\">0.576419</td><td style = \"text-align: right;\">0.524017</td><td style = \"text-align: right;\">0.927948</td><td style = \"text-align: right;\">0.622271</td><td style = \"text-align: right;\">0.550218</td><td style = \"text-align: right;\">0.775109</td></tr><tr><td class = \"rowNumber\" style = \"font-weight: bold; text-align: right;\">5</td><td style = \"text-align: left;\">201</td><td style = \"text-align: right;\">NaN</td><td style = \"text-align: right;\">NaN</td><td style = \"text-align: right;\">NaN</td><td style = \"text-align: right;\">NaN</td><td style = \"text-align: right;\">NaN</td><td style = \"text-align: right;\">NaN</td><td style = \"text-align: right;\">NaN</td><td style = \"text-align: right;\">NaN</td><td style = \"text-align: right;\">NaN</td><td style = \"text-align: right;\">NaN</td><td style = \"text-align: right;\">NaN</td><td style = \"text-align: right;\">NaN</td></tr><tr><td class = \"rowNumber\" style = \"font-weight: bold; text-align: right;\">6</td><td style = \"text-align: left;\">111D</td><td style = \"text-align: right;\">NaN</td><td style = \"text-align: right;\">NaN</td><td style = \"text-align: right;\">NaN</td><td style = \"text-align: right;\">NaN</td><td style = \"text-align: right;\">NaN</td><td style = \"text-align: right;\">NaN</td><td style = \"text-align: right;\">NaN</td><td style = \"text-align: right;\">NaN</td><td style = \"text-align: right;\">NaN</td><td style = \"text-align: right;\">NaN</td><td style = \"text-align: right;\">NaN</td><td style = \"text-align: right;\">NaN</td></tr><tr><td class = \"rowNumber\" style = \"font-weight: bold; text-align: right;\">7</td><td style = \"text-align: left;\">210</td><td style = \"text-align: right;\">0.622917</td><td style = \"text-align: right;\">0.171875</td><td style = \"text-align: right;\">0.622917</td><td style = \"text-align: right;\">0.7625</td><td style = \"text-align: right;\">0.70625</td><td style = \"text-align: right;\">0.364583</td><td style = \"text-align: right;\">0.751389</td><td style = \"text-align: right;\">0.70625</td><td style = \"text-align: right;\">0.914931</td><td style = \"text-align: right;\">0.364583</td><td style = \"text-align: right;\">0.740104</td><td style = \"text-align: right;\">0.777344</td></tr><tr><td class = \"rowNumber\" style = \"font-weight: bold; text-align: right;\">8</td><td style = \"text-align: left;\">003</td><td style = \"text-align: right;\">NaN</td><td style = \"text-align: right;\">NaN</td><td style = \"text-align: right;\">NaN</td><td style = \"text-align: right;\">NaN</td><td style = \"text-align: right;\">NaN</td><td style = \"text-align: right;\">NaN</td><td style = \"text-align: right;\">NaN</td><td style = \"text-align: right;\">NaN</td><td style = \"text-align: right;\">NaN</td><td style = \"text-align: right;\">NaN</td><td style = \"text-align: right;\">NaN</td><td style = \"text-align: right;\">NaN</td></tr><tr><td class = \"rowNumber\" style = \"font-weight: bold; text-align: right;\">9</td><td style = \"text-align: left;\">012</td><td style = \"text-align: right;\">NaN</td><td style = \"text-align: right;\">NaN</td><td style = \"text-align: right;\">NaN</td><td style = \"text-align: right;\">NaN</td><td style = \"text-align: right;\">NaN</td><td style = \"text-align: right;\">NaN</td><td style = \"text-align: right;\">NaN</td><td style = \"text-align: right;\">NaN</td><td style = \"text-align: right;\">NaN</td><td style = \"text-align: right;\">NaN</td><td style = \"text-align: right;\">NaN</td><td style = \"text-align: right;\">NaN</td></tr><tr><td class = \"rowNumber\" style = \"font-weight: bold; text-align: right;\">10</td><td style = \"text-align: left;\">021D</td><td style = \"text-align: right;\">NaN</td><td style = \"text-align: right;\">NaN</td><td style = \"text-align: right;\">NaN</td><td style = \"text-align: right;\">NaN</td><td style = \"text-align: right;\">NaN</td><td style = \"text-align: right;\">NaN</td><td style = \"text-align: right;\">NaN</td><td style = \"text-align: right;\">NaN</td><td style = \"text-align: right;\">NaN</td><td style = \"text-align: right;\">NaN</td><td style = \"text-align: right;\">NaN</td><td style = \"text-align: right;\">NaN</td></tr><tr><td class = \"rowNumber\" style = \"font-weight: bold; text-align: right;\">11</td><td style = \"text-align: left;\">030T</td><td style = \"text-align: right;\">0.652597</td><td style = \"text-align: right;\">0.925974</td><td style = \"text-align: right;\">0.652597</td><td style = \"text-align: right;\">0.925974</td><td style = \"text-align: right;\">0.0</td><td style = \"text-align: right;\">0.0</td><td style = \"text-align: right;\">0.652597</td><td style = \"text-align: right;\">NaN</td><td style = \"text-align: right;\">0.925974</td><td style = \"text-align: right;\">NaN</td><td style = \"text-align: right;\">0.652597</td><td style = \"text-align: right;\">0.925974</td></tr><tr><td class = \"rowNumber\" style = \"font-weight: bold; text-align: right;\">12</td><td style = \"text-align: left;\">021U</td><td style = \"text-align: right;\">NaN</td><td style = \"text-align: right;\">NaN</td><td style = \"text-align: right;\">NaN</td><td style = \"text-align: right;\">NaN</td><td style = \"text-align: right;\">NaN</td><td style = \"text-align: right;\">NaN</td><td style = \"text-align: right;\">NaN</td><td style = \"text-align: right;\">NaN</td><td style = \"text-align: right;\">NaN</td><td style = \"text-align: right;\">NaN</td><td style = \"text-align: right;\">NaN</td><td style = \"text-align: right;\">NaN</td></tr><tr><td class = \"rowNumber\" style = \"font-weight: bold; text-align: right;\">13</td><td style = \"text-align: left;\">300</td><td style = \"text-align: right;\">0.780069</td><td style = \"text-align: right;\">0.0309278</td><td style = \"text-align: right;\">0.780069</td><td style = \"text-align: right;\">0.804124</td><td style = \"text-align: right;\">0.790378</td><td style = \"text-align: right;\">0.109966</td><td style = \"text-align: right;\">0.86827</td><td style = \"text-align: right;\">0.859107</td><td style = \"text-align: right;\">0.953036</td><td style = \"text-align: right;\">0.168385</td><td style = \"text-align: right;\">0.865979</td><td style = \"text-align: right;\">0.756873</td></tr><tr><td class = \"rowNumber\" style = \"font-weight: bold; text-align: right;\">14</td><td style = \"text-align: left;\">102</td><td style = \"text-align: right;\">NaN</td><td style = \"text-align: right;\">NaN</td><td style = \"text-align: right;\">NaN</td><td style = \"text-align: right;\">NaN</td><td style = \"text-align: right;\">NaN</td><td style = \"text-align: right;\">NaN</td><td style = \"text-align: right;\">NaN</td><td style = \"text-align: right;\">NaN</td><td style = \"text-align: right;\">NaN</td><td style = \"text-align: right;\">NaN</td><td style = \"text-align: right;\">NaN</td><td style = \"text-align: right;\">NaN</td></tr><tr><td class = \"rowNumber\" style = \"font-weight: bold; text-align: right;\">15</td><td style = \"text-align: left;\">021C</td><td style = \"text-align: right;\">NaN</td><td style = \"text-align: right;\">NaN</td><td style = \"text-align: right;\">NaN</td><td style = \"text-align: right;\">NaN</td><td style = \"text-align: right;\">NaN</td><td style = \"text-align: right;\">NaN</td><td style = \"text-align: right;\">NaN</td><td style = \"text-align: right;\">NaN</td><td style = \"text-align: right;\">NaN</td><td style = \"text-align: right;\">NaN</td><td style = \"text-align: right;\">NaN</td><td style = \"text-align: right;\">NaN</td></tr><tr><td class = \"rowNumber\" style = \"font-weight: bold; text-align: right;\">16</td><td style = \"text-align: left;\">120U</td><td style = \"text-align: right;\">0.760304</td><td style = \"text-align: right;\">0.856833</td><td style = \"text-align: right;\">0.760304</td><td style = \"text-align: right;\">0.856833</td><td style = \"text-align: right;\">0.0</td><td style = \"text-align: right;\">0.0</td><td style = \"text-align: right;\">0.812364</td><td style = \"text-align: right;\">NaN</td><td style = \"text-align: right;\">0.927332</td><td style = \"text-align: right;\">NaN</td><td style = \"text-align: right;\">0.812364</td><td style = \"text-align: right;\">0.927332</td></tr></tbody></table></div>"
      ],
      "text/latex": [
       "\\begin{tabular}{r|cccccccc}\n",
       "\t& triad & per\\_bal & per\\_hier & per\\_trans\\_bal & per\\_trans\\_hier & per\\_cyclic\\_bal & per\\_cyclic\\_hier & \\\\\n",
       "\t\\hline\n",
       "\t& String & Float64 & Float64 & Float64 & Float64 & Float64 & Float64 & \\\\\n",
       "\t\\hline\n",
       "\t1 & 030C & 0.492754 & 0.753623 & 0.0 & 0.0 & 0.492754 & 0.753623 & $\\dots$ \\\\\n",
       "\t2 & 111U & NaN & NaN & NaN & NaN & NaN & NaN & $\\dots$ \\\\\n",
       "\t3 & 120D & 0.697345 & 0.831858 & 0.697345 & 0.831858 & 0.0 & 0.0 & $\\dots$ \\\\\n",
       "\t4 & 120C & 0.473799 & 0.558952 & 0.576419 & 0.927948 & 0.524017 & 0.622271 & $\\dots$ \\\\\n",
       "\t5 & 201 & NaN & NaN & NaN & NaN & NaN & NaN & $\\dots$ \\\\\n",
       "\t6 & 111D & NaN & NaN & NaN & NaN & NaN & NaN & $\\dots$ \\\\\n",
       "\t7 & 210 & 0.622917 & 0.171875 & 0.622917 & 0.7625 & 0.70625 & 0.364583 & $\\dots$ \\\\\n",
       "\t8 & 003 & NaN & NaN & NaN & NaN & NaN & NaN & $\\dots$ \\\\\n",
       "\t9 & 012 & NaN & NaN & NaN & NaN & NaN & NaN & $\\dots$ \\\\\n",
       "\t10 & 021D & NaN & NaN & NaN & NaN & NaN & NaN & $\\dots$ \\\\\n",
       "\t11 & 030T & 0.652597 & 0.925974 & 0.652597 & 0.925974 & 0.0 & 0.0 & $\\dots$ \\\\\n",
       "\t12 & 021U & NaN & NaN & NaN & NaN & NaN & NaN & $\\dots$ \\\\\n",
       "\t13 & 300 & 0.780069 & 0.0309278 & 0.780069 & 0.804124 & 0.790378 & 0.109966 & $\\dots$ \\\\\n",
       "\t14 & 102 & NaN & NaN & NaN & NaN & NaN & NaN & $\\dots$ \\\\\n",
       "\t15 & 021C & NaN & NaN & NaN & NaN & NaN & NaN & $\\dots$ \\\\\n",
       "\t16 & 120U & 0.760304 & 0.856833 & 0.760304 & 0.856833 & 0.0 & 0.0 & $\\dots$ \\\\\n",
       "\\end{tabular}\n"
      ],
      "text/plain": [
       "\u001b[1m16×13 DataFrame\u001b[0m\n",
       "\u001b[1m Row \u001b[0m│\u001b[1m triad  \u001b[0m\u001b[1m per_bal    \u001b[0m\u001b[1m per_hier    \u001b[0m\u001b[1m per_trans_bal \u001b[0m\u001b[1m per_trans_hier \u001b[0m\u001b[1m per_cyc\u001b[0m ⋯\n",
       "     │\u001b[90m String \u001b[0m\u001b[90m Float64    \u001b[0m\u001b[90m Float64     \u001b[0m\u001b[90m Float64       \u001b[0m\u001b[90m Float64        \u001b[0m\u001b[90m Float64\u001b[0m ⋯\n",
       "─────┼──────────────────────────────────────────────────────────────────────────\n",
       "   1 │ 030C      0.492754    0.753623        0.0             0.0             0 ⋯\n",
       "   2 │ 111U    NaN         NaN             NaN             NaN             NaN\n",
       "   3 │ 120D      0.697345    0.831858        0.697345        0.831858        0\n",
       "   4 │ 120C      0.473799    0.558952        0.576419        0.927948        0\n",
       "   5 │ 201     NaN         NaN             NaN             NaN             NaN ⋯\n",
       "   6 │ 111D    NaN         NaN             NaN             NaN             NaN\n",
       "   7 │ 210       0.622917    0.171875        0.622917        0.7625          0\n",
       "   8 │ 003     NaN         NaN             NaN             NaN             NaN\n",
       "   9 │ 012     NaN         NaN             NaN             NaN             NaN ⋯\n",
       "  10 │ 021D    NaN         NaN             NaN             NaN             NaN\n",
       "  11 │ 030T      0.652597    0.925974        0.652597        0.925974        0\n",
       "  12 │ 021U    NaN         NaN             NaN             NaN             NaN\n",
       "  13 │ 300       0.780069    0.0309278       0.780069        0.804124        0 ⋯\n",
       "  14 │ 102     NaN         NaN             NaN             NaN             NaN\n",
       "  15 │ 021C    NaN         NaN             NaN             NaN             NaN\n",
       "  16 │ 120U      0.760304    0.856833        0.760304        0.856833        0\n",
       "\u001b[36m                                                               8 columns omitted\u001b[0m"
      ]
     },
     "metadata": {},
     "output_type": "display_data"
    }
   ],
   "source": [
    "# access dataframe columns\n",
    "\n",
    "cols = names(df_cyclic_n_arr_s[1])[startswith.(names(df_cyclic_n_arr_s[1]), \"per\")]\n",
    "\n",
    "df_cyclic_n_arr_s[1][!, [\"triad\", cols...]]"
   ]
  },
  {
   "cell_type": "code",
   "execution_count": 54,
   "metadata": {},
   "outputs": [],
   "source": [
    "# read csv file to dataframe\n",
    "\n",
    "# df = pd.read_csv(Path('../' + dataset + '/' + filename + '-bal_hier_all-triads-types.csv'))\n",
    "# df"
   ]
  },
  {
   "cell_type": "code",
   "execution_count": 56,
   "metadata": {},
   "outputs": [],
   "source": [
    "# save above dataframes\n",
    "\n",
    "for (i, df_cyclic_n_arr) in enumerate(df_cyclic_n_arr_s)\n",
    "    name = df_index.school[i] * \"_class_\" * string(df_index.class[i])\n",
    "    CSV.write(joinpath(path, \"spanish-bal-hier-all-triads-types-$name\"), df_cyclic_n_arr)\n",
    "    CSV.write(joinpath(\"spanish-bal-hier-all-triads-types-$name\"), df_cyclic_n_arr)\n",
    "\n",
    "    save(joinpath(path, \"spanish-bal-hier-all-triads-types.jld2\"), name, df_cyclic_n_arr)\n",
    "    save(joinpath(\"spanish-bal-hier-all-triads-types.jld2\"), name, df_cyclic_n_arr)\n",
    "end\n",
    "\n",
    "# CSV.write(joinpath(path, \"spanish-bal_hier_all-triads-types.csv\"), df_cyclic_n_arr)\n",
    "# CSV.write(joinpath(\"spanish-bal_hier_all-triads-types.csv\"), df_cyclic_n_arr)\n",
    "\n",
    "# # save JLD2\n",
    "# save(joinpath(path, \"spanish-bal_hier_all-triads-types.jld2\"), \"df_cyclic_n_arr\", df_cyclic_n_arr)\n",
    "# save(\"spanish-bal_hier_all-triads-types.jld2\", \"df_cyclic_n_arr\", df_cyclic_n_arr)"
   ]
  },
  {
   "cell_type": "code",
   "execution_count": 8,
   "metadata": {},
   "outputs": [
    {
     "data": {
      "text/html": [
       "<div><div style = \"float: left;\"><span>16×11 DataFrame</span></div><div style = \"clear: both;\"></div></div><div class = \"data-frame\" style = \"overflow-x: scroll;\"><table class = \"data-frame\" style = \"margin-bottom: 6px;\"><thead><tr class = \"header\"><th class = \"rowNumber\" style = \"font-weight: bold; text-align: right;\">Row</th><th style = \"text-align: left;\">triad</th><th style = \"text-align: left;\">n_arr</th><th style = \"text-align: left;\">n_bal</th><th style = \"text-align: left;\">n_hier</th><th style = \"text-align: left;\">n_tot</th><th style = \"text-align: left;\">n_trans_bal</th><th style = \"text-align: left;\">n_trans_hier</th><th style = \"text-align: left;\">n_trans_tot</th><th style = \"text-align: left;\">n_cyclic_bal</th><th style = \"text-align: left;\">n_cyclic_hier</th><th style = \"text-align: left;\">n_cyclic_tot</th></tr><tr class = \"subheader headerLastRow\"><th class = \"rowNumber\" style = \"font-weight: bold; text-align: right;\"></th><th title = \"String\" style = \"text-align: left;\">String</th><th title = \"Vector{Int64}\" style = \"text-align: left;\">Array…</th><th title = \"Int64\" style = \"text-align: left;\">Int64</th><th title = \"Int64\" style = \"text-align: left;\">Int64</th><th title = \"Int64\" style = \"text-align: left;\">Int64</th><th title = \"Int64\" style = \"text-align: left;\">Int64</th><th title = \"Int64\" style = \"text-align: left;\">Int64</th><th title = \"Int64\" style = \"text-align: left;\">Int64</th><th title = \"Int64\" style = \"text-align: left;\">Int64</th><th title = \"Int64\" style = \"text-align: left;\">Int64</th><th title = \"Int64\" style = \"text-align: left;\">Int64</th></tr></thead><tbody><tr><td class = \"rowNumber\" style = \"font-weight: bold; text-align: right;\">1</td><td style = \"text-align: left;\">030C</td><td style = \"text-align: left;\">[0, 0, 0, 0, 0, 0, 0, 0, 20, 426, 2309, 4040]</td><td style = \"text-align: right;\">4466</td><td style = \"text-align: right;\">2735</td><td style = \"text-align: right;\">6795</td><td style = \"text-align: right;\">0</td><td style = \"text-align: right;\">0</td><td style = \"text-align: right;\">0</td><td style = \"text-align: right;\">4466</td><td style = \"text-align: right;\">2735</td><td style = \"text-align: right;\">6795</td></tr><tr><td class = \"rowNumber\" style = \"font-weight: bold; text-align: right;\">2</td><td style = \"text-align: left;\">111U</td><td style = \"text-align: left;\">[0, 0, 0, 0, 0, 0, 0, 0, 0, 0, 0, 0]</td><td style = \"text-align: right;\">0</td><td style = \"text-align: right;\">0</td><td style = \"text-align: right;\">0</td><td style = \"text-align: right;\">0</td><td style = \"text-align: right;\">0</td><td style = \"text-align: right;\">0</td><td style = \"text-align: right;\">0</td><td style = \"text-align: right;\">0</td><td style = \"text-align: right;\">0</td></tr><tr><td class = \"rowNumber\" style = \"font-weight: bold; text-align: right;\">3</td><td style = \"text-align: left;\">120D</td><td style = \"text-align: left;\">[656, 2718, 804, 5957, 1529, 5232, 3536, 70680, 0, 0, 0, 0]</td><td style = \"text-align: right;\">35682</td><td style = \"text-align: right;\">39837</td><td style = \"text-align: right;\">45556</td><td style = \"text-align: right;\">35682</td><td style = \"text-align: right;\">39837</td><td style = \"text-align: right;\">91112</td><td style = \"text-align: right;\">0</td><td style = \"text-align: right;\">0</td><td style = \"text-align: right;\">0</td></tr><tr><td class = \"rowNumber\" style = \"font-weight: bold; text-align: right;\">4</td><td style = \"text-align: left;\">120C</td><td style = \"text-align: left;\">[120, 318, 252, 1857, 346, 629, 1601, 12544, 62, 812, 4918, 11875]</td><td style = \"text-align: right;\">11919</td><td style = \"text-align: right;\">5310</td><td style = \"text-align: right;\">17667</td><td style = \"text-align: right;\">13460</td><td style = \"text-align: right;\">16786</td><td style = \"text-align: right;\">17667</td><td style = \"text-align: right;\">12687</td><td style = \"text-align: right;\">5730</td><td style = \"text-align: right;\">17667</td></tr><tr><td class = \"rowNumber\" style = \"font-weight: bold; text-align: right;\">5</td><td style = \"text-align: left;\">201</td><td style = \"text-align: left;\">[0, 0, 0, 0, 0, 0, 0, 0, 0, 0, 0, 0]</td><td style = \"text-align: right;\">0</td><td style = \"text-align: right;\">0</td><td style = \"text-align: right;\">0</td><td style = \"text-align: right;\">0</td><td style = \"text-align: right;\">0</td><td style = \"text-align: right;\">0</td><td style = \"text-align: right;\">0</td><td style = \"text-align: right;\">0</td><td style = \"text-align: right;\">0</td></tr><tr><td class = \"rowNumber\" style = \"font-weight: bold; text-align: right;\">6</td><td style = \"text-align: left;\">111D</td><td style = \"text-align: left;\">[0, 0, 0, 0, 0, 0, 0, 0, 0, 0, 0, 0]</td><td style = \"text-align: right;\">0</td><td style = \"text-align: right;\">0</td><td style = \"text-align: right;\">0</td><td style = \"text-align: right;\">0</td><td style = \"text-align: right;\">0</td><td style = \"text-align: right;\">0</td><td style = \"text-align: right;\">0</td><td style = \"text-align: right;\">0</td><td style = \"text-align: right;\">0</td></tr><tr><td class = \"rowNumber\" style = \"font-weight: bold; text-align: right;\">7</td><td style = \"text-align: left;\">210</td><td style = \"text-align: left;\">[148, 598, 344, 2666, 782, 2092, 2452, 36743, 31, 413, 2943, 11888]</td><td style = \"text-align: right;\">11150</td><td style = \"text-align: right;\">2018</td><td style = \"text-align: right;\">15275</td><td style = \"text-align: right;\">11150</td><td style = \"text-align: right;\">13025</td><td style = \"text-align: right;\">45825</td><td style = \"text-align: right;\">12301</td><td style = \"text-align: right;\">3356</td><td style = \"text-align: right;\">15275</td></tr><tr><td class = \"rowNumber\" style = \"font-weight: bold; text-align: right;\">8</td><td style = \"text-align: left;\">003</td><td style = \"text-align: left;\">[0, 0, 0, 0, 0, 0, 0, 0, 0, 0, 0, 0]</td><td style = \"text-align: right;\">0</td><td style = \"text-align: right;\">0</td><td style = \"text-align: right;\">0</td><td style = \"text-align: right;\">0</td><td style = \"text-align: right;\">0</td><td style = \"text-align: right;\">0</td><td style = \"text-align: right;\">0</td><td style = \"text-align: right;\">0</td><td style = \"text-align: right;\">0</td></tr><tr><td class = \"rowNumber\" style = \"font-weight: bold; text-align: right;\">9</td><td style = \"text-align: left;\">012</td><td style = \"text-align: left;\">[0, 0, 0, 0, 0, 0, 0, 0, 0, 0, 0, 0]</td><td style = \"text-align: right;\">0</td><td style = \"text-align: right;\">0</td><td style = \"text-align: right;\">0</td><td style = \"text-align: right;\">0</td><td style = \"text-align: right;\">0</td><td style = \"text-align: right;\">0</td><td style = \"text-align: right;\">0</td><td style = \"text-align: right;\">0</td><td style = \"text-align: right;\">0</td></tr><tr><td class = \"rowNumber\" style = \"font-weight: bold; text-align: right;\">10</td><td style = \"text-align: left;\">021D</td><td style = \"text-align: left;\">[0, 0, 0, 0, 0, 0, 0, 0, 0, 0, 0, 0]</td><td style = \"text-align: right;\">0</td><td style = \"text-align: right;\">0</td><td style = \"text-align: right;\">0</td><td style = \"text-align: right;\">0</td><td style = \"text-align: right;\">0</td><td style = \"text-align: right;\">0</td><td style = \"text-align: right;\">0</td><td style = \"text-align: right;\">0</td><td style = \"text-align: right;\">0</td></tr><tr><td class = \"rowNumber\" style = \"font-weight: bold; text-align: right;\">11</td><td style = \"text-align: left;\">030T</td><td style = \"text-align: left;\">[6394, 12945, 5252, 33371, 25469, 29930, 38474, 310844, 0, 0, 0, 0]</td><td style = \"text-align: right;\">354510</td><td style = \"text-align: right;\">427497</td><td style = \"text-align: right;\">462679</td><td style = \"text-align: right;\">354510</td><td style = \"text-align: right;\">427497</td><td style = \"text-align: right;\">462679</td><td style = \"text-align: right;\">0</td><td style = \"text-align: right;\">0</td><td style = \"text-align: right;\">0</td></tr><tr><td class = \"rowNumber\" style = \"font-weight: bold; text-align: right;\">12</td><td style = \"text-align: left;\">021U</td><td style = \"text-align: left;\">[0, 0, 0, 0, 0, 0, 0, 0, 0, 0, 0, 0]</td><td style = \"text-align: right;\">0</td><td style = \"text-align: right;\">0</td><td style = \"text-align: right;\">0</td><td style = \"text-align: right;\">0</td><td style = \"text-align: right;\">0</td><td style = \"text-align: right;\">0</td><td style = \"text-align: right;\">0</td><td style = \"text-align: right;\">0</td><td style = \"text-align: right;\">0</td></tr><tr><td class = \"rowNumber\" style = \"font-weight: bold; text-align: right;\">13</td><td style = \"text-align: left;\">300</td><td style = \"text-align: left;\">[30, 106, 43, 514, 100, 457, 520, 10944, 9, 46, 574, 3609]</td><td style = \"text-align: right;\">1626</td><td style = \"text-align: right;\">66</td><td style = \"text-align: right;\">2119</td><td style = \"text-align: right;\">1626</td><td style = \"text-align: right;\">1688</td><td style = \"text-align: right;\">12714</td><td style = \"text-align: right;\">1630</td><td style = \"text-align: right;\">123</td><td style = \"text-align: right;\">4238</td></tr><tr><td class = \"rowNumber\" style = \"font-weight: bold; text-align: right;\">14</td><td style = \"text-align: left;\">102</td><td style = \"text-align: left;\">[0, 0, 0, 0, 0, 0, 0, 0, 0, 0, 0, 0]</td><td style = \"text-align: right;\">0</td><td style = \"text-align: right;\">0</td><td style = \"text-align: right;\">0</td><td style = \"text-align: right;\">0</td><td style = \"text-align: right;\">0</td><td style = \"text-align: right;\">0</td><td style = \"text-align: right;\">0</td><td style = \"text-align: right;\">0</td><td style = \"text-align: right;\">0</td></tr><tr><td class = \"rowNumber\" style = \"font-weight: bold; text-align: right;\">15</td><td style = \"text-align: left;\">021C</td><td style = \"text-align: left;\">[0, 0, 0, 0, 0, 0, 0, 0, 0, 0, 0, 0]</td><td style = \"text-align: right;\">0</td><td style = \"text-align: right;\">0</td><td style = \"text-align: right;\">0</td><td style = \"text-align: right;\">0</td><td style = \"text-align: right;\">0</td><td style = \"text-align: right;\">0</td><td style = \"text-align: right;\">0</td><td style = \"text-align: right;\">0</td><td style = \"text-align: right;\">0</td></tr><tr><td class = \"rowNumber\" style = \"font-weight: bold; text-align: right;\">16</td><td style = \"text-align: left;\">120U</td><td style = \"text-align: left;\">[1009, 1951, 819, 5918, 7351, 8119, 9251, 82100, 0, 0, 0, 0]</td><td style = \"text-align: right;\">42431</td><td style = \"text-align: right;\">49706</td><td style = \"text-align: right;\">58259</td><td style = \"text-align: right;\">42431</td><td style = \"text-align: right;\">49706</td><td style = \"text-align: right;\">116518</td><td style = \"text-align: right;\">0</td><td style = \"text-align: right;\">0</td><td style = \"text-align: right;\">0</td></tr></tbody></table></div>"
      ],
      "text/latex": [
       "\\begin{tabular}{r|cccc}\n",
       "\t& triad & n\\_arr & n\\_bal & \\\\\n",
       "\t\\hline\n",
       "\t& String & Array… & Int64 & \\\\\n",
       "\t\\hline\n",
       "\t1 & 030C & [0, 0, 0, 0, 0, 0, 0, 0, 20, 426, 2309, 4040] & 4466 & $\\dots$ \\\\\n",
       "\t2 & 111U & [0, 0, 0, 0, 0, 0, 0, 0, 0, 0, 0, 0] & 0 & $\\dots$ \\\\\n",
       "\t3 & 120D & [656, 2718, 804, 5957, 1529, 5232, 3536, 70680, 0, 0, 0, 0] & 35682 & $\\dots$ \\\\\n",
       "\t4 & 120C & [120, 318, 252, 1857, 346, 629, 1601, 12544, 62, 812, 4918, 11875] & 11919 & $\\dots$ \\\\\n",
       "\t5 & 201 & [0, 0, 0, 0, 0, 0, 0, 0, 0, 0, 0, 0] & 0 & $\\dots$ \\\\\n",
       "\t6 & 111D & [0, 0, 0, 0, 0, 0, 0, 0, 0, 0, 0, 0] & 0 & $\\dots$ \\\\\n",
       "\t7 & 210 & [148, 598, 344, 2666, 782, 2092, 2452, 36743, 31, 413, 2943, 11888] & 11150 & $\\dots$ \\\\\n",
       "\t8 & 003 & [0, 0, 0, 0, 0, 0, 0, 0, 0, 0, 0, 0] & 0 & $\\dots$ \\\\\n",
       "\t9 & 012 & [0, 0, 0, 0, 0, 0, 0, 0, 0, 0, 0, 0] & 0 & $\\dots$ \\\\\n",
       "\t10 & 021D & [0, 0, 0, 0, 0, 0, 0, 0, 0, 0, 0, 0] & 0 & $\\dots$ \\\\\n",
       "\t11 & 030T & [6394, 12945, 5252, 33371, 25469, 29930, 38474, 310844, 0, 0, 0, 0] & 354510 & $\\dots$ \\\\\n",
       "\t12 & 021U & [0, 0, 0, 0, 0, 0, 0, 0, 0, 0, 0, 0] & 0 & $\\dots$ \\\\\n",
       "\t13 & 300 & [30, 106, 43, 514, 100, 457, 520, 10944, 9, 46, 574, 3609] & 1626 & $\\dots$ \\\\\n",
       "\t14 & 102 & [0, 0, 0, 0, 0, 0, 0, 0, 0, 0, 0, 0] & 0 & $\\dots$ \\\\\n",
       "\t15 & 021C & [0, 0, 0, 0, 0, 0, 0, 0, 0, 0, 0, 0] & 0 & $\\dots$ \\\\\n",
       "\t16 & 120U & [1009, 1951, 819, 5918, 7351, 8119, 9251, 82100, 0, 0, 0, 0] & 42431 & $\\dots$ \\\\\n",
       "\\end{tabular}\n"
      ],
      "text/plain": [
       "\u001b[1m16×11 DataFrame\u001b[0m\n",
       "\u001b[1m Row \u001b[0m│\u001b[1m triad  \u001b[0m\u001b[1m n_arr                             \u001b[0m\u001b[1m n_bal  \u001b[0m\u001b[1m n_hier \u001b[0m\u001b[1m n_tot  \u001b[0m\u001b[1m n_tr\u001b[0m ⋯\n",
       "     │\u001b[90m String \u001b[0m\u001b[90m Array…                            \u001b[0m\u001b[90m Int64  \u001b[0m\u001b[90m Int64  \u001b[0m\u001b[90m Int64  \u001b[0m\u001b[90m Int6\u001b[0m ⋯\n",
       "─────┼──────────────────────────────────────────────────────────────────────────\n",
       "   1 │ 030C    [0, 0, 0, 0, 0, 0, 0, 0, 20, 426…    4466    2735    6795       ⋯\n",
       "   2 │ 111U    [0, 0, 0, 0, 0, 0, 0, 0, 0, 0, 0…       0       0       0\n",
       "   3 │ 120D    [656, 2718, 804, 5957, 1529, 523…   35682   39837   45556\n",
       "   4 │ 120C    [120, 318, 252, 1857, 346, 629, …   11919    5310   17667\n",
       "   5 │ 201     [0, 0, 0, 0, 0, 0, 0, 0, 0, 0, 0…       0       0       0       ⋯\n",
       "   6 │ 111D    [0, 0, 0, 0, 0, 0, 0, 0, 0, 0, 0…       0       0       0\n",
       "   7 │ 210     [148, 598, 344, 2666, 782, 2092,…   11150    2018   15275\n",
       "   8 │ 003     [0, 0, 0, 0, 0, 0, 0, 0, 0, 0, 0…       0       0       0\n",
       "   9 │ 012     [0, 0, 0, 0, 0, 0, 0, 0, 0, 0, 0…       0       0       0       ⋯\n",
       "  10 │ 021D    [0, 0, 0, 0, 0, 0, 0, 0, 0, 0, 0…       0       0       0\n",
       "  11 │ 030T    [6394, 12945, 5252, 33371, 25469…  354510  427497  462679\n",
       "  12 │ 021U    [0, 0, 0, 0, 0, 0, 0, 0, 0, 0, 0…       0       0       0\n",
       "  13 │ 300     [30, 106, 43, 514, 100, 457, 520…    1626      66    2119       ⋯\n",
       "  14 │ 102     [0, 0, 0, 0, 0, 0, 0, 0, 0, 0, 0…       0       0       0\n",
       "  15 │ 021C    [0, 0, 0, 0, 0, 0, 0, 0, 0, 0, 0…       0       0       0\n",
       "  16 │ 120U    [1009, 1951, 819, 5918, 7351, 81…   42431   49706   58259\n",
       "\u001b[36m                                                               6 columns omitted\u001b[0m"
      ]
     },
     "metadata": {},
     "output_type": "display_data"
    }
   ],
   "source": [
    "using JLD2\n",
    "df_cyclic_n_arr = JLD2.load(joinpath(path, \"soc-wiki-elec-bal_hier_all-triads-types.jld2\"))[\"df_cyclic_n_arr\"]"
   ]
  }
 ],
 "metadata": {
  "kernelspec": {
   "display_name": "Julia 1.10.4",
   "language": "julia",
   "name": "julia-1.10"
  },
  "language_info": {
   "file_extension": ".jl",
   "mimetype": "application/julia",
   "name": "julia",
   "version": "1.10.4"
  }
 },
 "nbformat": 4,
 "nbformat_minor": 2
}
