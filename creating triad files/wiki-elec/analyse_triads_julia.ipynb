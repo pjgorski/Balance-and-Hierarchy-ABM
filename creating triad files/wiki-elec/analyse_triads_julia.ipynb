{
 "cells": [
  {
   "cell_type": "code",
   "execution_count": 1,
   "metadata": {},
   "outputs": [],
   "source": [
    "using CSV\n",
    "using DataFrames\n"
   ]
  },
  {
   "cell_type": "code",
   "execution_count": 2,
   "metadata": {},
   "outputs": [
    {
     "data": {
      "text/html": [
       "<div><div style = \"float: left;\"><span>DataFrameRow (4 columns)</span></div><div style = \"clear: both;\"></div></div><div class = \"data-frame\" style = \"overflow-x: scroll;\"><table class = \"data-frame\" style = \"margin-bottom: 6px;\"><thead><tr class = \"header\"><th class = \"rowLabel\" style = \"font-weight: bold; text-align: right;\">Row</th><th style = \"text-align: left;\">source</th><th style = \"text-align: left;\">target</th><th style = \"text-align: left;\">sign</th><th style = \"text-align: left;\">date</th></tr><tr class = \"subheader headerLastRow\"><th class = \"rowLabel\" style = \"font-weight: bold; text-align: right;\"></th><th title = \"Int64\" style = \"text-align: left;\">Int64</th><th title = \"Int64\" style = \"text-align: left;\">Int64</th><th title = \"Int64\" style = \"text-align: left;\">Int64</th><th title = \"Int64\" style = \"text-align: left;\">Int64</th></tr></thead><tbody><tr><td class = \"rowLabel\" style = \"font-weight: bold; text-align: right;\">1</td><td style = \"text-align: right;\">3</td><td style = \"text-align: right;\">30</td><td style = \"text-align: right;\">1</td><td style = \"text-align: right;\">1095171960</td></tr></tbody></table></div>"
      ],
      "text/latex": [
       "\\begin{tabular}{r|cccc}\n",
       "\t& source & target & sign & date\\\\\n",
       "\t\\hline\n",
       "\t& Int64 & Int64 & Int64 & Int64\\\\\n",
       "\t\\hline\n",
       "\t1 & 3 & 30 & 1 & 1095171960 \\\\\n",
       "\\end{tabular}\n"
      ],
      "text/plain": [
       "\u001b[1mDataFrameRow\u001b[0m\n",
       "\u001b[1m Row \u001b[0m│\u001b[1m source \u001b[0m\u001b[1m target \u001b[0m\u001b[1m sign  \u001b[0m\u001b[1m date       \u001b[0m\n",
       "     │\u001b[90m Int64  \u001b[0m\u001b[90m Int64  \u001b[0m\u001b[90m Int64 \u001b[0m\u001b[90m Int64      \u001b[0m\n",
       "─────┼───────────────────────────────────\n",
       "   1 │      3      30      1  1095171960"
      ]
     },
     "metadata": {},
     "output_type": "display_data"
    }
   ],
   "source": [
    "path = \"../../../data/soc-wiki-elec\"\n",
    "\n",
    "df = CSV.read(joinpath(path, \"soc-wiki-elec.edges\"), DataFrame, delim=\" \", header=false, skipto = 2)\n",
    "\n",
    "rename!(df, [:source, :target, :sign, :date])\n",
    "\n",
    "first(df)"
   ]
  },
  {
   "cell_type": "code",
   "execution_count": 4,
   "metadata": {},
   "outputs": [
    {
     "name": "stdout",
     "output_type": "stream",
     "text": [
      "[103738, 107071]"
     ]
    },
    {
     "data": {
      "text/plain": [
       "107013"
      ]
     },
     "metadata": {},
     "output_type": "display_data"
    }
   ],
   "source": [
    "# get all edges\n",
    "edges = [(df.source[i], df.target[i]) for i in 1:size(df, 1)]\n",
    "\n",
    "edges[1:5]\n",
    "print([length(unique(edges)), length(edges)])\n",
    "\n",
    "# remove self loops\n",
    "edges = [(u, v) for (u, v) in edges if u != v]\n",
    "length(edges)"
   ]
  },
  {
   "cell_type": "code",
   "execution_count": 5,
   "metadata": {},
   "outputs": [
    {
     "data": {
      "text/plain": [
       "107013"
      ]
     },
     "metadata": {},
     "output_type": "display_data"
    }
   ],
   "source": [
    "# check if for repeated edges the sign is the same\n",
    "\n",
    "# get all edges\n",
    "edges_sign = [(df.source[i], df.target[i], df.sign[i]) for i in 1:size(df, 1)]\n",
    "\n",
    "# edges_sign = unique(edges_sign)\n",
    "\n",
    "# remove self loops\n",
    "edges_sign = [(u, v, s) for (u, v, s) in edges_sign if u != v]\n",
    "\n",
    "# get the number of unique edges\n",
    "length(edges_sign)"
   ]
  },
  {
   "cell_type": "markdown",
   "metadata": {},
   "source": [
    "We have some edges that change sign. Let's see if these edges form any triads"
   ]
  },
  {
   "cell_type": "code",
   "execution_count": 6,
   "metadata": {},
   "outputs": [
    {
     "data": {
      "text/plain": [
       "(107013, 107071)"
      ]
     },
     "metadata": {},
     "output_type": "display_data"
    }
   ],
   "source": [
    "nrow(filter(x -> x.source != x.target, df)), nrow(df)"
   ]
  },
  {
   "cell_type": "code",
   "execution_count": 7,
   "metadata": {},
   "outputs": [
    {
     "name": "stdout",
     "output_type": "stream",
     "text": [
      "7115"
     ]
    },
    {
     "data": {
      "text/plain": [
       "Dict{Int64, Vector{Int64}} with 6110 entries:\n",
       "  4986 => [3898]\n",
       "  7329 => [7295, 6832]\n",
       "  4700 => [4261]\n",
       "  4576 => [4578, 3447, 4448, 3897, 5463, 4977, 4530, 4536, 15, 3919]\n",
       "  6073 => [5103]\n",
       "  2288 => [2290]\n",
       "  1703 => [230]\n",
       "  7685 => [7683, 7757, 7908, 5179, 8037, 8124, 8174, 7391, 8198, 8219, 4401, 66…\n",
       "  3406 => [3408, 3352, 3541, 4587]\n",
       "  2841 => [72]\n",
       "  2876 => [2877]\n",
       "  7353 => [6832]\n",
       "  185  => [214, 321, 2625, 1679]\n",
       "  1090 => [1186, 943]\n",
       "  2015 => [665]\n",
       "  3293 => [6715, 6665, 6955, 840, 5289, 7908, 5614, 5969, 5605, 7620]\n",
       "  1704 => [230]\n",
       "  3220 => [2237]\n",
       "  8042 => [6634]\n",
       "  ⋮    => ⋮"
      ]
     },
     "metadata": {},
     "output_type": "display_data"
    }
   ],
   "source": [
    "# get list of all nodes\n",
    "nodes = unique([[u for (u, v) in edges_sign]..., [v for (u, v) in edges_sign]...])\n",
    "\n",
    "print(length(nodes))\n",
    "\n",
    "# filter out self loops\n",
    "df_filtered = filter(x -> x.source != x.target, df)\n",
    "\n",
    "# get list of outgoing edges for each node by grouping by source\n",
    "node_outs_gbf = groupby(df_filtered, :source)\n",
    "\n",
    "# # filter out self loops\n",
    "# node_outs_gbf = filter(x -> x[1, :source] != x[1, :target], node_outs_gbf)\n",
    "\n",
    "# get list of outgoing edges for each node by collecting targets\n",
    "node_outs = combine(node_outs_gbf, x -> [x[!, :target]])\n",
    "rename!(node_outs, :x1 => :targets)\n",
    "\n",
    "# create a dictionary with the outgoing edges for each node\n",
    "node_outs_dict = Dict(zip(node_outs.source, unique.(node_outs.targets)))"
   ]
  },
  {
   "cell_type": "code",
   "execution_count": 8,
   "metadata": {},
   "outputs": [
    {
     "data": {
      "text/plain": [
       "(746515, 746515)"
      ]
     },
     "metadata": {},
     "output_type": "display_data"
    }
   ],
   "source": [
    "# get transitive triads\n",
    "\n",
    "triads = []\n",
    "for (source, targets) in node_outs_dict\n",
    "    for target in targets\n",
    "        if target in keys(node_outs_dict)\n",
    "            for target_target in node_outs_dict[target]\n",
    "                if target_target in targets\n",
    "                    append!(triads, [(source, target, target_target)])\n",
    "                end\n",
    "            end\n",
    "        end\n",
    "    end\n",
    "end\n",
    "length(triads), length(unique(triads))"
   ]
  },
  {
   "cell_type": "code",
   "execution_count": 9,
   "metadata": {},
   "outputs": [
    {
     "data": {
      "text/plain": [
       "3106-element Vector{Tuple{Int64, Int64}}:\n",
       " (3293, 6665)\n",
       " (1823, 2565)\n",
       " (1823, 6979)\n",
       " (637, 4037)\n",
       " (730, 989)\n",
       " (1050, 8290)\n",
       " (1050, 2651)\n",
       " (103, 271)\n",
       " (844, 857)\n",
       " (844, 1717)\n",
       " ⋮\n",
       " (1869, 1717)\n",
       " (1368, 3755)\n",
       " (1368, 2654)\n",
       " (3028, 2653)\n",
       " (3028, 3352)\n",
       " (3028, 4385)\n",
       " (3028, 4875)\n",
       " (3028, 4964)\n",
       " (3028, 737)"
      ]
     },
     "metadata": {},
     "output_type": "display_data"
    }
   ],
   "source": [
    "node_outs_dict_repeated = Dict(zip(node_outs.source, node_outs.targets))\n",
    "\n",
    "# find edges that are repeated in node_outs_dict_repeated\n",
    "repeated_edges = unique([(source, target) for (source, targets) in node_outs_dict_repeated for target in targets if sum(target .== targets) > 1])"
   ]
  },
  {
   "cell_type": "code",
   "execution_count": 10,
   "metadata": {},
   "outputs": [],
   "source": [
    "df_triads = DataFrame(triads)\n",
    "rename!(df_triads, [:P, :O, :X]);\n",
    "\n",
    "po_edges = [(df_triads.P[i], df_triads.O[i]) for i in 1:size(df_triads, 1)]\n",
    "ox_edges = [(df_triads.O[i], df_triads.X[i]) for i in 1:size(df_triads, 1)]\n",
    "px_edges = [(df_triads.P[i], df_triads.X[i]) for i in 1:size(df_triads, 1)];"
   ]
  },
  {
   "cell_type": "code",
   "execution_count": 11,
   "metadata": {},
   "outputs": [
    {
     "data": {
      "text/plain": [
       "(55054, 55054)"
      ]
     },
     "metadata": {},
     "output_type": "display_data"
    }
   ],
   "source": [
    "# find number of triads containing repeated edges\n",
    "\n",
    "affected_triads = []\n",
    "for edge in repeated_edges\n",
    "    append!(affected_triads, findall([edge] .== po_edges))\n",
    "    # break\n",
    "end\n",
    "length(affected_triads), length(unique(affected_triads))"
   ]
  },
  {
   "cell_type": "code",
   "execution_count": 12,
   "metadata": {},
   "outputs": [
    {
     "data": {
      "text/html": [
       "<div><div style = \"float: left;\"><span>5×6 DataFrame</span></div><div style = \"clear: both;\"></div></div><div class = \"data-frame\" style = \"overflow-x: scroll;\"><table class = \"data-frame\" style = \"margin-bottom: 6px;\"><thead><tr class = \"header\"><th class = \"rowNumber\" style = \"font-weight: bold; text-align: right;\">Row</th><th style = \"text-align: left;\">P</th><th style = \"text-align: left;\">O</th><th style = \"text-align: left;\">X</th><th style = \"text-align: left;\">po_sign</th><th style = \"text-align: left;\">ox_sign</th><th style = \"text-align: left;\">px_sign</th></tr><tr class = \"subheader headerLastRow\"><th class = \"rowNumber\" style = \"font-weight: bold; text-align: right;\"></th><th title = \"Int64\" style = \"text-align: left;\">Int64</th><th title = \"Int64\" style = \"text-align: left;\">Int64</th><th title = \"Int64\" style = \"text-align: left;\">Int64</th><th title = \"Int64\" style = \"text-align: left;\">Int64</th><th title = \"Int64\" style = \"text-align: left;\">Int64</th><th title = \"Int64\" style = \"text-align: left;\">Int64</th></tr></thead><tbody><tr><td class = \"rowNumber\" style = \"font-weight: bold; text-align: right;\">1</td><td style = \"text-align: right;\">4576</td><td style = \"text-align: right;\">3447</td><td style = \"text-align: right;\">4448</td><td style = \"text-align: right;\">1</td><td style = \"text-align: right;\">1</td><td style = \"text-align: right;\">1</td></tr><tr><td class = \"rowNumber\" style = \"font-weight: bold; text-align: right;\">2</td><td style = \"text-align: right;\">4576</td><td style = \"text-align: right;\">3447</td><td style = \"text-align: right;\">5463</td><td style = \"text-align: right;\">1</td><td style = \"text-align: right;\">1</td><td style = \"text-align: right;\">-1</td></tr><tr><td class = \"rowNumber\" style = \"font-weight: bold; text-align: right;\">3</td><td style = \"text-align: right;\">4576</td><td style = \"text-align: right;\">3447</td><td style = \"text-align: right;\">4977</td><td style = \"text-align: right;\">1</td><td style = \"text-align: right;\">1</td><td style = \"text-align: right;\">1</td></tr><tr><td class = \"rowNumber\" style = \"font-weight: bold; text-align: right;\">4</td><td style = \"text-align: right;\">4576</td><td style = \"text-align: right;\">3447</td><td style = \"text-align: right;\">4530</td><td style = \"text-align: right;\">1</td><td style = \"text-align: right;\">1</td><td style = \"text-align: right;\">1</td></tr><tr><td class = \"rowNumber\" style = \"font-weight: bold; text-align: right;\">5</td><td style = \"text-align: right;\">4576</td><td style = \"text-align: right;\">3447</td><td style = \"text-align: right;\">3897</td><td style = \"text-align: right;\">1</td><td style = \"text-align: right;\">1</td><td style = \"text-align: right;\">1</td></tr></tbody></table></div>"
      ],
      "text/latex": [
       "\\begin{tabular}{r|cccccc}\n",
       "\t& P & O & X & po\\_sign & ox\\_sign & px\\_sign\\\\\n",
       "\t\\hline\n",
       "\t& Int64 & Int64 & Int64 & Int64 & Int64 & Int64\\\\\n",
       "\t\\hline\n",
       "\t1 & 4576 & 3447 & 4448 & 1 & 1 & 1 \\\\\n",
       "\t2 & 4576 & 3447 & 5463 & 1 & 1 & -1 \\\\\n",
       "\t3 & 4576 & 3447 & 4977 & 1 & 1 & 1 \\\\\n",
       "\t4 & 4576 & 3447 & 4530 & 1 & 1 & 1 \\\\\n",
       "\t5 & 4576 & 3447 & 3897 & 1 & 1 & 1 \\\\\n",
       "\\end{tabular}\n"
      ],
      "text/plain": [
       "\u001b[1m5×6 DataFrame\u001b[0m\n",
       "\u001b[1m Row \u001b[0m│\u001b[1m P     \u001b[0m\u001b[1m O     \u001b[0m\u001b[1m X     \u001b[0m\u001b[1m po_sign \u001b[0m\u001b[1m ox_sign \u001b[0m\u001b[1m px_sign \u001b[0m\n",
       "     │\u001b[90m Int64 \u001b[0m\u001b[90m Int64 \u001b[0m\u001b[90m Int64 \u001b[0m\u001b[90m Int64   \u001b[0m\u001b[90m Int64   \u001b[0m\u001b[90m Int64   \u001b[0m\n",
       "─────┼────────────────────────────────────────────────\n",
       "   1 │  4576   3447   4448        1        1        1\n",
       "   2 │  4576   3447   5463        1        1       -1\n",
       "   3 │  4576   3447   4977        1        1        1\n",
       "   4 │  4576   3447   4530        1        1        1\n",
       "   5 │  4576   3447   3897        1        1        1"
      ]
     },
     "metadata": {},
     "output_type": "display_data"
    }
   ],
   "source": [
    "# get sign of edges in triads. Take the last value of edge\n",
    "\n",
    "df_triads[!, \"po_sign\"] = [edges_sign[findall([edge] .== edges)][end][3] for edge in po_edges]\n",
    "df_triads[!, \"ox_sign\"] = [edges_sign[findall([edge] .== edges)][end][3] for edge in ox_edges]\n",
    "df_triads[!, \"px_sign\"] = [edges_sign[findall([edge] .== edges)][end][3] for edge in px_edges]\n",
    "first(df_triads, 5)"
   ]
  },
  {
   "cell_type": "code",
   "execution_count": 13,
   "metadata": {},
   "outputs": [
    {
     "data": {
      "text/plain": [
       "\"../../../data/soc-wiki-elec/soc-wiki-elec-triads.csv\""
      ]
     },
     "metadata": {},
     "output_type": "display_data"
    }
   ],
   "source": [
    "# save df_triads\n",
    "CSV.write(joinpath(path, \"soc-wiki-elec-triads.csv\"), df_triads)"
   ]
  },
  {
   "cell_type": "code",
   "execution_count": 5,
   "metadata": {},
   "outputs": [
    {
     "data": {
      "text/plain": [
       "746515-element Vector{Tuple{Int64, Int64, Int64}}:\n",
       " (4576, 3447, 4448)\n",
       " (4576, 3447, 5463)\n",
       " (4576, 3447, 4977)\n",
       " (4576, 3447, 4530)\n",
       " (4576, 3447, 3897)\n",
       " (4576, 4448, 4578)\n",
       " (4576, 4448, 4536)\n",
       " (4576, 4530, 3897)\n",
       " (4576, 4530, 15)\n",
       " (4576, 4536, 4578)\n",
       " ⋮\n",
       " (1711, 1697, 1855)\n",
       " (1711, 1697, 3136)\n",
       " (1711, 1697, 2328)\n",
       " (1711, 1211, 1956)\n",
       " (1711, 1211, 1151)\n",
       " (1711, 1211, 2328)\n",
       " (1711, 2328, 1956)\n",
       " (1711, 2328, 1211)\n",
       " (1711, 2328, 2210)"
      ]
     },
     "metadata": {},
     "output_type": "display_data"
    }
   ],
   "source": [
    "df_triads = CSV.read(joinpath(path, \"soc-wiki-elec-triads.csv\"), DataFrame)\n",
    "\n",
    "triads = [(df_triads.P[i], df_triads.O[i], df_triads.X[i]) for i in 1:size(df_triads, 1)]"
   ]
  },
  {
   "cell_type": "code",
   "execution_count": 6,
   "metadata": {},
   "outputs": [
    {
     "data": {
      "text/plain": [
       "Dict{Vector{Int64}, Vector{Int64}} with 601555 entries:\n",
       "  [1769, 2504, 3456] => [401752]\n",
       "  [1542, 1628, 2193] => [370040, 625885]\n",
       "  [1133, 2968, 3089] => [289925]\n",
       "  [4632, 5189, 5760] => [310648]\n",
       "  [457, 5776, 6913]  => [395368]\n",
       "  [996, 1792, 8290]  => [624347]\n",
       "  [2565, 2909, 5222] => [110895]\n",
       "  [11, 1991, 2410]   => [687550]\n",
       "  [2667, 5176, 5891] => [96199]\n",
       "  [2145, 2760, 3615] => [549959]\n",
       "  [3873, 5179, 5531] => [226922]\n",
       "  [1210, 1744, 2654] => [367672]\n",
       "  [1166, 1470, 2877] => [76235]\n",
       "  [1608, 3352, 5288] => [208464]\n",
       "  [1729, 2747, 3026] => [126602, 445214]\n",
       "  [1029, 1319, 2625] => [671848]\n",
       "  [2787, 2972, 3452] => [540996]\n",
       "  [5472, 6458, 7073] => [741238]\n",
       "  [1769, 2517, 4219] => [546185]\n",
       "  ⋮                  => ⋮"
      ]
     },
     "metadata": {},
     "output_type": "display_data"
    }
   ],
   "source": [
    "# identify triads that consist of the same edges\n",
    "\n",
    "triads_ordered = sort.([[p, o, x] for (p, o, x) in triads])\n",
    "triads_unique = unique(triads_ordered)\n",
    "\n",
    "# create a dictionary with unique triads as keys and indices of their appearance as values\n",
    "triads_dict = Dict(triads_unique .=> [findall(triads_ordered .== [triad]) for triad in triads_unique])\n",
    "\n"
   ]
  },
  {
   "cell_type": "code",
   "execution_count": 29,
   "metadata": {},
   "outputs": [],
   "source": [
    "using JLD2, FileIO\n",
    "\n",
    "save(joinpath(path, \"soc-wiki-elec-triads-dict.jld2\"), \"triads_dict\", triads_dict)"
   ]
  },
  {
   "cell_type": "code",
   "execution_count": 45,
   "metadata": {},
   "outputs": [
    {
     "data": {
      "text/html": [
       "<div><div style = \"float: left;\"><span>601555×3 DataFrame</span></div><div style = \"float: right;\"><span style = \"font-style: italic;\">601530 rows omitted</span></div><div style = \"clear: both;\"></div></div><div class = \"data-frame\" style = \"overflow-x: scroll;\"><table class = \"data-frame\" style = \"margin-bottom: 6px;\"><thead><tr class = \"header\"><th class = \"rowNumber\" style = \"font-weight: bold; text-align: right;\">Row</th><th style = \"text-align: left;\">triad</th><th style = \"text-align: left;\">inds</th><th style = \"text-align: left;\">count</th></tr><tr class = \"subheader headerLastRow\"><th class = \"rowNumber\" style = \"font-weight: bold; text-align: right;\"></th><th title = \"Vector{Int64}\" style = \"text-align: left;\">Array…</th><th title = \"Vector{Int64}\" style = \"text-align: left;\">Array…</th><th title = \"Int64\" style = \"text-align: left;\">Int64</th></tr></thead><tbody><tr><td class = \"rowNumber\" style = \"font-weight: bold; text-align: right;\">1</td><td style = \"text-align: left;\">[1769, 2504, 3456]</td><td style = \"text-align: left;\">[401752]</td><td style = \"text-align: right;\">1</td></tr><tr><td class = \"rowNumber\" style = \"font-weight: bold; text-align: right;\">2</td><td style = \"text-align: left;\">[1542, 1628, 2193]</td><td style = \"text-align: left;\">[370040, 625885]</td><td style = \"text-align: right;\">2</td></tr><tr><td class = \"rowNumber\" style = \"font-weight: bold; text-align: right;\">3</td><td style = \"text-align: left;\">[1133, 2968, 3089]</td><td style = \"text-align: left;\">[289925]</td><td style = \"text-align: right;\">1</td></tr><tr><td class = \"rowNumber\" style = \"font-weight: bold; text-align: right;\">4</td><td style = \"text-align: left;\">[4632, 5189, 5760]</td><td style = \"text-align: left;\">[310648]</td><td style = \"text-align: right;\">1</td></tr><tr><td class = \"rowNumber\" style = \"font-weight: bold; text-align: right;\">5</td><td style = \"text-align: left;\">[457, 5776, 6913]</td><td style = \"text-align: left;\">[395368]</td><td style = \"text-align: right;\">1</td></tr><tr><td class = \"rowNumber\" style = \"font-weight: bold; text-align: right;\">6</td><td style = \"text-align: left;\">[996, 1792, 8290]</td><td style = \"text-align: left;\">[624347]</td><td style = \"text-align: right;\">1</td></tr><tr><td class = \"rowNumber\" style = \"font-weight: bold; text-align: right;\">7</td><td style = \"text-align: left;\">[2565, 2909, 5222]</td><td style = \"text-align: left;\">[110895]</td><td style = \"text-align: right;\">1</td></tr><tr><td class = \"rowNumber\" style = \"font-weight: bold; text-align: right;\">8</td><td style = \"text-align: left;\">[11, 1991, 2410]</td><td style = \"text-align: left;\">[687550]</td><td style = \"text-align: right;\">1</td></tr><tr><td class = \"rowNumber\" style = \"font-weight: bold; text-align: right;\">9</td><td style = \"text-align: left;\">[2667, 5176, 5891]</td><td style = \"text-align: left;\">[96199]</td><td style = \"text-align: right;\">1</td></tr><tr><td class = \"rowNumber\" style = \"font-weight: bold; text-align: right;\">10</td><td style = \"text-align: left;\">[2145, 2760, 3615]</td><td style = \"text-align: left;\">[549959]</td><td style = \"text-align: right;\">1</td></tr><tr><td class = \"rowNumber\" style = \"font-weight: bold; text-align: right;\">11</td><td style = \"text-align: left;\">[3873, 5179, 5531]</td><td style = \"text-align: left;\">[226922]</td><td style = \"text-align: right;\">1</td></tr><tr><td class = \"rowNumber\" style = \"font-weight: bold; text-align: right;\">12</td><td style = \"text-align: left;\">[1210, 1744, 2654]</td><td style = \"text-align: left;\">[367672]</td><td style = \"text-align: right;\">1</td></tr><tr><td class = \"rowNumber\" style = \"font-weight: bold; text-align: right;\">13</td><td style = \"text-align: left;\">[1166, 1470, 2877]</td><td style = \"text-align: left;\">[76235]</td><td style = \"text-align: right;\">1</td></tr><tr><td style = \"text-align: right;\">&vellip;</td><td style = \"text-align: right;\">&vellip;</td><td style = \"text-align: right;\">&vellip;</td><td style = \"text-align: right;\">&vellip;</td></tr><tr><td class = \"rowNumber\" style = \"font-weight: bold; text-align: right;\">601544</td><td style = \"text-align: left;\">[938, 2940, 6946]</td><td style = \"text-align: left;\">[339474]</td><td style = \"text-align: right;\">1</td></tr><tr><td class = \"rowNumber\" style = \"font-weight: bold; text-align: right;\">601545</td><td style = \"text-align: left;\">[2707, 3144, 3650]</td><td style = \"text-align: left;\">[289328]</td><td style = \"text-align: right;\">1</td></tr><tr><td class = \"rowNumber\" style = \"font-weight: bold; text-align: right;\">601546</td><td style = \"text-align: left;\">[407, 826, 1492]</td><td style = \"text-align: left;\">[262038]</td><td style = \"text-align: right;\">1</td></tr><tr><td class = \"rowNumber\" style = \"font-weight: bold; text-align: right;\">601547</td><td style = \"text-align: left;\">[766, 2371, 2384]</td><td style = \"text-align: left;\">[718396]</td><td style = \"text-align: right;\">1</td></tr><tr><td class = \"rowNumber\" style = \"font-weight: bold; text-align: right;\">601548</td><td style = \"text-align: left;\">[993, 1977, 2246]</td><td style = \"text-align: left;\">[543616]</td><td style = \"text-align: right;\">1</td></tr><tr><td class = \"rowNumber\" style = \"font-weight: bold; text-align: right;\">601549</td><td style = \"text-align: left;\">[1357, 2328, 2763]</td><td style = \"text-align: left;\">[223568]</td><td style = \"text-align: right;\">1</td></tr><tr><td class = \"rowNumber\" style = \"font-weight: bold; text-align: right;\">601550</td><td style = \"text-align: left;\">[80, 180, 402]</td><td style = \"text-align: left;\">[698828]</td><td style = \"text-align: right;\">1</td></tr><tr><td class = \"rowNumber\" style = \"font-weight: bold; text-align: right;\">601551</td><td style = \"text-align: left;\">[457, 5524, 6665]</td><td style = \"text-align: left;\">[394200]</td><td style = \"text-align: right;\">1</td></tr><tr><td class = \"rowNumber\" style = \"font-weight: bold; text-align: right;\">601552</td><td style = \"text-align: left;\">[1549, 1842, 2328]</td><td style = \"text-align: left;\">[197769, 431918]</td><td style = \"text-align: right;\">2</td></tr><tr><td class = \"rowNumber\" style = \"font-weight: bold; text-align: right;\">601553</td><td style = \"text-align: left;\">[1374, 4341, 6624]</td><td style = \"text-align: left;\">[7193]</td><td style = \"text-align: right;\">1</td></tr><tr><td class = \"rowNumber\" style = \"font-weight: bold; text-align: right;\">601554</td><td style = \"text-align: left;\">[1608, 1730, 2763]</td><td style = \"text-align: left;\">[205105]</td><td style = \"text-align: right;\">1</td></tr><tr><td class = \"rowNumber\" style = \"font-weight: bold; text-align: right;\">601555</td><td style = \"text-align: left;\">[56, 1055, 2576]</td><td style = \"text-align: left;\">[492102]</td><td style = \"text-align: right;\">1</td></tr></tbody></table></div>"
      ],
      "text/latex": [
       "\\begin{tabular}{r|ccc}\n",
       "\t& triad & inds & count\\\\\n",
       "\t\\hline\n",
       "\t& Array… & Array… & Int64\\\\\n",
       "\t\\hline\n",
       "\t1 & [1769, 2504, 3456] & [401752] & 1 \\\\\n",
       "\t2 & [1542, 1628, 2193] & [370040, 625885] & 2 \\\\\n",
       "\t3 & [1133, 2968, 3089] & [289925] & 1 \\\\\n",
       "\t4 & [4632, 5189, 5760] & [310648] & 1 \\\\\n",
       "\t5 & [457, 5776, 6913] & [395368] & 1 \\\\\n",
       "\t6 & [996, 1792, 8290] & [624347] & 1 \\\\\n",
       "\t7 & [2565, 2909, 5222] & [110895] & 1 \\\\\n",
       "\t8 & [11, 1991, 2410] & [687550] & 1 \\\\\n",
       "\t9 & [2667, 5176, 5891] & [96199] & 1 \\\\\n",
       "\t10 & [2145, 2760, 3615] & [549959] & 1 \\\\\n",
       "\t11 & [3873, 5179, 5531] & [226922] & 1 \\\\\n",
       "\t12 & [1210, 1744, 2654] & [367672] & 1 \\\\\n",
       "\t13 & [1166, 1470, 2877] & [76235] & 1 \\\\\n",
       "\t14 & [1608, 3352, 5288] & [208464] & 1 \\\\\n",
       "\t15 & [1729, 2747, 3026] & [126602, 445214] & 2 \\\\\n",
       "\t16 & [1029, 1319, 2625] & [671848] & 1 \\\\\n",
       "\t17 & [2787, 2972, 3452] & [540996] & 1 \\\\\n",
       "\t18 & [5472, 6458, 7073] & [741238] & 1 \\\\\n",
       "\t19 & [1769, 2517, 4219] & [546185] & 1 \\\\\n",
       "\t20 & [2565, 3796, 4653] & [110384, 111692] & 2 \\\\\n",
       "\t21 & [840, 4666, 4967] & [151236] & 1 \\\\\n",
       "\t22 & [5697, 6501, 6897] & [128505] & 1 \\\\\n",
       "\t23 & [11, 1062, 2178] & [683567] & 1 \\\\\n",
       "\t24 & [1166, 3057, 3456] & [545239] & 1 \\\\\n",
       "\t$\\dots$ & $\\dots$ & $\\dots$ & $\\dots$ \\\\\n",
       "\\end{tabular}\n"
      ],
      "text/plain": [
       "\u001b[1m601555×3 DataFrame\u001b[0m\n",
       "\u001b[1m    Row \u001b[0m│\u001b[1m triad              \u001b[0m\u001b[1m inds             \u001b[0m\u001b[1m count \u001b[0m\n",
       "        │\u001b[90m Array…             \u001b[0m\u001b[90m Array…           \u001b[0m\u001b[90m Int64 \u001b[0m\n",
       "────────┼─────────────────────────────────────────────\n",
       "      1 │ [1769, 2504, 3456]  [401752]              1\n",
       "      2 │ [1542, 1628, 2193]  [370040, 625885]      2\n",
       "      3 │ [1133, 2968, 3089]  [289925]              1\n",
       "      4 │ [4632, 5189, 5760]  [310648]              1\n",
       "      5 │ [457, 5776, 6913]   [395368]              1\n",
       "      6 │ [996, 1792, 8290]   [624347]              1\n",
       "      7 │ [2565, 2909, 5222]  [110895]              1\n",
       "      8 │ [11, 1991, 2410]    [687550]              1\n",
       "   ⋮    │         ⋮                  ⋮            ⋮\n",
       " 601549 │ [1357, 2328, 2763]  [223568]              1\n",
       " 601550 │ [80, 180, 402]      [698828]              1\n",
       " 601551 │ [457, 5524, 6665]   [394200]              1\n",
       " 601552 │ [1549, 1842, 2328]  [197769, 431918]      2\n",
       " 601553 │ [1374, 4341, 6624]  [7193]                1\n",
       " 601554 │ [1608, 1730, 2763]  [205105]              1\n",
       " 601555 │ [56, 1055, 2576]    [492102]              1\n",
       "\u001b[36m                                   601540 rows omitted\u001b[0m"
      ]
     },
     "metadata": {},
     "output_type": "display_data"
    }
   ],
   "source": [
    "# create dataframe from dict\n",
    "df_triads_dict = DataFrame(triad = collect(keys(triads_dict)), inds = collect(values(triads_dict)),\n",
    "                           count = length.(collect(values(triads_dict))))\n",
    "\n",
    "# collect(keys(triads_dict))"
   ]
  },
  {
   "cell_type": "code",
   "execution_count": 50,
   "metadata": {},
   "outputs": [
    {
     "name": "stdout",
     "output_type": "stream",
     "text": [
      "[1542, 1628, 2193]\n"
     ]
    },
    {
     "data": {
      "text/plain": [
       "2-element Vector{Tuple{Int64, Int64, Int64}}:\n",
       " (1628, 1542, 2193)\n",
       " (1542, 1628, 2193)"
      ]
     },
     "metadata": {},
     "output_type": "display_data"
    }
   ],
   "source": [
    "println(df_triads_dict.triad[2])\n",
    "\n",
    "triads[triads_dict[df_triads_dict.triad[2]]]"
   ]
  },
  {
   "cell_type": "code",
   "execution_count": null,
   "metadata": {},
   "outputs": [
    {
     "data": {
      "text/plain": [
       "1"
      ]
     },
     "metadata": {},
     "output_type": "display_data"
    }
   ],
   "source": [
    "using PyCall\n",
    "\n",
    "i = 1\n",
    "triad = df_triads_dict.triad[i]\n",
    "inds = df_triads_dict.inds[i]\n",
    "\n",
    "# get triad list\n",
    "triad_list = triads[inds]\n",
    "\n",
    "# get edges from triad list\n",
    "edges_list = [[(triad[1], triad[2]), (triad[2], triad[3]), (triad[1], triad[3])] for triad in triad_list]\n",
    "unique_edges = unique(edges_list)\n",
    "\n",
    "py\"\"\"\n",
    "import networkx as nx\n",
    "\"\"\"\n",
    "\n",
    "G = py\"nx.DiGraph\"(edges_list...)\n",
    "\n",
    "# print(G.edges)\n",
    "\n",
    "triad_census = py\"nx.triadic_census\"(G)\n",
    "\n",
    "triad_census_triads = collect(keys(triad_census))\n",
    "\n",
    "tc_ind = collect(values(triad_census)) .== 1\n",
    "\n",
    "triad_census_triads[tc_ind][1]\n",
    "\n",
    "# get signed triad type\n",
    "sign_vals = values(df_triads[i, 4:6])\n",
    "\n",
    "n_arr = zeros(Int, 8)\n",
    "\n",
    "connections_values = sign_vals .== 1\n",
    "n_arr[connections_values[1]*4 + connections_values[3]*2 + connections_values[2]+1] += 1"
   ]
  },
  {
   "cell_type": "code",
   "execution_count": 104,
   "metadata": {},
   "outputs": [
    {
     "data": {
      "text/plain": [
       "8-element Vector{Int64}:\n",
       " 0\n",
       " 0\n",
       " 0\n",
       " 0\n",
       " 0\n",
       " 0\n",
       " 0\n",
       " 2"
      ]
     },
     "metadata": {},
     "output_type": "display_data"
    }
   ],
   "source": [
    "using PyCall\n",
    "\n",
    "i = 2\n",
    "triad = df_triads_dict.triad[i]\n",
    "inds = df_triads_dict.inds[i]\n",
    "\n",
    "# get triad list\n",
    "triad_list = triads[inds]\n",
    "\n",
    "# get edges from triad list\n",
    "edges_list = [[(triad[1], triad[2]), (triad[2], triad[3]), (triad[1], triad[3])] for triad in triad_list]\n",
    "edges_list = reduce(vcat, edges_list)\n",
    "unique_edges = unique(edges_list)\n",
    "\n",
    "py\"\"\"\n",
    "import networkx as nx\n",
    "\"\"\"\n",
    "\n",
    "G = py\"nx.DiGraph\"([unique_edges...])\n",
    "\n",
    "# print(G.edges)\n",
    "\n",
    "triad_census = py\"nx.triadic_census\"(G)\n",
    "\n",
    "triad_census_triads = collect(keys(triad_census))\n",
    "\n",
    "tc_ind = collect(values(triad_census)) .== 1\n",
    "\n",
    "triad_census_triads[tc_ind]\n",
    "\n",
    "# get signed triad type\n",
    "sign_vals_s = values(df_triads[inds, 4:6])\n",
    "sign_vals_s = Matrix(sign_vals_s)\n",
    "sign_vals_s = mapslices(x->[x], sign_vals_s, dims=2)[:]\n",
    "\n",
    "n_arr = zeros(Int, 8)\n",
    "\n",
    "for sign_vals in sign_vals_s\n",
    "    connections_values = sign_vals .== 1\n",
    "    n_arr[connections_values[1]*4 + connections_values[3]*2 + connections_values[2]+1] += 1\n",
    "end\n",
    "n_arr"
   ]
  },
  {
   "cell_type": "code",
   "execution_count": 107,
   "metadata": {},
   "outputs": [
    {
     "data": {
      "text/plain": [
       "true"
      ]
     },
     "metadata": {},
     "output_type": "display_data"
    }
   ],
   "source": [
    "values(sign_vals)\n",
    "mm = Matrix(sign_vals)\n",
    "sign_vals_s = mapslices(x->[x], mm, dims=2)[:]\n",
    "\n",
    "all(prod.(sign_vals_s) .== 1)"
   ]
  },
  {
   "cell_type": "code",
   "execution_count": 125,
   "metadata": {},
   "outputs": [
    {
     "name": "stdout",
     "output_type": "stream",
     "text": [
      "Processed 100000 triads\n",
      "Processed 200000 triads\n",
      "Processed 300000 triads\n",
      "Processed 400000 triads\n",
      "Processed 500000 triads\n",
      "Processed 600000 triads\n"
     ]
    }
   ],
   "source": [
    "using PyCall\n",
    "py\"\"\"\n",
    "import networkx as nx\n",
    "\"\"\"\n",
    "\n",
    "G = py\"nx.DiGraph\"()\n",
    "\n",
    "triad_census = py\"nx.triadic_census\"(G)\n",
    "triad_census_triads = collect(keys(triad_census))\n",
    "\n",
    "# signed triad types:\n",
    "n_arr_dict = Dict( triad_census_triads .=> [zeros(Int, 8) for _ in 1:length(triad_census_triads)])\n",
    "n_bal_dict = Dict( triad_census_triads .=> [0 for _ in 1:length(triad_census_triads)])\n",
    "n_hier_dict = Dict( triad_census_triads .=> [0 for _ in 1:length(triad_census_triads)])\n",
    "n_tot_dict = Dict( triad_census_triads .=> [0 for _ in 1:length(triad_census_triads)])\n",
    "\n",
    "counter = 0\n",
    "inform_after = 100000\n",
    "for (triad, inds, count) in eachrow(df_triads_dict)\n",
    "    triad_list = triads[inds]\n",
    "\n",
    "    # get edges list from triad list\n",
    "    edges_list = [[(triad[1], triad[2]), (triad[2], triad[3]), (triad[1], triad[3])] for triad in triad_list]\n",
    "    edges_list = reduce(vcat, edges_list)\n",
    "    unique_edges = unique(edges_list)\n",
    "\n",
    "    # call Python from julia, use networkx to get triad census on subgraphs\n",
    "    G = py\"nx.DiGraph\"([unique_edges...])\n",
    "    triad_census = py\"nx.triadic_census\"(G)\n",
    "    triad_census_triads = collect(keys(triad_census))\n",
    "    tc_ind = collect(values(triad_census)) .== 1\n",
    "    triad_type = triad_census_triads[tc_ind][1]\n",
    "\n",
    "    # get signed triad type\n",
    "    sign_vals_s = values(df_triads[inds, 4:6])\n",
    "    sign_vals_s = Matrix(sign_vals_s)\n",
    "    sign_vals_s = mapslices(x->[x], sign_vals_s, dims=2)[:]\n",
    "\n",
    "    # n_arr = zeros(Int, 8)\n",
    "\n",
    "    hier = true\n",
    "    for sign_vals in sign_vals_s\n",
    "        connections_values = sign_vals .== 1\n",
    "        signed_triad_type = connections_values[1]*4 + connections_values[3]*2 + connections_values[2]+1\n",
    "        n_arr_dict[triad_type][signed_triad_type] += 1\n",
    "\n",
    "        if signed_triad_type == 3 || signed_triad_type == 6\n",
    "            hier = false\n",
    "        end\n",
    "    end\n",
    "    n_tot_dict[triad_type] += 1\n",
    "    n_bal_dict[triad_type] += all(prod.(sign_vals_s) .== 1)\n",
    "    n_hier_dict[triad_type] += hier\n",
    "\n",
    "    # n_arr\n",
    "\n",
    "    # println(triad_list, inds)\n",
    "    counter += 1\n",
    "    # if counter > 5000\n",
    "    #     break\n",
    "    # end\n",
    "    if counter % inform_after == 0\n",
    "        # print time\n",
    "        # print()\n",
    "        println(\"Processed $counter triads\")\n",
    "    end\n",
    "end"
   ]
  },
  {
   "cell_type": "code",
   "execution_count": 126,
   "metadata": {},
   "outputs": [
    {
     "data": {
      "text/html": [
       "<div><div style = \"float: left;\"><span>16×5 DataFrame</span></div><div style = \"clear: both;\"></div></div><div class = \"data-frame\" style = \"overflow-x: scroll;\"><table class = \"data-frame\" style = \"margin-bottom: 6px;\"><thead><tr class = \"header\"><th class = \"rowNumber\" style = \"font-weight: bold; text-align: right;\">Row</th><th style = \"text-align: left;\">triad</th><th style = \"text-align: left;\">n_arr</th><th style = \"text-align: left;\">n_bal</th><th style = \"text-align: left;\">n_hier</th><th style = \"text-align: left;\">n_tot</th></tr><tr class = \"subheader headerLastRow\"><th class = \"rowNumber\" style = \"font-weight: bold; text-align: right;\"></th><th title = \"String\" style = \"text-align: left;\">String</th><th title = \"Vector{Int64}\" style = \"text-align: left;\">Array…</th><th title = \"Int64\" style = \"text-align: left;\">Int64</th><th title = \"Int64\" style = \"text-align: left;\">Int64</th><th title = \"Int64\" style = \"text-align: left;\">Int64</th></tr></thead><tbody><tr><td class = \"rowNumber\" style = \"font-weight: bold; text-align: right;\">1</td><td style = \"text-align: left;\">030C</td><td style = \"text-align: left;\">[0, 0, 0, 0, 0, 0, 0, 0]</td><td style = \"text-align: right;\">0</td><td style = \"text-align: right;\">0</td><td style = \"text-align: right;\">0</td></tr><tr><td class = \"rowNumber\" style = \"font-weight: bold; text-align: right;\">2</td><td style = \"text-align: left;\">111U</td><td style = \"text-align: left;\">[0, 0, 0, 0, 0, 0, 0, 0]</td><td style = \"text-align: right;\">0</td><td style = \"text-align: right;\">0</td><td style = \"text-align: right;\">0</td></tr><tr><td class = \"rowNumber\" style = \"font-weight: bold; text-align: right;\">3</td><td style = \"text-align: left;\">120D</td><td style = \"text-align: left;\">[656, 2718, 804, 5957, 1529, 5232, 3536, 70680]</td><td style = \"text-align: right;\">35682</td><td style = \"text-align: right;\">39837</td><td style = \"text-align: right;\">45556</td></tr><tr><td class = \"rowNumber\" style = \"font-weight: bold; text-align: right;\">4</td><td style = \"text-align: left;\">120C</td><td style = \"text-align: left;\">[0, 0, 0, 0, 0, 0, 0, 0]</td><td style = \"text-align: right;\">0</td><td style = \"text-align: right;\">0</td><td style = \"text-align: right;\">0</td></tr><tr><td class = \"rowNumber\" style = \"font-weight: bold; text-align: right;\">5</td><td style = \"text-align: left;\">201</td><td style = \"text-align: left;\">[0, 0, 0, 0, 0, 0, 0, 0]</td><td style = \"text-align: right;\">0</td><td style = \"text-align: right;\">0</td><td style = \"text-align: right;\">0</td></tr><tr><td class = \"rowNumber\" style = \"font-weight: bold; text-align: right;\">6</td><td style = \"text-align: left;\">111D</td><td style = \"text-align: left;\">[0, 0, 0, 0, 0, 0, 0, 0]</td><td style = \"text-align: right;\">0</td><td style = \"text-align: right;\">0</td><td style = \"text-align: right;\">0</td></tr><tr><td class = \"rowNumber\" style = \"font-weight: bold; text-align: right;\">7</td><td style = \"text-align: left;\">210</td><td style = \"text-align: left;\">[148, 598, 344, 2666, 782, 2092, 2452, 36743]</td><td style = \"text-align: right;\">11150</td><td style = \"text-align: right;\">13025</td><td style = \"text-align: right;\">15275</td></tr><tr><td class = \"rowNumber\" style = \"font-weight: bold; text-align: right;\">8</td><td style = \"text-align: left;\">003</td><td style = \"text-align: left;\">[0, 0, 0, 0, 0, 0, 0, 0]</td><td style = \"text-align: right;\">0</td><td style = \"text-align: right;\">0</td><td style = \"text-align: right;\">0</td></tr><tr><td class = \"rowNumber\" style = \"font-weight: bold; text-align: right;\">9</td><td style = \"text-align: left;\">012</td><td style = \"text-align: left;\">[0, 0, 0, 0, 0, 0, 0, 0]</td><td style = \"text-align: right;\">0</td><td style = \"text-align: right;\">0</td><td style = \"text-align: right;\">0</td></tr><tr><td class = \"rowNumber\" style = \"font-weight: bold; text-align: right;\">10</td><td style = \"text-align: left;\">021D</td><td style = \"text-align: left;\">[0, 0, 0, 0, 0, 0, 0, 0]</td><td style = \"text-align: right;\">0</td><td style = \"text-align: right;\">0</td><td style = \"text-align: right;\">0</td></tr><tr><td class = \"rowNumber\" style = \"font-weight: bold; text-align: right;\">11</td><td style = \"text-align: left;\">030T</td><td style = \"text-align: left;\">[6514, 13263, 5504, 35228, 25815, 30559, 40075, 323388]</td><td style = \"text-align: right;\">367970</td><td style = \"text-align: right;\">444283</td><td style = \"text-align: right;\">480346</td></tr><tr><td class = \"rowNumber\" style = \"font-weight: bold; text-align: right;\">12</td><td style = \"text-align: left;\">021U</td><td style = \"text-align: left;\">[0, 0, 0, 0, 0, 0, 0, 0]</td><td style = \"text-align: right;\">0</td><td style = \"text-align: right;\">0</td><td style = \"text-align: right;\">0</td></tr><tr><td class = \"rowNumber\" style = \"font-weight: bold; text-align: right;\">13</td><td style = \"text-align: left;\">300</td><td style = \"text-align: left;\">[30, 106, 43, 514, 100, 457, 520, 10944]</td><td style = \"text-align: right;\">1626</td><td style = \"text-align: right;\">1688</td><td style = \"text-align: right;\">2119</td></tr><tr><td class = \"rowNumber\" style = \"font-weight: bold; text-align: right;\">14</td><td style = \"text-align: left;\">102</td><td style = \"text-align: left;\">[0, 0, 0, 0, 0, 0, 0, 0]</td><td style = \"text-align: right;\">0</td><td style = \"text-align: right;\">0</td><td style = \"text-align: right;\">0</td></tr><tr><td class = \"rowNumber\" style = \"font-weight: bold; text-align: right;\">15</td><td style = \"text-align: left;\">021C</td><td style = \"text-align: left;\">[0, 0, 0, 0, 0, 0, 0, 0]</td><td style = \"text-align: right;\">0</td><td style = \"text-align: right;\">0</td><td style = \"text-align: right;\">0</td></tr><tr><td class = \"rowNumber\" style = \"font-weight: bold; text-align: right;\">16</td><td style = \"text-align: left;\">120U</td><td style = \"text-align: left;\">[1009, 1951, 819, 5918, 7351, 8119, 9251, 82100]</td><td style = \"text-align: right;\">42431</td><td style = \"text-align: right;\">49706</td><td style = \"text-align: right;\">58259</td></tr></tbody></table></div>"
      ],
      "text/latex": [
       "\\begin{tabular}{r|ccccc}\n",
       "\t& triad & n\\_arr & n\\_bal & n\\_hier & \\\\\n",
       "\t\\hline\n",
       "\t& String & Array… & Int64 & Int64 & \\\\\n",
       "\t\\hline\n",
       "\t1 & 030C & [0, 0, 0, 0, 0, 0, 0, 0] & 0 & 0 & $\\dots$ \\\\\n",
       "\t2 & 111U & [0, 0, 0, 0, 0, 0, 0, 0] & 0 & 0 & $\\dots$ \\\\\n",
       "\t3 & 120D & [656, 2718, 804, 5957, 1529, 5232, 3536, 70680] & 35682 & 39837 & $\\dots$ \\\\\n",
       "\t4 & 120C & [0, 0, 0, 0, 0, 0, 0, 0] & 0 & 0 & $\\dots$ \\\\\n",
       "\t5 & 201 & [0, 0, 0, 0, 0, 0, 0, 0] & 0 & 0 & $\\dots$ \\\\\n",
       "\t6 & 111D & [0, 0, 0, 0, 0, 0, 0, 0] & 0 & 0 & $\\dots$ \\\\\n",
       "\t7 & 210 & [148, 598, 344, 2666, 782, 2092, 2452, 36743] & 11150 & 13025 & $\\dots$ \\\\\n",
       "\t8 & 003 & [0, 0, 0, 0, 0, 0, 0, 0] & 0 & 0 & $\\dots$ \\\\\n",
       "\t9 & 012 & [0, 0, 0, 0, 0, 0, 0, 0] & 0 & 0 & $\\dots$ \\\\\n",
       "\t10 & 021D & [0, 0, 0, 0, 0, 0, 0, 0] & 0 & 0 & $\\dots$ \\\\\n",
       "\t11 & 030T & [6514, 13263, 5504, 35228, 25815, 30559, 40075, 323388] & 367970 & 444283 & $\\dots$ \\\\\n",
       "\t12 & 021U & [0, 0, 0, 0, 0, 0, 0, 0] & 0 & 0 & $\\dots$ \\\\\n",
       "\t13 & 300 & [30, 106, 43, 514, 100, 457, 520, 10944] & 1626 & 1688 & $\\dots$ \\\\\n",
       "\t14 & 102 & [0, 0, 0, 0, 0, 0, 0, 0] & 0 & 0 & $\\dots$ \\\\\n",
       "\t15 & 021C & [0, 0, 0, 0, 0, 0, 0, 0] & 0 & 0 & $\\dots$ \\\\\n",
       "\t16 & 120U & [1009, 1951, 819, 5918, 7351, 8119, 9251, 82100] & 42431 & 49706 & $\\dots$ \\\\\n",
       "\\end{tabular}\n"
      ],
      "text/plain": [
       "\u001b[1m16×5 DataFrame\u001b[0m\n",
       "\u001b[1m Row \u001b[0m│\u001b[1m triad  \u001b[0m\u001b[1m n_arr                             \u001b[0m\u001b[1m n_bal  \u001b[0m\u001b[1m n_hier \u001b[0m\u001b[1m n_tot  \u001b[0m\n",
       "     │\u001b[90m String \u001b[0m\u001b[90m Array…                            \u001b[0m\u001b[90m Int64  \u001b[0m\u001b[90m Int64  \u001b[0m\u001b[90m Int64  \u001b[0m\n",
       "─────┼───────────────────────────────────────────────────────────────────\n",
       "   1 │ 030C    [0, 0, 0, 0, 0, 0, 0, 0]                0       0       0\n",
       "   2 │ 111U    [0, 0, 0, 0, 0, 0, 0, 0]                0       0       0\n",
       "   3 │ 120D    [656, 2718, 804, 5957, 1529, 523…   35682   39837   45556\n",
       "   4 │ 120C    [0, 0, 0, 0, 0, 0, 0, 0]                0       0       0\n",
       "   5 │ 201     [0, 0, 0, 0, 0, 0, 0, 0]                0       0       0\n",
       "   6 │ 111D    [0, 0, 0, 0, 0, 0, 0, 0]                0       0       0\n",
       "   7 │ 210     [148, 598, 344, 2666, 782, 2092,…   11150   13025   15275\n",
       "   8 │ 003     [0, 0, 0, 0, 0, 0, 0, 0]                0       0       0\n",
       "   9 │ 012     [0, 0, 0, 0, 0, 0, 0, 0]                0       0       0\n",
       "  10 │ 021D    [0, 0, 0, 0, 0, 0, 0, 0]                0       0       0\n",
       "  11 │ 030T    [6514, 13263, 5504, 35228, 25815…  367970  444283  480346\n",
       "  12 │ 021U    [0, 0, 0, 0, 0, 0, 0, 0]                0       0       0\n",
       "  13 │ 300     [30, 106, 43, 514, 100, 457, 520…    1626    1688    2119\n",
       "  14 │ 102     [0, 0, 0, 0, 0, 0, 0, 0]                0       0       0\n",
       "  15 │ 021C    [0, 0, 0, 0, 0, 0, 0, 0]                0       0       0\n",
       "  16 │ 120U    [1009, 1951, 819, 5918, 7351, 81…   42431   49706   58259"
      ]
     },
     "metadata": {},
     "output_type": "display_data"
    }
   ],
   "source": [
    "# create dataframe from dicts\n",
    "\n",
    "df_n_arr = DataFrame(triad = collect(keys(n_arr_dict)), n_arr = collect(values(n_arr_dict)),\n",
    "                     n_bal = collect(values(n_bal_dict)), n_hier = collect(values(n_hier_dict)),\n",
    "                     n_tot = collect(values(n_tot_dict)))"
   ]
  },
  {
   "cell_type": "code",
   "execution_count": 128,
   "metadata": {},
   "outputs": [
    {
     "data": {
      "text/html": [
       "<div><div style = \"float: left;\"><span>16×7 DataFrame</span></div><div style = \"clear: both;\"></div></div><div class = \"data-frame\" style = \"overflow-x: scroll;\"><table class = \"data-frame\" style = \"margin-bottom: 6px;\"><thead><tr class = \"header\"><th class = \"rowNumber\" style = \"font-weight: bold; text-align: right;\">Row</th><th style = \"text-align: left;\">triad</th><th style = \"text-align: left;\">n_arr</th><th style = \"text-align: left;\">n_bal</th><th style = \"text-align: left;\">n_hier</th><th style = \"text-align: left;\">n_tot</th><th style = \"text-align: left;\">per_bal</th><th style = \"text-align: left;\">per_hier</th></tr><tr class = \"subheader headerLastRow\"><th class = \"rowNumber\" style = \"font-weight: bold; text-align: right;\"></th><th title = \"String\" style = \"text-align: left;\">String</th><th title = \"Vector{Int64}\" style = \"text-align: left;\">Array…</th><th title = \"Int64\" style = \"text-align: left;\">Int64</th><th title = \"Int64\" style = \"text-align: left;\">Int64</th><th title = \"Int64\" style = \"text-align: left;\">Int64</th><th title = \"Float64\" style = \"text-align: left;\">Float64</th><th title = \"Float64\" style = \"text-align: left;\">Float64</th></tr></thead><tbody><tr><td class = \"rowNumber\" style = \"font-weight: bold; text-align: right;\">1</td><td style = \"text-align: left;\">030C</td><td style = \"text-align: left;\">[0, 0, 0, 0, 0, 0, 0, 0]</td><td style = \"text-align: right;\">0</td><td style = \"text-align: right;\">0</td><td style = \"text-align: right;\">0</td><td style = \"text-align: right;\">NaN</td><td style = \"text-align: right;\">NaN</td></tr><tr><td class = \"rowNumber\" style = \"font-weight: bold; text-align: right;\">2</td><td style = \"text-align: left;\">111U</td><td style = \"text-align: left;\">[0, 0, 0, 0, 0, 0, 0, 0]</td><td style = \"text-align: right;\">0</td><td style = \"text-align: right;\">0</td><td style = \"text-align: right;\">0</td><td style = \"text-align: right;\">NaN</td><td style = \"text-align: right;\">NaN</td></tr><tr><td class = \"rowNumber\" style = \"font-weight: bold; text-align: right;\">3</td><td style = \"text-align: left;\">120D</td><td style = \"text-align: left;\">[656, 2718, 804, 5957, 1529, 5232, 3536, 70680]</td><td style = \"text-align: right;\">35682</td><td style = \"text-align: right;\">39837</td><td style = \"text-align: right;\">45556</td><td style = \"text-align: right;\">0.783256</td><td style = \"text-align: right;\">0.874462</td></tr><tr><td class = \"rowNumber\" style = \"font-weight: bold; text-align: right;\">4</td><td style = \"text-align: left;\">120C</td><td style = \"text-align: left;\">[0, 0, 0, 0, 0, 0, 0, 0]</td><td style = \"text-align: right;\">0</td><td style = \"text-align: right;\">0</td><td style = \"text-align: right;\">0</td><td style = \"text-align: right;\">NaN</td><td style = \"text-align: right;\">NaN</td></tr><tr><td class = \"rowNumber\" style = \"font-weight: bold; text-align: right;\">5</td><td style = \"text-align: left;\">201</td><td style = \"text-align: left;\">[0, 0, 0, 0, 0, 0, 0, 0]</td><td style = \"text-align: right;\">0</td><td style = \"text-align: right;\">0</td><td style = \"text-align: right;\">0</td><td style = \"text-align: right;\">NaN</td><td style = \"text-align: right;\">NaN</td></tr><tr><td class = \"rowNumber\" style = \"font-weight: bold; text-align: right;\">6</td><td style = \"text-align: left;\">111D</td><td style = \"text-align: left;\">[0, 0, 0, 0, 0, 0, 0, 0]</td><td style = \"text-align: right;\">0</td><td style = \"text-align: right;\">0</td><td style = \"text-align: right;\">0</td><td style = \"text-align: right;\">NaN</td><td style = \"text-align: right;\">NaN</td></tr><tr><td class = \"rowNumber\" style = \"font-weight: bold; text-align: right;\">7</td><td style = \"text-align: left;\">210</td><td style = \"text-align: left;\">[148, 598, 344, 2666, 782, 2092, 2452, 36743]</td><td style = \"text-align: right;\">11150</td><td style = \"text-align: right;\">13025</td><td style = \"text-align: right;\">15275</td><td style = \"text-align: right;\">0.729951</td><td style = \"text-align: right;\">0.8527</td></tr><tr><td class = \"rowNumber\" style = \"font-weight: bold; text-align: right;\">8</td><td style = \"text-align: left;\">003</td><td style = \"text-align: left;\">[0, 0, 0, 0, 0, 0, 0, 0]</td><td style = \"text-align: right;\">0</td><td style = \"text-align: right;\">0</td><td style = \"text-align: right;\">0</td><td style = \"text-align: right;\">NaN</td><td style = \"text-align: right;\">NaN</td></tr><tr><td class = \"rowNumber\" style = \"font-weight: bold; text-align: right;\">9</td><td style = \"text-align: left;\">012</td><td style = \"text-align: left;\">[0, 0, 0, 0, 0, 0, 0, 0]</td><td style = \"text-align: right;\">0</td><td style = \"text-align: right;\">0</td><td style = \"text-align: right;\">0</td><td style = \"text-align: right;\">NaN</td><td style = \"text-align: right;\">NaN</td></tr><tr><td class = \"rowNumber\" style = \"font-weight: bold; text-align: right;\">10</td><td style = \"text-align: left;\">021D</td><td style = \"text-align: left;\">[0, 0, 0, 0, 0, 0, 0, 0]</td><td style = \"text-align: right;\">0</td><td style = \"text-align: right;\">0</td><td style = \"text-align: right;\">0</td><td style = \"text-align: right;\">NaN</td><td style = \"text-align: right;\">NaN</td></tr><tr><td class = \"rowNumber\" style = \"font-weight: bold; text-align: right;\">11</td><td style = \"text-align: left;\">030T</td><td style = \"text-align: left;\">[6514, 13263, 5504, 35228, 25815, 30559, 40075, 323388]</td><td style = \"text-align: right;\">367970</td><td style = \"text-align: right;\">444283</td><td style = \"text-align: right;\">480346</td><td style = \"text-align: right;\">0.766052</td><td style = \"text-align: right;\">0.924923</td></tr><tr><td class = \"rowNumber\" style = \"font-weight: bold; text-align: right;\">12</td><td style = \"text-align: left;\">021U</td><td style = \"text-align: left;\">[0, 0, 0, 0, 0, 0, 0, 0]</td><td style = \"text-align: right;\">0</td><td style = \"text-align: right;\">0</td><td style = \"text-align: right;\">0</td><td style = \"text-align: right;\">NaN</td><td style = \"text-align: right;\">NaN</td></tr><tr><td class = \"rowNumber\" style = \"font-weight: bold; text-align: right;\">13</td><td style = \"text-align: left;\">300</td><td style = \"text-align: left;\">[30, 106, 43, 514, 100, 457, 520, 10944]</td><td style = \"text-align: right;\">1626</td><td style = \"text-align: right;\">1688</td><td style = \"text-align: right;\">2119</td><td style = \"text-align: right;\">0.767343</td><td style = \"text-align: right;\">0.796602</td></tr><tr><td class = \"rowNumber\" style = \"font-weight: bold; text-align: right;\">14</td><td style = \"text-align: left;\">102</td><td style = \"text-align: left;\">[0, 0, 0, 0, 0, 0, 0, 0]</td><td style = \"text-align: right;\">0</td><td style = \"text-align: right;\">0</td><td style = \"text-align: right;\">0</td><td style = \"text-align: right;\">NaN</td><td style = \"text-align: right;\">NaN</td></tr><tr><td class = \"rowNumber\" style = \"font-weight: bold; text-align: right;\">15</td><td style = \"text-align: left;\">021C</td><td style = \"text-align: left;\">[0, 0, 0, 0, 0, 0, 0, 0]</td><td style = \"text-align: right;\">0</td><td style = \"text-align: right;\">0</td><td style = \"text-align: right;\">0</td><td style = \"text-align: right;\">NaN</td><td style = \"text-align: right;\">NaN</td></tr><tr><td class = \"rowNumber\" style = \"font-weight: bold; text-align: right;\">16</td><td style = \"text-align: left;\">120U</td><td style = \"text-align: left;\">[1009, 1951, 819, 5918, 7351, 8119, 9251, 82100]</td><td style = \"text-align: right;\">42431</td><td style = \"text-align: right;\">49706</td><td style = \"text-align: right;\">58259</td><td style = \"text-align: right;\">0.728317</td><td style = \"text-align: right;\">0.85319</td></tr></tbody></table></div>"
      ],
      "text/latex": [
       "\\begin{tabular}{r|ccccc}\n",
       "\t& triad & n\\_arr & n\\_bal & n\\_hier & \\\\\n",
       "\t\\hline\n",
       "\t& String & Array… & Int64 & Int64 & \\\\\n",
       "\t\\hline\n",
       "\t1 & 030C & [0, 0, 0, 0, 0, 0, 0, 0] & 0 & 0 & $\\dots$ \\\\\n",
       "\t2 & 111U & [0, 0, 0, 0, 0, 0, 0, 0] & 0 & 0 & $\\dots$ \\\\\n",
       "\t3 & 120D & [656, 2718, 804, 5957, 1529, 5232, 3536, 70680] & 35682 & 39837 & $\\dots$ \\\\\n",
       "\t4 & 120C & [0, 0, 0, 0, 0, 0, 0, 0] & 0 & 0 & $\\dots$ \\\\\n",
       "\t5 & 201 & [0, 0, 0, 0, 0, 0, 0, 0] & 0 & 0 & $\\dots$ \\\\\n",
       "\t6 & 111D & [0, 0, 0, 0, 0, 0, 0, 0] & 0 & 0 & $\\dots$ \\\\\n",
       "\t7 & 210 & [148, 598, 344, 2666, 782, 2092, 2452, 36743] & 11150 & 13025 & $\\dots$ \\\\\n",
       "\t8 & 003 & [0, 0, 0, 0, 0, 0, 0, 0] & 0 & 0 & $\\dots$ \\\\\n",
       "\t9 & 012 & [0, 0, 0, 0, 0, 0, 0, 0] & 0 & 0 & $\\dots$ \\\\\n",
       "\t10 & 021D & [0, 0, 0, 0, 0, 0, 0, 0] & 0 & 0 & $\\dots$ \\\\\n",
       "\t11 & 030T & [6514, 13263, 5504, 35228, 25815, 30559, 40075, 323388] & 367970 & 444283 & $\\dots$ \\\\\n",
       "\t12 & 021U & [0, 0, 0, 0, 0, 0, 0, 0] & 0 & 0 & $\\dots$ \\\\\n",
       "\t13 & 300 & [30, 106, 43, 514, 100, 457, 520, 10944] & 1626 & 1688 & $\\dots$ \\\\\n",
       "\t14 & 102 & [0, 0, 0, 0, 0, 0, 0, 0] & 0 & 0 & $\\dots$ \\\\\n",
       "\t15 & 021C & [0, 0, 0, 0, 0, 0, 0, 0] & 0 & 0 & $\\dots$ \\\\\n",
       "\t16 & 120U & [1009, 1951, 819, 5918, 7351, 8119, 9251, 82100] & 42431 & 49706 & $\\dots$ \\\\\n",
       "\\end{tabular}\n"
      ],
      "text/plain": [
       "\u001b[1m16×7 DataFrame\u001b[0m\n",
       "\u001b[1m Row \u001b[0m│\u001b[1m triad  \u001b[0m\u001b[1m n_arr                             \u001b[0m\u001b[1m n_bal  \u001b[0m\u001b[1m n_hier \u001b[0m\u001b[1m n_tot  \u001b[0m\u001b[1m per_\u001b[0m ⋯\n",
       "     │\u001b[90m String \u001b[0m\u001b[90m Array…                            \u001b[0m\u001b[90m Int64  \u001b[0m\u001b[90m Int64  \u001b[0m\u001b[90m Int64  \u001b[0m\u001b[90m Floa\u001b[0m ⋯\n",
       "─────┼──────────────────────────────────────────────────────────────────────────\n",
       "   1 │ 030C    [0, 0, 0, 0, 0, 0, 0, 0]                0       0       0  NaN  ⋯\n",
       "   2 │ 111U    [0, 0, 0, 0, 0, 0, 0, 0]                0       0       0  NaN\n",
       "   3 │ 120D    [656, 2718, 804, 5957, 1529, 523…   35682   39837   45556    0.\n",
       "   4 │ 120C    [0, 0, 0, 0, 0, 0, 0, 0]                0       0       0  NaN\n",
       "   5 │ 201     [0, 0, 0, 0, 0, 0, 0, 0]                0       0       0  NaN  ⋯\n",
       "   6 │ 111D    [0, 0, 0, 0, 0, 0, 0, 0]                0       0       0  NaN\n",
       "   7 │ 210     [148, 598, 344, 2666, 782, 2092,…   11150   13025   15275    0.\n",
       "   8 │ 003     [0, 0, 0, 0, 0, 0, 0, 0]                0       0       0  NaN\n",
       "   9 │ 012     [0, 0, 0, 0, 0, 0, 0, 0]                0       0       0  NaN  ⋯\n",
       "  10 │ 021D    [0, 0, 0, 0, 0, 0, 0, 0]                0       0       0  NaN\n",
       "  11 │ 030T    [6514, 13263, 5504, 35228, 25815…  367970  444283  480346    0.\n",
       "  12 │ 021U    [0, 0, 0, 0, 0, 0, 0, 0]                0       0       0  NaN\n",
       "  13 │ 300     [30, 106, 43, 514, 100, 457, 520…    1626    1688    2119    0. ⋯\n",
       "  14 │ 102     [0, 0, 0, 0, 0, 0, 0, 0]                0       0       0  NaN\n",
       "  15 │ 021C    [0, 0, 0, 0, 0, 0, 0, 0]                0       0       0  NaN\n",
       "  16 │ 120U    [1009, 1951, 819, 5918, 7351, 81…   42431   49706   58259    0.\n",
       "\u001b[36m                                                               2 columns omitted\u001b[0m"
      ]
     },
     "metadata": {},
     "output_type": "display_data"
    }
   ],
   "source": [
    "df_n_arr.per_bal = df_n_arr.n_bal ./ df_n_arr.n_tot\n",
    "df_n_arr.per_hier = df_n_arr.n_hier ./ df_n_arr.n_tot\n",
    "df_n_arr"
   ]
  },
  {
   "cell_type": "code",
   "execution_count": null,
   "metadata": {},
   "outputs": [],
   "source": [
    "# save above dataframe\n",
    "CSV.write(joinpath(path, \"soc-wiki-elec-bal_hier_triads-types.csv\"), df_n_arr)\n",
    "CSV.write(joinpath(\"soc-wiki-elec-bal_hier_triads-types.csv\"), df_n_arr)\n",
    "\n",
    "# save JLD2\n",
    "save(joinpath(path, \"soc-wiki-elec-bal_hier_triads-types.jld2\"), \"df_n_arr\", df_n_arr)\n",
    "save(\"soc-wiki-elec-bal_hier_triads-types.jld2\", \"df_n_arr\", df_n_arr)"
   ]
  },
  {
   "cell_type": "code",
   "execution_count": 1,
   "metadata": {},
   "outputs": [
    {
     "ename": "UndefVarError",
     "evalue": "UndefVarError: `path` not defined",
     "output_type": "error",
     "traceback": [
      "UndefVarError: `path` not defined\n",
      "\n",
      "Stacktrace:\n",
      " [1] top-level scope\n",
      "   @ ~/Desktop/programming/data-analysis/wiki-elec/jl_notebook_cell_df34fa98e69747e1a8f8a730347b8e2f_X42sZmlsZQ==.jl:1"
     ]
    }
   ],
   "source": [
    "joinpath(path)"
   ]
  }
 ],
 "metadata": {
  "kernelspec": {
   "display_name": "Julia 1.10.4",
   "language": "julia",
   "name": "julia-1.10"
  },
  "language_info": {
   "file_extension": ".jl",
   "mimetype": "application/julia",
   "name": "julia",
   "version": "1.10.4"
  }
 },
 "nbformat": 4,
 "nbformat_minor": 2
}
