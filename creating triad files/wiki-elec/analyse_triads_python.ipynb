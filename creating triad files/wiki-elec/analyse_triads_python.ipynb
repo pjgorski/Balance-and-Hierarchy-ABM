{
 "cells": [
  {
   "cell_type": "code",
   "execution_count": 1,
   "metadata": {},
   "outputs": [],
   "source": [
    "import numpy as np\n",
    "import matplotlib.pyplot as plt\n",
    "import pandas as pd\n",
    "import networkx as nx\n",
    "\n",
    "from pathlib import Path"
   ]
  },
  {
   "cell_type": "code",
   "execution_count": 2,
   "metadata": {},
   "outputs": [
    {
     "data": {
      "text/html": [
       "<div>\n",
       "<style scoped>\n",
       "    .dataframe tbody tr th:only-of-type {\n",
       "        vertical-align: middle;\n",
       "    }\n",
       "\n",
       "    .dataframe tbody tr th {\n",
       "        vertical-align: top;\n",
       "    }\n",
       "\n",
       "    .dataframe thead th {\n",
       "        text-align: right;\n",
       "    }\n",
       "</style>\n",
       "<table border=\"1\" class=\"dataframe\">\n",
       "  <thead>\n",
       "    <tr style=\"text-align: right;\">\n",
       "      <th></th>\n",
       "      <th>source</th>\n",
       "      <th>target</th>\n",
       "      <th>sign</th>\n",
       "      <th>date</th>\n",
       "    </tr>\n",
       "  </thead>\n",
       "  <tbody>\n",
       "    <tr>\n",
       "      <th>0</th>\n",
       "      <td>3</td>\n",
       "      <td>30</td>\n",
       "      <td>1</td>\n",
       "      <td>1095171960</td>\n",
       "    </tr>\n",
       "    <tr>\n",
       "      <th>1</th>\n",
       "      <td>25</td>\n",
       "      <td>30</td>\n",
       "      <td>-1</td>\n",
       "      <td>1095173580</td>\n",
       "    </tr>\n",
       "    <tr>\n",
       "      <th>2</th>\n",
       "      <td>4</td>\n",
       "      <td>30</td>\n",
       "      <td>1</td>\n",
       "      <td>1095174480</td>\n",
       "    </tr>\n",
       "    <tr>\n",
       "      <th>3</th>\n",
       "      <td>5</td>\n",
       "      <td>30</td>\n",
       "      <td>1</td>\n",
       "      <td>1095176220</td>\n",
       "    </tr>\n",
       "    <tr>\n",
       "      <th>4</th>\n",
       "      <td>6</td>\n",
       "      <td>30</td>\n",
       "      <td>1</td>\n",
       "      <td>1095182880</td>\n",
       "    </tr>\n",
       "  </tbody>\n",
       "</table>\n",
       "</div>"
      ],
      "text/plain": [
       "   source  target  sign        date\n",
       "0       3      30     1  1095171960\n",
       "1      25      30    -1  1095173580\n",
       "2       4      30     1  1095174480\n",
       "3       5      30     1  1095176220\n",
       "4       6      30     1  1095182880"
      ]
     },
     "execution_count": 2,
     "metadata": {},
     "output_type": "execute_result"
    }
   ],
   "source": [
    "path = Path('../../../data/soc-wiki-elec')\n",
    "\n",
    "df = pd.read_csv(path.joinpath('soc-wiki-elec.edges'), sep=' ', header=None, skiprows=1)\n",
    "\n",
    "# name columns\n",
    "df.columns = ['source', 'target', 'sign', 'date']\n",
    "\n",
    "df.head()"
   ]
  },
  {
   "cell_type": "code",
   "execution_count": 5,
   "metadata": {},
   "outputs": [
    {
     "data": {
      "text/plain": [
       "0.7840871944784302"
      ]
     },
     "execution_count": 5,
     "metadata": {},
     "output_type": "execute_result"
    }
   ],
   "source": [
    "sum(df.sign == 1) / len(df)"
   ]
  },
  {
   "cell_type": "code",
   "execution_count": 6,
   "metadata": {},
   "outputs": [],
   "source": [
    "# create network and calculate triadic census\n",
    "G = nx.from_pandas_edgelist(df, 'source', 'target', 'sign', create_using=nx.DiGraph())"
   ]
  },
  {
   "cell_type": "code",
   "execution_count": 7,
   "metadata": {},
   "outputs": [
    {
     "data": {
      "text/plain": [
       "True"
      ]
     },
     "execution_count": 7,
     "metadata": {},
     "output_type": "execute_result"
    }
   ],
   "source": [
    "G.is_directed()"
   ]
  },
  {
   "cell_type": "code",
   "execution_count": 8,
   "metadata": {},
   "outputs": [
    {
     "data": {
      "text/plain": [
       "{'003': 59378321389,\n",
       " '012': 669997442,\n",
       " '102': 19697614,\n",
       " '021D': 5796353,\n",
       " '021U': 3232045,\n",
       " '021C': 2746482,\n",
       " '111D': 357440,\n",
       " '111U': 558513,\n",
       " '030T': 462679,\n",
       " '030C': 6795,\n",
       " '201': 28288,\n",
       " '120D': 45556,\n",
       " '120U': 58259,\n",
       " '120C': 17667,\n",
       " '210': 15275,\n",
       " '300': 2119}"
      ]
     },
     "execution_count": 8,
     "metadata": {},
     "output_type": "execute_result"
    }
   ],
   "source": [
    "tcen = nx.triadic_census(G)\n",
    "tcen"
   ]
  },
  {
   "cell_type": "code",
   "execution_count": 4,
   "metadata": {},
   "outputs": [
    {
     "data": {
      "text/html": [
       "<div>\n",
       "<style scoped>\n",
       "    .dataframe tbody tr th:only-of-type {\n",
       "        vertical-align: middle;\n",
       "    }\n",
       "\n",
       "    .dataframe tbody tr th {\n",
       "        vertical-align: top;\n",
       "    }\n",
       "\n",
       "    .dataframe thead th {\n",
       "        text-align: right;\n",
       "    }\n",
       "</style>\n",
       "<table border=\"1\" class=\"dataframe\">\n",
       "  <thead>\n",
       "    <tr style=\"text-align: right;\">\n",
       "      <th></th>\n",
       "      <th>003</th>\n",
       "      <th>012</th>\n",
       "      <th>102</th>\n",
       "      <th>021D</th>\n",
       "      <th>021U</th>\n",
       "      <th>021C</th>\n",
       "      <th>111D</th>\n",
       "      <th>111U</th>\n",
       "      <th>030T</th>\n",
       "      <th>030C</th>\n",
       "      <th>201</th>\n",
       "      <th>120D</th>\n",
       "      <th>120U</th>\n",
       "      <th>120C</th>\n",
       "      <th>210</th>\n",
       "      <th>300</th>\n",
       "    </tr>\n",
       "  </thead>\n",
       "  <tbody>\n",
       "    <tr>\n",
       "      <th>wiki-elec</th>\n",
       "      <td>59378321389</td>\n",
       "      <td>669997442</td>\n",
       "      <td>19697614</td>\n",
       "      <td>5796353</td>\n",
       "      <td>3232045</td>\n",
       "      <td>2746482</td>\n",
       "      <td>357440</td>\n",
       "      <td>558513</td>\n",
       "      <td>462679</td>\n",
       "      <td>6795</td>\n",
       "      <td>28288</td>\n",
       "      <td>45556</td>\n",
       "      <td>58259</td>\n",
       "      <td>17667</td>\n",
       "      <td>15275</td>\n",
       "      <td>2119</td>\n",
       "    </tr>\n",
       "  </tbody>\n",
       "</table>\n",
       "</div>"
      ],
      "text/plain": [
       "                   003        012       102     021D     021U     021C  \\\n",
       "wiki-elec  59378321389  669997442  19697614  5796353  3232045  2746482   \n",
       "\n",
       "             111D    111U    030T  030C    201   120D   120U   120C    210  \\\n",
       "wiki-elec  357440  558513  462679  6795  28288  45556  58259  17667  15275   \n",
       "\n",
       "            300  \n",
       "wiki-elec  2119  "
      ]
     },
     "execution_count": 4,
     "metadata": {},
     "output_type": "execute_result"
    }
   ],
   "source": [
    "df_tcen_path = Path(path.joinpath('triad_census.h5'))\n",
    "\n",
    "try:\n",
    "    df_tcen = pd.DataFrame.from_dict(tcen, orient='index',\n",
    "                        columns=['wiki-elec']).transpose()\n",
    "except:\n",
    "    df_tcen_path = Path(path.joinpath('triad_census.h5'))\n",
    "\n",
    "    df_tcen = pd.read_hdf(df_tcen_path)\n",
    "\n",
    "df_tcen"
   ]
  },
  {
   "cell_type": "code",
   "execution_count": 29,
   "metadata": {},
   "outputs": [
    {
     "name": "stderr",
     "output_type": "stream",
     "text": [
      "/home/piotrfens/Desktop/programming/data-analysis/.datavenv/lib/python3.12/site-packages/tables/path.py:137: NaturalNameWarning: object name is not a valid Python identifier: 'wiki-elec'; it does not match the pattern ``^[a-zA-Z_][a-zA-Z0-9_]*$``; you will not be able to use natural naming to access this object; using ``getattr()`` will still work, though\n",
      "  check_attribute_name(name)\n"
     ]
    }
   ],
   "source": [
    "# save to hdf\n",
    "df_tcen.to_hdf(df_tcen_path, key='wiki-elec')\n",
    "\n",
    "df_tcen.to_hdf(df_tcen_path.name, key='wiki-elec')"
   ]
  },
  {
   "cell_type": "code",
   "execution_count": 3,
   "metadata": {},
   "outputs": [
    {
     "ename": "NameError",
     "evalue": "name 'df_tcen_path' is not defined",
     "output_type": "error",
     "traceback": [
      "\u001b[0;31m---------------------------------------------------------------------------\u001b[0m",
      "\u001b[0;31mNameError\u001b[0m                                 Traceback (most recent call last)",
      "Cell \u001b[0;32mIn[3], line 1\u001b[0m\n\u001b[0;32m----> 1\u001b[0m df_tcen2 \u001b[38;5;241m=\u001b[39m pd\u001b[38;5;241m.\u001b[39mread_hdf(\u001b[43mdf_tcen_path\u001b[49m)\n\u001b[1;32m      2\u001b[0m df_tcen2\n",
      "\u001b[0;31mNameError\u001b[0m: name 'df_tcen_path' is not defined"
     ]
    }
   ],
   "source": [
    "df_tcen2 = pd.read_hdf(df_tcen_path)\n",
    "df_tcen2"
   ]
  },
  {
   "cell_type": "code",
   "execution_count": 5,
   "metadata": {},
   "outputs": [
    {
     "data": {
      "text/plain": [
       "'triad_census.h5'"
      ]
     },
     "execution_count": 5,
     "metadata": {},
     "output_type": "execute_result"
    }
   ],
   "source": [
    "df_tcen_path.name"
   ]
  },
  {
   "cell_type": "code",
   "execution_count": 16,
   "metadata": {},
   "outputs": [
    {
     "data": {
      "text/plain": [
       "(np.int64(608350), np.int64(601555))"
      ]
     },
     "execution_count": 16,
     "metadata": {},
     "output_type": "execute_result"
    }
   ],
   "source": [
    "sum(sum(df_tcen.values))\n",
    "sum(df_tcen.values)\n",
    "real_triads = df_tcen[['030T', '030C', '120D', '120U', '120C', '210', '300']]\n",
    "transitive_triads = df_tcen[['030T', '120D', '120U', '120C', '210', '300']]\n",
    "sum(sum(real_triads.values)), sum(sum(transitive_triads.values))"
   ]
  }
 ],
 "metadata": {
  "kernelspec": {
   "display_name": ".datavenv",
   "language": "python",
   "name": "python3"
  },
  "language_info": {
   "codemirror_mode": {
    "name": "ipython",
    "version": 3
   },
   "file_extension": ".py",
   "mimetype": "text/x-python",
   "name": "python",
   "nbconvert_exporter": "python",
   "pygments_lexer": "ipython3",
   "version": "3.12.3"
  }
 },
 "nbformat": 4,
 "nbformat_minor": 2
}
