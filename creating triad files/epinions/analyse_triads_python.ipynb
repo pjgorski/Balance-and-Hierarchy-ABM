{
 "cells": [
  {
   "cell_type": "code",
   "execution_count": 17,
   "metadata": {},
   "outputs": [],
   "source": [
    "import numpy as np\n",
    "import matplotlib.pyplot as plt\n",
    "import pandas as pd\n",
    "import networkx as nx\n",
    "\n",
    "from pathlib import Path"
   ]
  },
  {
   "cell_type": "code",
   "execution_count": 18,
   "metadata": {},
   "outputs": [
    {
     "data": {
      "text/html": [
       "<div>\n",
       "<style scoped>\n",
       "    .dataframe tbody tr th:only-of-type {\n",
       "        vertical-align: middle;\n",
       "    }\n",
       "\n",
       "    .dataframe tbody tr th {\n",
       "        vertical-align: top;\n",
       "    }\n",
       "\n",
       "    .dataframe thead th {\n",
       "        text-align: right;\n",
       "    }\n",
       "</style>\n",
       "<table border=\"1\" class=\"dataframe\">\n",
       "  <thead>\n",
       "    <tr style=\"text-align: right;\">\n",
       "      <th></th>\n",
       "      <th>source</th>\n",
       "      <th>target</th>\n",
       "      <th>sign</th>\n",
       "      <th>date</th>\n",
       "    </tr>\n",
       "  </thead>\n",
       "  <tbody>\n",
       "    <tr>\n",
       "      <th>0</th>\n",
       "      <td>3287060356</td>\n",
       "      <td>232085</td>\n",
       "      <td>-1</td>\n",
       "      <td>2001/01/10</td>\n",
       "    </tr>\n",
       "    <tr>\n",
       "      <th>1</th>\n",
       "      <td>3288305540</td>\n",
       "      <td>709420</td>\n",
       "      <td>1</td>\n",
       "      <td>2001/01/10</td>\n",
       "    </tr>\n",
       "    <tr>\n",
       "      <th>2</th>\n",
       "      <td>3290337156</td>\n",
       "      <td>204418</td>\n",
       "      <td>-1</td>\n",
       "      <td>2001/01/10</td>\n",
       "    </tr>\n",
       "    <tr>\n",
       "      <th>3</th>\n",
       "      <td>3294138244</td>\n",
       "      <td>269243</td>\n",
       "      <td>-1</td>\n",
       "      <td>2001/01/10</td>\n",
       "    </tr>\n",
       "    <tr>\n",
       "      <th>4</th>\n",
       "      <td>3294138244</td>\n",
       "      <td>170692484</td>\n",
       "      <td>-1</td>\n",
       "      <td>2001/01/10</td>\n",
       "    </tr>\n",
       "  </tbody>\n",
       "</table>\n",
       "</div>"
      ],
      "text/plain": [
       "       source     target  sign        date\n",
       "0  3287060356     232085    -1  2001/01/10\n",
       "1  3288305540     709420     1  2001/01/10\n",
       "2  3290337156     204418    -1  2001/01/10\n",
       "3  3294138244     269243    -1  2001/01/10\n",
       "4  3294138244  170692484    -1  2001/01/10"
      ]
     },
     "execution_count": 18,
     "metadata": {},
     "output_type": "execute_result"
    }
   ],
   "source": [
    "path = Path('../../../data/epinions')\n",
    "\n",
    "df = pd.read_csv('../../../data/epinions/user_rating.txt', sep='\\t', header=None)\n",
    "\n",
    "# name columns\n",
    "df.columns = ['source', 'target', 'sign', 'date']\n",
    "\n",
    "df.head()"
   ]
  },
  {
   "cell_type": "code",
   "execution_count": 10,
   "metadata": {},
   "outputs": [
    {
     "data": {
      "text/plain": [
       "0.8529722881198804"
      ]
     },
     "execution_count": 10,
     "metadata": {},
     "output_type": "execute_result"
    }
   ],
   "source": [
    "sum(df.sign == 1) / len(df)"
   ]
  },
  {
   "cell_type": "code",
   "execution_count": null,
   "metadata": {},
   "outputs": [],
   "source": [
    "# create network and calculate triadic census\n",
    "G = nx.from_pandas_edgelist(df, 'source', 'target', 'sign', create_using=nx.DiGraph())"
   ]
  },
  {
   "cell_type": "code",
   "execution_count": 15,
   "metadata": {},
   "outputs": [
    {
     "data": {
      "text/plain": [
       "True"
      ]
     },
     "execution_count": 15,
     "metadata": {},
     "output_type": "execute_result"
    }
   ],
   "source": [
    "G.is_directed()"
   ]
  },
  {
   "cell_type": "code",
   "execution_count": 16,
   "metadata": {},
   "outputs": [
    {
     "data": {
      "text/plain": [
       "{'003': 381729219743007,\n",
       " '012': 76378799569,\n",
       " '102': 17027513185,\n",
       " '021D': 41490030,\n",
       " '021U': 48493351,\n",
       " '021C': 32569162,\n",
       " '111D': 20362369,\n",
       " '111U': 19115018,\n",
       " '030T': 1479047,\n",
       " '030C': 59899,\n",
       " '201': 5433309,\n",
       " '120D': 695450,\n",
       " '120U': 926939,\n",
       " '120C': 324586,\n",
       " '210': 877116,\n",
       " '300': 547039}"
      ]
     },
     "execution_count": 16,
     "metadata": {},
     "output_type": "execute_result"
    }
   ],
   "source": [
    "tcen = nx.triadic_census(G)\n",
    "tcen"
   ]
  },
  {
   "cell_type": "code",
   "execution_count": 19,
   "metadata": {},
   "outputs": [
    {
     "data": {
      "text/html": [
       "<div>\n",
       "<style scoped>\n",
       "    .dataframe tbody tr th:only-of-type {\n",
       "        vertical-align: middle;\n",
       "    }\n",
       "\n",
       "    .dataframe tbody tr th {\n",
       "        vertical-align: top;\n",
       "    }\n",
       "\n",
       "    .dataframe thead th {\n",
       "        text-align: right;\n",
       "    }\n",
       "</style>\n",
       "<table border=\"1\" class=\"dataframe\">\n",
       "  <thead>\n",
       "    <tr style=\"text-align: right;\">\n",
       "      <th></th>\n",
       "      <th>003</th>\n",
       "      <th>012</th>\n",
       "      <th>102</th>\n",
       "      <th>021D</th>\n",
       "      <th>021U</th>\n",
       "      <th>021C</th>\n",
       "      <th>111D</th>\n",
       "      <th>111U</th>\n",
       "      <th>030T</th>\n",
       "      <th>030C</th>\n",
       "      <th>201</th>\n",
       "      <th>120D</th>\n",
       "      <th>120U</th>\n",
       "      <th>120C</th>\n",
       "      <th>210</th>\n",
       "      <th>300</th>\n",
       "    </tr>\n",
       "  </thead>\n",
       "  <tbody>\n",
       "    <tr>\n",
       "      <th>epinions</th>\n",
       "      <td>381729219743007</td>\n",
       "      <td>76378799569</td>\n",
       "      <td>17027513185</td>\n",
       "      <td>41490030</td>\n",
       "      <td>48493351</td>\n",
       "      <td>32569162</td>\n",
       "      <td>20362369</td>\n",
       "      <td>19115018</td>\n",
       "      <td>1479047</td>\n",
       "      <td>59899</td>\n",
       "      <td>5433309</td>\n",
       "      <td>695450</td>\n",
       "      <td>926939</td>\n",
       "      <td>324586</td>\n",
       "      <td>877116</td>\n",
       "      <td>547039</td>\n",
       "    </tr>\n",
       "  </tbody>\n",
       "</table>\n",
       "</div>"
      ],
      "text/plain": [
       "                      003          012          102      021D      021U  \\\n",
       "epinions  381729219743007  76378799569  17027513185  41490030  48493351   \n",
       "\n",
       "              021C      111D      111U     030T   030C      201    120D  \\\n",
       "epinions  32569162  20362369  19115018  1479047  59899  5433309  695450   \n",
       "\n",
       "            120U    120C     210     300  \n",
       "epinions  926939  324586  877116  547039  "
      ]
     },
     "execution_count": 19,
     "metadata": {},
     "output_type": "execute_result"
    }
   ],
   "source": [
    "df_tcen_path = Path(path.joinpath('triad_census.h5'))\n",
    "\n",
    "try:\n",
    "    df_tcen = pd.DataFrame.from_dict(tcen, orient='index',\n",
    "                        columns=['epinions']).transpose()\n",
    "except:\n",
    "    df_tcen_path = Path(path.joinpath('triad_census.h5'))\n",
    "\n",
    "    df_tcen = pd.read_hdf(df_tcen_path)\n",
    "\n",
    "df_tcen"
   ]
  },
  {
   "cell_type": "code",
   "execution_count": 20,
   "metadata": {},
   "outputs": [],
   "source": [
    "# save to hdf\n",
    "df_tcen.to_hdf(df_tcen_path, key='epinions')\n",
    "\n",
    "df_tcen.to_hdf(df_tcen_path.name, key='epinions')"
   ]
  },
  {
   "cell_type": "code",
   "execution_count": 21,
   "metadata": {},
   "outputs": [
    {
     "data": {
      "text/html": [
       "<div>\n",
       "<style scoped>\n",
       "    .dataframe tbody tr th:only-of-type {\n",
       "        vertical-align: middle;\n",
       "    }\n",
       "\n",
       "    .dataframe tbody tr th {\n",
       "        vertical-align: top;\n",
       "    }\n",
       "\n",
       "    .dataframe thead th {\n",
       "        text-align: right;\n",
       "    }\n",
       "</style>\n",
       "<table border=\"1\" class=\"dataframe\">\n",
       "  <thead>\n",
       "    <tr style=\"text-align: right;\">\n",
       "      <th></th>\n",
       "      <th>003</th>\n",
       "      <th>012</th>\n",
       "      <th>102</th>\n",
       "      <th>021D</th>\n",
       "      <th>021U</th>\n",
       "      <th>021C</th>\n",
       "      <th>111D</th>\n",
       "      <th>111U</th>\n",
       "      <th>030T</th>\n",
       "      <th>030C</th>\n",
       "      <th>201</th>\n",
       "      <th>120D</th>\n",
       "      <th>120U</th>\n",
       "      <th>120C</th>\n",
       "      <th>210</th>\n",
       "      <th>300</th>\n",
       "    </tr>\n",
       "  </thead>\n",
       "  <tbody>\n",
       "    <tr>\n",
       "      <th>epinions</th>\n",
       "      <td>381729219743007</td>\n",
       "      <td>76378799569</td>\n",
       "      <td>17027513185</td>\n",
       "      <td>41490030</td>\n",
       "      <td>48493351</td>\n",
       "      <td>32569162</td>\n",
       "      <td>20362369</td>\n",
       "      <td>19115018</td>\n",
       "      <td>1479047</td>\n",
       "      <td>59899</td>\n",
       "      <td>5433309</td>\n",
       "      <td>695450</td>\n",
       "      <td>926939</td>\n",
       "      <td>324586</td>\n",
       "      <td>877116</td>\n",
       "      <td>547039</td>\n",
       "    </tr>\n",
       "  </tbody>\n",
       "</table>\n",
       "</div>"
      ],
      "text/plain": [
       "                      003          012          102      021D      021U  \\\n",
       "epinions  381729219743007  76378799569  17027513185  41490030  48493351   \n",
       "\n",
       "              021C      111D      111U     030T   030C      201    120D  \\\n",
       "epinions  32569162  20362369  19115018  1479047  59899  5433309  695450   \n",
       "\n",
       "            120U    120C     210     300  \n",
       "epinions  926939  324586  877116  547039  "
      ]
     },
     "execution_count": 21,
     "metadata": {},
     "output_type": "execute_result"
    }
   ],
   "source": [
    "df_tcen2 = pd.read_hdf(df_tcen_path)\n",
    "df_tcen2"
   ]
  }
 ],
 "metadata": {
  "kernelspec": {
   "display_name": ".datavenv",
   "language": "python",
   "name": "python3"
  },
  "language_info": {
   "codemirror_mode": {
    "name": "ipython",
    "version": 3
   },
   "file_extension": ".py",
   "mimetype": "text/x-python",
   "name": "python",
   "nbconvert_exporter": "python",
   "pygments_lexer": "ipython3",
   "version": "3.12.3"
  }
 },
 "nbformat": 4,
 "nbformat_minor": 2
}
