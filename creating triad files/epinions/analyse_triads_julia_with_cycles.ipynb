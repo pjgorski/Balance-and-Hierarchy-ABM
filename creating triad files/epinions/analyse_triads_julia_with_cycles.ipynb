{
 "cells": [
  {
   "cell_type": "code",
   "execution_count": 1,
   "metadata": {},
   "outputs": [],
   "source": [
    "using CSV\n",
    "using DataFrames\n"
   ]
  },
  {
   "cell_type": "code",
   "execution_count": 2,
   "metadata": {},
   "outputs": [
    {
     "data": {
      "text/html": [
       "<div><div style = \"float: left;\"><span>DataFrameRow (4 columns)</span></div><div style = \"clear: both;\"></div></div><div class = \"data-frame\" style = \"overflow-x: scroll;\"><table class = \"data-frame\" style = \"margin-bottom: 6px;\"><thead><tr class = \"header\"><th class = \"rowLabel\" style = \"font-weight: bold; text-align: right;\">Row</th><th style = \"text-align: left;\">source</th><th style = \"text-align: left;\">target</th><th style = \"text-align: left;\">sign</th><th style = \"text-align: left;\">date</th></tr><tr class = \"subheader headerLastRow\"><th class = \"rowLabel\" style = \"font-weight: bold; text-align: right;\"></th><th title = \"Int64\" style = \"text-align: left;\">Int64</th><th title = \"Int64\" style = \"text-align: left;\">Int64</th><th title = \"Int64\" style = \"text-align: left;\">Int64</th><th title = \"String15\" style = \"text-align: left;\">String15</th></tr></thead><tbody><tr><td class = \"rowLabel\" style = \"font-weight: bold; text-align: right;\">1</td><td style = \"text-align: right;\">3287060356</td><td style = \"text-align: right;\">232085</td><td style = \"text-align: right;\">-1</td><td style = \"text-align: left;\">2001/01/10</td></tr></tbody></table></div>"
      ],
      "text/latex": [
       "\\begin{tabular}{r|cccc}\n",
       "\t& source & target & sign & date\\\\\n",
       "\t\\hline\n",
       "\t& Int64 & Int64 & Int64 & String15\\\\\n",
       "\t\\hline\n",
       "\t1 & 3287060356 & 232085 & -1 & 2001/01/10 \\\\\n",
       "\\end{tabular}\n"
      ],
      "text/plain": [
       "\u001b[1mDataFrameRow\u001b[0m\n",
       "\u001b[1m Row \u001b[0m│\u001b[1m source     \u001b[0m\u001b[1m target \u001b[0m\u001b[1m sign  \u001b[0m\u001b[1m date       \u001b[0m\n",
       "     │\u001b[90m Int64      \u001b[0m\u001b[90m Int64  \u001b[0m\u001b[90m Int64 \u001b[0m\u001b[90m String15   \u001b[0m\n",
       "─────┼───────────────────────────────────────\n",
       "   1 │ 3287060356  232085     -1  2001/01/10"
      ]
     },
     "metadata": {},
     "output_type": "display_data"
    }
   ],
   "source": [
    "path = \"../../../data/epinions\"\n",
    "\n",
    "df = CSV.read(joinpath(path, \"user_rating.txt\"), DataFrame, delim=\"\\t\", header=false)\n",
    "\n",
    "rename!(df, [:source, :target, :sign, :date])\n",
    "\n",
    "first(df)"
   ]
  },
  {
   "cell_type": "code",
   "execution_count": 5,
   "metadata": {},
   "outputs": [
    {
     "name": "stdout",
     "output_type": "stream",
     "text": [
      "[841372, 841372]"
     ]
    },
    {
     "data": {
      "text/plain": [
       "840799"
      ]
     },
     "metadata": {},
     "output_type": "display_data"
    }
   ],
   "source": [
    "# get all edges\n",
    "edges = [(df.source[i], df.target[i]) for i in 1:size(df, 1)]\n",
    "\n",
    "edges[1:5]\n",
    "print([length(unique(edges)), length(edges)])\n",
    "\n",
    "# remove self loops\n",
    "edges = [(u, v) for (u, v) in edges if u != v]\n",
    "length(edges)"
   ]
  },
  {
   "cell_type": "code",
   "execution_count": 6,
   "metadata": {},
   "outputs": [
    {
     "data": {
      "text/plain": [
       "840799"
      ]
     },
     "metadata": {},
     "output_type": "display_data"
    }
   ],
   "source": [
    "# check if for repeated edges the sign is the same\n",
    "\n",
    "# get all edges\n",
    "edges_sign = [(df.source[i], df.target[i], df.sign[i]) for i in 1:size(df, 1)]\n",
    "\n",
    "# edges_sign = unique(edges_sign)\n",
    "\n",
    "# remove self loops\n",
    "edges_sign = [(u, v, s) for (u, v, s) in edges_sign if u != v]\n",
    "\n",
    "# get the number of unique edges\n",
    "length(edges_sign)"
   ]
  },
  {
   "cell_type": "markdown",
   "metadata": {},
   "source": [
    "We have some edges that change sign. Let's see if these edges form any triads"
   ]
  },
  {
   "cell_type": "code",
   "execution_count": 7,
   "metadata": {},
   "outputs": [
    {
     "data": {
      "text/plain": [
       "(840799, 841372)"
      ]
     },
     "metadata": {},
     "output_type": "display_data"
    }
   ],
   "source": [
    "nrow(filter(x -> x.source != x.target, df)), nrow(df)"
   ]
  },
  {
   "cell_type": "code",
   "execution_count": 30,
   "metadata": {},
   "outputs": [
    {
     "name": "stdout",
     "output_type": "stream",
     "text": [
      "131580"
     ]
    },
    {
     "data": {
      "text/plain": [
       "Dict{Int64, Vector{Int64}} with 95039 entries:\n",
       "  244336      => [244337]\n",
       "  484878      => [562040]\n",
       "  53990887300 => [330549]\n",
       "  718997      => [450647]\n",
       "  427681      => [426422, 429119]\n",
       "  35968356228 => [394444]\n",
       "  552449      => [532475]\n",
       "  308174      => [308175]\n",
       "  14502432644 => [12873338756]\n",
       "  19984650116 => [517636, 657993]\n",
       "  40101711748 => [469829]\n",
       "  442240      => [359990]\n",
       "  375504      => [254134, 221863, 229318]\n",
       "  390703      => [390704, 407541]\n",
       "  380458      => [421074, 308968]\n",
       "  519172      => [599981]\n",
       "  622587      => [635726, 210284]\n",
       "  17013510020 => [355176]\n",
       "  674175      => [422545]\n",
       "  ⋮           => ⋮"
      ]
     },
     "metadata": {},
     "output_type": "display_data"
    }
   ],
   "source": [
    "# get list of all nodes\n",
    "nodes = unique([[u for (u, v, s) in edges_sign]..., [v for (u, v, s) in edges_sign]...])\n",
    "\n",
    "print(length(nodes))\n",
    "\n",
    "# filter out self loops\n",
    "df_filtered = filter(x -> x.source != x.target, df)\n",
    "\n",
    "# get list of outgoing edges for each node by grouping by source\n",
    "node_outs_gbf = groupby(df_filtered, :source)\n",
    "\n",
    "# # filter out self loops\n",
    "# node_outs_gbf = filter(x -> x[1, :source] != x[1, :target], node_outs_gbf)\n",
    "\n",
    "# get list of outgoing edges for each node by collecting targets\n",
    "node_outs = combine(node_outs_gbf, x -> [x[!, :target]])\n",
    "rename!(node_outs, :x1 => :targets)\n",
    "\n",
    "# create a dictionary with the outgoing edges for each node\n",
    "node_outs_dict = Dict(zip(node_outs.source, unique.(node_outs.targets)))"
   ]
  },
  {
   "cell_type": "code",
   "execution_count": 9,
   "metadata": {},
   "outputs": [
    {
     "data": {
      "text/plain": [
       "(10961993, 10961993)"
      ]
     },
     "metadata": {},
     "output_type": "display_data"
    }
   ],
   "source": [
    "# get transitive triads\n",
    "\n",
    "triads = []\n",
    "for (source, targets) in node_outs_dict\n",
    "    for target in targets\n",
    "        if target in keys(node_outs_dict)\n",
    "            for target_target in node_outs_dict[target]\n",
    "                if target_target in targets\n",
    "                    append!(triads, [(source, target, target_target)])\n",
    "                end\n",
    "            end\n",
    "        end\n",
    "    end\n",
    "end\n",
    "length(triads), length(unique(triads))"
   ]
  },
  {
   "cell_type": "code",
   "execution_count": 8,
   "metadata": {},
   "outputs": [
    {
     "data": {
      "text/plain": [
       "(2355679, 2355679)"
      ]
     },
     "metadata": {},
     "output_type": "display_data"
    }
   ],
   "source": [
    "# get cyclic triads\n",
    "# thanks to sorting, each such triad will be counted only once\n",
    "\n",
    "source_nodes = sort(collect(keys(node_outs_dict)))\n",
    "\n",
    "cyclic_triads = []\n",
    "for source in source_nodes\n",
    "    targets = sort(node_outs_dict[source])\n",
    "    # filter out targets that have smaller id than source\n",
    "    targets = [target for target in targets if target > source]\n",
    "    for target in targets\n",
    "        if target in keys(node_outs_dict)\n",
    "            target_targets = sort(node_outs_dict[target])\n",
    "            # filter out target_targets that have smaller id than source\n",
    "            target_targets = [target_target for target_target in target_targets if target_target > source]\n",
    "            # I hope above is correct\n",
    "            # target_targets = node_outs_dict[target]\n",
    "            for target_target in target_targets\n",
    "                if target_target in keys(node_outs_dict)\n",
    "                    if source in node_outs_dict[target_target]\n",
    "                        append!(cyclic_triads, [(source, target, target_target)])\n",
    "                    end\n",
    "                end\n",
    "            end\n",
    "        end\n",
    "    end\n",
    "end\n",
    "length(cyclic_triads), length(unique(cyclic_triads))"
   ]
  },
  {
   "cell_type": "code",
   "execution_count": 20,
   "metadata": {},
   "outputs": [
    {
     "data": {
      "text/plain": [
       "(7666, 7691, 6946)"
      ]
     },
     "metadata": {},
     "output_type": "display_data"
    }
   ],
   "source": [
    "cyclic_triads[end]  "
   ]
  },
  {
   "cell_type": "code",
   "execution_count": 9,
   "metadata": {},
   "outputs": [
    {
     "data": {
      "text/plain": [
       "Tuple{Int64, Any}[]"
      ]
     },
     "metadata": {},
     "output_type": "display_data"
    }
   ],
   "source": [
    "node_outs_dict_repeated = Dict(zip(node_outs.source, node_outs.targets))\n",
    "\n",
    "# find edges that are repeated in node_outs_dict_repeated\n",
    "repeated_edges = unique([(source, target) for (source, targets) in node_outs_dict_repeated for target in targets if sum(target .== targets) > 1])"
   ]
  },
  {
   "cell_type": "code",
   "execution_count": 10,
   "metadata": {},
   "outputs": [],
   "source": [
    "df_triads = DataFrame(triads)\n",
    "rename!(df_triads, [:P, :O, :X]);\n",
    "\n",
    "po_edges = [(df_triads.P[i], df_triads.O[i]) for i in 1:size(df_triads, 1)]\n",
    "ox_edges = [(df_triads.O[i], df_triads.X[i]) for i in 1:size(df_triads, 1)]\n",
    "px_edges = [(df_triads.P[i], df_triads.X[i]) for i in 1:size(df_triads, 1)];"
   ]
  },
  {
   "cell_type": "code",
   "execution_count": 11,
   "metadata": {},
   "outputs": [],
   "source": [
    "df_cyclic_triads = DataFrame(cyclic_triads)\n",
    "rename!(df_cyclic_triads, [:P, :O, :X]);\n",
    "\n",
    "po_edges_cyclic = [(df_cyclic_triads.P[i], df_cyclic_triads.O[i]) for i in 1:size(df_cyclic_triads, 1)]\n",
    "ox_edges_cyclic = [(df_cyclic_triads.O[i], df_cyclic_triads.X[i]) for i in 1:size(df_cyclic_triads, 1)]\n",
    "xp_edges_cyclic = [(df_cyclic_triads.X[i], df_cyclic_triads.P[i]) for i in 1:size(df_cyclic_triads, 1)];\n"
   ]
  },
  {
   "cell_type": "code",
   "execution_count": 12,
   "metadata": {},
   "outputs": [
    {
     "data": {
      "text/plain": [
       "13317672"
      ]
     },
     "metadata": {},
     "output_type": "display_data"
    }
   ],
   "source": [
    "df_all_triads = DataFrame([triads..., cyclic_triads...])\n",
    "rename!(df_all_triads, [:P, :O, :X]);\n",
    "nrow(df_all_triads)\n",
    "# po_edges_all = [(df_all_triads.P[i], df_all_triads.O[i]) for i in 1:size(df_all_triads, 1)]"
   ]
  },
  {
   "cell_type": "code",
   "execution_count": 13,
   "metadata": {},
   "outputs": [
    {
     "data": {
      "text/plain": [
       "(0, 0)"
      ]
     },
     "metadata": {},
     "output_type": "display_data"
    }
   ],
   "source": [
    "# find number of triads containing repeated edges\n",
    "\n",
    "affected_triads = []\n",
    "for edge in repeated_edges\n",
    "    append!(affected_triads, findall([edge] .== po_edges))\n",
    "    # break\n",
    "end\n",
    "length(affected_triads), length(unique(affected_triads))"
   ]
  },
  {
   "cell_type": "code",
   "execution_count": 14,
   "metadata": {},
   "outputs": [],
   "source": [
    "using BenchmarkTools"
   ]
  },
  {
   "cell_type": "code",
   "execution_count": 15,
   "metadata": {},
   "outputs": [
    {
     "data": {
      "text/plain": [
       "BenchmarkTools.Trial: 5263 samples with 1 evaluation.\n",
       " Range \u001b[90m(\u001b[39m\u001b[36m\u001b[1mmin\u001b[22m\u001b[39m … \u001b[35mmax\u001b[39m\u001b[90m):  \u001b[39m\u001b[36m\u001b[1m726.676 μs\u001b[22m\u001b[39m … \u001b[35m 2.289 ms\u001b[39m  \u001b[90m┊\u001b[39m GC \u001b[90m(\u001b[39mmin … max\u001b[90m): \u001b[39m0.00% … 0.00%\n",
       " Time  \u001b[90m(\u001b[39m\u001b[34m\u001b[1mmedian\u001b[22m\u001b[39m\u001b[90m):     \u001b[39m\u001b[34m\u001b[1m912.546 μs              \u001b[22m\u001b[39m\u001b[90m┊\u001b[39m GC \u001b[90m(\u001b[39mmedian\u001b[90m):    \u001b[39m0.00%\n",
       " Time  \u001b[90m(\u001b[39m\u001b[32m\u001b[1mmean\u001b[22m\u001b[39m ± \u001b[32mσ\u001b[39m\u001b[90m):   \u001b[39m\u001b[32m\u001b[1m936.398 μs\u001b[22m\u001b[39m ± \u001b[32m84.168 μs\u001b[39m  \u001b[90m┊\u001b[39m GC \u001b[90m(\u001b[39mmean ± σ\u001b[90m):  \u001b[39m0.00% ± 0.00%\n",
       "\n",
       "  \u001b[39m \u001b[39m \u001b[39m \u001b[39m \u001b[39m \u001b[39m \u001b[39m \u001b[39m \u001b[39m \u001b[39m \u001b[39m \u001b[39m \u001b[39m \u001b[39m \u001b[39m \u001b[39m \u001b[39m \u001b[39m \u001b[39m▆\u001b[39m█\u001b[39m▇\u001b[39m▅\u001b[39m▂\u001b[34m▂\u001b[39m\u001b[39m \u001b[39m \u001b[32m \u001b[39m\u001b[39m \u001b[39m \u001b[39m \u001b[39m \u001b[39m \u001b[39m \u001b[39m \u001b[39m \u001b[39m \u001b[39m \u001b[39m \u001b[39m \u001b[39m \u001b[39m \u001b[39m \u001b[39m \u001b[39m \u001b[39m \u001b[39m \u001b[39m \u001b[39m \u001b[39m \u001b[39m \u001b[39m \u001b[39m \u001b[39m \u001b[39m \u001b[39m \u001b[39m \u001b[39m \u001b[39m \u001b[39m \u001b[39m \u001b[39m \u001b[39m \n",
       "  \u001b[39m▂\u001b[39m▁\u001b[39m▂\u001b[39m▂\u001b[39m▁\u001b[39m▂\u001b[39m▂\u001b[39m▁\u001b[39m▂\u001b[39m▂\u001b[39m▂\u001b[39m▂\u001b[39m▂\u001b[39m▂\u001b[39m▂\u001b[39m▃\u001b[39m▅\u001b[39m█\u001b[39m█\u001b[39m█\u001b[39m█\u001b[39m█\u001b[39m█\u001b[34m█\u001b[39m\u001b[39m█\u001b[39m▇\u001b[32m▇\u001b[39m\u001b[39m▇\u001b[39m▆\u001b[39m▆\u001b[39m▅\u001b[39m▅\u001b[39m▅\u001b[39m▅\u001b[39m▅\u001b[39m▄\u001b[39m▄\u001b[39m▄\u001b[39m▃\u001b[39m▃\u001b[39m▃\u001b[39m▃\u001b[39m▃\u001b[39m▂\u001b[39m▃\u001b[39m▂\u001b[39m▂\u001b[39m▂\u001b[39m▂\u001b[39m▂\u001b[39m▂\u001b[39m▂\u001b[39m▂\u001b[39m▂\u001b[39m▂\u001b[39m▂\u001b[39m▂\u001b[39m▂\u001b[39m▂\u001b[39m▂\u001b[39m \u001b[39m▃\n",
       "  727 μs\u001b[90m          Histogram: frequency by time\u001b[39m         1.22 ms \u001b[0m\u001b[1m<\u001b[22m\n",
       "\n",
       " Memory estimate\u001b[90m: \u001b[39m\u001b[33m107.08 KiB\u001b[39m, allocs estimate\u001b[90m: \u001b[39m\u001b[33m7\u001b[39m."
      ]
     },
     "metadata": {},
     "output_type": "display_data"
    }
   ],
   "source": [
    "edge = po_edges[1]\n",
    "@benchmark findlast([edge] .== edges)"
   ]
  },
  {
   "cell_type": "code",
   "execution_count": 16,
   "metadata": {},
   "outputs": [
    {
     "data": {
      "text/plain": [
       "BenchmarkTools.Trial: 446 samples with 1 evaluation.\n",
       " Range \u001b[90m(\u001b[39m\u001b[36m\u001b[1mmin\u001b[22m\u001b[39m … \u001b[35mmax\u001b[39m\u001b[90m):  \u001b[39m\u001b[36m\u001b[1m 9.812 ms\u001b[22m\u001b[39m … \u001b[35m 13.132 ms\u001b[39m  \u001b[90m┊\u001b[39m GC \u001b[90m(\u001b[39mmin … max\u001b[90m): \u001b[39m0.00% … 0.00%\n",
       " Time  \u001b[90m(\u001b[39m\u001b[34m\u001b[1mmedian\u001b[22m\u001b[39m\u001b[90m):     \u001b[39m\u001b[34m\u001b[1m11.136 ms               \u001b[22m\u001b[39m\u001b[90m┊\u001b[39m GC \u001b[90m(\u001b[39mmedian\u001b[90m):    \u001b[39m0.00%\n",
       " Time  \u001b[90m(\u001b[39m\u001b[32m\u001b[1mmean\u001b[22m\u001b[39m ± \u001b[32mσ\u001b[39m\u001b[90m):   \u001b[39m\u001b[32m\u001b[1m11.200 ms\u001b[22m\u001b[39m ± \u001b[32m678.708 μs\u001b[39m  \u001b[90m┊\u001b[39m GC \u001b[90m(\u001b[39mmean ± σ\u001b[90m):  \u001b[39m0.00% ± 0.00%\n",
       "\n",
       "  \u001b[39m \u001b[39m \u001b[39m \u001b[39m \u001b[39m \u001b[39m \u001b[39m \u001b[39m \u001b[39m \u001b[39m \u001b[39m \u001b[39m▃\u001b[39m \u001b[39m \u001b[39m \u001b[39m \u001b[39m \u001b[39m \u001b[39m \u001b[39m \u001b[39m▃\u001b[39m \u001b[39m▄\u001b[39m▇\u001b[39m \u001b[39m▂\u001b[39m \u001b[39m█\u001b[34m▄\u001b[39m\u001b[39m▆\u001b[32m▇\u001b[39m\u001b[39m▇\u001b[39m \u001b[39m \u001b[39m▂\u001b[39m \u001b[39m \u001b[39m \u001b[39m \u001b[39m \u001b[39m \u001b[39m \u001b[39m \u001b[39m \u001b[39m \u001b[39m \u001b[39m \u001b[39m \u001b[39m \u001b[39m \u001b[39m▅\u001b[39m \u001b[39m \u001b[39m \u001b[39m \u001b[39m \u001b[39m \u001b[39m \u001b[39m \u001b[39m \u001b[39m \u001b[39m \n",
       "  \u001b[39m▅\u001b[39m▂\u001b[39m▂\u001b[39m▂\u001b[39m▂\u001b[39m▂\u001b[39m▅\u001b[39m▂\u001b[39m▇\u001b[39m▆\u001b[39m▇\u001b[39m█\u001b[39m▇\u001b[39m█\u001b[39m▅\u001b[39m▇\u001b[39m▅\u001b[39m▄\u001b[39m▃\u001b[39m▇\u001b[39m█\u001b[39m▆\u001b[39m█\u001b[39m█\u001b[39m█\u001b[39m█\u001b[39m▇\u001b[39m█\u001b[34m█\u001b[39m\u001b[39m█\u001b[32m█\u001b[39m\u001b[39m█\u001b[39m█\u001b[39m▂\u001b[39m█\u001b[39m▃\u001b[39m▃\u001b[39m█\u001b[39m▃\u001b[39m▃\u001b[39m▂\u001b[39m▃\u001b[39m▂\u001b[39m▂\u001b[39m▅\u001b[39m▅\u001b[39m▆\u001b[39m▇\u001b[39m▆\u001b[39m▅\u001b[39m█\u001b[39m▆\u001b[39m▇\u001b[39m▇\u001b[39m▃\u001b[39m▅\u001b[39m▂\u001b[39m▂\u001b[39m▂\u001b[39m▂\u001b[39m \u001b[39m▄\n",
       "  9.81 ms\u001b[90m         Histogram: frequency by time\u001b[39m         12.6 ms \u001b[0m\u001b[1m<\u001b[22m\n",
       "\n",
       " Memory estimate\u001b[90m: \u001b[39m\u001b[33m1.31 MiB\u001b[39m, allocs estimate\u001b[90m: \u001b[39m\u001b[33m7\u001b[39m."
      ]
     },
     "metadata": {},
     "output_type": "display_data"
    }
   ],
   "source": [
    "@benchmark findall([edge] .== po_edges)"
   ]
  },
  {
   "cell_type": "code",
   "execution_count": 22,
   "metadata": {},
   "outputs": [
    {
     "data": {
      "text/plain": [
       "1"
      ]
     },
     "metadata": {},
     "output_type": "display_data"
    }
   ],
   "source": [
    "edges_sign[findlast([edge] .== edges)][3]"
   ]
  },
  {
   "cell_type": "code",
   "execution_count": 23,
   "metadata": {},
   "outputs": [
    {
     "data": {
      "text/html": [
       "<div><div style = \"float: left;\"><span>5×6 DataFrame</span></div><div style = \"clear: both;\"></div></div><div class = \"data-frame\" style = \"overflow-x: scroll;\"><table class = \"data-frame\" style = \"margin-bottom: 6px;\"><thead><tr class = \"header\"><th class = \"rowNumber\" style = \"font-weight: bold; text-align: right;\">Row</th><th style = \"text-align: left;\">P</th><th style = \"text-align: left;\">O</th><th style = \"text-align: left;\">X</th><th style = \"text-align: left;\">po_sign</th><th style = \"text-align: left;\">ox_sign</th><th style = \"text-align: left;\">px_sign</th></tr><tr class = \"subheader headerLastRow\"><th class = \"rowNumber\" style = \"font-weight: bold; text-align: right;\"></th><th title = \"Int64\" style = \"text-align: left;\">Int64</th><th title = \"Int64\" style = \"text-align: left;\">Int64</th><th title = \"Int64\" style = \"text-align: left;\">Int64</th><th title = \"Int64\" style = \"text-align: left;\">Int64</th><th title = \"Int64\" style = \"text-align: left;\">Int64</th><th title = \"Int64\" style = \"text-align: left;\">Int64</th></tr></thead><tbody><tr><td class = \"rowNumber\" style = \"font-weight: bold; text-align: right;\">1</td><td style = \"text-align: right;\">427681</td><td style = \"text-align: right;\">426422</td><td style = \"text-align: right;\">429119</td><td style = \"text-align: right;\">1</td><td style = \"text-align: right;\">1</td><td style = \"text-align: right;\">1</td></tr><tr><td class = \"rowNumber\" style = \"font-weight: bold; text-align: right;\">2</td><td style = \"text-align: right;\">427681</td><td style = \"text-align: right;\">429119</td><td style = \"text-align: right;\">426422</td><td style = \"text-align: right;\">1</td><td style = \"text-align: right;\">1</td><td style = \"text-align: right;\">1</td></tr><tr><td class = \"rowNumber\" style = \"font-weight: bold; text-align: right;\">3</td><td style = \"text-align: right;\">390703</td><td style = \"text-align: right;\">390704</td><td style = \"text-align: right;\">407541</td><td style = \"text-align: right;\">1</td><td style = \"text-align: right;\">1</td><td style = \"text-align: right;\">1</td></tr><tr><td class = \"rowNumber\" style = \"font-weight: bold; text-align: right;\">4</td><td style = \"text-align: right;\">390703</td><td style = \"text-align: right;\">407541</td><td style = \"text-align: right;\">390704</td><td style = \"text-align: right;\">1</td><td style = \"text-align: right;\">1</td><td style = \"text-align: right;\">1</td></tr><tr><td class = \"rowNumber\" style = \"font-weight: bold; text-align: right;\">5</td><td style = \"text-align: right;\">564810</td><td style = \"text-align: right;\">565868</td><td style = \"text-align: right;\">319000</td><td style = \"text-align: right;\">1</td><td style = \"text-align: right;\">1</td><td style = \"text-align: right;\">1</td></tr></tbody></table></div>"
      ],
      "text/latex": [
       "\\begin{tabular}{r|cccccc}\n",
       "\t& P & O & X & po\\_sign & ox\\_sign & px\\_sign\\\\\n",
       "\t\\hline\n",
       "\t& Int64 & Int64 & Int64 & Int64 & Int64 & Int64\\\\\n",
       "\t\\hline\n",
       "\t1 & 427681 & 426422 & 429119 & 1 & 1 & 1 \\\\\n",
       "\t2 & 427681 & 429119 & 426422 & 1 & 1 & 1 \\\\\n",
       "\t3 & 390703 & 390704 & 407541 & 1 & 1 & 1 \\\\\n",
       "\t4 & 390703 & 407541 & 390704 & 1 & 1 & 1 \\\\\n",
       "\t5 & 564810 & 565868 & 319000 & 1 & 1 & 1 \\\\\n",
       "\\end{tabular}\n"
      ],
      "text/plain": [
       "\u001b[1m5×6 DataFrame\u001b[0m\n",
       "\u001b[1m Row \u001b[0m│\u001b[1m P      \u001b[0m\u001b[1m O      \u001b[0m\u001b[1m X      \u001b[0m\u001b[1m po_sign \u001b[0m\u001b[1m ox_sign \u001b[0m\u001b[1m px_sign \u001b[0m\n",
       "     │\u001b[90m Int64  \u001b[0m\u001b[90m Int64  \u001b[0m\u001b[90m Int64  \u001b[0m\u001b[90m Int64   \u001b[0m\u001b[90m Int64   \u001b[0m\u001b[90m Int64   \u001b[0m\n",
       "─────┼───────────────────────────────────────────────────\n",
       "   1 │ 427681  426422  429119        1        1        1\n",
       "   2 │ 427681  429119  426422        1        1        1\n",
       "   3 │ 390703  390704  407541        1        1        1\n",
       "   4 │ 390703  407541  390704        1        1        1\n",
       "   5 │ 564810  565868  319000        1        1        1"
      ]
     },
     "metadata": {},
     "output_type": "display_data"
    }
   ],
   "source": [
    "# get sign of edges in triads. Take the last value of edge\n",
    "\n",
    "df_triads[!, \"po_sign\"] = [edges_sign[findlast([edge] .== edges)][3] for edge in po_edges]\n",
    "df_triads[!, \"ox_sign\"] = [edges_sign[findlast([edge] .== edges)][3] for edge in ox_edges]\n",
    "df_triads[!, \"px_sign\"] = [edges_sign[findlast([edge] .== edges)][3] for edge in px_edges]\n",
    "first(df_triads, 5)"
   ]
  },
  {
   "cell_type": "code",
   "execution_count": 15,
   "metadata": {},
   "outputs": [
    {
     "data": {
      "text/html": [
       "<div><div style = \"float: left;\"><span>5×6 DataFrame</span></div><div style = \"clear: both;\"></div></div><div class = \"data-frame\" style = \"overflow-x: scroll;\"><table class = \"data-frame\" style = \"margin-bottom: 6px;\"><thead><tr class = \"header\"><th class = \"rowNumber\" style = \"font-weight: bold; text-align: right;\">Row</th><th style = \"text-align: left;\">P</th><th style = \"text-align: left;\">O</th><th style = \"text-align: left;\">X</th><th style = \"text-align: left;\">po_sign</th><th style = \"text-align: left;\">ox_sign</th><th style = \"text-align: left;\">xp_sign</th></tr><tr class = \"subheader headerLastRow\"><th class = \"rowNumber\" style = \"font-weight: bold; text-align: right;\"></th><th title = \"Int64\" style = \"text-align: left;\">Int64</th><th title = \"Int64\" style = \"text-align: left;\">Int64</th><th title = \"Int64\" style = \"text-align: left;\">Int64</th><th title = \"Int64\" style = \"text-align: left;\">Int64</th><th title = \"Int64\" style = \"text-align: left;\">Int64</th><th title = \"Int64\" style = \"text-align: left;\">Int64</th></tr></thead><tbody><tr><td class = \"rowNumber\" style = \"font-weight: bold; text-align: right;\">1</td><td style = \"text-align: right;\">199781</td><td style = \"text-align: right;\">205491</td><td style = \"text-align: right;\">222004</td><td style = \"text-align: right;\">1</td><td style = \"text-align: right;\">1</td><td style = \"text-align: right;\">-1</td></tr><tr><td class = \"rowNumber\" style = \"font-weight: bold; text-align: right;\">2</td><td style = \"text-align: right;\">199781</td><td style = \"text-align: right;\">205491</td><td style = \"text-align: right;\">238184</td><td style = \"text-align: right;\">1</td><td style = \"text-align: right;\">1</td><td style = \"text-align: right;\">1</td></tr><tr><td class = \"rowNumber\" style = \"font-weight: bold; text-align: right;\">3</td><td style = \"text-align: right;\">199781</td><td style = \"text-align: right;\">205491</td><td style = \"text-align: right;\">301950</td><td style = \"text-align: right;\">1</td><td style = \"text-align: right;\">1</td><td style = \"text-align: right;\">1</td></tr><tr><td class = \"rowNumber\" style = \"font-weight: bold; text-align: right;\">4</td><td style = \"text-align: right;\">199781</td><td style = \"text-align: right;\">206437</td><td style = \"text-align: right;\">301950</td><td style = \"text-align: right;\">1</td><td style = \"text-align: right;\">1</td><td style = \"text-align: right;\">1</td></tr><tr><td class = \"rowNumber\" style = \"font-weight: bold; text-align: right;\">5</td><td style = \"text-align: right;\">199781</td><td style = \"text-align: right;\">210284</td><td style = \"text-align: right;\">342046</td><td style = \"text-align: right;\">-1</td><td style = \"text-align: right;\">-1</td><td style = \"text-align: right;\">1</td></tr></tbody></table></div>"
      ],
      "text/latex": [
       "\\begin{tabular}{r|cccccc}\n",
       "\t& P & O & X & po\\_sign & ox\\_sign & xp\\_sign\\\\\n",
       "\t\\hline\n",
       "\t& Int64 & Int64 & Int64 & Int64 & Int64 & Int64\\\\\n",
       "\t\\hline\n",
       "\t1 & 199781 & 205491 & 222004 & 1 & 1 & -1 \\\\\n",
       "\t2 & 199781 & 205491 & 238184 & 1 & 1 & 1 \\\\\n",
       "\t3 & 199781 & 205491 & 301950 & 1 & 1 & 1 \\\\\n",
       "\t4 & 199781 & 206437 & 301950 & 1 & 1 & 1 \\\\\n",
       "\t5 & 199781 & 210284 & 342046 & -1 & -1 & 1 \\\\\n",
       "\\end{tabular}\n"
      ],
      "text/plain": [
       "\u001b[1m5×6 DataFrame\u001b[0m\n",
       "\u001b[1m Row \u001b[0m│\u001b[1m P      \u001b[0m\u001b[1m O      \u001b[0m\u001b[1m X      \u001b[0m\u001b[1m po_sign \u001b[0m\u001b[1m ox_sign \u001b[0m\u001b[1m xp_sign \u001b[0m\n",
       "     │\u001b[90m Int64  \u001b[0m\u001b[90m Int64  \u001b[0m\u001b[90m Int64  \u001b[0m\u001b[90m Int64   \u001b[0m\u001b[90m Int64   \u001b[0m\u001b[90m Int64   \u001b[0m\n",
       "─────┼───────────────────────────────────────────────────\n",
       "   1 │ 199781  205491  222004        1        1       -1\n",
       "   2 │ 199781  205491  238184        1        1        1\n",
       "   3 │ 199781  205491  301950        1        1        1\n",
       "   4 │ 199781  206437  301950        1        1        1\n",
       "   5 │ 199781  210284  342046       -1       -1        1"
      ]
     },
     "metadata": {},
     "output_type": "display_data"
    }
   ],
   "source": [
    "# get sign of edges in cyclic triads. Take the last value of edge\n",
    "\n",
    "df_cyclic_triads[!, \"po_sign\"] = [edges_sign[findall([edge] .== edges)][end][3] for edge in po_edges_cyclic]\n",
    "df_cyclic_triads[!, \"ox_sign\"] = [edges_sign[findall([edge] .== edges)][end][3] for edge in ox_edges_cyclic]\n",
    "df_cyclic_triads[!, \"xp_sign\"] = [edges_sign[findall([edge] .== edges)][end][3] for edge in xp_edges_cyclic]\n",
    "first(df_cyclic_triads, 5)"
   ]
  },
  {
   "cell_type": "code",
   "execution_count": 16,
   "metadata": {},
   "outputs": [
    {
     "data": {
      "text/html": [
       "<div><div style = \"float: left;\"><span>5×6 DataFrame</span></div><div style = \"clear: both;\"></div></div><div class = \"data-frame\" style = \"overflow-x: scroll;\"><table class = \"data-frame\" style = \"margin-bottom: 6px;\"><thead><tr class = \"header\"><th class = \"rowNumber\" style = \"font-weight: bold; text-align: right;\">Row</th><th style = \"text-align: left;\">P</th><th style = \"text-align: left;\">O</th><th style = \"text-align: left;\">X</th><th style = \"text-align: left;\">po_sign</th><th style = \"text-align: left;\">ox_sign</th><th style = \"text-align: left;\">xpx_sign</th></tr><tr class = \"subheader headerLastRow\"><th class = \"rowNumber\" style = \"font-weight: bold; text-align: right;\"></th><th title = \"Int64\" style = \"text-align: left;\">Int64</th><th title = \"Int64\" style = \"text-align: left;\">Int64</th><th title = \"Int64\" style = \"text-align: left;\">Int64</th><th title = \"Int64\" style = \"text-align: left;\">Int64</th><th title = \"Int64\" style = \"text-align: left;\">Int64</th><th title = \"Int64\" style = \"text-align: left;\">Int64</th></tr></thead><tbody><tr><td class = \"rowNumber\" style = \"font-weight: bold; text-align: right;\">1</td><td style = \"text-align: right;\">427681</td><td style = \"text-align: right;\">426422</td><td style = \"text-align: right;\">429119</td><td style = \"text-align: right;\">1</td><td style = \"text-align: right;\">1</td><td style = \"text-align: right;\">1</td></tr><tr><td class = \"rowNumber\" style = \"font-weight: bold; text-align: right;\">2</td><td style = \"text-align: right;\">427681</td><td style = \"text-align: right;\">429119</td><td style = \"text-align: right;\">426422</td><td style = \"text-align: right;\">1</td><td style = \"text-align: right;\">1</td><td style = \"text-align: right;\">1</td></tr><tr><td class = \"rowNumber\" style = \"font-weight: bold; text-align: right;\">3</td><td style = \"text-align: right;\">390703</td><td style = \"text-align: right;\">390704</td><td style = \"text-align: right;\">407541</td><td style = \"text-align: right;\">1</td><td style = \"text-align: right;\">1</td><td style = \"text-align: right;\">1</td></tr><tr><td class = \"rowNumber\" style = \"font-weight: bold; text-align: right;\">4</td><td style = \"text-align: right;\">390703</td><td style = \"text-align: right;\">407541</td><td style = \"text-align: right;\">390704</td><td style = \"text-align: right;\">1</td><td style = \"text-align: right;\">1</td><td style = \"text-align: right;\">1</td></tr><tr><td class = \"rowNumber\" style = \"font-weight: bold; text-align: right;\">5</td><td style = \"text-align: right;\">564810</td><td style = \"text-align: right;\">565868</td><td style = \"text-align: right;\">319000</td><td style = \"text-align: right;\">1</td><td style = \"text-align: right;\">1</td><td style = \"text-align: right;\">1</td></tr></tbody></table></div>"
      ],
      "text/latex": [
       "\\begin{tabular}{r|cccccc}\n",
       "\t& P & O & X & po\\_sign & ox\\_sign & xpx\\_sign\\\\\n",
       "\t\\hline\n",
       "\t& Int64 & Int64 & Int64 & Int64 & Int64 & Int64\\\\\n",
       "\t\\hline\n",
       "\t1 & 427681 & 426422 & 429119 & 1 & 1 & 1 \\\\\n",
       "\t2 & 427681 & 429119 & 426422 & 1 & 1 & 1 \\\\\n",
       "\t3 & 390703 & 390704 & 407541 & 1 & 1 & 1 \\\\\n",
       "\t4 & 390703 & 407541 & 390704 & 1 & 1 & 1 \\\\\n",
       "\t5 & 564810 & 565868 & 319000 & 1 & 1 & 1 \\\\\n",
       "\\end{tabular}\n"
      ],
      "text/plain": [
       "\u001b[1m5×6 DataFrame\u001b[0m\n",
       "\u001b[1m Row \u001b[0m│\u001b[1m P      \u001b[0m\u001b[1m O      \u001b[0m\u001b[1m X      \u001b[0m\u001b[1m po_sign \u001b[0m\u001b[1m ox_sign \u001b[0m\u001b[1m xpx_sign \u001b[0m\n",
       "     │\u001b[90m Int64  \u001b[0m\u001b[90m Int64  \u001b[0m\u001b[90m Int64  \u001b[0m\u001b[90m Int64   \u001b[0m\u001b[90m Int64   \u001b[0m\u001b[90m Int64    \u001b[0m\n",
       "─────┼────────────────────────────────────────────────────\n",
       "   1 │ 427681  426422  429119        1        1         1\n",
       "   2 │ 427681  429119  426422        1        1         1\n",
       "   3 │ 390703  390704  407541        1        1         1\n",
       "   4 │ 390703  407541  390704        1        1         1\n",
       "   5 │ 564810  565868  319000        1        1         1"
      ]
     },
     "metadata": {},
     "output_type": "display_data"
    }
   ],
   "source": [
    "# get sign of edges in all triads. Take the last value of edge\n",
    "\n",
    "df_all_triads[!, \"po_sign\"] = [df_triads[!, \"po_sign\"]..., df_cyclic_triads[!, \"po_sign\"]...]\n",
    "df_all_triads[!, \"ox_sign\"] = [df_triads[!, \"ox_sign\"]..., df_cyclic_triads[!, \"ox_sign\"]...]\n",
    "df_all_triads[!, \"xpx_sign\"] = [df_triads[!, \"px_sign\"]..., df_cyclic_triads[!, \"xp_sign\"]...]\n",
    "\n",
    "first(df_all_triads, 5)"
   ]
  },
  {
   "cell_type": "code",
   "execution_count": 24,
   "metadata": {},
   "outputs": [
    {
     "data": {
      "text/plain": [
       "\"../../../data/epinions/epinions-triads.csv\""
      ]
     },
     "metadata": {},
     "output_type": "display_data"
    }
   ],
   "source": [
    "# save df_triads\n",
    "CSV.write(joinpath(path, \"epinions-triads.csv\"), df_triads)"
   ]
  },
  {
   "cell_type": "code",
   "execution_count": 17,
   "metadata": {},
   "outputs": [
    {
     "data": {
      "text/plain": [
       "\"../../../data/epinions/epinions-cyclic-triads.csv\""
      ]
     },
     "metadata": {},
     "output_type": "display_data"
    }
   ],
   "source": [
    "# save df_cyclic_triads\n",
    "CSV.write(joinpath(path, \"epinions-cyclic-triads.csv\"), df_cyclic_triads)"
   ]
  },
  {
   "cell_type": "code",
   "execution_count": 18,
   "metadata": {},
   "outputs": [
    {
     "data": {
      "text/plain": [
       "\"../../../data/epinions/epinions-all-triads.csv\""
      ]
     },
     "metadata": {},
     "output_type": "display_data"
    }
   ],
   "source": [
    "# save df_all_triads\n",
    "CSV.write(joinpath(path, \"epinions-all-triads.csv\"), df_all_triads)"
   ]
  },
  {
   "cell_type": "code",
   "execution_count": 3,
   "metadata": {},
   "outputs": [
    {
     "ename": "ArgumentError",
     "evalue": "ArgumentError: \"../../../data/epinions/epinions-triads.csv\" is not a valid file or doesn't exist",
     "output_type": "error",
     "traceback": [
      "ArgumentError: \"../../../data/epinions/epinions-triads.csv\" is not a valid file or doesn't exist\n",
      "\n",
      "Stacktrace:\n",
      " [1] CSV.Context(source::CSV.Arg, header::CSV.Arg, normalizenames::CSV.Arg, datarow::CSV.Arg, skipto::CSV.Arg, footerskip::CSV.Arg, transpose::CSV.Arg, comment::CSV.Arg, ignoreemptyrows::CSV.Arg, ignoreemptylines::CSV.Arg, select::CSV.Arg, drop::CSV.Arg, limit::CSV.Arg, buffer_in_memory::CSV.Arg, threaded::CSV.Arg, ntasks::CSV.Arg, tasks::CSV.Arg, rows_to_check::CSV.Arg, lines_to_check::CSV.Arg, missingstrings::CSV.Arg, missingstring::CSV.Arg, delim::CSV.Arg, ignorerepeated::CSV.Arg, quoted::CSV.Arg, quotechar::CSV.Arg, openquotechar::CSV.Arg, closequotechar::CSV.Arg, escapechar::CSV.Arg, dateformat::CSV.Arg, dateformats::CSV.Arg, decimal::CSV.Arg, groupmark::CSV.Arg, truestrings::CSV.Arg, falsestrings::CSV.Arg, stripwhitespace::CSV.Arg, type::CSV.Arg, types::CSV.Arg, typemap::CSV.Arg, pool::CSV.Arg, downcast::CSV.Arg, lazystrings::CSV.Arg, stringtype::CSV.Arg, strict::CSV.Arg, silencewarnings::CSV.Arg, maxwarnings::CSV.Arg, debug::CSV.Arg, parsingdebug::CSV.Arg, validate::CSV.Arg, streaming::CSV.Arg)\n",
      "   @ CSV ~/.julia/packages/CSV/XLcqT/src/context.jl:314\n",
      " [2] #File#32\n",
      "   @ ~/.julia/packages/CSV/XLcqT/src/file.jl:222 [inlined]\n",
      " [3] CSV.File(source::String)\n",
      "   @ CSV ~/.julia/packages/CSV/XLcqT/src/file.jl:162\n",
      " [4] read(source::String, sink::Type; copycols::Bool, kwargs::@Kwargs{})\n",
      "   @ CSV ~/.julia/packages/CSV/XLcqT/src/CSV.jl:117\n",
      " [5] read(source::String, sink::Type)\n",
      "   @ CSV ~/.julia/packages/CSV/XLcqT/src/CSV.jl:113\n",
      " [6] top-level scope\n",
      "   @ ~/Desktop/programming/data-analysis/epinions/jl_notebook_cell_df34fa98e69747e1a8f8a730347b8e2f_X30sZmlsZQ==.jl:1"
     ]
    }
   ],
   "source": [
    "df_triads = CSV.read(joinpath(path, \"epinions-triads.csv\"), DataFrame)\n",
    "\n",
    "triads = [(df_triads.P[i], df_triads.O[i], df_triads.X[i]) for i in 1:size(df_triads, 1)]"
   ]
  },
  {
   "cell_type": "code",
   "execution_count": 4,
   "metadata": {},
   "outputs": [
    {
     "data": {
      "text/plain": [
       "2355679-element Vector{Tuple{Int64, Int64, Int64}}:\n",
       " (199781, 205491, 222004)\n",
       " (199781, 205491, 238184)\n",
       " (199781, 205491, 301950)\n",
       " (199781, 206437, 301950)\n",
       " (199781, 210284, 342046)\n",
       " (199781, 215415, 238184)\n",
       " (199781, 216430, 235645)\n",
       " (199781, 216430, 239694)\n",
       " (199781, 216430, 241578)\n",
       " (199781, 216430, 342046)\n",
       " ⋮\n",
       " (71446925188, 79903166340, 81057648516)\n",
       " (71543787396, 71547195268, 71546933124)\n",
       " (76839882628, 77010800516, 76850368388)\n",
       " (77582012292, 79489109892, 80065564548)\n",
       " (77582012292, 80065564548, 79489109892)\n",
       " (77582012292, 80488009604, 77939838852)\n",
       " (78012845956, 80488009604, 81057648516)\n",
       " (82153148292, 82222485380, 82519232388)\n",
       " (82153148292, 82519232388, 82222485380)"
      ]
     },
     "metadata": {},
     "output_type": "display_data"
    }
   ],
   "source": [
    "df_cyclic_triads = CSV.read(joinpath(path, \"epinions-cyclic-triads.csv\"), DataFrame)\n",
    "\n",
    "cyclic_triads = [(df_cyclic_triads.P[i], df_cyclic_triads.O[i], df_cyclic_triads.X[i]) for i in 1:size(df_cyclic_triads, 1)]"
   ]
  },
  {
   "cell_type": "code",
   "execution_count": 25,
   "metadata": {},
   "outputs": [
    {
     "data": {
      "text/html": [
       "<div><div style = \"float: left;\"><span>13317672×6 DataFrame</span></div><div style = \"float: right;\"><span style = \"font-style: italic;\">13317647 rows omitted</span></div><div style = \"clear: both;\"></div></div><div class = \"data-frame\" style = \"overflow-x: scroll;\"><table class = \"data-frame\" style = \"margin-bottom: 6px;\"><thead><tr class = \"header\"><th class = \"rowNumber\" style = \"font-weight: bold; text-align: right;\">Row</th><th style = \"text-align: left;\">P</th><th style = \"text-align: left;\">O</th><th style = \"text-align: left;\">X</th><th style = \"text-align: left;\">po_sign</th><th style = \"text-align: left;\">ox_sign</th><th style = \"text-align: left;\">xpx_sign</th></tr><tr class = \"subheader headerLastRow\"><th class = \"rowNumber\" style = \"font-weight: bold; text-align: right;\"></th><th title = \"Int64\" style = \"text-align: left;\">Int64</th><th title = \"Int64\" style = \"text-align: left;\">Int64</th><th title = \"Int64\" style = \"text-align: left;\">Int64</th><th title = \"Int64\" style = \"text-align: left;\">Int64</th><th title = \"Int64\" style = \"text-align: left;\">Int64</th><th title = \"Int64\" style = \"text-align: left;\">Int64</th></tr></thead><tbody><tr><td class = \"rowNumber\" style = \"font-weight: bold; text-align: right;\">1</td><td style = \"text-align: right;\">427681</td><td style = \"text-align: right;\">426422</td><td style = \"text-align: right;\">429119</td><td style = \"text-align: right;\">1</td><td style = \"text-align: right;\">1</td><td style = \"text-align: right;\">1</td></tr><tr><td class = \"rowNumber\" style = \"font-weight: bold; text-align: right;\">2</td><td style = \"text-align: right;\">427681</td><td style = \"text-align: right;\">429119</td><td style = \"text-align: right;\">426422</td><td style = \"text-align: right;\">1</td><td style = \"text-align: right;\">1</td><td style = \"text-align: right;\">1</td></tr><tr><td class = \"rowNumber\" style = \"font-weight: bold; text-align: right;\">3</td><td style = \"text-align: right;\">390703</td><td style = \"text-align: right;\">390704</td><td style = \"text-align: right;\">407541</td><td style = \"text-align: right;\">1</td><td style = \"text-align: right;\">1</td><td style = \"text-align: right;\">1</td></tr><tr><td class = \"rowNumber\" style = \"font-weight: bold; text-align: right;\">4</td><td style = \"text-align: right;\">390703</td><td style = \"text-align: right;\">407541</td><td style = \"text-align: right;\">390704</td><td style = \"text-align: right;\">1</td><td style = \"text-align: right;\">1</td><td style = \"text-align: right;\">1</td></tr><tr><td class = \"rowNumber\" style = \"font-weight: bold; text-align: right;\">5</td><td style = \"text-align: right;\">564810</td><td style = \"text-align: right;\">565868</td><td style = \"text-align: right;\">319000</td><td style = \"text-align: right;\">1</td><td style = \"text-align: right;\">1</td><td style = \"text-align: right;\">1</td></tr><tr><td class = \"rowNumber\" style = \"font-weight: bold; text-align: right;\">6</td><td style = \"text-align: right;\">564810</td><td style = \"text-align: right;\">319000</td><td style = \"text-align: right;\">565868</td><td style = \"text-align: right;\">1</td><td style = \"text-align: right;\">1</td><td style = \"text-align: right;\">1</td></tr><tr><td class = \"rowNumber\" style = \"font-weight: bold; text-align: right;\">7</td><td style = \"text-align: right;\">355643</td><td style = \"text-align: right;\">462288</td><td style = \"text-align: right;\">502726</td><td style = \"text-align: right;\">1</td><td style = \"text-align: right;\">1</td><td style = \"text-align: right;\">1</td></tr><tr><td class = \"rowNumber\" style = \"font-weight: bold; text-align: right;\">8</td><td style = \"text-align: right;\">355643</td><td style = \"text-align: right;\">568813</td><td style = \"text-align: right;\">502726</td><td style = \"text-align: right;\">1</td><td style = \"text-align: right;\">1</td><td style = \"text-align: right;\">1</td></tr><tr><td class = \"rowNumber\" style = \"font-weight: bold; text-align: right;\">9</td><td style = \"text-align: right;\">355643</td><td style = \"text-align: right;\">568813</td><td style = \"text-align: right;\">535161</td><td style = \"text-align: right;\">1</td><td style = \"text-align: right;\">1</td><td style = \"text-align: right;\">1</td></tr><tr><td class = \"rowNumber\" style = \"font-weight: bold; text-align: right;\">10</td><td style = \"text-align: right;\">355643</td><td style = \"text-align: right;\">568813</td><td style = \"text-align: right;\">535160</td><td style = \"text-align: right;\">1</td><td style = \"text-align: right;\">1</td><td style = \"text-align: right;\">1</td></tr><tr><td class = \"rowNumber\" style = \"font-weight: bold; text-align: right;\">11</td><td style = \"text-align: right;\">355643</td><td style = \"text-align: right;\">568813</td><td style = \"text-align: right;\">490981</td><td style = \"text-align: right;\">1</td><td style = \"text-align: right;\">1</td><td style = \"text-align: right;\">1</td></tr><tr><td class = \"rowNumber\" style = \"font-weight: bold; text-align: right;\">12</td><td style = \"text-align: right;\">355643</td><td style = \"text-align: right;\">568813</td><td style = \"text-align: right;\">636621</td><td style = \"text-align: right;\">1</td><td style = \"text-align: right;\">1</td><td style = \"text-align: right;\">1</td></tr><tr><td class = \"rowNumber\" style = \"font-weight: bold; text-align: right;\">13</td><td style = \"text-align: right;\">355643</td><td style = \"text-align: right;\">568813</td><td style = \"text-align: right;\">542386</td><td style = \"text-align: right;\">1</td><td style = \"text-align: right;\">1</td><td style = \"text-align: right;\">1</td></tr><tr><td style = \"text-align: right;\">&vellip;</td><td style = \"text-align: right;\">&vellip;</td><td style = \"text-align: right;\">&vellip;</td><td style = \"text-align: right;\">&vellip;</td><td style = \"text-align: right;\">&vellip;</td><td style = \"text-align: right;\">&vellip;</td><td style = \"text-align: right;\">&vellip;</td></tr><tr><td class = \"rowNumber\" style = \"font-weight: bold; text-align: right;\">13317661</td><td style = \"text-align: right;\">71247433604</td><td style = \"text-align: right;\">71486640004</td><td style = \"text-align: right;\">71860457348</td><td style = \"text-align: right;\">1</td><td style = \"text-align: right;\">1</td><td style = \"text-align: right;\">1</td></tr><tr><td class = \"rowNumber\" style = \"font-weight: bold; text-align: right;\">13317662</td><td style = \"text-align: right;\">71247433604</td><td style = \"text-align: right;\">71860457348</td><td style = \"text-align: right;\">71486640004</td><td style = \"text-align: right;\">1</td><td style = \"text-align: right;\">1</td><td style = \"text-align: right;\">1</td></tr><tr><td class = \"rowNumber\" style = \"font-weight: bold; text-align: right;\">13317663</td><td style = \"text-align: right;\">71247433604</td><td style = \"text-align: right;\">81032482692</td><td style = \"text-align: right;\">74092089220</td><td style = \"text-align: right;\">1</td><td style = \"text-align: right;\">1</td><td style = \"text-align: right;\">1</td></tr><tr><td class = \"rowNumber\" style = \"font-weight: bold; text-align: right;\">13317664</td><td style = \"text-align: right;\">71446925188</td><td style = \"text-align: right;\">79903166340</td><td style = \"text-align: right;\">81057648516</td><td style = \"text-align: right;\">1</td><td style = \"text-align: right;\">1</td><td style = \"text-align: right;\">1</td></tr><tr><td class = \"rowNumber\" style = \"font-weight: bold; text-align: right;\">13317665</td><td style = \"text-align: right;\">71543787396</td><td style = \"text-align: right;\">71547195268</td><td style = \"text-align: right;\">71546933124</td><td style = \"text-align: right;\">1</td><td style = \"text-align: right;\">1</td><td style = \"text-align: right;\">1</td></tr><tr><td class = \"rowNumber\" style = \"font-weight: bold; text-align: right;\">13317666</td><td style = \"text-align: right;\">76839882628</td><td style = \"text-align: right;\">77010800516</td><td style = \"text-align: right;\">76850368388</td><td style = \"text-align: right;\">1</td><td style = \"text-align: right;\">1</td><td style = \"text-align: right;\">1</td></tr><tr><td class = \"rowNumber\" style = \"font-weight: bold; text-align: right;\">13317667</td><td style = \"text-align: right;\">77582012292</td><td style = \"text-align: right;\">79489109892</td><td style = \"text-align: right;\">80065564548</td><td style = \"text-align: right;\">1</td><td style = \"text-align: right;\">1</td><td style = \"text-align: right;\">1</td></tr><tr><td class = \"rowNumber\" style = \"font-weight: bold; text-align: right;\">13317668</td><td style = \"text-align: right;\">77582012292</td><td style = \"text-align: right;\">80065564548</td><td style = \"text-align: right;\">79489109892</td><td style = \"text-align: right;\">1</td><td style = \"text-align: right;\">1</td><td style = \"text-align: right;\">1</td></tr><tr><td class = \"rowNumber\" style = \"font-weight: bold; text-align: right;\">13317669</td><td style = \"text-align: right;\">77582012292</td><td style = \"text-align: right;\">80488009604</td><td style = \"text-align: right;\">77939838852</td><td style = \"text-align: right;\">1</td><td style = \"text-align: right;\">1</td><td style = \"text-align: right;\">1</td></tr><tr><td class = \"rowNumber\" style = \"font-weight: bold; text-align: right;\">13317670</td><td style = \"text-align: right;\">78012845956</td><td style = \"text-align: right;\">80488009604</td><td style = \"text-align: right;\">81057648516</td><td style = \"text-align: right;\">1</td><td style = \"text-align: right;\">1</td><td style = \"text-align: right;\">1</td></tr><tr><td class = \"rowNumber\" style = \"font-weight: bold; text-align: right;\">13317671</td><td style = \"text-align: right;\">82153148292</td><td style = \"text-align: right;\">82222485380</td><td style = \"text-align: right;\">82519232388</td><td style = \"text-align: right;\">1</td><td style = \"text-align: right;\">1</td><td style = \"text-align: right;\">1</td></tr><tr><td class = \"rowNumber\" style = \"font-weight: bold; text-align: right;\">13317672</td><td style = \"text-align: right;\">82153148292</td><td style = \"text-align: right;\">82519232388</td><td style = \"text-align: right;\">82222485380</td><td style = \"text-align: right;\">1</td><td style = \"text-align: right;\">1</td><td style = \"text-align: right;\">1</td></tr></tbody></table></div>"
      ],
      "text/latex": [
       "\\begin{tabular}{r|cccccc}\n",
       "\t& P & O & X & po\\_sign & ox\\_sign & xpx\\_sign\\\\\n",
       "\t\\hline\n",
       "\t& Int64 & Int64 & Int64 & Int64 & Int64 & Int64\\\\\n",
       "\t\\hline\n",
       "\t1 & 427681 & 426422 & 429119 & 1 & 1 & 1 \\\\\n",
       "\t2 & 427681 & 429119 & 426422 & 1 & 1 & 1 \\\\\n",
       "\t3 & 390703 & 390704 & 407541 & 1 & 1 & 1 \\\\\n",
       "\t4 & 390703 & 407541 & 390704 & 1 & 1 & 1 \\\\\n",
       "\t5 & 564810 & 565868 & 319000 & 1 & 1 & 1 \\\\\n",
       "\t6 & 564810 & 319000 & 565868 & 1 & 1 & 1 \\\\\n",
       "\t7 & 355643 & 462288 & 502726 & 1 & 1 & 1 \\\\\n",
       "\t8 & 355643 & 568813 & 502726 & 1 & 1 & 1 \\\\\n",
       "\t9 & 355643 & 568813 & 535161 & 1 & 1 & 1 \\\\\n",
       "\t10 & 355643 & 568813 & 535160 & 1 & 1 & 1 \\\\\n",
       "\t11 & 355643 & 568813 & 490981 & 1 & 1 & 1 \\\\\n",
       "\t12 & 355643 & 568813 & 636621 & 1 & 1 & 1 \\\\\n",
       "\t13 & 355643 & 568813 & 542386 & 1 & 1 & 1 \\\\\n",
       "\t14 & 355643 & 548537 & 535160 & 1 & 1 & 1 \\\\\n",
       "\t15 & 355643 & 548537 & 390490 & 1 & 1 & 1 \\\\\n",
       "\t16 & 355643 & 548537 & 542386 & 1 & 1 & 1 \\\\\n",
       "\t17 & 355643 & 548537 & 535161 & 1 & 1 & 1 \\\\\n",
       "\t18 & 355643 & 548537 & 561665 & 1 & 1 & 1 \\\\\n",
       "\t19 & 355643 & 548537 & 527795 & 1 & 1 & 1 \\\\\n",
       "\t20 & 355643 & 548537 & 548135 & 1 & 1 & 1 \\\\\n",
       "\t21 & 355643 & 548537 & 521370 & 1 & 1 & 1 \\\\\n",
       "\t22 & 355643 & 548537 & 568813 & 1 & 1 & 1 \\\\\n",
       "\t23 & 355643 & 548537 & 239814 & 1 & 1 & 1 \\\\\n",
       "\t24 & 355643 & 548537 & 502726 & 1 & 1 & 1 \\\\\n",
       "\t$\\dots$ & $\\dots$ & $\\dots$ & $\\dots$ & $\\dots$ & $\\dots$ & $\\dots$ \\\\\n",
       "\\end{tabular}\n"
      ],
      "text/plain": [
       "\u001b[1m13317672×6 DataFrame\u001b[0m\n",
       "\u001b[1m      Row \u001b[0m│\u001b[1m P           \u001b[0m\u001b[1m O           \u001b[0m\u001b[1m X           \u001b[0m\u001b[1m po_sign \u001b[0m\u001b[1m ox_sign \u001b[0m\u001b[1m xpx_sign \u001b[0m\n",
       "          │\u001b[90m Int64       \u001b[0m\u001b[90m Int64       \u001b[0m\u001b[90m Int64       \u001b[0m\u001b[90m Int64   \u001b[0m\u001b[90m Int64   \u001b[0m\u001b[90m Int64    \u001b[0m\n",
       "──────────┼───────────────────────────────────────────────────────────────────\n",
       "        1 │      427681       426422       429119        1        1         1\n",
       "        2 │      427681       429119       426422        1        1         1\n",
       "        3 │      390703       390704       407541        1        1         1\n",
       "        4 │      390703       407541       390704        1        1         1\n",
       "        5 │      564810       565868       319000        1        1         1\n",
       "        6 │      564810       319000       565868        1        1         1\n",
       "        7 │      355643       462288       502726        1        1         1\n",
       "        8 │      355643       568813       502726        1        1         1\n",
       "    ⋮     │      ⋮            ⋮            ⋮          ⋮        ⋮        ⋮\n",
       " 13317666 │ 76839882628  77010800516  76850368388        1        1         1\n",
       " 13317667 │ 77582012292  79489109892  80065564548        1        1         1\n",
       " 13317668 │ 77582012292  80065564548  79489109892        1        1         1\n",
       " 13317669 │ 77582012292  80488009604  77939838852        1        1         1\n",
       " 13317670 │ 78012845956  80488009604  81057648516        1        1         1\n",
       " 13317671 │ 82153148292  82222485380  82519232388        1        1         1\n",
       " 13317672 │ 82153148292  82519232388  82222485380        1        1         1\n",
       "\u001b[36m                                                         13317657 rows omitted\u001b[0m"
      ]
     },
     "metadata": {},
     "output_type": "display_data"
    }
   ],
   "source": [
    "df_all_triads = CSV.read(joinpath(path, \"epinions-all-triads.csv\"), DataFrame)"
   ]
  },
  {
   "cell_type": "code",
   "execution_count": 26,
   "metadata": {},
   "outputs": [
    {
     "data": {
      "text/plain": [
       "4910076-element Vector{Vector{Int64}}:\n",
       " [426422, 427681, 429119]\n",
       " [390703, 390704, 407541]\n",
       " [319000, 564810, 565868]\n",
       " [355643, 462288, 502726]\n",
       " [355643, 502726, 568813]\n",
       " [355643, 535161, 568813]\n",
       " [355643, 535160, 568813]\n",
       " [355643, 490981, 568813]\n",
       " [355643, 568813, 636621]\n",
       " [355643, 542386, 568813]\n",
       " ⋮\n",
       " [55554969476, 58242994052, 64653987716]\n",
       " [55554969476, 60367671172, 64653987716]\n",
       " [55554969476, 64300879748, 64653987716]\n",
       " [55554969476, 64653987716, 65500057476]\n",
       " [55554969476, 64653987716, 66143620996]\n",
       " [55554969476, 64653987716, 70562844548]\n",
       " [57838243716, 64653987716, 72217235332]\n",
       " [59745079172, 59807862660, 64353832836]\n",
       " [64653987716, 70183391108, 72217235332]"
      ]
     },
     "metadata": {},
     "output_type": "display_data"
    }
   ],
   "source": [
    "# identify triads that consist of the same edges\n",
    "\n",
    "all_triads = [triads..., cyclic_triads...]\n",
    "\n",
    "all_triads_ordered = sort.([[p, o, x] for (p, o, x) in all_triads])\n",
    "all_triads_unique = unique(all_triads_ordered)"
   ]
  },
  {
   "cell_type": "code",
   "execution_count": 37,
   "metadata": {},
   "outputs": [
    {
     "data": {
      "text/plain": [
       "([[1, 6, 8], [2], [3, 7], [4], [5], [9, 10]], [6, 5, 9, 2, 3, 6, 9, 6, 1, 1])"
      ]
     },
     "metadata": {},
     "output_type": "display_data"
    }
   ],
   "source": [
    "y = rand(1:10, 10)\n",
    "\n",
    "map(x->findall(Ref(x) .== y) , unique(y)), y"
   ]
  },
  {
   "cell_type": "code",
   "execution_count": null,
   "metadata": {},
   "outputs": [
    {
     "data": {
      "text/plain": [
       "BenchmarkTools.Trial: 8 samples with 1 evaluation.\n",
       " Range \u001b[90m(\u001b[39m\u001b[36m\u001b[1mmin\u001b[22m\u001b[39m … \u001b[35mmax\u001b[39m\u001b[90m):  \u001b[39m\u001b[36m\u001b[1m665.846 ms\u001b[22m\u001b[39m … \u001b[35m723.258 ms\u001b[39m  \u001b[90m┊\u001b[39m GC \u001b[90m(\u001b[39mmin … max\u001b[90m): \u001b[39m0.58% … 0.67%\n",
       " Time  \u001b[90m(\u001b[39m\u001b[34m\u001b[1mmedian\u001b[22m\u001b[39m\u001b[90m):     \u001b[39m\u001b[34m\u001b[1m687.223 ms               \u001b[22m\u001b[39m\u001b[90m┊\u001b[39m GC \u001b[90m(\u001b[39mmedian\u001b[90m):    \u001b[39m0.63%\n",
       " Time  \u001b[90m(\u001b[39m\u001b[32m\u001b[1mmean\u001b[22m\u001b[39m ± \u001b[32mσ\u001b[39m\u001b[90m):   \u001b[39m\u001b[32m\u001b[1m692.352 ms\u001b[22m\u001b[39m ± \u001b[32m 18.622 ms\u001b[39m  \u001b[90m┊\u001b[39m GC \u001b[90m(\u001b[39mmean ± σ\u001b[90m):  \u001b[39m0.72% ± 0.26%\n",
       "\n",
       "  \u001b[39m█\u001b[39m \u001b[39m \u001b[39m \u001b[39m \u001b[39m \u001b[39m \u001b[39m \u001b[39m \u001b[39m \u001b[39m \u001b[39m \u001b[39m \u001b[39m \u001b[39m█\u001b[39m \u001b[39m \u001b[39m█\u001b[39m \u001b[34m█\u001b[39m\u001b[39m \u001b[39m \u001b[39m \u001b[39m \u001b[39m \u001b[39m \u001b[39m█\u001b[39m \u001b[32m \u001b[39m\u001b[39m \u001b[39m \u001b[39m \u001b[39m \u001b[39m \u001b[39m \u001b[39m \u001b[39m \u001b[39m \u001b[39m \u001b[39m \u001b[39m█\u001b[39m \u001b[39m \u001b[39m \u001b[39m \u001b[39m \u001b[39m█\u001b[39m \u001b[39m \u001b[39m \u001b[39m \u001b[39m \u001b[39m \u001b[39m \u001b[39m \u001b[39m \u001b[39m \u001b[39m \u001b[39m \u001b[39m \u001b[39m█\u001b[39m \u001b[39m \n",
       "  \u001b[39m█\u001b[39m▁\u001b[39m▁\u001b[39m▁\u001b[39m▁\u001b[39m▁\u001b[39m▁\u001b[39m▁\u001b[39m▁\u001b[39m▁\u001b[39m▁\u001b[39m▁\u001b[39m▁\u001b[39m▁\u001b[39m█\u001b[39m▁\u001b[39m▁\u001b[39m█\u001b[39m▁\u001b[34m█\u001b[39m\u001b[39m▁\u001b[39m▁\u001b[39m▁\u001b[39m▁\u001b[39m▁\u001b[39m▁\u001b[39m█\u001b[39m▁\u001b[32m▁\u001b[39m\u001b[39m▁\u001b[39m▁\u001b[39m▁\u001b[39m▁\u001b[39m▁\u001b[39m▁\u001b[39m▁\u001b[39m▁\u001b[39m▁\u001b[39m▁\u001b[39m▁\u001b[39m█\u001b[39m▁\u001b[39m▁\u001b[39m▁\u001b[39m▁\u001b[39m▁\u001b[39m█\u001b[39m▁\u001b[39m▁\u001b[39m▁\u001b[39m▁\u001b[39m▁\u001b[39m▁\u001b[39m▁\u001b[39m▁\u001b[39m▁\u001b[39m▁\u001b[39m▁\u001b[39m▁\u001b[39m▁\u001b[39m█\u001b[39m \u001b[39m▁\n",
       "  666 ms\u001b[90m           Histogram: frequency by time\u001b[39m          723 ms \u001b[0m\u001b[1m<\u001b[22m\n",
       "\n",
       " Memory estimate\u001b[90m: \u001b[39m\u001b[33m55.82 MiB\u001b[39m, allocs estimate\u001b[90m: \u001b[39m\u001b[33m60045\u001b[39m."
      ]
     },
     "metadata": {},
     "output_type": "display_data"
    }
   ],
   "source": [
    "using BenchmarkTools\n",
    "\n",
    "maxiter = 10000\n",
    "y = all_triads_unique[1:maxiter]\n",
    "\n",
    "@benchmark Dict(x->findall(Ref(x) .== y) , unique(y))"
   ]
  },
  {
   "cell_type": "code",
   "execution_count": 63,
   "metadata": {},
   "outputs": [
    {
     "data": {
      "text/plain": [
       "Base.RefValue{Tuple{Int64, Int64, Int64}}((426422, 427681, 429119))"
      ]
     },
     "metadata": {},
     "output_type": "display_data"
    }
   ],
   "source": [
    "Ref(y[1])"
   ]
  },
  {
   "cell_type": "code",
   "execution_count": 55,
   "metadata": {},
   "outputs": [
    {
     "data": {
      "text/plain": [
       "BenchmarkTools.Trial: 3 samples with 1 evaluation.\n",
       " Range \u001b[90m(\u001b[39m\u001b[36m\u001b[1mmin\u001b[22m\u001b[39m … \u001b[35mmax\u001b[39m\u001b[90m):  \u001b[39m\u001b[36m\u001b[1m1.840 s\u001b[22m\u001b[39m … \u001b[35m  1.860 s\u001b[39m  \u001b[90m┊\u001b[39m GC \u001b[90m(\u001b[39mmin … max\u001b[90m): \u001b[39m0.32% … 0.32%\n",
       " Time  \u001b[90m(\u001b[39m\u001b[34m\u001b[1mmedian\u001b[22m\u001b[39m\u001b[90m):     \u001b[39m\u001b[34m\u001b[1m1.851 s              \u001b[22m\u001b[39m\u001b[90m┊\u001b[39m GC \u001b[90m(\u001b[39mmedian\u001b[90m):    \u001b[39m0.32%\n",
       " Time  \u001b[90m(\u001b[39m\u001b[32m\u001b[1mmean\u001b[22m\u001b[39m ± \u001b[32mσ\u001b[39m\u001b[90m):   \u001b[39m\u001b[32m\u001b[1m1.850 s\u001b[22m\u001b[39m ± \u001b[32m10.147 ms\u001b[39m  \u001b[90m┊\u001b[39m GC \u001b[90m(\u001b[39mmean ± σ\u001b[90m):  \u001b[39m0.38% ± 0.10%\n",
       "\n",
       "  \u001b[34m█\u001b[39m\u001b[39m \u001b[39m \u001b[39m \u001b[39m \u001b[39m \u001b[39m \u001b[39m \u001b[39m \u001b[39m \u001b[39m \u001b[39m \u001b[39m \u001b[39m \u001b[39m \u001b[39m \u001b[39m \u001b[39m \u001b[39m \u001b[39m \u001b[39m \u001b[39m \u001b[39m \u001b[39m \u001b[39m \u001b[39m \u001b[39m \u001b[39m \u001b[39m \u001b[32m \u001b[39m\u001b[39m█\u001b[39m \u001b[39m \u001b[39m \u001b[39m \u001b[39m \u001b[39m \u001b[39m \u001b[39m \u001b[39m \u001b[39m \u001b[39m \u001b[39m \u001b[39m \u001b[39m \u001b[39m \u001b[39m \u001b[39m \u001b[39m \u001b[39m \u001b[39m \u001b[39m \u001b[39m \u001b[39m \u001b[39m \u001b[39m \u001b[39m█\u001b[39m \u001b[39m \n",
       "  \u001b[34m█\u001b[39m\u001b[39m▁\u001b[39m▁\u001b[39m▁\u001b[39m▁\u001b[39m▁\u001b[39m▁\u001b[39m▁\u001b[39m▁\u001b[39m▁\u001b[39m▁\u001b[39m▁\u001b[39m▁\u001b[39m▁\u001b[39m▁\u001b[39m▁\u001b[39m▁\u001b[39m▁\u001b[39m▁\u001b[39m▁\u001b[39m▁\u001b[39m▁\u001b[39m▁\u001b[39m▁\u001b[39m▁\u001b[39m▁\u001b[39m▁\u001b[39m▁\u001b[39m▁\u001b[32m▁\u001b[39m\u001b[39m█\u001b[39m▁\u001b[39m▁\u001b[39m▁\u001b[39m▁\u001b[39m▁\u001b[39m▁\u001b[39m▁\u001b[39m▁\u001b[39m▁\u001b[39m▁\u001b[39m▁\u001b[39m▁\u001b[39m▁\u001b[39m▁\u001b[39m▁\u001b[39m▁\u001b[39m▁\u001b[39m▁\u001b[39m▁\u001b[39m▁\u001b[39m▁\u001b[39m▁\u001b[39m▁\u001b[39m▁\u001b[39m▁\u001b[39m█\u001b[39m \u001b[39m▁\n",
       "  1.84 s\u001b[90m         Histogram: frequency by time\u001b[39m        1.86 s \u001b[0m\u001b[1m<\u001b[22m\n",
       "\n",
       " Memory estimate\u001b[90m: \u001b[39m\u001b[33m159.21 MiB\u001b[39m, allocs estimate\u001b[90m: \u001b[39m\u001b[33m713\u001b[39m."
      ]
     },
     "metadata": {},
     "output_type": "display_data"
    }
   ],
   "source": [
    "@benchmark Dict(y .=> [findall(Ref(x) .== all_triads_ordered) for x in y])"
   ]
  },
  {
   "cell_type": "code",
   "execution_count": 54,
   "metadata": {},
   "outputs": [
    {
     "data": {
      "text/plain": [
       "BenchmarkTools.Trial: 3 samples with 1 evaluation.\n",
       " Range \u001b[90m(\u001b[39m\u001b[36m\u001b[1mmin\u001b[22m\u001b[39m … \u001b[35mmax\u001b[39m\u001b[90m):  \u001b[39m\u001b[36m\u001b[1m1.842 s\u001b[22m\u001b[39m … \u001b[35m   2.102 s\u001b[39m  \u001b[90m┊\u001b[39m GC \u001b[90m(\u001b[39mmin … max\u001b[90m): \u001b[39m0.32% … 0.48%\n",
       " Time  \u001b[90m(\u001b[39m\u001b[34m\u001b[1mmedian\u001b[22m\u001b[39m\u001b[90m):     \u001b[39m\u001b[34m\u001b[1m1.846 s               \u001b[22m\u001b[39m\u001b[90m┊\u001b[39m GC \u001b[90m(\u001b[39mmedian\u001b[90m):    \u001b[39m0.34%\n",
       " Time  \u001b[90m(\u001b[39m\u001b[32m\u001b[1mmean\u001b[22m\u001b[39m ± \u001b[32mσ\u001b[39m\u001b[90m):   \u001b[39m\u001b[32m\u001b[1m1.930 s\u001b[22m\u001b[39m ± \u001b[32m148.755 ms\u001b[39m  \u001b[90m┊\u001b[39m GC \u001b[90m(\u001b[39mmean ± σ\u001b[90m):  \u001b[39m0.38% ± 0.09%\n",
       "\n",
       "  \u001b[34m█\u001b[39m\u001b[39m█\u001b[39m \u001b[39m \u001b[39m \u001b[39m \u001b[39m \u001b[39m \u001b[39m \u001b[39m \u001b[39m \u001b[39m \u001b[39m \u001b[39m \u001b[39m \u001b[39m \u001b[39m \u001b[39m \u001b[39m \u001b[39m \u001b[32m \u001b[39m\u001b[39m \u001b[39m \u001b[39m \u001b[39m \u001b[39m \u001b[39m \u001b[39m \u001b[39m \u001b[39m \u001b[39m \u001b[39m \u001b[39m \u001b[39m \u001b[39m \u001b[39m \u001b[39m \u001b[39m \u001b[39m \u001b[39m \u001b[39m \u001b[39m \u001b[39m \u001b[39m \u001b[39m \u001b[39m \u001b[39m \u001b[39m \u001b[39m \u001b[39m \u001b[39m \u001b[39m \u001b[39m \u001b[39m \u001b[39m \u001b[39m \u001b[39m \u001b[39m█\u001b[39m \u001b[39m \n",
       "  \u001b[34m█\u001b[39m\u001b[39m█\u001b[39m▁\u001b[39m▁\u001b[39m▁\u001b[39m▁\u001b[39m▁\u001b[39m▁\u001b[39m▁\u001b[39m▁\u001b[39m▁\u001b[39m▁\u001b[39m▁\u001b[39m▁\u001b[39m▁\u001b[39m▁\u001b[39m▁\u001b[39m▁\u001b[39m▁\u001b[39m▁\u001b[32m▁\u001b[39m\u001b[39m▁\u001b[39m▁\u001b[39m▁\u001b[39m▁\u001b[39m▁\u001b[39m▁\u001b[39m▁\u001b[39m▁\u001b[39m▁\u001b[39m▁\u001b[39m▁\u001b[39m▁\u001b[39m▁\u001b[39m▁\u001b[39m▁\u001b[39m▁\u001b[39m▁\u001b[39m▁\u001b[39m▁\u001b[39m▁\u001b[39m▁\u001b[39m▁\u001b[39m▁\u001b[39m▁\u001b[39m▁\u001b[39m▁\u001b[39m▁\u001b[39m▁\u001b[39m▁\u001b[39m▁\u001b[39m▁\u001b[39m▁\u001b[39m▁\u001b[39m▁\u001b[39m▁\u001b[39m▁\u001b[39m█\u001b[39m \u001b[39m▁\n",
       "  1.84 s\u001b[90m         Histogram: frequency by time\u001b[39m          2.1 s \u001b[0m\u001b[1m<\u001b[22m\n",
       "\n",
       " Memory estimate\u001b[90m: \u001b[39m\u001b[33m159.21 MiB\u001b[39m, allocs estimate\u001b[90m: \u001b[39m\u001b[33m722\u001b[39m."
      ]
     },
     "metadata": {},
     "output_type": "display_data"
    }
   ],
   "source": [
    "@benchmark Dict(y .=> map(x->findall(Ref(x) .== all_triads_ordered) , y))"
   ]
  },
  {
   "cell_type": "code",
   "execution_count": 62,
   "metadata": {},
   "outputs": [
    {
     "data": {
      "text/plain": [
       "BenchmarkTools.Trial: 3 samples with 1 evaluation.\n",
       " Range \u001b[90m(\u001b[39m\u001b[36m\u001b[1mmin\u001b[22m\u001b[39m … \u001b[35mmax\u001b[39m\u001b[90m):  \u001b[39m\u001b[36m\u001b[1m1.957 s\u001b[22m\u001b[39m … \u001b[35m  2.008 s\u001b[39m  \u001b[90m┊\u001b[39m GC \u001b[90m(\u001b[39mmin … max\u001b[90m): \u001b[39m0.33% … 0.42%\n",
       " Time  \u001b[90m(\u001b[39m\u001b[34m\u001b[1mmedian\u001b[22m\u001b[39m\u001b[90m):     \u001b[39m\u001b[34m\u001b[1m1.982 s              \u001b[22m\u001b[39m\u001b[90m┊\u001b[39m GC \u001b[90m(\u001b[39mmedian\u001b[90m):    \u001b[39m0.32%\n",
       " Time  \u001b[90m(\u001b[39m\u001b[32m\u001b[1mmean\u001b[22m\u001b[39m ± \u001b[32mσ\u001b[39m\u001b[90m):   \u001b[39m\u001b[32m\u001b[1m1.982 s\u001b[22m\u001b[39m ± \u001b[32m25.389 ms\u001b[39m  \u001b[90m┊\u001b[39m GC \u001b[90m(\u001b[39mmean ± σ\u001b[90m):  \u001b[39m0.34% ± 0.07%\n",
       "\n",
       "  \u001b[34m█\u001b[39m\u001b[39m \u001b[39m \u001b[39m \u001b[39m \u001b[39m \u001b[39m \u001b[39m \u001b[39m \u001b[39m \u001b[39m \u001b[39m \u001b[39m \u001b[39m \u001b[39m \u001b[39m \u001b[39m \u001b[39m \u001b[39m \u001b[39m \u001b[39m \u001b[39m \u001b[39m \u001b[39m \u001b[39m \u001b[39m \u001b[39m \u001b[39m \u001b[32m█\u001b[39m\u001b[39m \u001b[39m \u001b[39m \u001b[39m \u001b[39m \u001b[39m \u001b[39m \u001b[39m \u001b[39m \u001b[39m \u001b[39m \u001b[39m \u001b[39m \u001b[39m \u001b[39m \u001b[39m \u001b[39m \u001b[39m \u001b[39m \u001b[39m \u001b[39m \u001b[39m \u001b[39m \u001b[39m \u001b[39m \u001b[39m \u001b[39m \u001b[39m█\u001b[39m \u001b[39m \n",
       "  \u001b[34m█\u001b[39m\u001b[39m▁\u001b[39m▁\u001b[39m▁\u001b[39m▁\u001b[39m▁\u001b[39m▁\u001b[39m▁\u001b[39m▁\u001b[39m▁\u001b[39m▁\u001b[39m▁\u001b[39m▁\u001b[39m▁\u001b[39m▁\u001b[39m▁\u001b[39m▁\u001b[39m▁\u001b[39m▁\u001b[39m▁\u001b[39m▁\u001b[39m▁\u001b[39m▁\u001b[39m▁\u001b[39m▁\u001b[39m▁\u001b[39m▁\u001b[39m▁\u001b[32m█\u001b[39m\u001b[39m▁\u001b[39m▁\u001b[39m▁\u001b[39m▁\u001b[39m▁\u001b[39m▁\u001b[39m▁\u001b[39m▁\u001b[39m▁\u001b[39m▁\u001b[39m▁\u001b[39m▁\u001b[39m▁\u001b[39m▁\u001b[39m▁\u001b[39m▁\u001b[39m▁\u001b[39m▁\u001b[39m▁\u001b[39m▁\u001b[39m▁\u001b[39m▁\u001b[39m▁\u001b[39m▁\u001b[39m▁\u001b[39m▁\u001b[39m▁\u001b[39m█\u001b[39m \u001b[39m▁\n",
       "  1.96 s\u001b[90m         Histogram: frequency by time\u001b[39m        2.01 s \u001b[0m\u001b[1m<\u001b[22m\n",
       "\n",
       " Memory estimate\u001b[90m: \u001b[39m\u001b[33m159.21 MiB\u001b[39m, allocs estimate\u001b[90m: \u001b[39m\u001b[33m713\u001b[39m."
      ]
     },
     "metadata": {},
     "output_type": "display_data"
    }
   ],
   "source": [
    "@benchmark Dict(y .=> [findall(all_triads_ordered .== [triad]) for triad in y])"
   ]
  },
  {
   "cell_type": "code",
   "execution_count": 31,
   "metadata": {},
   "outputs": [
    {
     "data": {
      "text/plain": [
       "4910076-element Vector{Tuple{Int64, Int64, Int64}}:\n",
       " (426422, 427681, 429119)\n",
       " (390703, 390704, 407541)\n",
       " (319000, 564810, 565868)\n",
       " (355643, 462288, 502726)\n",
       " (355643, 502726, 568813)\n",
       " (355643, 535161, 568813)\n",
       " (355643, 535160, 568813)\n",
       " (355643, 490981, 568813)\n",
       " (355643, 568813, 636621)\n",
       " (355643, 542386, 568813)\n",
       " ⋮\n",
       " (55554969476, 58242994052, 64653987716)\n",
       " (55554969476, 60367671172, 64653987716)\n",
       " (55554969476, 64300879748, 64653987716)\n",
       " (55554969476, 64653987716, 65500057476)\n",
       " (55554969476, 64653987716, 66143620996)\n",
       " (55554969476, 64653987716, 70562844548)\n",
       " (57838243716, 64653987716, 72217235332)\n",
       " (59745079172, 59807862660, 64353832836)\n",
       " (64653987716, 70183391108, 72217235332)"
      ]
     },
     "metadata": {},
     "output_type": "display_data"
    }
   ],
   "source": [
    "all_triads_ordered = [tuple(sort([p, o, x])...) for (p, o, x) in all_triads]\n",
    "all_triads_unique = unique(all_triads_ordered)\n",
    "\n",
    "# y = all_triads_unique[1:maxiter]"
   ]
  },
  {
   "cell_type": "code",
   "execution_count": null,
   "metadata": {},
   "outputs": [
    {
     "data": {
      "text/plain": [
       "4910076-element Vector{Tuple{Int64, Int64, Int64}}:\n",
       " (199781, 200233, 223783)\n",
       " (199781, 200233, 226726)\n",
       " (199781, 200233, 239694)\n",
       " (199781, 200233, 241223)\n",
       " (199781, 200233, 262822)\n",
       " (199781, 205491, 222004)\n",
       " (199781, 205491, 225480)\n",
       " (199781, 205491, 238184)\n",
       " (199781, 205491, 239694)\n",
       " (199781, 205491, 241374)\n",
       " ⋮\n",
       " (78715129732, 78920388484, 79250952068)\n",
       " (79810891652, 80065564548, 81057648516)\n",
       " (79880884100, 79946289028, 79977090948)\n",
       " (80918843268, 80919891844, 80920022916)\n",
       " (80975073156, 81057648516, 81386901380)\n",
       " (82078437252, 82641653636, 83384438660)\n",
       " (82153148292, 82222485380, 82389602180)\n",
       " (82153148292, 82222485380, 82519232388)\n",
       " (82425515908, 83329126276, 83592843140)"
      ]
     },
     "metadata": {},
     "output_type": "display_data"
    }
   ],
   "source": [
    "sort!(all_triads_unique)"
   ]
  },
  {
   "cell_type": "code",
   "execution_count": 35,
   "metadata": {},
   "outputs": [
    {
     "data": {
      "text/plain": [
       "100-element Vector{Vector{Int64}}:\n",
       " [1, 2]\n",
       " [3, 4, 1353099, 12135199]\n",
       " [5, 6]\n",
       " [7, 61, 4044931, 12098341]\n",
       " [8, 63, 422577, 422586, 4044926, 4044933, 12098348, 12098384]\n",
       " [9, 422582]\n",
       " [10, 45, 422584, 422590, 7207188, 7207207, 12098361, 12098385]\n",
       " [11, 422585]\n",
       " [12, 27, 422583, 422598, 4710397, 4710451, 12098387, 12098394]\n",
       " [13, 78, 422587, 422601, 5874875, 5874916, 12098368, 12098386]\n",
       " ⋮\n",
       " [127, 10911256]\n",
       " [128, 10911258, 10922261, 11316784]\n",
       " [129, 294, 10911254, 11318266]\n",
       " [130, 457, 10911266, 11318265]\n",
       " [131, 10911255]\n",
       " [132, 10911252]\n",
       " [133, 637, 10911276, 11318258]\n",
       " [134, 442, 10911265, 11318256]\n",
       " [135, 212, 10911251, 11200044]"
      ]
     },
     "metadata": {},
     "output_type": "display_data"
    }
   ],
   "source": [
    "maxiter = 100\n",
    "y = all_triads_unique[1:maxiter]\n",
    "\n",
    "map(x->findall(Ref(x) .== all_triads_ordered) , y)"
   ]
  },
  {
   "cell_type": "code",
   "execution_count": 38,
   "metadata": {},
   "outputs": [
    {
     "data": {
      "text/plain": [
       "13317672-element Vector{Tuple{Int64, Int64, Int64}}:\n",
       " (199781, 200233, 223783)\n",
       " (199781, 200233, 223783)\n",
       " (199781, 200233, 226726)\n",
       " (199781, 200233, 226726)\n",
       " (199781, 200233, 239694)\n",
       " (199781, 200233, 239694)\n",
       " (199781, 200233, 241223)\n",
       " (199781, 200233, 241223)\n",
       " (199781, 200233, 241223)\n",
       " (199781, 200233, 241223)\n",
       " ⋮\n",
       " (82153148292, 82222485380, 82519232388)\n",
       " (82153148292, 82222485380, 82519232388)\n",
       " (82153148292, 82222485380, 82519232388)\n",
       " (82153148292, 82222485380, 82519232388)\n",
       " (82153148292, 82222485380, 82519232388)\n",
       " (82153148292, 82222485380, 82519232388)\n",
       " (82153148292, 82222485380, 82519232388)\n",
       " (82425515908, 83329126276, 83592843140)\n",
       " (82425515908, 83329126276, 83592843140)"
      ]
     },
     "metadata": {},
     "output_type": "display_data"
    }
   ],
   "source": [
    "all_triads_ordered2 = sort(all_triads_ordered)"
   ]
  },
  {
   "cell_type": "code",
   "execution_count": null,
   "metadata": {},
   "outputs": [
    {
     "data": {
      "text/plain": [
       "Dict{Tuple{Int64, Int64, Int64}, UnitRange{Int64}} with 100 entries:\n",
       "  (326177, 341801, 342642)           => 6456905:6456906\n",
       "  (319000, 564810, 565868)           => 6299099:6299100\n",
       "  (355643, 462288, 502726)           => 6917503:6917506\n",
       "  (355643, 535160, 535161)           => 6917631:6917632\n",
       "  (355643, 390490, 502726)           => 6917495:6917496\n",
       "  (216022, 13322784644, 26148310916) => 2210350:2210351\n",
       "  (355643, 490981, 568813)           => 6917530:6917531\n",
       "  (355643, 542386, 561665)           => 6917699:6917702\n",
       "  (355643, 390490, 548537)           => 6917499:6917500\n",
       "  (355643, 561665, 636621)           => 6917755:6917758\n",
       "  (355643, 490981, 636621)           => 6917532:6917533\n",
       "  (329152, 594600, 3279064964)       => 6482974:6482974\n",
       "  (355643, 521370, 535161)           => 6917602:6917602\n",
       "  (355643, 521370, 527795)           => 6917598:6917601\n",
       "  (355643, 502726, 548135)           => 6917562:6917569\n",
       "  (528352, 594600, 687460)           => 9587332:9587332\n",
       "  (355643, 548135, 548537)           => 6917719:6917726\n",
       "  (355643, 502726, 548537)           => 6917570:6917577\n",
       "  (355643, 527795, 542386)           => 6917615:6917622\n",
       "  ⋮                                  => ⋮"
      ]
     },
     "metadata": {},
     "output_type": "display_data"
    }
   ],
   "source": [
    "# all_triads_dict = Dict(all_triads_unique .=> [findall(Ref(triad) .== all_triads_ordered) for triad in all_triads_unique])\n",
    "# a = [searchsorted(all_triads_ordered2, z) for z in y]\n",
    "\n",
    "d = Dict(y .=> [searchsorted(all_triads_ordered2, z) for z in y])\n"
   ]
  },
  {
   "cell_type": "code",
   "execution_count": 53,
   "metadata": {},
   "outputs": [
    {
     "name": "stdout",
     "output_type": "stream",
     "text": [
      "Any[(427681, 426422, 429119), (427681, 429119, 426422)]"
     ]
    }
   ],
   "source": [
    "y[1], all_triads_ordered2[a[1]]\n",
    "ain = collect(a[1])\n",
    "triads[inverse_inds[ain]]\n",
    "print(triads[inds[ain]])"
   ]
  },
  {
   "cell_type": "code",
   "execution_count": 41,
   "metadata": {},
   "outputs": [
    {
     "data": {
      "text/plain": [
       "13317672-element Vector{Int64}:\n",
       "  7401731\n",
       "  7401732\n",
       "  7162545\n",
       "  7162546\n",
       "  6299099\n",
       "  6299100\n",
       "  6917503\n",
       "  6917582\n",
       "  6917683\n",
       "  6917661\n",
       "        ⋮\n",
       " 13317612\n",
       " 13317616\n",
       " 13317628\n",
       " 13317645\n",
       " 13317646\n",
       " 13317638\n",
       " 13317651\n",
       " 13317669\n",
       " 13317670"
      ]
     },
     "metadata": {},
     "output_type": "display_data"
    }
   ],
   "source": [
    "inds = sortperm(all_triads_ordered)\n",
    "inverse_inds = sortperm(inds)"
   ]
  },
  {
   "cell_type": "code",
   "execution_count": 44,
   "metadata": {},
   "outputs": [
    {
     "data": {
      "text/plain": [
       "13317672-element Vector{Tuple{Int64, Int64, Int64}}:\n",
       " (199781, 200233, 223783)\n",
       " (199781, 200233, 223783)\n",
       " (199781, 200233, 226726)\n",
       " (199781, 200233, 226726)\n",
       " (199781, 200233, 239694)\n",
       " (199781, 200233, 239694)\n",
       " (199781, 200233, 241223)\n",
       " (199781, 200233, 241223)\n",
       " (199781, 200233, 241223)\n",
       " (199781, 200233, 241223)\n",
       " ⋮\n",
       " (82153148292, 82222485380, 82519232388)\n",
       " (82153148292, 82222485380, 82519232388)\n",
       " (82153148292, 82222485380, 82519232388)\n",
       " (82153148292, 82222485380, 82519232388)\n",
       " (82153148292, 82222485380, 82519232388)\n",
       " (82153148292, 82222485380, 82519232388)\n",
       " (82153148292, 82222485380, 82519232388)\n",
       " (82425515908, 83329126276, 83592843140)\n",
       " (82425515908, 83329126276, 83592843140)"
      ]
     },
     "metadata": {},
     "output_type": "display_data"
    }
   ],
   "source": [
    "# identify triads that consist of the same edges\n",
    "\n",
    "all_triads = [triads..., cyclic_triads...]\n",
    "\n",
    "# all_triads_ordered = sort.([[p, o, x] for (p, o, x) in all_triads])\n",
    "# all_triads_unique = unique(all_triads_ordered)\n",
    "all_triads_ordered = [tuple(sort([p, o, x])...) for (p, o, x) in all_triads]\n",
    "all_triads_unique = unique(all_triads_ordered)\n",
    "\n",
    "sort!(all_triads_unique)\n",
    "inds = sortperm(all_triads_ordered)\n",
    "inverse_inds = sortperm(inds);\n",
    "\n",
    "sort!(all_triads_ordered)"
   ]
  },
  {
   "cell_type": "code",
   "execution_count": 45,
   "metadata": {},
   "outputs": [
    {
     "data": {
      "text/plain": [
       "Dict{Tuple{Int64, Int64, Int64}, UnitRange{Int64}} with 4910076 entries:\n",
       "  (269583, 292702, 315310)             => 5100059:5100062\n",
       "  (337504, 457810, 3171913604)         => 6583715:6583718\n",
       "  (554414, 554415, 565802)             => 9956220:9956221\n",
       "  (205068, 367823, 51853889412)        => 1176587:1176587\n",
       "  (256079, 350170, 6811848580)         => 4551518:4551519\n",
       "  (247372, 284943, 2951843716)         => 4310259:4310259\n",
       "  (246739, 305660, 319864)             => 4286555:4286555\n",
       "  (280754, 293646, 538598)             => 5356277:5356280\n",
       "  (505092, 3197669252, 3206844292)     => 9046582:9046583\n",
       "  (232924, 259809, 301232)             => 2999784:2999784\n",
       "  (3173552004, 3180629892, 3214053252) => 11635836:11635839\n",
       "  (205645, 240192, 252420)             => 1378038:1378039\n",
       "  (349865, 562296, 677552)             => 6775639:6775640\n",
       "  (210284, 240308, 407778)             => 1757154:1757154\n",
       "  (205076, 277533, 437476)             => 1237217:1237218\n",
       "  (431279, 500974, 12317069188)        => 7414546:7414549\n",
       "  (233487, 302083, 363250)             => 3136061:3136068\n",
       "  (212290, 260558, 4236611460)         => 1971285:1971292\n",
       "  (3180760964, 3188297604, 3203829636) => 12258603:12258604\n",
       "  ⋮                                    => ⋮"
      ]
     },
     "metadata": {},
     "output_type": "display_data"
    }
   ],
   "source": [
    "\n",
    "\n",
    "# create a dictionary with unique triads as keys and indices of their appearance as values\n",
    "# all_triads_dict = Dict(all_triads_unique .=> [findall(all_triads_ordered .== [triad]) for triad in all_triads_unique])\n",
    "# all_triads_dict = Dict(all_triads_unique .=> [findall(Ref(triad) .== all_triads_ordered) for triad in all_triads_unique])\n",
    "all_triads_dict = Dict(all_triads_unique .=> [searchsorted(all_triads_ordered2, z) for z in all_triads_unique])\n",
    "\n"
   ]
  },
  {
   "cell_type": "code",
   "execution_count": null,
   "metadata": {},
   "outputs": [],
   "source": [
    "# using JLD2, FileIO\n",
    "\n",
    "# save(joinpath(path, \"epinions-all-triads-dict.jld2\"), \"all_triads_dict\", all_triads_dict)"
   ]
  },
  {
   "cell_type": "code",
   "execution_count": 46,
   "metadata": {},
   "outputs": [
    {
     "data": {
      "text/html": [
       "<div><div style = \"float: left;\"><span>4910076×3 DataFrame</span></div><div style = \"float: right;\"><span style = \"font-style: italic;\">4910051 rows omitted</span></div><div style = \"clear: both;\"></div></div><div class = \"data-frame\" style = \"overflow-x: scroll;\"><table class = \"data-frame\" style = \"margin-bottom: 6px;\"><thead><tr class = \"header\"><th class = \"rowNumber\" style = \"font-weight: bold; text-align: right;\">Row</th><th style = \"text-align: left;\">triad</th><th style = \"text-align: left;\">inds</th><th style = \"text-align: left;\">count</th></tr><tr class = \"subheader headerLastRow\"><th class = \"rowNumber\" style = \"font-weight: bold; text-align: right;\"></th><th title = \"Tuple{Int64, Int64, Int64}\" style = \"text-align: left;\">Tuple…</th><th title = \"UnitRange{Int64}\" style = \"text-align: left;\">UnitRang…</th><th title = \"Int64\" style = \"text-align: left;\">Int64</th></tr></thead><tbody><tr><td class = \"rowNumber\" style = \"font-weight: bold; text-align: right;\">1</td><td style = \"text-align: left;\">(269583, 292702, 315310)</td><td style = \"text-align: left;\">5100059:5100062</td><td style = \"text-align: right;\">4</td></tr><tr><td class = \"rowNumber\" style = \"font-weight: bold; text-align: right;\">2</td><td style = \"text-align: left;\">(337504, 457810, 3171913604)</td><td style = \"text-align: left;\">6583715:6583718</td><td style = \"text-align: right;\">4</td></tr><tr><td class = \"rowNumber\" style = \"font-weight: bold; text-align: right;\">3</td><td style = \"text-align: left;\">(554414, 554415, 565802)</td><td style = \"text-align: left;\">9956220:9956221</td><td style = \"text-align: right;\">2</td></tr><tr><td class = \"rowNumber\" style = \"font-weight: bold; text-align: right;\">4</td><td style = \"text-align: left;\">(205068, 367823, 51853889412)</td><td style = \"text-align: left;\">1176587:1176587</td><td style = \"text-align: right;\">1</td></tr><tr><td class = \"rowNumber\" style = \"font-weight: bold; text-align: right;\">5</td><td style = \"text-align: left;\">(256079, 350170, 6811848580)</td><td style = \"text-align: left;\">4551518:4551519</td><td style = \"text-align: right;\">2</td></tr><tr><td class = \"rowNumber\" style = \"font-weight: bold; text-align: right;\">6</td><td style = \"text-align: left;\">(247372, 284943, 2951843716)</td><td style = \"text-align: left;\">4310259:4310259</td><td style = \"text-align: right;\">1</td></tr><tr><td class = \"rowNumber\" style = \"font-weight: bold; text-align: right;\">7</td><td style = \"text-align: left;\">(246739, 305660, 319864)</td><td style = \"text-align: left;\">4286555:4286555</td><td style = \"text-align: right;\">1</td></tr><tr><td class = \"rowNumber\" style = \"font-weight: bold; text-align: right;\">8</td><td style = \"text-align: left;\">(280754, 293646, 538598)</td><td style = \"text-align: left;\">5356277:5356280</td><td style = \"text-align: right;\">4</td></tr><tr><td class = \"rowNumber\" style = \"font-weight: bold; text-align: right;\">9</td><td style = \"text-align: left;\">(505092, 3197669252, 3206844292)</td><td style = \"text-align: left;\">9046582:9046583</td><td style = \"text-align: right;\">2</td></tr><tr><td class = \"rowNumber\" style = \"font-weight: bold; text-align: right;\">10</td><td style = \"text-align: left;\">(232924, 259809, 301232)</td><td style = \"text-align: left;\">2999784:2999784</td><td style = \"text-align: right;\">1</td></tr><tr><td class = \"rowNumber\" style = \"font-weight: bold; text-align: right;\">11</td><td style = \"text-align: left;\">(3173552004, 3180629892, 3214053252)</td><td style = \"text-align: left;\">11635836:11635839</td><td style = \"text-align: right;\">4</td></tr><tr><td class = \"rowNumber\" style = \"font-weight: bold; text-align: right;\">12</td><td style = \"text-align: left;\">(205645, 240192, 252420)</td><td style = \"text-align: left;\">1378038:1378039</td><td style = \"text-align: right;\">2</td></tr><tr><td class = \"rowNumber\" style = \"font-weight: bold; text-align: right;\">13</td><td style = \"text-align: left;\">(349865, 562296, 677552)</td><td style = \"text-align: left;\">6775639:6775640</td><td style = \"text-align: right;\">2</td></tr><tr><td style = \"text-align: right;\">&vellip;</td><td style = \"text-align: right;\">&vellip;</td><td style = \"text-align: right;\">&vellip;</td><td style = \"text-align: right;\">&vellip;</td></tr><tr><td class = \"rowNumber\" style = \"font-weight: bold; text-align: right;\">4910065</td><td style = \"text-align: left;\">(200573, 284608, 301950)</td><td style = \"text-align: left;\">400233:400233</td><td style = \"text-align: right;\">1</td></tr><tr><td class = \"rowNumber\" style = \"font-weight: bold; text-align: right;\">4910066</td><td style = \"text-align: left;\">(238661, 270572, 346777)</td><td style = \"text-align: left;\">3509218:3509219</td><td style = \"text-align: right;\">2</td></tr><tr><td class = \"rowNumber\" style = \"font-weight: bold; text-align: right;\">4910067</td><td style = \"text-align: left;\">(346777, 667808, 70301355908)</td><td style = \"text-align: left;\">6728887:6728894</td><td style = \"text-align: right;\">8</td></tr><tr><td class = \"rowNumber\" style = \"font-weight: bold; text-align: right;\">4910068</td><td style = \"text-align: left;\">(453486, 4936863620, 21991100292)</td><td style = \"text-align: left;\">7561796:7561797</td><td style = \"text-align: right;\">2</td></tr><tr><td class = \"rowNumber\" style = \"font-weight: bold; text-align: right;\">4910069</td><td style = \"text-align: left;\">(523685, 3187511172, 3232272260)</td><td style = \"text-align: left;\">9511648:9511655</td><td style = \"text-align: right;\">8</td></tr><tr><td class = \"rowNumber\" style = \"font-weight: bold; text-align: right;\">4910070</td><td style = \"text-align: left;\">(233054, 257888, 327278)</td><td style = \"text-align: left;\">3055166:3055166</td><td style = \"text-align: right;\">1</td></tr><tr><td class = \"rowNumber\" style = \"font-weight: bold; text-align: right;\">4910071</td><td style = \"text-align: left;\">(3170340740, 3177025412, 3246165892)</td><td style = \"text-align: left;\">11263066:11263066</td><td style = \"text-align: right;\">1</td></tr><tr><td class = \"rowNumber\" style = \"font-weight: bold; text-align: right;\">4910072</td><td style = \"text-align: left;\">(200396, 295491, 11156557700)</td><td style = \"text-align: left;\">262015:262018</td><td style = \"text-align: right;\">4</td></tr><tr><td class = \"rowNumber\" style = \"font-weight: bold; text-align: right;\">4910073</td><td style = \"text-align: left;\">(238184, 296589, 17599795076)</td><td style = \"text-align: left;\">3442472:3442472</td><td style = \"text-align: right;\">1</td></tr><tr><td class = \"rowNumber\" style = \"font-weight: bold; text-align: right;\">4910074</td><td style = \"text-align: left;\">(515078, 8960577412, 12337123204)</td><td style = \"text-align: left;\">9215208:9215208</td><td style = \"text-align: right;\">1</td></tr><tr><td class = \"rowNumber\" style = \"font-weight: bold; text-align: right;\">4910075</td><td style = \"text-align: left;\">(335034, 337542, 381452)</td><td style = \"text-align: left;\">6533396:6533397</td><td style = \"text-align: right;\">2</td></tr><tr><td class = \"rowNumber\" style = \"font-weight: bold; text-align: right;\">4910076</td><td style = \"text-align: left;\">(263801, 289229, 305277)</td><td style = \"text-align: left;\">4989729:4989729</td><td style = \"text-align: right;\">1</td></tr></tbody></table></div>"
      ],
      "text/latex": [
       "\\begin{tabular}{r|ccc}\n",
       "\t& triad & inds & count\\\\\n",
       "\t\\hline\n",
       "\t& Tuple… & UnitRang… & Int64\\\\\n",
       "\t\\hline\n",
       "\t1 & (269583, 292702, 315310) & 5100059:5100062 & 4 \\\\\n",
       "\t2 & (337504, 457810, 3171913604) & 6583715:6583718 & 4 \\\\\n",
       "\t3 & (554414, 554415, 565802) & 9956220:9956221 & 2 \\\\\n",
       "\t4 & (205068, 367823, 51853889412) & 1176587:1176587 & 1 \\\\\n",
       "\t5 & (256079, 350170, 6811848580) & 4551518:4551519 & 2 \\\\\n",
       "\t6 & (247372, 284943, 2951843716) & 4310259:4310259 & 1 \\\\\n",
       "\t7 & (246739, 305660, 319864) & 4286555:4286555 & 1 \\\\\n",
       "\t8 & (280754, 293646, 538598) & 5356277:5356280 & 4 \\\\\n",
       "\t9 & (505092, 3197669252, 3206844292) & 9046582:9046583 & 2 \\\\\n",
       "\t10 & (232924, 259809, 301232) & 2999784:2999784 & 1 \\\\\n",
       "\t11 & (3173552004, 3180629892, 3214053252) & 11635836:11635839 & 4 \\\\\n",
       "\t12 & (205645, 240192, 252420) & 1378038:1378039 & 2 \\\\\n",
       "\t13 & (349865, 562296, 677552) & 6775639:6775640 & 2 \\\\\n",
       "\t14 & (210284, 240308, 407778) & 1757154:1757154 & 1 \\\\\n",
       "\t15 & (205076, 277533, 437476) & 1237217:1237218 & 2 \\\\\n",
       "\t16 & (431279, 500974, 12317069188) & 7414546:7414549 & 4 \\\\\n",
       "\t17 & (233487, 302083, 363250) & 3136061:3136068 & 8 \\\\\n",
       "\t18 & (212290, 260558, 4236611460) & 1971285:1971292 & 8 \\\\\n",
       "\t19 & (3180760964, 3188297604, 3203829636) & 12258603:12258604 & 2 \\\\\n",
       "\t20 & (297992, 543193, 658226) & 5802867:5802867 & 1 \\\\\n",
       "\t21 & (314062, 555716, 5477207940) & 6217496:6217496 & 1 \\\\\n",
       "\t22 & (3178336132, 3193606020, 3222572932) & 12126009:12126010 & 2 \\\\\n",
       "\t23 & (3162017668, 3179908996, 3254226820) & 10614439:10614439 & 1 \\\\\n",
       "\t24 & (206678, 262868, 302913) & 1500618:1500619 & 2 \\\\\n",
       "\t$\\dots$ & $\\dots$ & $\\dots$ & $\\dots$ \\\\\n",
       "\\end{tabular}\n"
      ],
      "text/plain": [
       "\u001b[1m4910076×3 DataFrame\u001b[0m\n",
       "\u001b[1m     Row \u001b[0m│\u001b[1m triad                             \u001b[0m\u001b[1m inds              \u001b[0m\u001b[1m count \u001b[0m\n",
       "         │\u001b[90m Tuple…                            \u001b[0m\u001b[90m UnitRang…         \u001b[0m\u001b[90m Int64 \u001b[0m\n",
       "─────────┼─────────────────────────────────────────────────────────────\n",
       "       1 │ (269583, 292702, 315310)           5100059:5100062        4\n",
       "       2 │ (337504, 457810, 3171913604)       6583715:6583718        4\n",
       "       3 │ (554414, 554415, 565802)           9956220:9956221        2\n",
       "       4 │ (205068, 367823, 51853889412)      1176587:1176587        1\n",
       "       5 │ (256079, 350170, 6811848580)       4551518:4551519        2\n",
       "       6 │ (247372, 284943, 2951843716)       4310259:4310259        1\n",
       "       7 │ (246739, 305660, 319864)           4286555:4286555        1\n",
       "       8 │ (280754, 293646, 538598)           5356277:5356280        4\n",
       "    ⋮    │                 ⋮                          ⋮            ⋮\n",
       " 4910070 │ (233054, 257888, 327278)           3055166:3055166        1\n",
       " 4910071 │ (3170340740, 3177025412, 3246165…  11263066:11263066      1\n",
       " 4910072 │ (200396, 295491, 11156557700)      262015:262018          4\n",
       " 4910073 │ (238184, 296589, 17599795076)      3442472:3442472        1\n",
       " 4910074 │ (515078, 8960577412, 12337123204)  9215208:9215208        1\n",
       " 4910075 │ (335034, 337542, 381452)           6533396:6533397        2\n",
       " 4910076 │ (263801, 289229, 305277)           4989729:4989729        1\n",
       "\u001b[36m                                                   4910061 rows omitted\u001b[0m"
      ]
     },
     "metadata": {},
     "output_type": "display_data"
    }
   ],
   "source": [
    "# create dataframe from dict\n",
    "df_all_triads_dict = DataFrame(triad = collect(keys(all_triads_dict)), inds = collect(values(all_triads_dict)),\n",
    "                           count = length.(collect(values(all_triads_dict))))\n",
    "\n",
    "# collect(keys(triads_dict))"
   ]
  },
  {
   "cell_type": "code",
   "execution_count": null,
   "metadata": {},
   "outputs": [],
   "source": [
    "# add columns with the type of triad (transitive or cyclic) and inds in the source dataframe\n",
    "\n",
    "# length(triads), length(cyclic_triads), length(all_triads)\n",
    "\n",
    "df_all_triads_dict[!, \"proper_inds\"]\n",
    "\n",
    "df_all_triads_dict[!, \"triad_type\"] = [(inds .> length(triads)) .+ 1 for inds in df_all_triads_dict.inds]\n",
    "\n",
    "df_all_triads_dict[!, \"exact_inds\"] = [inds .- length(triads) .* (type .- 1) for (inds, type) in zip(df_all_triads_dict.inds, df_all_triads_dict.triad_type)]\n",
    "\n",
    "first(df_all_triads_dict, 5)"
   ]
  },
  {
   "cell_type": "code",
   "execution_count": 51,
   "metadata": {},
   "outputs": [
    {
     "data": {
      "text/plain": [
       "(1769, 2504, 3456)"
      ]
     },
     "metadata": {},
     "output_type": "display_data"
    }
   ],
   "source": [
    "# test\n",
    "cyclic_triads[18406]"
   ]
  },
  {
   "cell_type": "code",
   "execution_count": 50,
   "metadata": {},
   "outputs": [
    {
     "name": "stdout",
     "output_type": "stream",
     "text": [
      "[1542, 1628, 2193]\n"
     ]
    },
    {
     "data": {
      "text/plain": [
       "2-element Vector{Tuple{Int64, Int64, Int64}}:\n",
       " (1628, 1542, 2193)\n",
       " (1542, 1628, 2193)"
      ]
     },
     "metadata": {},
     "output_type": "display_data"
    }
   ],
   "source": [
    "println(df_triads_dict.triad[2])\n",
    "\n",
    "triads[triads_dict[df_triads_dict.triad[2]]]"
   ]
  },
  {
   "cell_type": "code",
   "execution_count": 74,
   "metadata": {},
   "outputs": [
    {
     "data": {
      "text/plain": [
       "8-element Vector{Int64}:\n",
       " 0\n",
       " 0\n",
       " 0\n",
       " 0\n",
       " 0\n",
       " 0\n",
       " 0\n",
       " 2"
      ]
     },
     "metadata": {},
     "output_type": "display_data"
    }
   ],
   "source": [
    "using PyCall\n",
    "\n",
    "i = 1\n",
    "triad = df_all_triads_dict.triad[i]\n",
    "types = df_all_triads_dict.triad_type[i]\n",
    "inds = df_all_triads_dict.inds[i]\n",
    "exact_inds = df_all_triads_dict.exact_inds[i]\n",
    "\n",
    "# get triad list\n",
    "sources = [triads, cyclic_triads]\n",
    "type_sources = sources[types]\n",
    "# triad_list = sources[types][exact_inds]\n",
    "triad_list = [triad_source[exact_ind] for (triad_source, exact_ind) in zip(type_sources, exact_inds)]\n",
    "# triad_list = triads[inds]\n",
    "\n",
    "# get edges from triad list\n",
    "get_transitive_edges(triad) = [(triad[1], triad[2]), (triad[2], triad[3]), (triad[1], triad[3])]\n",
    "get_cyclic_edges(triad) = [(triad[1], triad[2]), (triad[2], triad[3]), (triad[3], triad[1])]\n",
    "function get_edges(triad, type)\n",
    "    if type == 1\n",
    "        return get_transitive_edges(triad)\n",
    "    elseif type == 2\n",
    "        return get_cyclic_edges(triad)\n",
    "    end\n",
    "end\n",
    "# function get_edges.(triad_list, types)\n",
    "#     return [get_edges(triad, type) for (triad, type) in zip(triad_list, types)]\n",
    "# end\n",
    "\n",
    "# type_funs = [get_transitive_edges, get_cyclic_edges]\n",
    "edges_list = get_edges.(triad_list, types)\n",
    "edges_list = reduce(vcat, edges_list)\n",
    "unique_edges = unique(edges_list)\n",
    "\n",
    "py\"\"\"\n",
    "import networkx as nx\n",
    "\"\"\"\n",
    "\n",
    "G = py\"nx.DiGraph\"([edges_list...])\n",
    "\n",
    "# print(G.edges)\n",
    "\n",
    "triad_census = py\"nx.triadic_census\"(G)\n",
    "\n",
    "triad_census_triads = collect(keys(triad_census))\n",
    "\n",
    "tc_ind = collect(values(triad_census)) .== 1\n",
    "\n",
    "triad_census_triads[tc_ind][1]\n",
    "\n",
    "# get signed triad type\n",
    "sign_vals_s = values(df_all_triads[inds, 4:6])\n",
    "sign_vals_s = Matrix(sign_vals_s)\n",
    "sign_vals_s = mapslices(x->[x], sign_vals_s, dims=2)[:]\n",
    "\n",
    "n_arr = zeros(Int, 8)\n",
    "\n",
    "for sign_vals in sign_vals_s\n",
    "    connections_values = sign_vals .== 1\n",
    "    n_arr[connections_values[1]*4 + connections_values[3]*2 + connections_values[2]+1] += 1\n",
    "end\n",
    "n_arr\n",
    "# n_arr"
   ]
  },
  {
   "cell_type": "code",
   "execution_count": 104,
   "metadata": {},
   "outputs": [
    {
     "data": {
      "text/plain": [
       "8-element Vector{Int64}:\n",
       " 0\n",
       " 0\n",
       " 0\n",
       " 0\n",
       " 0\n",
       " 0\n",
       " 0\n",
       " 2"
      ]
     },
     "metadata": {},
     "output_type": "display_data"
    }
   ],
   "source": [
    "using PyCall\n",
    "\n",
    "i = 2\n",
    "triad = df_triads_dict.triad[i]\n",
    "inds = df_triads_dict.inds[i]\n",
    "\n",
    "# get triad list\n",
    "triad_list = triads[inds]\n",
    "\n",
    "# get edges from triad list\n",
    "edges_list = [[(triad[1], triad[2]), (triad[2], triad[3]), (triad[1], triad[3])] for triad in triad_list]\n",
    "edges_list = reduce(vcat, edges_list)\n",
    "unique_edges = unique(edges_list)\n",
    "\n",
    "py\"\"\"\n",
    "import networkx as nx\n",
    "\"\"\"\n",
    "\n",
    "G = py\"nx.DiGraph\"([unique_edges...])\n",
    "\n",
    "# print(G.edges)\n",
    "\n",
    "triad_census = py\"nx.triadic_census\"(G)\n",
    "\n",
    "triad_census_triads = collect(keys(triad_census))\n",
    "\n",
    "tc_ind = collect(values(triad_census)) .== 1\n",
    "\n",
    "triad_census_triads[tc_ind]\n",
    "\n",
    "# get signed triad type\n",
    "sign_vals_s = values(df_triads[inds, 4:6])\n",
    "sign_vals_s = Matrix(sign_vals_s)\n",
    "sign_vals_s = mapslices(x->[x], sign_vals_s, dims=2)[:]\n",
    "\n",
    "n_arr = zeros(Int, 8)\n",
    "\n",
    "for sign_vals in sign_vals_s\n",
    "    connections_values = sign_vals .== 1\n",
    "    n_arr[connections_values[1]*4 + connections_values[3]*2 + connections_values[2]+1] += 1\n",
    "end\n",
    "n_arr"
   ]
  },
  {
   "cell_type": "code",
   "execution_count": 107,
   "metadata": {},
   "outputs": [
    {
     "data": {
      "text/plain": [
       "true"
      ]
     },
     "metadata": {},
     "output_type": "display_data"
    }
   ],
   "source": [
    "values(sign_vals)\n",
    "mm = Matrix(sign_vals)\n",
    "sign_vals_s = mapslices(x->[x], mm, dims=2)[:]\n",
    "\n",
    "all(prod.(sign_vals_s) .== 1)"
   ]
  },
  {
   "cell_type": "code",
   "execution_count": null,
   "metadata": {},
   "outputs": [
    {
     "name": "stdout",
     "output_type": "stream",
     "text": [
      "Processed 100000 triads\n",
      "Processed 200000 triads\n",
      "Processed 300000 triads\n",
      "Processed 400000 triads\n",
      "Processed 500000 triads\n",
      "Processed 600000 triads\n"
     ]
    }
   ],
   "source": [
    "using PyCall\n",
    "py\"\"\"\n",
    "import networkx as nx\n",
    "\"\"\"\n",
    "\n",
    "G = py\"nx.DiGraph\"()\n",
    "\n",
    "triad_census = py\"nx.triadic_census\"(G)\n",
    "triad_census_triads = collect(keys(triad_census))\n",
    "\n",
    "# signed triad types:\n",
    "n_arr_dict = Dict( triad_census_triads .=> [zeros(Int, 8) for _ in 1:length(triad_census_triads)])\n",
    "n_bal_dict = Dict( triad_census_triads .=> [0 for _ in 1:length(triad_census_triads)])\n",
    "n_hier_dict = Dict( triad_census_triads .=> [0 for _ in 1:length(triad_census_triads)])\n",
    "n_tot_dict = Dict( triad_census_triads .=> [0 for _ in 1:length(triad_census_triads)])\n",
    "\n",
    "counter = 0\n",
    "inform_after = 100000\n",
    "for (triad, inds, count) in eachrow(df_triads_dict)\n",
    "    triad_list = triads[inds]\n",
    "\n",
    "    # get edges list from triad list\n",
    "    edges_list = [[(triad[1], triad[2]), (triad[2], triad[3]), (triad[1], triad[3])] for triad in triad_list]\n",
    "    edges_list = reduce(vcat, edges_list)\n",
    "    unique_edges = unique(edges_list)\n",
    "\n",
    "    # call Python from julia, use networkx to get triad census on subgraphs\n",
    "    G = py\"nx.DiGraph\"([unique_edges...])\n",
    "    triad_census = py\"nx.triadic_census\"(G)\n",
    "    triad_census_triads = collect(keys(triad_census))\n",
    "    tc_ind = collect(values(triad_census)) .== 1\n",
    "    triad_type = triad_census_triads[tc_ind][1]\n",
    "\n",
    "    # get signed triad type\n",
    "    sign_vals_s = values(df_triads[inds, 4:6])\n",
    "    sign_vals_s = Matrix(sign_vals_s)\n",
    "    sign_vals_s = mapslices(x->[x], sign_vals_s, dims=2)[:]\n",
    "\n",
    "    # n_arr = zeros(Int, 8)\n",
    "\n",
    "    hier = true\n",
    "    for sign_vals in sign_vals_s\n",
    "        connections_values = sign_vals .== 1\n",
    "        signed_triad_type = connections_values[1]*4 + connections_values[3]*2 + connections_values[2]+1\n",
    "        n_arr_dict[triad_type][signed_triad_type] += 1\n",
    "\n",
    "        if signed_triad_type == 3 || signed_triad_type == 6\n",
    "            hier = false\n",
    "        end\n",
    "    end\n",
    "    n_tot_dict[triad_type] += 1\n",
    "    n_bal_dict[triad_type] += all(prod.(sign_vals_s) .== 1)\n",
    "    n_hier_dict[triad_type] += hier\n",
    "\n",
    "    # n_arr\n",
    "\n",
    "    # println(triad_list, inds)\n",
    "    counter += 1\n",
    "    # if counter > 5000\n",
    "    #     break\n",
    "    # end\n",
    "    if counter % inform_after == 0\n",
    "        # print time\n",
    "        # print()\n",
    "        println(\"Processed $counter triads\")\n",
    "    end\n",
    "end"
   ]
  },
  {
   "cell_type": "code",
   "execution_count": 126,
   "metadata": {},
   "outputs": [
    {
     "data": {
      "text/html": [
       "<div><div style = \"float: left;\"><span>16×5 DataFrame</span></div><div style = \"clear: both;\"></div></div><div class = \"data-frame\" style = \"overflow-x: scroll;\"><table class = \"data-frame\" style = \"margin-bottom: 6px;\"><thead><tr class = \"header\"><th class = \"rowNumber\" style = \"font-weight: bold; text-align: right;\">Row</th><th style = \"text-align: left;\">triad</th><th style = \"text-align: left;\">n_arr</th><th style = \"text-align: left;\">n_bal</th><th style = \"text-align: left;\">n_hier</th><th style = \"text-align: left;\">n_tot</th></tr><tr class = \"subheader headerLastRow\"><th class = \"rowNumber\" style = \"font-weight: bold; text-align: right;\"></th><th title = \"String\" style = \"text-align: left;\">String</th><th title = \"Vector{Int64}\" style = \"text-align: left;\">Array…</th><th title = \"Int64\" style = \"text-align: left;\">Int64</th><th title = \"Int64\" style = \"text-align: left;\">Int64</th><th title = \"Int64\" style = \"text-align: left;\">Int64</th></tr></thead><tbody><tr><td class = \"rowNumber\" style = \"font-weight: bold; text-align: right;\">1</td><td style = \"text-align: left;\">030C</td><td style = \"text-align: left;\">[0, 0, 0, 0, 0, 0, 0, 0]</td><td style = \"text-align: right;\">0</td><td style = \"text-align: right;\">0</td><td style = \"text-align: right;\">0</td></tr><tr><td class = \"rowNumber\" style = \"font-weight: bold; text-align: right;\">2</td><td style = \"text-align: left;\">111U</td><td style = \"text-align: left;\">[0, 0, 0, 0, 0, 0, 0, 0]</td><td style = \"text-align: right;\">0</td><td style = \"text-align: right;\">0</td><td style = \"text-align: right;\">0</td></tr><tr><td class = \"rowNumber\" style = \"font-weight: bold; text-align: right;\">3</td><td style = \"text-align: left;\">120D</td><td style = \"text-align: left;\">[656, 2718, 804, 5957, 1529, 5232, 3536, 70680]</td><td style = \"text-align: right;\">35682</td><td style = \"text-align: right;\">39837</td><td style = \"text-align: right;\">45556</td></tr><tr><td class = \"rowNumber\" style = \"font-weight: bold; text-align: right;\">4</td><td style = \"text-align: left;\">120C</td><td style = \"text-align: left;\">[0, 0, 0, 0, 0, 0, 0, 0]</td><td style = \"text-align: right;\">0</td><td style = \"text-align: right;\">0</td><td style = \"text-align: right;\">0</td></tr><tr><td class = \"rowNumber\" style = \"font-weight: bold; text-align: right;\">5</td><td style = \"text-align: left;\">201</td><td style = \"text-align: left;\">[0, 0, 0, 0, 0, 0, 0, 0]</td><td style = \"text-align: right;\">0</td><td style = \"text-align: right;\">0</td><td style = \"text-align: right;\">0</td></tr><tr><td class = \"rowNumber\" style = \"font-weight: bold; text-align: right;\">6</td><td style = \"text-align: left;\">111D</td><td style = \"text-align: left;\">[0, 0, 0, 0, 0, 0, 0, 0]</td><td style = \"text-align: right;\">0</td><td style = \"text-align: right;\">0</td><td style = \"text-align: right;\">0</td></tr><tr><td class = \"rowNumber\" style = \"font-weight: bold; text-align: right;\">7</td><td style = \"text-align: left;\">210</td><td style = \"text-align: left;\">[148, 598, 344, 2666, 782, 2092, 2452, 36743]</td><td style = \"text-align: right;\">11150</td><td style = \"text-align: right;\">13025</td><td style = \"text-align: right;\">15275</td></tr><tr><td class = \"rowNumber\" style = \"font-weight: bold; text-align: right;\">8</td><td style = \"text-align: left;\">003</td><td style = \"text-align: left;\">[0, 0, 0, 0, 0, 0, 0, 0]</td><td style = \"text-align: right;\">0</td><td style = \"text-align: right;\">0</td><td style = \"text-align: right;\">0</td></tr><tr><td class = \"rowNumber\" style = \"font-weight: bold; text-align: right;\">9</td><td style = \"text-align: left;\">012</td><td style = \"text-align: left;\">[0, 0, 0, 0, 0, 0, 0, 0]</td><td style = \"text-align: right;\">0</td><td style = \"text-align: right;\">0</td><td style = \"text-align: right;\">0</td></tr><tr><td class = \"rowNumber\" style = \"font-weight: bold; text-align: right;\">10</td><td style = \"text-align: left;\">021D</td><td style = \"text-align: left;\">[0, 0, 0, 0, 0, 0, 0, 0]</td><td style = \"text-align: right;\">0</td><td style = \"text-align: right;\">0</td><td style = \"text-align: right;\">0</td></tr><tr><td class = \"rowNumber\" style = \"font-weight: bold; text-align: right;\">11</td><td style = \"text-align: left;\">030T</td><td style = \"text-align: left;\">[6514, 13263, 5504, 35228, 25815, 30559, 40075, 323388]</td><td style = \"text-align: right;\">367970</td><td style = \"text-align: right;\">444283</td><td style = \"text-align: right;\">480346</td></tr><tr><td class = \"rowNumber\" style = \"font-weight: bold; text-align: right;\">12</td><td style = \"text-align: left;\">021U</td><td style = \"text-align: left;\">[0, 0, 0, 0, 0, 0, 0, 0]</td><td style = \"text-align: right;\">0</td><td style = \"text-align: right;\">0</td><td style = \"text-align: right;\">0</td></tr><tr><td class = \"rowNumber\" style = \"font-weight: bold; text-align: right;\">13</td><td style = \"text-align: left;\">300</td><td style = \"text-align: left;\">[30, 106, 43, 514, 100, 457, 520, 10944]</td><td style = \"text-align: right;\">1626</td><td style = \"text-align: right;\">1688</td><td style = \"text-align: right;\">2119</td></tr><tr><td class = \"rowNumber\" style = \"font-weight: bold; text-align: right;\">14</td><td style = \"text-align: left;\">102</td><td style = \"text-align: left;\">[0, 0, 0, 0, 0, 0, 0, 0]</td><td style = \"text-align: right;\">0</td><td style = \"text-align: right;\">0</td><td style = \"text-align: right;\">0</td></tr><tr><td class = \"rowNumber\" style = \"font-weight: bold; text-align: right;\">15</td><td style = \"text-align: left;\">021C</td><td style = \"text-align: left;\">[0, 0, 0, 0, 0, 0, 0, 0]</td><td style = \"text-align: right;\">0</td><td style = \"text-align: right;\">0</td><td style = \"text-align: right;\">0</td></tr><tr><td class = \"rowNumber\" style = \"font-weight: bold; text-align: right;\">16</td><td style = \"text-align: left;\">120U</td><td style = \"text-align: left;\">[1009, 1951, 819, 5918, 7351, 8119, 9251, 82100]</td><td style = \"text-align: right;\">42431</td><td style = \"text-align: right;\">49706</td><td style = \"text-align: right;\">58259</td></tr></tbody></table></div>"
      ],
      "text/latex": [
       "\\begin{tabular}{r|ccccc}\n",
       "\t& triad & n\\_arr & n\\_bal & n\\_hier & \\\\\n",
       "\t\\hline\n",
       "\t& String & Array… & Int64 & Int64 & \\\\\n",
       "\t\\hline\n",
       "\t1 & 030C & [0, 0, 0, 0, 0, 0, 0, 0] & 0 & 0 & $\\dots$ \\\\\n",
       "\t2 & 111U & [0, 0, 0, 0, 0, 0, 0, 0] & 0 & 0 & $\\dots$ \\\\\n",
       "\t3 & 120D & [656, 2718, 804, 5957, 1529, 5232, 3536, 70680] & 35682 & 39837 & $\\dots$ \\\\\n",
       "\t4 & 120C & [0, 0, 0, 0, 0, 0, 0, 0] & 0 & 0 & $\\dots$ \\\\\n",
       "\t5 & 201 & [0, 0, 0, 0, 0, 0, 0, 0] & 0 & 0 & $\\dots$ \\\\\n",
       "\t6 & 111D & [0, 0, 0, 0, 0, 0, 0, 0] & 0 & 0 & $\\dots$ \\\\\n",
       "\t7 & 210 & [148, 598, 344, 2666, 782, 2092, 2452, 36743] & 11150 & 13025 & $\\dots$ \\\\\n",
       "\t8 & 003 & [0, 0, 0, 0, 0, 0, 0, 0] & 0 & 0 & $\\dots$ \\\\\n",
       "\t9 & 012 & [0, 0, 0, 0, 0, 0, 0, 0] & 0 & 0 & $\\dots$ \\\\\n",
       "\t10 & 021D & [0, 0, 0, 0, 0, 0, 0, 0] & 0 & 0 & $\\dots$ \\\\\n",
       "\t11 & 030T & [6514, 13263, 5504, 35228, 25815, 30559, 40075, 323388] & 367970 & 444283 & $\\dots$ \\\\\n",
       "\t12 & 021U & [0, 0, 0, 0, 0, 0, 0, 0] & 0 & 0 & $\\dots$ \\\\\n",
       "\t13 & 300 & [30, 106, 43, 514, 100, 457, 520, 10944] & 1626 & 1688 & $\\dots$ \\\\\n",
       "\t14 & 102 & [0, 0, 0, 0, 0, 0, 0, 0] & 0 & 0 & $\\dots$ \\\\\n",
       "\t15 & 021C & [0, 0, 0, 0, 0, 0, 0, 0] & 0 & 0 & $\\dots$ \\\\\n",
       "\t16 & 120U & [1009, 1951, 819, 5918, 7351, 8119, 9251, 82100] & 42431 & 49706 & $\\dots$ \\\\\n",
       "\\end{tabular}\n"
      ],
      "text/plain": [
       "\u001b[1m16×5 DataFrame\u001b[0m\n",
       "\u001b[1m Row \u001b[0m│\u001b[1m triad  \u001b[0m\u001b[1m n_arr                             \u001b[0m\u001b[1m n_bal  \u001b[0m\u001b[1m n_hier \u001b[0m\u001b[1m n_tot  \u001b[0m\n",
       "     │\u001b[90m String \u001b[0m\u001b[90m Array…                            \u001b[0m\u001b[90m Int64  \u001b[0m\u001b[90m Int64  \u001b[0m\u001b[90m Int64  \u001b[0m\n",
       "─────┼───────────────────────────────────────────────────────────────────\n",
       "   1 │ 030C    [0, 0, 0, 0, 0, 0, 0, 0]                0       0       0\n",
       "   2 │ 111U    [0, 0, 0, 0, 0, 0, 0, 0]                0       0       0\n",
       "   3 │ 120D    [656, 2718, 804, 5957, 1529, 523…   35682   39837   45556\n",
       "   4 │ 120C    [0, 0, 0, 0, 0, 0, 0, 0]                0       0       0\n",
       "   5 │ 201     [0, 0, 0, 0, 0, 0, 0, 0]                0       0       0\n",
       "   6 │ 111D    [0, 0, 0, 0, 0, 0, 0, 0]                0       0       0\n",
       "   7 │ 210     [148, 598, 344, 2666, 782, 2092,…   11150   13025   15275\n",
       "   8 │ 003     [0, 0, 0, 0, 0, 0, 0, 0]                0       0       0\n",
       "   9 │ 012     [0, 0, 0, 0, 0, 0, 0, 0]                0       0       0\n",
       "  10 │ 021D    [0, 0, 0, 0, 0, 0, 0, 0]                0       0       0\n",
       "  11 │ 030T    [6514, 13263, 5504, 35228, 25815…  367970  444283  480346\n",
       "  12 │ 021U    [0, 0, 0, 0, 0, 0, 0, 0]                0       0       0\n",
       "  13 │ 300     [30, 106, 43, 514, 100, 457, 520…    1626    1688    2119\n",
       "  14 │ 102     [0, 0, 0, 0, 0, 0, 0, 0]                0       0       0\n",
       "  15 │ 021C    [0, 0, 0, 0, 0, 0, 0, 0]                0       0       0\n",
       "  16 │ 120U    [1009, 1951, 819, 5918, 7351, 81…   42431   49706   58259"
      ]
     },
     "metadata": {},
     "output_type": "display_data"
    }
   ],
   "source": [
    "# create dataframe from dicts\n",
    "\n",
    "df_n_arr = DataFrame(triad = collect(keys(n_arr_dict)), n_arr = collect(values(n_arr_dict)),\n",
    "                     n_bal = collect(values(n_bal_dict)), n_hier = collect(values(n_hier_dict)),\n",
    "                     n_tot = collect(values(n_tot_dict)))"
   ]
  },
  {
   "cell_type": "code",
   "execution_count": 128,
   "metadata": {},
   "outputs": [
    {
     "data": {
      "text/html": [
       "<div><div style = \"float: left;\"><span>16×7 DataFrame</span></div><div style = \"clear: both;\"></div></div><div class = \"data-frame\" style = \"overflow-x: scroll;\"><table class = \"data-frame\" style = \"margin-bottom: 6px;\"><thead><tr class = \"header\"><th class = \"rowNumber\" style = \"font-weight: bold; text-align: right;\">Row</th><th style = \"text-align: left;\">triad</th><th style = \"text-align: left;\">n_arr</th><th style = \"text-align: left;\">n_bal</th><th style = \"text-align: left;\">n_hier</th><th style = \"text-align: left;\">n_tot</th><th style = \"text-align: left;\">per_bal</th><th style = \"text-align: left;\">per_hier</th></tr><tr class = \"subheader headerLastRow\"><th class = \"rowNumber\" style = \"font-weight: bold; text-align: right;\"></th><th title = \"String\" style = \"text-align: left;\">String</th><th title = \"Vector{Int64}\" style = \"text-align: left;\">Array…</th><th title = \"Int64\" style = \"text-align: left;\">Int64</th><th title = \"Int64\" style = \"text-align: left;\">Int64</th><th title = \"Int64\" style = \"text-align: left;\">Int64</th><th title = \"Float64\" style = \"text-align: left;\">Float64</th><th title = \"Float64\" style = \"text-align: left;\">Float64</th></tr></thead><tbody><tr><td class = \"rowNumber\" style = \"font-weight: bold; text-align: right;\">1</td><td style = \"text-align: left;\">030C</td><td style = \"text-align: left;\">[0, 0, 0, 0, 0, 0, 0, 0]</td><td style = \"text-align: right;\">0</td><td style = \"text-align: right;\">0</td><td style = \"text-align: right;\">0</td><td style = \"text-align: right;\">NaN</td><td style = \"text-align: right;\">NaN</td></tr><tr><td class = \"rowNumber\" style = \"font-weight: bold; text-align: right;\">2</td><td style = \"text-align: left;\">111U</td><td style = \"text-align: left;\">[0, 0, 0, 0, 0, 0, 0, 0]</td><td style = \"text-align: right;\">0</td><td style = \"text-align: right;\">0</td><td style = \"text-align: right;\">0</td><td style = \"text-align: right;\">NaN</td><td style = \"text-align: right;\">NaN</td></tr><tr><td class = \"rowNumber\" style = \"font-weight: bold; text-align: right;\">3</td><td style = \"text-align: left;\">120D</td><td style = \"text-align: left;\">[656, 2718, 804, 5957, 1529, 5232, 3536, 70680]</td><td style = \"text-align: right;\">35682</td><td style = \"text-align: right;\">39837</td><td style = \"text-align: right;\">45556</td><td style = \"text-align: right;\">0.783256</td><td style = \"text-align: right;\">0.874462</td></tr><tr><td class = \"rowNumber\" style = \"font-weight: bold; text-align: right;\">4</td><td style = \"text-align: left;\">120C</td><td style = \"text-align: left;\">[0, 0, 0, 0, 0, 0, 0, 0]</td><td style = \"text-align: right;\">0</td><td style = \"text-align: right;\">0</td><td style = \"text-align: right;\">0</td><td style = \"text-align: right;\">NaN</td><td style = \"text-align: right;\">NaN</td></tr><tr><td class = \"rowNumber\" style = \"font-weight: bold; text-align: right;\">5</td><td style = \"text-align: left;\">201</td><td style = \"text-align: left;\">[0, 0, 0, 0, 0, 0, 0, 0]</td><td style = \"text-align: right;\">0</td><td style = \"text-align: right;\">0</td><td style = \"text-align: right;\">0</td><td style = \"text-align: right;\">NaN</td><td style = \"text-align: right;\">NaN</td></tr><tr><td class = \"rowNumber\" style = \"font-weight: bold; text-align: right;\">6</td><td style = \"text-align: left;\">111D</td><td style = \"text-align: left;\">[0, 0, 0, 0, 0, 0, 0, 0]</td><td style = \"text-align: right;\">0</td><td style = \"text-align: right;\">0</td><td style = \"text-align: right;\">0</td><td style = \"text-align: right;\">NaN</td><td style = \"text-align: right;\">NaN</td></tr><tr><td class = \"rowNumber\" style = \"font-weight: bold; text-align: right;\">7</td><td style = \"text-align: left;\">210</td><td style = \"text-align: left;\">[148, 598, 344, 2666, 782, 2092, 2452, 36743]</td><td style = \"text-align: right;\">11150</td><td style = \"text-align: right;\">13025</td><td style = \"text-align: right;\">15275</td><td style = \"text-align: right;\">0.729951</td><td style = \"text-align: right;\">0.8527</td></tr><tr><td class = \"rowNumber\" style = \"font-weight: bold; text-align: right;\">8</td><td style = \"text-align: left;\">003</td><td style = \"text-align: left;\">[0, 0, 0, 0, 0, 0, 0, 0]</td><td style = \"text-align: right;\">0</td><td style = \"text-align: right;\">0</td><td style = \"text-align: right;\">0</td><td style = \"text-align: right;\">NaN</td><td style = \"text-align: right;\">NaN</td></tr><tr><td class = \"rowNumber\" style = \"font-weight: bold; text-align: right;\">9</td><td style = \"text-align: left;\">012</td><td style = \"text-align: left;\">[0, 0, 0, 0, 0, 0, 0, 0]</td><td style = \"text-align: right;\">0</td><td style = \"text-align: right;\">0</td><td style = \"text-align: right;\">0</td><td style = \"text-align: right;\">NaN</td><td style = \"text-align: right;\">NaN</td></tr><tr><td class = \"rowNumber\" style = \"font-weight: bold; text-align: right;\">10</td><td style = \"text-align: left;\">021D</td><td style = \"text-align: left;\">[0, 0, 0, 0, 0, 0, 0, 0]</td><td style = \"text-align: right;\">0</td><td style = \"text-align: right;\">0</td><td style = \"text-align: right;\">0</td><td style = \"text-align: right;\">NaN</td><td style = \"text-align: right;\">NaN</td></tr><tr><td class = \"rowNumber\" style = \"font-weight: bold; text-align: right;\">11</td><td style = \"text-align: left;\">030T</td><td style = \"text-align: left;\">[6514, 13263, 5504, 35228, 25815, 30559, 40075, 323388]</td><td style = \"text-align: right;\">367970</td><td style = \"text-align: right;\">444283</td><td style = \"text-align: right;\">480346</td><td style = \"text-align: right;\">0.766052</td><td style = \"text-align: right;\">0.924923</td></tr><tr><td class = \"rowNumber\" style = \"font-weight: bold; text-align: right;\">12</td><td style = \"text-align: left;\">021U</td><td style = \"text-align: left;\">[0, 0, 0, 0, 0, 0, 0, 0]</td><td style = \"text-align: right;\">0</td><td style = \"text-align: right;\">0</td><td style = \"text-align: right;\">0</td><td style = \"text-align: right;\">NaN</td><td style = \"text-align: right;\">NaN</td></tr><tr><td class = \"rowNumber\" style = \"font-weight: bold; text-align: right;\">13</td><td style = \"text-align: left;\">300</td><td style = \"text-align: left;\">[30, 106, 43, 514, 100, 457, 520, 10944]</td><td style = \"text-align: right;\">1626</td><td style = \"text-align: right;\">1688</td><td style = \"text-align: right;\">2119</td><td style = \"text-align: right;\">0.767343</td><td style = \"text-align: right;\">0.796602</td></tr><tr><td class = \"rowNumber\" style = \"font-weight: bold; text-align: right;\">14</td><td style = \"text-align: left;\">102</td><td style = \"text-align: left;\">[0, 0, 0, 0, 0, 0, 0, 0]</td><td style = \"text-align: right;\">0</td><td style = \"text-align: right;\">0</td><td style = \"text-align: right;\">0</td><td style = \"text-align: right;\">NaN</td><td style = \"text-align: right;\">NaN</td></tr><tr><td class = \"rowNumber\" style = \"font-weight: bold; text-align: right;\">15</td><td style = \"text-align: left;\">021C</td><td style = \"text-align: left;\">[0, 0, 0, 0, 0, 0, 0, 0]</td><td style = \"text-align: right;\">0</td><td style = \"text-align: right;\">0</td><td style = \"text-align: right;\">0</td><td style = \"text-align: right;\">NaN</td><td style = \"text-align: right;\">NaN</td></tr><tr><td class = \"rowNumber\" style = \"font-weight: bold; text-align: right;\">16</td><td style = \"text-align: left;\">120U</td><td style = \"text-align: left;\">[1009, 1951, 819, 5918, 7351, 8119, 9251, 82100]</td><td style = \"text-align: right;\">42431</td><td style = \"text-align: right;\">49706</td><td style = \"text-align: right;\">58259</td><td style = \"text-align: right;\">0.728317</td><td style = \"text-align: right;\">0.85319</td></tr></tbody></table></div>"
      ],
      "text/latex": [
       "\\begin{tabular}{r|ccccc}\n",
       "\t& triad & n\\_arr & n\\_bal & n\\_hier & \\\\\n",
       "\t\\hline\n",
       "\t& String & Array… & Int64 & Int64 & \\\\\n",
       "\t\\hline\n",
       "\t1 & 030C & [0, 0, 0, 0, 0, 0, 0, 0] & 0 & 0 & $\\dots$ \\\\\n",
       "\t2 & 111U & [0, 0, 0, 0, 0, 0, 0, 0] & 0 & 0 & $\\dots$ \\\\\n",
       "\t3 & 120D & [656, 2718, 804, 5957, 1529, 5232, 3536, 70680] & 35682 & 39837 & $\\dots$ \\\\\n",
       "\t4 & 120C & [0, 0, 0, 0, 0, 0, 0, 0] & 0 & 0 & $\\dots$ \\\\\n",
       "\t5 & 201 & [0, 0, 0, 0, 0, 0, 0, 0] & 0 & 0 & $\\dots$ \\\\\n",
       "\t6 & 111D & [0, 0, 0, 0, 0, 0, 0, 0] & 0 & 0 & $\\dots$ \\\\\n",
       "\t7 & 210 & [148, 598, 344, 2666, 782, 2092, 2452, 36743] & 11150 & 13025 & $\\dots$ \\\\\n",
       "\t8 & 003 & [0, 0, 0, 0, 0, 0, 0, 0] & 0 & 0 & $\\dots$ \\\\\n",
       "\t9 & 012 & [0, 0, 0, 0, 0, 0, 0, 0] & 0 & 0 & $\\dots$ \\\\\n",
       "\t10 & 021D & [0, 0, 0, 0, 0, 0, 0, 0] & 0 & 0 & $\\dots$ \\\\\n",
       "\t11 & 030T & [6514, 13263, 5504, 35228, 25815, 30559, 40075, 323388] & 367970 & 444283 & $\\dots$ \\\\\n",
       "\t12 & 021U & [0, 0, 0, 0, 0, 0, 0, 0] & 0 & 0 & $\\dots$ \\\\\n",
       "\t13 & 300 & [30, 106, 43, 514, 100, 457, 520, 10944] & 1626 & 1688 & $\\dots$ \\\\\n",
       "\t14 & 102 & [0, 0, 0, 0, 0, 0, 0, 0] & 0 & 0 & $\\dots$ \\\\\n",
       "\t15 & 021C & [0, 0, 0, 0, 0, 0, 0, 0] & 0 & 0 & $\\dots$ \\\\\n",
       "\t16 & 120U & [1009, 1951, 819, 5918, 7351, 8119, 9251, 82100] & 42431 & 49706 & $\\dots$ \\\\\n",
       "\\end{tabular}\n"
      ],
      "text/plain": [
       "\u001b[1m16×7 DataFrame\u001b[0m\n",
       "\u001b[1m Row \u001b[0m│\u001b[1m triad  \u001b[0m\u001b[1m n_arr                             \u001b[0m\u001b[1m n_bal  \u001b[0m\u001b[1m n_hier \u001b[0m\u001b[1m n_tot  \u001b[0m\u001b[1m per_\u001b[0m ⋯\n",
       "     │\u001b[90m String \u001b[0m\u001b[90m Array…                            \u001b[0m\u001b[90m Int64  \u001b[0m\u001b[90m Int64  \u001b[0m\u001b[90m Int64  \u001b[0m\u001b[90m Floa\u001b[0m ⋯\n",
       "─────┼──────────────────────────────────────────────────────────────────────────\n",
       "   1 │ 030C    [0, 0, 0, 0, 0, 0, 0, 0]                0       0       0  NaN  ⋯\n",
       "   2 │ 111U    [0, 0, 0, 0, 0, 0, 0, 0]                0       0       0  NaN\n",
       "   3 │ 120D    [656, 2718, 804, 5957, 1529, 523…   35682   39837   45556    0.\n",
       "   4 │ 120C    [0, 0, 0, 0, 0, 0, 0, 0]                0       0       0  NaN\n",
       "   5 │ 201     [0, 0, 0, 0, 0, 0, 0, 0]                0       0       0  NaN  ⋯\n",
       "   6 │ 111D    [0, 0, 0, 0, 0, 0, 0, 0]                0       0       0  NaN\n",
       "   7 │ 210     [148, 598, 344, 2666, 782, 2092,…   11150   13025   15275    0.\n",
       "   8 │ 003     [0, 0, 0, 0, 0, 0, 0, 0]                0       0       0  NaN\n",
       "   9 │ 012     [0, 0, 0, 0, 0, 0, 0, 0]                0       0       0  NaN  ⋯\n",
       "  10 │ 021D    [0, 0, 0, 0, 0, 0, 0, 0]                0       0       0  NaN\n",
       "  11 │ 030T    [6514, 13263, 5504, 35228, 25815…  367970  444283  480346    0.\n",
       "  12 │ 021U    [0, 0, 0, 0, 0, 0, 0, 0]                0       0       0  NaN\n",
       "  13 │ 300     [30, 106, 43, 514, 100, 457, 520…    1626    1688    2119    0. ⋯\n",
       "  14 │ 102     [0, 0, 0, 0, 0, 0, 0, 0]                0       0       0  NaN\n",
       "  15 │ 021C    [0, 0, 0, 0, 0, 0, 0, 0]                0       0       0  NaN\n",
       "  16 │ 120U    [1009, 1951, 819, 5918, 7351, 81…   42431   49706   58259    0.\n",
       "\u001b[36m                                                               2 columns omitted\u001b[0m"
      ]
     },
     "metadata": {},
     "output_type": "display_data"
    }
   ],
   "source": [
    "df_n_arr.per_bal = df_n_arr.n_bal ./ df_n_arr.n_tot\n",
    "df_n_arr.per_hier = df_n_arr.n_hier ./ df_n_arr.n_tot\n",
    "df_n_arr"
   ]
  },
  {
   "cell_type": "code",
   "execution_count": null,
   "metadata": {},
   "outputs": [],
   "source": [
    "# save above dataframe\n",
    "CSV.write(joinpath(path, \"soc-wiki-elec-bal_hier_triads-types.csv\"), df_n_arr)\n",
    "CSV.write(joinpath(\"soc-wiki-elec-bal_hier_triads-types.csv\"), df_n_arr)\n",
    "\n",
    "# save JLD2\n",
    "save(joinpath(path, \"soc-wiki-elec-bal_hier_triads-types.jld2\"), \"df_n_arr\", df_n_arr)\n",
    "save(\"soc-wiki-elec-bal_hier_triads-types.jld2\", \"df_n_arr\", df_n_arr)"
   ]
  },
  {
   "cell_type": "markdown",
   "metadata": {},
   "source": [
    "### Balance and hierarchy analysis including cyclic triads"
   ]
  },
  {
   "cell_type": "code",
   "execution_count": null,
   "metadata": {},
   "outputs": [],
   "source": [
    "get_transitive_edges(triad) = [(triad[1], triad[2]), (triad[2], triad[3]), (triad[1], triad[3])]\n",
    "get_cyclic_edges(triad) = [(triad[1], triad[2]), (triad[2], triad[3]), (triad[3], triad[1])]\n",
    "function get_edges(triad, type)\n",
    "    if type == 1\n",
    "        return get_transitive_edges(triad)\n",
    "    elseif type == 2\n",
    "        return get_cyclic_edges(triad)\n",
    "    end\n",
    "end"
   ]
  },
  {
   "cell_type": "code",
   "execution_count": 96,
   "metadata": {},
   "outputs": [
    {
     "data": {
      "text/plain": [
       "8-element Vector{Int64}:\n",
       " 0\n",
       " 0\n",
       " 0\n",
       " 0\n",
       " 0\n",
       " 0\n",
       " 0\n",
       " 2"
      ]
     },
     "metadata": {},
     "output_type": "display_data"
    }
   ],
   "source": [
    "using PyCall\n",
    "\n",
    "i = 1\n",
    "triad = df_all_triads_dict.triad[i]\n",
    "types = df_all_triads_dict.triad_type[i]\n",
    "inds = df_all_triads_dict.inds[i]\n",
    "exact_inds = df_all_triads_dict.exact_inds[i]\n",
    "\n",
    "# get triad list\n",
    "sources = [triads, cyclic_triads]\n",
    "type_sources = sources[types]\n",
    "# triad_list = sources[types][exact_inds]\n",
    "triad_list = [triad_source[exact_ind] for (triad_source, exact_ind) in zip(type_sources, exact_inds)]\n",
    "# triad_list = triads[inds]\n",
    "\n",
    "# get edges from triad list\n",
    "get_transitive_edges(triad) = [(triad[1], triad[2]), (triad[2], triad[3]), (triad[1], triad[3])]\n",
    "get_cyclic_edges(triad) = [(triad[1], triad[2]), (triad[2], triad[3]), (triad[3], triad[1])]\n",
    "function get_edges(triad, type)\n",
    "    if type == 1\n",
    "        return get_transitive_edges(triad)\n",
    "    elseif type == 2\n",
    "        return get_cyclic_edges(triad)\n",
    "    end\n",
    "end\n",
    "# function get_edges.(triad_list, types)\n",
    "#     return [get_edges(triad, type) for (triad, type) in zip(triad_list, types)]\n",
    "# end\n",
    "\n",
    "# type_funs = [get_transitive_edges, get_cyclic_edges]\n",
    "edges_list = get_edges.(triad_list, types)\n",
    "edges_list = reduce(vcat, edges_list)\n",
    "unique_edges = unique(edges_list)\n",
    "\n",
    "py\"\"\"\n",
    "import networkx as nx\n",
    "\"\"\"\n",
    "\n",
    "G = py\"nx.DiGraph\"([edges_list...])\n",
    "\n",
    "# print(G.edges)\n",
    "\n",
    "triad_census = py\"nx.triadic_census\"(G)\n",
    "\n",
    "triad_census_triads = collect(keys(triad_census))\n",
    "\n",
    "tc_ind = collect(values(triad_census)) .== 1\n",
    "\n",
    "println(triad_census_triads[tc_ind][1])\n",
    "\n",
    "# get signed triad type\n",
    "sign_vals_s = values(df_all_triads[inds, 4:6])\n",
    "sign_vals_s = Matrix(sign_vals_s)\n",
    "sign_vals_s = mapslices(x->[x], sign_vals_s, dims=2)[:]\n",
    "\n",
    "n_arr = zeros(Int, 8)\n",
    "\n",
    "for sign_vals in sign_vals_s\n",
    "    connections_values = sign_vals .== 1\n",
    "    n_arr[connections_values[1]*4 + connections_values[3]*2 + connections_values[2]+1] += 1\n",
    "end\n",
    "n_arr\n",
    "# n_arr"
   ]
  },
  {
   "cell_type": "code",
   "execution_count": 97,
   "metadata": {},
   "outputs": [
    {
     "data": {
      "text/plain": [
       "\"120C\""
      ]
     },
     "metadata": {},
     "output_type": "display_data"
    }
   ],
   "source": [
    "triad_census_triads[tc_ind][1]"
   ]
  },
  {
   "cell_type": "code",
   "execution_count": null,
   "metadata": {},
   "outputs": [],
   "source": [
    "using PyCall\n",
    "py\"\"\"\n",
    "import networkx as nx\n",
    "\"\"\"\n",
    "\n",
    "G = py\"nx.DiGraph\"()\n",
    "\n",
    "triad_census = py\"nx.triadic_census\"(G)\n",
    "triad_census_triads = collect(keys(triad_census))\n",
    "\n",
    "# signed triad types:\n",
    "n_arr_dict = Dict( triad_census_triads .=> [zeros(Int, 12) for _ in 1:length(triad_census_triads)])\n",
    "# first 8 as standard n_arr_dict, the next 4 from cycles: 9 - 0 neg links, 10 - 1 neg link etc.\n",
    "n_bal_dict = Dict( triad_census_triads .=> [0 for _ in 1:length(triad_census_triads)])\n",
    "n_hier_dict = Dict( triad_census_triads .=> [0 for _ in 1:length(triad_census_triads)])\n",
    "n_tot_dict = Dict( triad_census_triads .=> [0 for _ in 1:length(triad_census_triads)])\n",
    "\n",
    "n_trans_bal_dict = Dict( triad_census_triads .=> [0 for _ in 1:length(triad_census_triads)])\n",
    "n_trans_hier_dict = Dict( triad_census_triads .=> [0 for _ in 1:length(triad_census_triads)])\n",
    "n_trans_tot_dict = Dict( triad_census_triads .=> [0 for _ in 1:length(triad_census_triads)])\n",
    "\n",
    "n_cyclic_bal_dict = Dict( triad_census_triads .=> [0 for _ in 1:length(triad_census_triads)])\n",
    "n_cyclic_hier_dict = Dict( triad_census_triads .=> [0 for _ in 1:length(triad_census_triads)])\n",
    "n_cyclic_tot_dict = Dict( triad_census_triads .=> [0 for _ in 1:length(triad_census_triads)])\n",
    "\n",
    "sources = [triads, cyclic_triads]\n",
    "\n",
    "counter = 0\n",
    "inform_after = 10000\n",
    "for (triad, inds, count, trans_or_cyclics, exact_inds) in eachrow(df_all_triads_dict)\n",
    "    type_sources = sources[trans_or_cyclics]\n",
    "    triad_list = [triad_source[exact_ind] for (triad_source, exact_ind) in zip(type_sources, exact_inds)]\n",
    "\n",
    "    # get edges list from triad list\n",
    "    edges_list = get_edges.(triad_list, trans_or_cyclics)\n",
    "    edges_list = reduce(vcat, edges_list)\n",
    "    unique_edges = unique(edges_list)\n",
    "\n",
    "    # call Python from julia, use networkx to get triad census on subgraphs\n",
    "    G = py\"nx.DiGraph\"([unique_edges...])\n",
    "    triad_census = py\"nx.triadic_census\"(G)\n",
    "    triad_census_triads = collect(keys(triad_census))\n",
    "    tc_ind = collect(values(triad_census)) .== 1\n",
    "    triad_type = triad_census_triads[tc_ind][1]\n",
    "\n",
    "    # get signed triad type\n",
    "    sign_vals_s = values(df_all_triads[inds, 4:6])\n",
    "    sign_vals_s = Matrix(sign_vals_s)\n",
    "    sign_vals_s = mapslices(x->[x], sign_vals_s, dims=2)[:]\n",
    "\n",
    "    hier = true\n",
    "    hier_trans = true\n",
    "    hier_cyclic = true\n",
    "    bal_trans = true\n",
    "    bal_cyclic = true\n",
    "    # indicators that trans/cyclic triads were considered at all\n",
    "    some_trans = false\n",
    "    some_cyclic = false\n",
    "    for (sign_vals, trans_or_cyclic) in zip(sign_vals_s, trans_or_cyclics)\n",
    "        if trans_or_cyclic == 1\n",
    "            some_trans = true\n",
    "            n_trans_tot_dict[triad_type] += 1\n",
    "            if prod(sign_vals) != 1\n",
    "                bal_trans = false\n",
    "            end\n",
    "\n",
    "            connections_values = sign_vals .== 1\n",
    "            signed_triad_type = connections_values[1]*4 + connections_values[3]*2 + connections_values[2]+1\n",
    "            \n",
    "        elseif trans_or_cyclic == 2\n",
    "            some_cyclic = true\n",
    "\n",
    "            n_cyclic_tot_dict[triad_type] += 1\n",
    "            if prod(sign_vals) != 1\n",
    "                bal_cyclic = false\n",
    "            end\n",
    "\n",
    "            num_pos_links = sum(sign_vals .== 1)\n",
    "            signed_triad_type = 9 + num_pos_links\n",
    "        else\n",
    "            println(trans_or_cyclics)\n",
    "            error(\"Wrong type\")\n",
    "        end\n",
    "        n_arr_dict[triad_type][signed_triad_type] += 1\n",
    "\n",
    "        if signed_triad_type in [3, 6, 9, 12]\n",
    "            hier = false\n",
    "            if signed_triad_type in [3, 6]\n",
    "                hier_trans = false\n",
    "            else\n",
    "                hier_cyclic = false\n",
    "            end\n",
    "        end\n",
    "    end\n",
    "    n_tot_dict[triad_type] += 1\n",
    "    n_bal_dict[triad_type] += all(prod.(sign_vals_s) .== 1)\n",
    "    n_hier_dict[triad_type] += hier\n",
    "\n",
    "    n_trans_bal_dict[triad_type] += bal_trans * some_trans\n",
    "    n_cyclic_bal_dict[triad_type] += bal_cyclic * some_cyclic\n",
    "\n",
    "    n_trans_hier_dict[triad_type] += hier_trans * some_trans\n",
    "    n_cyclic_hier_dict[triad_type] += hier_cyclic * some_cyclic\n",
    "\n",
    "    # n_trans_tot_dict[triad_type] += some_trans\n",
    "    # n_cyclic_tot_dict[triad_type] += some_cyclic\n",
    "\n",
    "    # n_arr\n",
    "\n",
    "    # println(triad_list, inds)\n",
    "    counter += 1\n",
    "    # if counter > 5000\n",
    "    #     break\n",
    "    # end\n",
    "    if counter % inform_after == 0\n",
    "        # print time\n",
    "        # print()\n",
    "        # break\n",
    "        println(\"Processed $counter triads\")\n",
    "        flush(stdout)\n",
    "    # elseif counter > 23000\n",
    "    #     println(\"Processed $counter triads\")\n",
    "    # else\n",
    "        # break\n",
    "    end\n",
    "end"
   ]
  },
  {
   "cell_type": "code",
   "execution_count": null,
   "metadata": {},
   "outputs": [],
   "source": [
    "# create dataframe from dicts\n",
    "\n",
    "df_cyclic_n_arr = DataFrame(triad = collect(keys(n_arr_dict)), n_arr = collect(values(n_arr_dict)),\n",
    "                     n_bal = collect(values(n_bal_dict)), n_hier = collect(values(n_hier_dict)),\n",
    "                     n_tot = collect(values(n_tot_dict)), n_trans_bal = collect(values(n_trans_bal_dict)), \n",
    "                     n_trans_hier = collect(values(n_trans_hier_dict)), n_trans_tot = collect(values(n_trans_tot_dict)), \n",
    "                     n_cyclic_bal = collect(values(n_cyclic_bal_dict)), n_cyclic_hier = collect(values(n_cyclic_hier_dict)),\n",
    "                        n_cyclic_tot = collect(values(n_cyclic_tot_dict)))"
   ]
  },
  {
   "cell_type": "code",
   "execution_count": null,
   "metadata": {},
   "outputs": [],
   "source": [
    "df_cyclic_n_arr.per_bal = df_cyclic_n_arr.n_bal ./ df_cyclic_n_arr.n_tot\n",
    "df_cyclic_n_arr.per_hier = df_cyclic_n_arr.n_hier ./ df_cyclic_n_arr.n_tot\n",
    "df_cyclic_n_arr.per_trans_bal = df_cyclic_n_arr.n_trans_bal ./ df_cyclic_n_arr.n_tot\n",
    "df_cyclic_n_arr.per_trans_hier = df_cyclic_n_arr.n_trans_hier ./ df_cyclic_n_arr.n_tot\n",
    "df_cyclic_n_arr.per_cyclic_bal = df_cyclic_n_arr.n_cyclic_bal ./ df_cyclic_n_arr.n_tot\n",
    "df_cyclic_n_arr.per_cyclic_hier = df_cyclic_n_arr.n_cyclic_hier ./ df_cyclic_n_arr.n_tot\n",
    "df_cyclic_n_arr.per_trans_bal_sep = [sum(n_arr[[2, 3, 5, 8]]) / n_tot for (n_arr, n_tot) in zip(df_cyclic_n_arr.n_arr, df_cyclic_n_arr.n_trans_tot)]\n",
    "df_cyclic_n_arr.per_cyclic_bal_sep = [sum(n_arr[[10, 12]]) / n_tot for (n_arr, n_tot) in zip(df_cyclic_n_arr.n_arr, df_cyclic_n_arr.n_cyclic_tot)]\n",
    "df_cyclic_n_arr.per_trans_hier_sep = [1 - sum(n_arr[[3,6]]) / n_tot for (n_arr, n_tot) in zip(df_cyclic_n_arr.n_arr, df_cyclic_n_arr.n_trans_tot)]\n",
    "df_cyclic_n_arr.per_cyclic_hier_sep = [sum(n_arr[[10, 11]]) / n_tot for (n_arr, n_tot) in zip(df_cyclic_n_arr.n_arr, df_cyclic_n_arr.n_cyclic_tot)]\n",
    "df_cyclic_n_arr.per_bal_sep = [sum(n_arr[[2, 3, 5, 8, 10, 12]]) / n_tot for (n_arr, n_tot) in zip(df_cyclic_n_arr.n_arr, df_cyclic_n_arr.n_trans_tot .+ df_cyclic_n_arr.n_cyclic_tot)]\n",
    "df_cyclic_n_arr.per_hier_sep = [1 - sum(n_arr[[3, 6, 9, 12]]) / n_tot for (n_arr, n_tot) in zip(df_cyclic_n_arr.n_arr, df_cyclic_n_arr.n_trans_tot .+ df_cyclic_n_arr.n_cyclic_tot)]\n",
    "df_cyclic_n_arr"
   ]
  },
  {
   "cell_type": "code",
   "execution_count": null,
   "metadata": {},
   "outputs": [],
   "source": [
    "# access dataframe columns\n",
    "\n",
    "cols = names(df_cyclic_n_arr)[startswith.(names(df_cyclic_n_arr), \"per\")]\n",
    "\n",
    "df_cyclic_n_arr[!, [\"triad\", cols...]]"
   ]
  },
  {
   "cell_type": "code",
   "execution_count": null,
   "metadata": {},
   "outputs": [],
   "source": [
    "# save above dataframe\n",
    "CSV.write(joinpath(path, \"epinions-bal_hier_all-triads-types.csv\"), df_cyclic_n_arr)\n",
    "CSV.write(joinpath(\"epinions-bal_hier_all-triads-types.csv\"), df_cyclic_n_arr)\n",
    "\n",
    "# save JLD2\n",
    "save(joinpath(path, \"epinions-bal_hier_all-triads-types.jld2\"), \"df_cyclic_n_arr\", df_cyclic_n_arr)\n",
    "save(\"epinions-bal_hier_all-triads-types.jld2\", \"df_cyclic_n_arr\", df_cyclic_n_arr)"
   ]
  },
  {
   "cell_type": "code",
   "execution_count": null,
   "metadata": {},
   "outputs": [],
   "source": []
  }
 ],
 "metadata": {
  "kernelspec": {
   "display_name": "Julia 1.10.4",
   "language": "julia",
   "name": "julia-1.10"
  },
  "language_info": {
   "file_extension": ".jl",
   "mimetype": "application/julia",
   "name": "julia",
   "version": "1.10.4"
  }
 },
 "nbformat": 4,
 "nbformat_minor": 2
}
