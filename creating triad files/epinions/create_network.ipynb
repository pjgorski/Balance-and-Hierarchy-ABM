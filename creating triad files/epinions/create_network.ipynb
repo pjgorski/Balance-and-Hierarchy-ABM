{
 "cells": [
  {
   "cell_type": "code",
   "execution_count": 3,
   "metadata": {},
   "outputs": [],
   "source": [
    "using CSV\n",
    "using DataFrames"
   ]
  },
  {
   "cell_type": "code",
   "execution_count": 16,
   "metadata": {},
   "outputs": [
    {
     "data": {
      "text/html": [
       "<div><div style = \"float: left;\"><span>841372×4 DataFrame</span></div><div style = \"float: right;\"><span style = \"font-style: italic;\">841347 rows omitted</span></div><div style = \"clear: both;\"></div></div><div class = \"data-frame\" style = \"overflow-x: scroll;\"><table class = \"data-frame\" style = \"margin-bottom: 6px;\"><thead><tr class = \"header\"><th class = \"rowNumber\" style = \"font-weight: bold; text-align: right;\">Row</th><th style = \"text-align: left;\">source</th><th style = \"text-align: left;\">target</th><th style = \"text-align: left;\">sign</th><th style = \"text-align: left;\">time</th></tr><tr class = \"subheader headerLastRow\"><th class = \"rowNumber\" style = \"font-weight: bold; text-align: right;\"></th><th title = \"Int64\" style = \"text-align: left;\">Int64</th><th title = \"Int64\" style = \"text-align: left;\">Int64</th><th title = \"Int64\" style = \"text-align: left;\">Int64</th><th title = \"String15\" style = \"text-align: left;\">String15</th></tr></thead><tbody><tr><td class = \"rowNumber\" style = \"font-weight: bold; text-align: right;\">1</td><td style = \"text-align: right;\">3287060356</td><td style = \"text-align: right;\">232085</td><td style = \"text-align: right;\">-1</td><td style = \"text-align: left;\">2001/01/10</td></tr><tr><td class = \"rowNumber\" style = \"font-weight: bold; text-align: right;\">2</td><td style = \"text-align: right;\">3288305540</td><td style = \"text-align: right;\">709420</td><td style = \"text-align: right;\">1</td><td style = \"text-align: left;\">2001/01/10</td></tr><tr><td class = \"rowNumber\" style = \"font-weight: bold; text-align: right;\">3</td><td style = \"text-align: right;\">3290337156</td><td style = \"text-align: right;\">204418</td><td style = \"text-align: right;\">-1</td><td style = \"text-align: left;\">2001/01/10</td></tr><tr><td class = \"rowNumber\" style = \"font-weight: bold; text-align: right;\">4</td><td style = \"text-align: right;\">3294138244</td><td style = \"text-align: right;\">269243</td><td style = \"text-align: right;\">-1</td><td style = \"text-align: left;\">2001/01/10</td></tr><tr><td class = \"rowNumber\" style = \"font-weight: bold; text-align: right;\">5</td><td style = \"text-align: right;\">3294138244</td><td style = \"text-align: right;\">170692484</td><td style = \"text-align: right;\">-1</td><td style = \"text-align: left;\">2001/01/10</td></tr><tr><td class = \"rowNumber\" style = \"font-weight: bold; text-align: right;\">6</td><td style = \"text-align: right;\">3296759684</td><td style = \"text-align: right;\">347967364</td><td style = \"text-align: right;\">1</td><td style = \"text-align: left;\">2001/01/10</td></tr><tr><td class = \"rowNumber\" style = \"font-weight: bold; text-align: right;\">7</td><td style = \"text-align: right;\">167022468</td><td style = \"text-align: right;\">707034</td><td style = \"text-align: right;\">1</td><td style = \"text-align: left;\">2001/01/10</td></tr><tr><td class = \"rowNumber\" style = \"font-weight: bold; text-align: right;\">8</td><td style = \"text-align: right;\">168267652</td><td style = \"text-align: right;\">214139</td><td style = \"text-align: right;\">1</td><td style = \"text-align: left;\">2001/01/10</td></tr><tr><td class = \"rowNumber\" style = \"font-weight: bold; text-align: right;\">9</td><td style = \"text-align: right;\">169447300</td><td style = \"text-align: right;\">338102</td><td style = \"text-align: right;\">1</td><td style = \"text-align: left;\">2001/01/10</td></tr><tr><td class = \"rowNumber\" style = \"font-weight: bold; text-align: right;\">10</td><td style = \"text-align: right;\">169447300</td><td style = \"text-align: right;\">382733</td><td style = \"text-align: right;\">1</td><td style = \"text-align: left;\">2001/01/10</td></tr><tr><td class = \"rowNumber\" style = \"font-weight: bold; text-align: right;\">11</td><td style = \"text-align: right;\">169447300</td><td style = \"text-align: right;\">206813</td><td style = \"text-align: right;\">1</td><td style = \"text-align: left;\">2001/01/10</td></tr><tr><td class = \"rowNumber\" style = \"font-weight: bold; text-align: right;\">12</td><td style = \"text-align: right;\">169643908</td><td style = \"text-align: right;\">205076</td><td style = \"text-align: right;\">1</td><td style = \"text-align: left;\">2001/01/10</td></tr><tr><td class = \"rowNumber\" style = \"font-weight: bold; text-align: right;\">13</td><td style = \"text-align: right;\">169643908</td><td style = \"text-align: right;\">610716</td><td style = \"text-align: right;\">-1</td><td style = \"text-align: left;\">2001/01/10</td></tr><tr><td style = \"text-align: right;\">&vellip;</td><td style = \"text-align: right;\">&vellip;</td><td style = \"text-align: right;\">&vellip;</td><td style = \"text-align: right;\">&vellip;</td><td style = \"text-align: right;\">&vellip;</td></tr><tr><td class = \"rowNumber\" style = \"font-weight: bold; text-align: right;\">841361</td><td style = \"text-align: right;\">21404946308</td><td style = \"text-align: right;\">208283</td><td style = \"text-align: right;\">1</td><td style = \"text-align: left;\">2003/08/12</td></tr><tr><td class = \"rowNumber\" style = \"font-weight: bold; text-align: right;\">841362</td><td style = \"text-align: right;\">21404946308</td><td style = \"text-align: right;\">10362261380</td><td style = \"text-align: right;\">1</td><td style = \"text-align: left;\">2003/08/12</td></tr><tr><td class = \"rowNumber\" style = \"font-weight: bold; text-align: right;\">841363</td><td style = \"text-align: right;\">73239990148</td><td style = \"text-align: right;\">201992</td><td style = \"text-align: right;\">1</td><td style = \"text-align: left;\">2003/08/12</td></tr><tr><td class = \"rowNumber\" style = \"font-weight: bold; text-align: right;\">841364</td><td style = \"text-align: right;\">221363</td><td style = \"text-align: right;\">261079</td><td style = \"text-align: right;\">1</td><td style = \"text-align: left;\">2003/08/12</td></tr><tr><td class = \"rowNumber\" style = \"font-weight: bold; text-align: right;\">841365</td><td style = \"text-align: right;\">201915</td><td style = \"text-align: right;\">79250952068</td><td style = \"text-align: right;\">1</td><td style = \"text-align: left;\">2003/08/12</td></tr><tr><td class = \"rowNumber\" style = \"font-weight: bold; text-align: right;\">841366</td><td style = \"text-align: right;\">65099239300</td><td style = \"text-align: right;\">1008766852</td><td style = \"text-align: right;\">1</td><td style = \"text-align: left;\">2003/08/12</td></tr><tr><td class = \"rowNumber\" style = \"font-weight: bold; text-align: right;\">841367</td><td style = \"text-align: right;\">538337</td><td style = \"text-align: right;\">399055</td><td style = \"text-align: right;\">1</td><td style = \"text-align: left;\">2003/08/12</td></tr><tr><td class = \"rowNumber\" style = \"font-weight: bold; text-align: right;\">841368</td><td style = \"text-align: right;\">377602</td><td style = \"text-align: right;\">75017588612</td><td style = \"text-align: right;\">1</td><td style = \"text-align: left;\">2003/08/12</td></tr><tr><td class = \"rowNumber\" style = \"font-weight: bold; text-align: right;\">841369</td><td style = \"text-align: right;\">83329126276</td><td style = \"text-align: right;\">203962</td><td style = \"text-align: right;\">1</td><td style = \"text-align: left;\">2003/08/12</td></tr><tr><td class = \"rowNumber\" style = \"font-weight: bold; text-align: right;\">841370</td><td style = \"text-align: right;\">79757938564</td><td style = \"text-align: right;\">1955106692</td><td style = \"text-align: right;\">1</td><td style = \"text-align: left;\">2003/08/12</td></tr><tr><td class = \"rowNumber\" style = \"font-weight: bold; text-align: right;\">841371</td><td style = \"text-align: right;\">66846035844</td><td style = \"text-align: right;\">399055</td><td style = \"text-align: right;\">1</td><td style = \"text-align: left;\">2003/08/12</td></tr><tr><td class = \"rowNumber\" style = \"font-weight: bold; text-align: right;\">841372</td><td style = \"text-align: right;\">361404</td><td style = \"text-align: right;\">81580625796</td><td style = \"text-align: right;\">-1</td><td style = \"text-align: left;\">2003/08/12</td></tr></tbody></table></div>"
      ],
      "text/latex": [
       "\\begin{tabular}{r|cccc}\n",
       "\t& source & target & sign & time\\\\\n",
       "\t\\hline\n",
       "\t& Int64 & Int64 & Int64 & String15\\\\\n",
       "\t\\hline\n",
       "\t1 & 3287060356 & 232085 & -1 & 2001/01/10 \\\\\n",
       "\t2 & 3288305540 & 709420 & 1 & 2001/01/10 \\\\\n",
       "\t3 & 3290337156 & 204418 & -1 & 2001/01/10 \\\\\n",
       "\t4 & 3294138244 & 269243 & -1 & 2001/01/10 \\\\\n",
       "\t5 & 3294138244 & 170692484 & -1 & 2001/01/10 \\\\\n",
       "\t6 & 3296759684 & 347967364 & 1 & 2001/01/10 \\\\\n",
       "\t7 & 167022468 & 707034 & 1 & 2001/01/10 \\\\\n",
       "\t8 & 168267652 & 214139 & 1 & 2001/01/10 \\\\\n",
       "\t9 & 169447300 & 338102 & 1 & 2001/01/10 \\\\\n",
       "\t10 & 169447300 & 382733 & 1 & 2001/01/10 \\\\\n",
       "\t11 & 169447300 & 206813 & 1 & 2001/01/10 \\\\\n",
       "\t12 & 169643908 & 205076 & 1 & 2001/01/10 \\\\\n",
       "\t13 & 169643908 & 610716 & -1 & 2001/01/10 \\\\\n",
       "\t14 & 170168196 & 209543 & 1 & 2001/01/10 \\\\\n",
       "\t15 & 172855172 & 210284 & 1 & 2001/01/10 \\\\\n",
       "\t16 & 174165892 & 454397828 & 1 & 2001/01/10 \\\\\n",
       "\t17 & 176656260 & 1322028932 & 1 & 2001/01/10 \\\\\n",
       "\t18 & 176721796 & 312027 & 1 & 2001/01/10 \\\\\n",
       "\t19 & 178556804 & 839094148 & 1 & 2001/01/10 \\\\\n",
       "\t20 & 179867524 & 216899 & -1 & 2001/01/10 \\\\\n",
       "\t21 & 181112708 & 513108 & 1 & 2001/01/10 \\\\\n",
       "\t22 & 182816644 & 300835 & 1 & 2001/01/10 \\\\\n",
       "\t23 & 184520580 & 397736 & 1 & 2001/01/10 \\\\\n",
       "\t24 & 186421124 & 344950 & -1 & 2001/01/10 \\\\\n",
       "\t$\\dots$ & $\\dots$ & $\\dots$ & $\\dots$ & $\\dots$ \\\\\n",
       "\\end{tabular}\n"
      ],
      "text/plain": [
       "\u001b[1m841372×4 DataFrame\u001b[0m\n",
       "\u001b[1m    Row \u001b[0m│\u001b[1m source      \u001b[0m\u001b[1m target      \u001b[0m\u001b[1m sign  \u001b[0m\u001b[1m time       \u001b[0m\n",
       "        │\u001b[90m Int64       \u001b[0m\u001b[90m Int64       \u001b[0m\u001b[90m Int64 \u001b[0m\u001b[90m String15   \u001b[0m\n",
       "────────┼─────────────────────────────────────────────\n",
       "      1 │  3287060356       232085     -1  2001/01/10\n",
       "      2 │  3288305540       709420      1  2001/01/10\n",
       "      3 │  3290337156       204418     -1  2001/01/10\n",
       "      4 │  3294138244       269243     -1  2001/01/10\n",
       "      5 │  3294138244    170692484     -1  2001/01/10\n",
       "      6 │  3296759684    347967364      1  2001/01/10\n",
       "      7 │   167022468       707034      1  2001/01/10\n",
       "      8 │   168267652       214139      1  2001/01/10\n",
       "   ⋮    │      ⋮            ⋮         ⋮        ⋮\n",
       " 841366 │ 65099239300   1008766852      1  2003/08/12\n",
       " 841367 │      538337       399055      1  2003/08/12\n",
       " 841368 │      377602  75017588612      1  2003/08/12\n",
       " 841369 │ 83329126276       203962      1  2003/08/12\n",
       " 841370 │ 79757938564   1955106692      1  2003/08/12\n",
       " 841371 │ 66846035844       399055      1  2003/08/12\n",
       " 841372 │      361404  81580625796     -1  2003/08/12\n",
       "\u001b[36m                                   841357 rows omitted\u001b[0m"
      ]
     },
     "metadata": {},
     "output_type": "display_data"
    }
   ],
   "source": [
    "# Load the data\n",
    "# data = CSV.read(\"../../data/epinions/user_rating.txt\", DataFrame)\n",
    "df = CSV.read(\"../../../data/epinions/user_rating.txt\", DataFrame, delim='\t', header = false)\n",
    "rename!(df, [:source, :target, :sign, :time])"
   ]
  },
  {
   "cell_type": "code",
   "execution_count": 12,
   "metadata": {},
   "outputs": [
    {
     "data": {
      "text/plain": [
       "\"/home/piotrfens/Desktop/programming/data-analysis/epinions\""
      ]
     },
     "metadata": {},
     "output_type": "display_data"
    }
   ],
   "source": [
    "pwd()"
   ]
  }
 ],
 "metadata": {
  "kernelspec": {
   "display_name": "Julia 1.10.4",
   "language": "julia",
   "name": "julia-1.10"
  },
  "language_info": {
   "file_extension": ".jl",
   "mimetype": "application/julia",
   "name": "julia",
   "version": "1.10.4"
  }
 },
 "nbformat": 4,
 "nbformat_minor": 2
}
