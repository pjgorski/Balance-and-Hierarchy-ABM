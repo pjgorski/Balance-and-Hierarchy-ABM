{
 "cells": [
  {
   "cell_type": "code",
   "execution_count": 1,
   "metadata": {},
   "outputs": [],
   "source": [
    "import numpy as np\n",
    "from multiprocessing import Pool\n",
    "import networkx as nx\n",
    "import random"
   ]
  },
  {
   "cell_type": "code",
   "execution_count": 65,
   "metadata": {},
   "outputs": [],
   "source": [
    "\n",
    "def generate_signed_sbm_known_groups(groups, group_connectivity, p_plus):\n",
    "    \"\"\"\n",
    "    A network from SBM model is generated. \n",
    "    `groups` contains sets of nodes. Each set of nodes is one group. \n",
    "    `groups` may also contain array of values, indicating number of nodes in each group with giving node indices. \n",
    "    `group_connectivity` is the connectivity between the groups. \n",
    "    `p_plus` are the probabilities of creating positive signs between and across groups. \n",
    "    \n",
    "    Option 1: All groups are uniform, that is they have the same connectivity and positive link probabilities. \n",
    "    Then, `group_connectivity` and `p_plus` contain two values: `(din, dout)` and `(pin_plus, p_out_plus)`. \n",
    "    \n",
    "    Option 2: All groups may be different. \n",
    "    Then, the dimension of `group_connectivity` and/or `p_plus` should be equal to the number of groups. \n",
    "\n",
    "    Args:\n",
    "        groups (list): Array of arrays of nodes (when nodes' labels are important). Or array of group sizes. \n",
    "        group_connectivity (numpy array): Two values indicating in- and out-group connectivity. \n",
    "            Or array of size number of groups with specific connectivities. \n",
    "        p_plus (numpy array): Two values indicating pin+ and pout+ probabilities. \n",
    "            Or array of size number of groups with specific probabilities.\n",
    "    \"\"\"\n",
    "    \n",
    "    if np.isscalar(groups[0]):\n",
    "        sizes = np.array(groups)\n",
    "        actual_groups = [list(range(end_g - len_g,end_g)) for len_g, end_g in zip(sizes, np.cumsum(sizes))]\n",
    "    else:\n",
    "        actual_groups = groups\n",
    "        sizes = np.array([len(g) for g in groups])\n",
    "    N = np.sum(sizes)\n",
    "    \n",
    "    ng = len(sizes)\n",
    "    # get dictionary which node belongs to which group. This will be useful in the last stage\n",
    "    d = dict.fromkeys(range(0,N))\n",
    "    for i, group in enumerate(actual_groups):\n",
    "        for node in group:\n",
    "            d[node] = i\n",
    "    \n",
    "    if len(group_connectivity) == 2:\n",
    "        conn = np.ones((ng, ng)) * group_connectivity[1]\n",
    "        np.fill_diagonal(conn, group_connectivity[0])\n",
    "    else:\n",
    "        conn = group_connectivity\n",
    "    \n",
    "    g = nx.stochastic_block_model(sizes, conn)\n",
    "    A = nx.to_numpy_array(g)\n",
    "    \n",
    "    if len(p_plus) == 2:\n",
    "        pos_probs = np.ones((ng, ng)) * p_plus[1]\n",
    "        np.fill_diagonal(pos_probs, p_plus[0])\n",
    "    else:\n",
    "        pos_probs = p_plus\n",
    "    \n",
    "    for agent_i, agent_j in g.edges:\n",
    "        group_i = d[agent_i]\n",
    "        group_j = d[agent_j]\n",
    "        \n",
    "        sign = +1 if np.random.rand() < pos_probs[group_i, group_j] else -1\n",
    "        A[agent_i, agent_j] = sign\n",
    "        A[agent_j, agent_i] = sign\n",
    "    \n",
    "    return A"
   ]
  },
  {
   "cell_type": "code",
   "execution_count": 6,
   "metadata": {},
   "outputs": [],
   "source": [
    "groups = [3, 4, 5]\n",
    "group_connectivity = [0.8, 0.5]\n",
    "\n",
    "p_plus = [0.8, 0.3]"
   ]
  },
  {
   "cell_type": "code",
   "execution_count": 7,
   "metadata": {},
   "outputs": [
    {
     "data": {
      "text/plain": [
       "array([[ 0.,  1.,  0.,  0., -1.,  0.,  0.,  0.,  0.,  0., -1., -1.],\n",
       "       [ 1.,  0.,  1., -1.,  0., -1., -1.,  0.,  0., -1.,  1.,  1.],\n",
       "       [ 0.,  1.,  0., -1.,  0., -1.,  0., -1.,  0., -1.,  0., -1.],\n",
       "       [ 0., -1., -1.,  0.,  1.,  1., -1., -1.,  1.,  0., -1.,  0.],\n",
       "       [-1.,  0.,  0.,  1.,  0.,  1.,  1.,  0.,  0.,  0., -1.,  0.],\n",
       "       [ 0., -1., -1.,  1.,  1.,  0.,  1.,  0.,  0.,  0.,  1.,  0.],\n",
       "       [ 0., -1.,  0., -1.,  1.,  1.,  0.,  1.,  0., -1.,  0., -1.],\n",
       "       [ 0.,  0., -1., -1.,  0.,  0.,  1.,  0., -1., -1.,  1.,  0.],\n",
       "       [ 0.,  0.,  0.,  1.,  0.,  0.,  0., -1.,  0.,  1.,  1.,  1.],\n",
       "       [ 0., -1., -1.,  0.,  0.,  0., -1., -1.,  1.,  0.,  1., -1.],\n",
       "       [-1.,  1.,  0., -1., -1.,  1.,  0.,  1.,  1.,  1.,  0., -1.],\n",
       "       [-1.,  1., -1.,  0.,  0.,  0., -1.,  0.,  1., -1., -1.,  0.]])"
      ]
     },
     "execution_count": 7,
     "metadata": {},
     "output_type": "execute_result"
    }
   ],
   "source": [
    "generate_signed_sbm_known_groups(groups, group_connectivity, p_plus)"
   ]
  },
  {
   "cell_type": "code",
   "execution_count": 18,
   "metadata": {},
   "outputs": [
    {
     "ename": "ValueError",
     "evalue": "The truth value of an array with more than one element is ambiguous. Use a.any() or a.all()",
     "output_type": "error",
     "traceback": [
      "\u001b[0;31m---------------------------------------------------------------------------\u001b[0m",
      "\u001b[0;31mValueError\u001b[0m                                Traceback (most recent call last)",
      "\u001b[1;32m/home/pgorski/Desktop/programming/toolbox/complex-system-toolbox/tests/general_tests/signed-sbm-generation-test.ipynb Cell 5\u001b[0m in \u001b[0;36m<cell line: 5>\u001b[0;34m()\u001b[0m\n\u001b[1;32m      <a href='vscode-notebook-cell:/home/pgorski/Desktop/programming/toolbox/complex-system-toolbox/tests/general_tests/signed-sbm-generation-test.ipynb#W4sZmlsZQ%3D%3D?line=1'>2</a>\u001b[0m group_connectivity \u001b[39m=\u001b[39m [\u001b[39m0.8\u001b[39m, \u001b[39m0.5\u001b[39m]\n\u001b[1;32m      <a href='vscode-notebook-cell:/home/pgorski/Desktop/programming/toolbox/complex-system-toolbox/tests/general_tests/signed-sbm-generation-test.ipynb#W4sZmlsZQ%3D%3D?line=3'>4</a>\u001b[0m p_plus \u001b[39m=\u001b[39m [\u001b[39m0.8\u001b[39m, \u001b[39m0.3\u001b[39m]\n\u001b[0;32m----> <a href='vscode-notebook-cell:/home/pgorski/Desktop/programming/toolbox/complex-system-toolbox/tests/general_tests/signed-sbm-generation-test.ipynb#W4sZmlsZQ%3D%3D?line=4'>5</a>\u001b[0m generate_signed_sbm_known_groups(groups, group_connectivity, p_plus)\n",
      "\u001b[1;32m/home/pgorski/Desktop/programming/toolbox/complex-system-toolbox/tests/general_tests/signed-sbm-generation-test.ipynb Cell 5\u001b[0m in \u001b[0;36mgenerate_signed_sbm_known_groups\u001b[0;34m(groups, group_connectivity, p_plus)\u001b[0m\n\u001b[1;32m     <a href='vscode-notebook-cell:/home/pgorski/Desktop/programming/toolbox/complex-system-toolbox/tests/general_tests/signed-sbm-generation-test.ipynb#W4sZmlsZQ%3D%3D?line=53'>54</a>\u001b[0m group_i \u001b[39m=\u001b[39m d[agent_i]\n\u001b[1;32m     <a href='vscode-notebook-cell:/home/pgorski/Desktop/programming/toolbox/complex-system-toolbox/tests/general_tests/signed-sbm-generation-test.ipynb#W4sZmlsZQ%3D%3D?line=54'>55</a>\u001b[0m group_j \u001b[39m=\u001b[39m d[agent_j]\n\u001b[0;32m---> <a href='vscode-notebook-cell:/home/pgorski/Desktop/programming/toolbox/complex-system-toolbox/tests/general_tests/signed-sbm-generation-test.ipynb#W4sZmlsZQ%3D%3D?line=56'>57</a>\u001b[0m sign \u001b[39m=\u001b[39m \u001b[39m+\u001b[39m\u001b[39m1\u001b[39m \u001b[39mif\u001b[39;00m np\u001b[39m.\u001b[39mrandom\u001b[39m.\u001b[39mrand() \u001b[39m<\u001b[39m pos_probs[group_i, group_j] \u001b[39melse\u001b[39;00m \u001b[39m-\u001b[39m\u001b[39m1\u001b[39m\n\u001b[1;32m     <a href='vscode-notebook-cell:/home/pgorski/Desktop/programming/toolbox/complex-system-toolbox/tests/general_tests/signed-sbm-generation-test.ipynb#W4sZmlsZQ%3D%3D?line=57'>58</a>\u001b[0m A[agent_i, agent_j] \u001b[39m=\u001b[39m sign\n\u001b[1;32m     <a href='vscode-notebook-cell:/home/pgorski/Desktop/programming/toolbox/complex-system-toolbox/tests/general_tests/signed-sbm-generation-test.ipynb#W4sZmlsZQ%3D%3D?line=58'>59</a>\u001b[0m A[agent_j, agent_i] \u001b[39m=\u001b[39m sign\n",
      "\u001b[0;31mValueError\u001b[0m: The truth value of an array with more than one element is ambiguous. Use a.any() or a.all()"
     ]
    }
   ],
   "source": [
    "groups = [[1, 3, 9], [2, 4, 7, 0, ], [5, 6, 10, 11]]\n",
    "group_connectivity = [0.8, 0.5]\n",
    "\n",
    "p_plus = [0.8, 0.3]\n",
    "\n",
    "# This will throw error because the above group is missing node 8\n",
    "generate_signed_sbm_known_groups(groups, group_connectivity, p_plus)"
   ]
  },
  {
   "cell_type": "code",
   "execution_count": 19,
   "metadata": {},
   "outputs": [
    {
     "data": {
      "text/plain": [
       "array([[ 0., -1.,  1., -1.,  0., -1., -1., -1.,  1., -1.,  0., -1.],\n",
       "       [-1.,  0.,  0.,  1.,  1.,  0.,  0.,  0.,  0.,  0., -1., -1.],\n",
       "       [ 1.,  0.,  0., -1.,  0.,  1.,  0.,  0.,  1.,  0., -1., -1.],\n",
       "       [-1.,  1., -1.,  0., -1., -1., -1., -1.,  0.,  1.,  0.,  0.],\n",
       "       [ 0.,  1.,  0., -1.,  0.,  0., -1.,  1.,  1.,  0.,  0., -1.],\n",
       "       [-1.,  0.,  1., -1.,  0.,  0., -1., -1.,  0., -1.,  1., -1.],\n",
       "       [-1.,  0.,  0., -1., -1., -1.,  0.,  1., -1.,  0., -1.,  1.],\n",
       "       [-1.,  0.,  0., -1.,  1., -1.,  1.,  0.,  0., -1., -1.,  0.],\n",
       "       [ 1.,  0.,  1.,  0.,  1.,  0., -1.,  0.,  0.,  1., -1.,  0.],\n",
       "       [-1.,  0.,  0.,  1.,  0., -1.,  0., -1.,  1.,  0.,  0., -1.],\n",
       "       [ 0., -1., -1.,  0.,  0.,  1., -1., -1., -1.,  0.,  0.,  1.],\n",
       "       [-1., -1., -1.,  0., -1., -1.,  1.,  0.,  0., -1.,  1.,  0.]])"
      ]
     },
     "execution_count": 19,
     "metadata": {},
     "output_type": "execute_result"
    }
   ],
   "source": [
    "groups = [[1, 3, 9], [2, 4, 7, 0, 8], [5, 6, 10, 11]]\n",
    "group_connectivity = [0.8, 0.5]\n",
    "\n",
    "p_plus = [0.8, 0.3]\n",
    "\n",
    "# This will throw error because the above group is missing node 8\n",
    "generate_signed_sbm_known_groups(groups, group_connectivity, p_plus)"
   ]
  },
  {
   "cell_type": "code",
   "execution_count": 66,
   "metadata": {},
   "outputs": [
    {
     "data": {
      "text/plain": [
       "array([[ 0.,  0.,  1.,  0.,  1.,  0.,  0.,  0.,  0.,  1.,  0.,  0.],\n",
       "       [ 0.,  0., -1.,  1.,  0.,  1.,  0.,  0., -1.,  0.,  0., -1.],\n",
       "       [ 1., -1.,  0.,  1.,  0.,  0., -1.,  1.,  1.,  0.,  0.,  0.],\n",
       "       [ 0.,  1.,  1.,  0.,  1.,  0.,  1., -1.,  0.,  0.,  0.,  0.],\n",
       "       [ 1.,  0.,  0.,  1.,  0.,  0., -1.,  0.,  0.,  0.,  0.,  0.],\n",
       "       [ 0.,  1.,  0.,  0.,  0.,  0.,  1., -1.,  0., -1.,  0.,  0.],\n",
       "       [ 0.,  0., -1.,  1., -1.,  1.,  0.,  0.,  0.,  0.,  0.,  0.],\n",
       "       [ 0.,  0.,  1., -1.,  0., -1.,  0.,  0.,  0.,  1.,  0.,  0.],\n",
       "       [ 0., -1.,  1.,  0.,  0.,  0.,  0.,  0.,  0., -1.,  1.,  0.],\n",
       "       [ 1.,  0.,  0.,  0.,  0., -1.,  0.,  1., -1.,  0.,  1.,  0.],\n",
       "       [ 0.,  0.,  0.,  0.,  0.,  0.,  0.,  0.,  1.,  1.,  0.,  0.],\n",
       "       [ 0., -1.,  0.,  0.,  0.,  0.,  0.,  0.,  0.,  0.,  0.,  0.]])"
      ]
     },
     "execution_count": 66,
     "metadata": {},
     "output_type": "execute_result"
    }
   ],
   "source": [
    "groups = [[1, 3, 9], [2, 4, 7, 0, 8], [5, 6, 10, 11]]\n",
    "group_connectivity = [[0.8, 0.5, 0.3],[0.5,0.7,0.1], [0.3, 0.1, 0.5]]\n",
    "\n",
    "p_plus = [0.8, 0.3]\n",
    "\n",
    "# This will throw error because group connectivity should be symmetric\n",
    "generate_signed_sbm_known_groups(groups, group_connectivity, p_plus)"
   ]
  },
  {
   "cell_type": "code",
   "execution_count": 67,
   "metadata": {},
   "outputs": [
    {
     "data": {
      "text/plain": [
       "array([[ 0., -1.,  1.,  1.,  0.,  0.,  0.,  0.,  0.,  0.,  0., -1.],\n",
       "       [-1.,  0., -1.,  1.,  0.,  0., -1., -1.,  0.,  0.,  0.,  0.],\n",
       "       [ 1., -1.,  0.,  0.,  1.,  0., -1.,  1.,  1.,  0.,  0.,  0.],\n",
       "       [ 1.,  1.,  0.,  0.,  0., -1.,  1., -1.,  0.,  0.,  0.,  0.],\n",
       "       [ 0.,  0.,  1.,  0.,  0.,  0., -1.,  1.,  0., -1.,  1.,  0.],\n",
       "       [ 0.,  0.,  0., -1.,  0.,  0.,  1., -1., -1.,  0., -1.,  0.],\n",
       "       [ 0., -1., -1.,  1., -1.,  1.,  0.,  1.,  0.,  0.,  0.,  0.],\n",
       "       [ 0., -1.,  1., -1.,  1., -1.,  1.,  0.,  0.,  0.,  0.,  0.],\n",
       "       [ 0.,  0.,  1.,  0.,  0., -1.,  0.,  0.,  0., -1., -1.,  0.],\n",
       "       [ 0.,  0.,  0.,  0., -1.,  0.,  0.,  0., -1.,  0., -1.,  0.],\n",
       "       [ 0.,  0.,  0.,  0.,  1., -1.,  0.,  0., -1., -1.,  0.,  0.],\n",
       "       [-1.,  0.,  0.,  0.,  0.,  0.,  0.,  0.,  0.,  0.,  0.,  0.]])"
      ]
     },
     "execution_count": 67,
     "metadata": {},
     "output_type": "execute_result"
    }
   ],
   "source": [
    "groups = [[1, 3, 9], [2, 4, 7, 0, 8], [5, 6, 10, 11]]\n",
    "group_connectivity = [[0.8, 0.5, 0.3],[0.5,0.7,0.1], [0.3, 0.1, 0.5]]\n",
    "\n",
    "p_plus = np.array([[0.8, 0.3, 0.3],\n",
    "        [0.3, 0.8, 0.3],\n",
    "        [0.3, 0.3, 0.8]])\n",
    "\n",
    "# This will throw error because group connectivity should be symmetric\n",
    "generate_signed_sbm_known_groups(groups, group_connectivity, p_plus)"
   ]
  }
 ],
 "metadata": {
  "kernelspec": {
   "display_name": "base",
   "language": "python",
   "name": "python3"
  },
  "language_info": {
   "codemirror_mode": {
    "name": "ipython",
    "version": 3
   },
   "file_extension": ".py",
   "mimetype": "text/x-python",
   "name": "python",
   "nbconvert_exporter": "python",
   "pygments_lexer": "ipython3",
   "version": "3.8.5"
  },
  "orig_nbformat": 4,
  "vscode": {
   "interpreter": {
    "hash": "f3aa8d31d7b54b59f150f23421562c325d6d594b77b95839331e25470d543590"
   }
  }
 },
 "nbformat": 4,
 "nbformat_minor": 2
}
