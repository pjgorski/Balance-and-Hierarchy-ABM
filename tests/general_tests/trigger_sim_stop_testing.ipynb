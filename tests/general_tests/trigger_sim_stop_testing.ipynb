{
 "cells": [
  {
   "cell_type": "code",
   "execution_count": 1,
   "metadata": {},
   "outputs": [],
   "source": [
    "import argparse\n",
    "import sys\n",
    "import itertools\n",
    "\n",
    "import multiprocessing\n",
    "\n",
    "import numpy as np\n",
    "\n",
    "import os\n",
    "import sys\n",
    "import inspect\n",
    "\n",
    "# currentdir = os.path.dirname(os.path.abspath(inspect.getfile(inspect.currentframe())))\n",
    "# parentdir = os.path.dirname(currentdir)\n",
    "# sys.path.insert(0, parentdir)\n",
    "os.chdir(\"../..\") \n",
    "\n",
    "# from .. import experiments\n",
    "from experiments import EXPERIMENTS\n",
    "from networktools.network_generators import generator"
   ]
  },
  {
   "cell_type": "code",
   "execution_count": 2,
   "metadata": {},
   "outputs": [],
   "source": [
    "fname = \"../data/complete/complete_triads.h5\"\n",
    "dataset = fname \n",
    "network = generator['GeneralRealNetwork'](dataset)\n",
    "foldername = \"outputs/complete-triads-test\"\n",
    "\n",
    "single_sim_set = (0.5, 0.88, 0.25)\n",
    "\n",
    "rho_init = 0.7947289140762432\n",
    "steps = 1000\n",
    "saving_multiplier = 10\n",
    "reps = 1\n",
    "\n",
    "keep_rho_at = [0.65, 0.75, 0.6, 0.8]"
   ]
  },
  {
   "cell_type": "code",
   "execution_count": 3,
   "metadata": {},
   "outputs": [],
   "source": [
    "def prepare_args2(dataset, network, single_sim_set, rho_init, steps, saving_multiplier, reps, no_triad_stats, foldername):\n",
    "    # parser = argparse.ArgumentParser()\n",
    "    # subparsers = parser.add_subparsers(dest='command', help='Experiments')\n",
    "    args = argparse.Namespace()\n",
    "    \n",
    "    args.dataset = dataset  \n",
    "    args.network = network\n",
    "    \n",
    "    args.is_directed = True\n",
    "    args.agent_based = True\n",
    "    args.ltd_agent_based = True\n",
    "    args.on_triad_status = True\n",
    "    args.save_pk_distribution = False\n",
    "    args.build_triad = 'choose_agents'\n",
    "    \n",
    "    args.exp_name = foldername\n",
    "    \n",
    "    args.probability = [single_sim_set[2]]\n",
    "    args.q = [single_sim_set[0]]\n",
    "    args.psprob = [single_sim_set[1]]\n",
    "    \n",
    "    if isinstance(rho_init, (list, np.ndarray)):\n",
    "        args.rho_init = rho_init\n",
    "    else:\n",
    "        args.rho_init = [rho_init]\n",
    "    args.steps = steps\n",
    "    args.saving_multiplier = saving_multiplier\n",
    "    args.repetitions = reps\n",
    "    \n",
    "    args.no_triad_stats = no_triad_stats\n",
    "    args.control_initial_rho = False\n",
    "    \n",
    "    return args\n",
    "\n",
    "def create_and_run_one_exp(args):\n",
    "    experiment = EXPERIMENTS['LtdReal'](args)\n",
    "    experiment()\n",
    "    pass"
   ]
  },
  {
   "cell_type": "code",
   "execution_count": 4,
   "metadata": {},
   "outputs": [
    {
     "name": "stderr",
     "output_type": "stream",
     "text": [
      "  0%|          | 3816/992000 [00:00<00:58, 16944.12it/s]\n"
     ]
    }
   ],
   "source": [
    "args = prepare_args2(dataset, network, single_sim_set, rho_init, steps, saving_multiplier, reps, True, foldername)\n",
    "args.keep_rho_at = keep_rho_at\n",
    "\n",
    "create_and_run_one_exp(args)"
   ]
  },
  {
   "cell_type": "code",
   "execution_count": 5,
   "metadata": {},
   "outputs": [
    {
     "name": "stderr",
     "output_type": "stream",
     "text": [
      "  1%|          | 6388/992000 [00:00<00:53, 18351.98it/s]\n"
     ]
    }
   ],
   "source": [
    "keep_rho_at = [0.65, 0.7, 0.55, 0.8]\n",
    "args.keep_rho_at = keep_rho_at\n",
    "\n",
    "create_and_run_one_exp(args)"
   ]
  },
  {
   "cell_type": "code",
   "execution_count": 6,
   "metadata": {},
   "outputs": [
    {
     "name": "stderr",
     "output_type": "stream",
     "text": [
      " 34%|███▍      | 340920/992000 [00:19<00:37, 17549.05it/s]\n"
     ]
    }
   ],
   "source": [
    "keep_rho_at = [0.65, 0.7, 0.50, 0.8]\n",
    "args.keep_rho_at = keep_rho_at\n",
    "\n",
    "create_and_run_one_exp(args)"
   ]
  },
  {
   "cell_type": "code",
   "execution_count": 7,
   "metadata": {},
   "outputs": [
    {
     "name": "stderr",
     "output_type": "stream",
     "text": [
      "100%|██████████| 992000/992000 [00:57<00:00, 17286.18it/s]\n"
     ]
    }
   ],
   "source": [
    "keep_rho_at = [0.65, 0.7, 0.45, 0.8]\n",
    "args.keep_rho_at = keep_rho_at\n",
    "\n",
    "create_and_run_one_exp(args)"
   ]
  },
  {
   "cell_type": "code",
   "execution_count": 10,
   "metadata": {},
   "outputs": [
    {
     "name": "stderr",
     "output_type": "stream",
     "text": [
      " 12%|█▏        | 119039/992000 [00:09<00:54, 15880.58it/s]"
     ]
    }
   ],
   "source": [
    "# keep_rho_at = [0.65, 0.7, 0.45, 0.8]\n",
    "# args.keep_rho_at = keep_rho_at\n",
    "args.no_triad_stats = False\n",
    "\n",
    "create_and_run_one_exp(args)"
   ]
  },
  {
   "cell_type": "code",
   "execution_count": 8,
   "metadata": {},
   "outputs": [
    {
     "name": "stderr",
     "output_type": "stream",
     "text": [
      " 20%|█▉        | 196270/992000 [00:15<01:04, 12317.97it/s]\n"
     ]
    }
   ],
   "source": [
    "keep_rho_at = [0.65, 0.7, 0.50, 0.8]\n",
    "args.keep_rho_at = keep_rho_at\n",
    "args.no_triad_stats = False\n",
    "\n",
    "create_and_run_one_exp(args)"
   ]
  },
  {
   "cell_type": "code",
   "execution_count": 9,
   "metadata": {},
   "outputs": [
    {
     "name": "stderr",
     "output_type": "stream",
     "text": [
      " 70%|███████   | 694400/992000 [00:39<00:17, 17483.47it/s]\n"
     ]
    }
   ],
   "source": [
    "keep_rho_at = [0.9, 1., 0.92, 0.99]\n",
    "args.no_triad_stats = True\n",
    "args.keep_rho_at = keep_rho_at\n",
    "\n",
    "create_and_run_one_exp(args)"
   ]
  },
  {
   "attachments": {},
   "cell_type": "markdown",
   "metadata": {},
   "source": [
    "## Testing control"
   ]
  },
  {
   "cell_type": "code",
   "execution_count": 5,
   "metadata": {},
   "outputs": [
    {
     "name": "stderr",
     "output_type": "stream",
     "text": [
      " 50%|█████     | 496000/992000 [00:28<00:28, 17621.80it/s]\n",
      "  7%|▋         | 69440/992000 [00:04<00:59, 15433.95it/s]\n",
      " 94%|█████████▍| 932480/992000 [00:52<00:03, 17905.83it/s]\n",
      "  2%|▏         | 19840/992000 [00:01<00:55, 17634.99it/s]\n",
      " 32%|███▏      | 317440/992000 [00:17<00:37, 17845.63it/s]\n"
     ]
    }
   ],
   "source": [
    "rho_init = [0, 0.3, 0.6, 0.7, 0.8]\n",
    "\n",
    "keep_rho_at = [0.9, 1., 0.92, 0.99]\n",
    "args.no_triad_stats = True\n",
    "args.keep_rho_at = keep_rho_at\n",
    "args.rho_init = rho_init\n",
    "\n",
    "create_and_run_one_exp(args)"
   ]
  },
  {
   "cell_type": "code",
   "execution_count": 6,
   "metadata": {},
   "outputs": [
    {
     "name": "stderr",
     "output_type": "stream",
     "text": [
      "  3%|▎         | 29760/992000 [00:01<00:53, 17892.74it/s]\n"
     ]
    }
   ],
   "source": [
    "rho_init = [0, 0.3, 0.6, 0.7, 0.8]\n",
    "\n",
    "keep_rho_at = [0.9, 1., 0.92, 0.99]\n",
    "args.no_triad_stats = True\n",
    "args.keep_rho_at = keep_rho_at\n",
    "args.rho_init = rho_init\n",
    "args.control_initial_rho = True\n",
    "\n",
    "create_and_run_one_exp(args)"
   ]
  },
  {
   "cell_type": "code",
   "execution_count": 7,
   "metadata": {},
   "outputs": [
    {
     "name": "stderr",
     "output_type": "stream",
     "text": [
      " 15%|█▌        | 148800/992000 [00:08<00:48, 17520.18it/s]\n",
      " 13%|█▎        | 128960/992000 [00:07<00:50, 17056.68it/s]\n",
      " 89%|████████▉ | 882880/992000 [00:50<00:06, 17424.45it/s]\n",
      " 15%|█▍        | 144764/992000 [00:08<00:48, 17535.78it/s]\n",
      " 12%|█▏        | 116199/992000 [00:06<00:49, 17520.20it/s]\n"
     ]
    }
   ],
   "source": [
    "rho_init = [0, 0.3, 0.6, 0.7, 0.8]\n",
    "\n",
    "keep_rho_at = [0.65, 0.7, 0.50, 0.8]\n",
    "args.no_triad_stats = True\n",
    "args.keep_rho_at = keep_rho_at\n",
    "args.rho_init = rho_init\n",
    "args.control_initial_rho = False\n",
    "\n",
    "create_and_run_one_exp(args)"
   ]
  },
  {
   "cell_type": "code",
   "execution_count": 8,
   "metadata": {},
   "outputs": [
    {
     "name": "stderr",
     "output_type": "stream",
     "text": [
      " 12%|█▏        | 116397/992000 [00:06<00:50, 17392.85it/s]\n"
     ]
    }
   ],
   "source": [
    "rho_init = [0, 0.3, 0.6, 0.7, 0.8]\n",
    "\n",
    "keep_rho_at = [0.65, 0.7, 0.50, 0.8]\n",
    "args.no_triad_stats = True\n",
    "args.keep_rho_at = keep_rho_at\n",
    "args.rho_init = rho_init\n",
    "args.control_initial_rho = True\n",
    "\n",
    "create_and_run_one_exp(args)"
   ]
  },
  {
   "cell_type": "code",
   "execution_count": 66,
   "metadata": {},
   "outputs": [
    {
     "data": {
      "text/plain": [
       "array([[ 0.,  0.,  1.,  0.,  1.,  0.,  0.,  0.,  0.,  1.,  0.,  0.],\n",
       "       [ 0.,  0., -1.,  1.,  0.,  1.,  0.,  0., -1.,  0.,  0., -1.],\n",
       "       [ 1., -1.,  0.,  1.,  0.,  0., -1.,  1.,  1.,  0.,  0.,  0.],\n",
       "       [ 0.,  1.,  1.,  0.,  1.,  0.,  1., -1.,  0.,  0.,  0.,  0.],\n",
       "       [ 1.,  0.,  0.,  1.,  0.,  0., -1.,  0.,  0.,  0.,  0.,  0.],\n",
       "       [ 0.,  1.,  0.,  0.,  0.,  0.,  1., -1.,  0., -1.,  0.,  0.],\n",
       "       [ 0.,  0., -1.,  1., -1.,  1.,  0.,  0.,  0.,  0.,  0.,  0.],\n",
       "       [ 0.,  0.,  1., -1.,  0., -1.,  0.,  0.,  0.,  1.,  0.,  0.],\n",
       "       [ 0., -1.,  1.,  0.,  0.,  0.,  0.,  0.,  0., -1.,  1.,  0.],\n",
       "       [ 1.,  0.,  0.,  0.,  0., -1.,  0.,  1., -1.,  0.,  1.,  0.],\n",
       "       [ 0.,  0.,  0.,  0.,  0.,  0.,  0.,  0.,  1.,  1.,  0.,  0.],\n",
       "       [ 0., -1.,  0.,  0.,  0.,  0.,  0.,  0.,  0.,  0.,  0.,  0.]])"
      ]
     },
     "execution_count": 66,
     "metadata": {},
     "output_type": "execute_result"
    }
   ],
   "source": [
    "groups = [[1, 3, 9], [2, 4, 7, 0, 8], [5, 6, 10, 11]]\n",
    "group_connectivity = [[0.8, 0.5, 0.3],[0.5,0.7,0.1], [0.3, 0.1, 0.5]]\n",
    "\n",
    "p_plus = [0.8, 0.3]\n",
    "\n",
    "# This will throw error because group connectivity should be symmetric\n",
    "generate_signed_sbm_known_groups(groups, group_connectivity, p_plus)"
   ]
  },
  {
   "cell_type": "code",
   "execution_count": 67,
   "metadata": {},
   "outputs": [
    {
     "data": {
      "text/plain": [
       "array([[ 0., -1.,  1.,  1.,  0.,  0.,  0.,  0.,  0.,  0.,  0., -1.],\n",
       "       [-1.,  0., -1.,  1.,  0.,  0., -1., -1.,  0.,  0.,  0.,  0.],\n",
       "       [ 1., -1.,  0.,  0.,  1.,  0., -1.,  1.,  1.,  0.,  0.,  0.],\n",
       "       [ 1.,  1.,  0.,  0.,  0., -1.,  1., -1.,  0.,  0.,  0.,  0.],\n",
       "       [ 0.,  0.,  1.,  0.,  0.,  0., -1.,  1.,  0., -1.,  1.,  0.],\n",
       "       [ 0.,  0.,  0., -1.,  0.,  0.,  1., -1., -1.,  0., -1.,  0.],\n",
       "       [ 0., -1., -1.,  1., -1.,  1.,  0.,  1.,  0.,  0.,  0.,  0.],\n",
       "       [ 0., -1.,  1., -1.,  1., -1.,  1.,  0.,  0.,  0.,  0.,  0.],\n",
       "       [ 0.,  0.,  1.,  0.,  0., -1.,  0.,  0.,  0., -1., -1.,  0.],\n",
       "       [ 0.,  0.,  0.,  0., -1.,  0.,  0.,  0., -1.,  0., -1.,  0.],\n",
       "       [ 0.,  0.,  0.,  0.,  1., -1.,  0.,  0., -1., -1.,  0.,  0.],\n",
       "       [-1.,  0.,  0.,  0.,  0.,  0.,  0.,  0.,  0.,  0.,  0.,  0.]])"
      ]
     },
     "execution_count": 67,
     "metadata": {},
     "output_type": "execute_result"
    }
   ],
   "source": [
    "groups = [[1, 3, 9], [2, 4, 7, 0, 8], [5, 6, 10, 11]]\n",
    "group_connectivity = [[0.8, 0.5, 0.3],[0.5,0.7,0.1], [0.3, 0.1, 0.5]]\n",
    "\n",
    "p_plus = np.array([[0.8, 0.3, 0.3],\n",
    "        [0.3, 0.8, 0.3],\n",
    "        [0.3, 0.3, 0.8]])\n",
    "\n",
    "# This will throw error because group connectivity should be symmetric\n",
    "generate_signed_sbm_known_groups(groups, group_connectivity, p_plus)"
   ]
  }
 ],
 "metadata": {
  "kernelspec": {
   "display_name": "base",
   "language": "python",
   "name": "python3"
  },
  "language_info": {
   "codemirror_mode": {
    "name": "ipython",
    "version": 3
   },
   "file_extension": ".py",
   "mimetype": "text/x-python",
   "name": "python",
   "nbconvert_exporter": "python",
   "pygments_lexer": "ipython3",
   "version": "3.8.5"
  },
  "orig_nbformat": 4,
  "vscode": {
   "interpreter": {
    "hash": "f3aa8d31d7b54b59f150f23421562c325d6d594b77b95839331e25470d543590"
   }
  }
 },
 "nbformat": 4,
 "nbformat_minor": 2
}
